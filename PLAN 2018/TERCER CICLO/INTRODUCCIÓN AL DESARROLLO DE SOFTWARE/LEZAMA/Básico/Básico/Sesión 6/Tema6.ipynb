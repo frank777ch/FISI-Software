{
 "cells": [
  {
   "cell_type": "markdown",
   "metadata": {},
   "source": [
    "## 1.\tIntroducción\n",
    "En esta sección, exploraremos sentencias más avanzadas que pueden aplicarse en nuestros programas. Comenzaremos por analizar el uso de expresiones regulares para buscar patrones dentro de textos. A continuación, abordaremos cómo se manejan los errores en Python y las estrategias que podemos emplear para evitar que la ejecución del programa se detenga abruptamente. Finalmente, nos sumergiremos en el concepto de compresión de listas, una técnica simple pero poderosa para crear listas al aplicar operaciones a los elementos de otra secuencia.\n"
   ]
  },
  {
   "cell_type": "markdown",
   "metadata": {},
   "source": [
    "### 1.1.\tObjetivos\n",
    ">- Familiarizarnos con las funciones para buscar y modificar elementos en textos.\n",
    ">- Aprender la sintaxis de las expresiones regulares para definir patrones de texto.\n",
    ">- Aplicar estructuras que nos permitan controlar y gestionar errores en nuestros programas de manera efectiva.\n",
    ">- Dominar la creación de diversas estructuras de datos mediante la técnica de compresión. \n"
   ]
  },
  {
   "cell_type": "markdown",
   "metadata": {},
   "source": [
    "## 2.\tExpresiones Regulares\n",
    ">Las expresiones regulares (también conocidas como regex o regexp) son secuencias de caracteres que forman un patrón de búsqueda. Estos patrones se utilizan para buscar, validar o manipular texto de una manera más flexible y poderosa que las simples búsquedas de cadenas exactas. A continuación, exploraremos algunos aspectos clave sobre las expresiones regulares\n",
    ">- **Sintaxis básica:** Las expresiones regulares se construyen utilizando una combinación de caracteres literales (que coinciden exactamente) y metacaracteres (que tienen un significado especial). Por ejemplo, el metacaracter \".\" coincide con cualquier carácter, y el metacaracter \"\\d\" coincide con un dígito\n",
    ">- **Coincidencia de patrones:** Las expresiones regulares te permiten buscar patrones específicos en cadenas de texto. Puedes buscar palabras, números, direcciones de correo electrónico, formatos de fecha y mucho más. Por ejemplo, puedes usar la expresión regular \"\\b\\w+\\b\" para buscar todas las palabras en una cadena.\n",
    ">- **Modificadores:** Puedes utilizar modificadores para hacer que las expresiones regulares sean insensibles a mayúsculas y minúsculas, para buscar múltiples ocurrencias de un patrón y para realizar búsquedas más amplias. Por ejemplo, el modificador \"i\" hace que la búsqueda sea insensible a mayúsculas y minúsculas.\n",
    ">- **Grupos y captura:** Puedes usar paréntesis para crear grupos de captura, lo que te permite extraer partes específicas del texto que coinciden con esos grupos. Esto es útil cuando necesitas procesar partes específicas del texto que has encontrado.\n",
    ">- **Sustitución:** Las expresiones regulares no solo se utilizan para buscar, sino también para reemplazar. Puedes buscar un patrón y reemplazarlo con otro texto, lo que es útil para realizar cambios en el formato de los datos.\n",
    ">- **Librería re de Python:** En Python, puedes utilizar la librería re para trabajar con expresiones regulares. Proporciona funciones para buscar, coincidir, dividir y reemplazar texto utilizando patrones de expresiones regulares.\n"
   ]
  },
  {
   "cell_type": "markdown",
   "metadata": {},
   "source": [
    "### 2.1.\tLibrería re de Python\n",
    ">En Python, puedes utilizar la librería re para trabajar con expresiones regulares. Proporciona funciones para buscar, coincidir, dividir y reemplazar texto utilizando patrones de expresiones regulares.\n"
   ]
  },
  {
   "cell_type": "markdown",
   "metadata": {},
   "source": [
    "* **search:** Este método busca el patrón dado en toda la cadena y devuelve un objeto de coincidencia si se encuentra una coincidencia en cualquier lugar. Si no se encuentra ninguna coincidencia, devuelve None."
   ]
  },
  {
   "cell_type": "code",
   "execution_count": 2,
   "metadata": {},
   "outputs": [
    {
     "name": "stdout",
     "output_type": "stream",
     "text": [
      "Se encontró una coincidencia: patrón\n"
     ]
    }
   ],
   "source": [
    "import re\n",
    "\n",
    "text = \"busca el patrón dado en toda la cadena\"\n",
    "pattern = r\"patrón\"\n",
    "result = re.search(pattern, text)\n",
    "if result:\n",
    "    print(\"Se encontró una coincidencia:\", result.group())\n",
    "else:\n",
    "    print(\"No se encontró ninguna coincidencia\")"
   ]
  },
  {
   "cell_type": "markdown",
   "metadata": {},
   "source": [
    "* **match:** Comprueba si el patrón coincide al principio de la cadena. Devuelve un objeto de coincidencia si hay una coincidencia, de lo contrario, devuelve None."
   ]
  },
  {
   "cell_type": "code",
   "execution_count": 5,
   "metadata": {},
   "outputs": [
    {
     "name": "stdout",
     "output_type": "stream",
     "text": [
      "No se encontró ninguna coincidencia al principio\n"
     ]
    }
   ],
   "source": [
    "import re\n",
    "\n",
    "text = \"Comprueba si el patrón coincide al principio de la cadena\"\n",
    "pattern = r\"patrón\"\n",
    "result = re.match(pattern, text)\n",
    "if result:\n",
    "    print(\"Se encontró una coincidencia:\", result.group())\n",
    "else:\n",
    "    print(\"No se encontró ninguna coincidencia al principio\")"
   ]
  },
  {
   "cell_type": "markdown",
   "metadata": {},
   "source": [
    "* **findall:** Busca todas las ocurrencias del patrón en la cadena y devuelve una lista con todas las coincidencias."
   ]
  },
  {
   "cell_type": "code",
   "execution_count": 7,
   "metadata": {},
   "outputs": [
    {
     "name": "stdout",
     "output_type": "stream",
     "text": [
      "Coincidencias encontradas: ['gata', 'gato']\n"
     ]
    }
   ],
   "source": [
    "import re\n",
    "\n",
    "text = \"gata gato patrón\"\n",
    "pattern = r\"gat\\w+\"\n",
    "result = re.findall(pattern, text)\n",
    "print(\"Coincidencias encontradas:\", result)"
   ]
  },
  {
   "cell_type": "markdown",
   "metadata": {},
   "source": [
    "* **split** Divide la cadena en una lista utilizando el patrón como separador y devuelve la lista resultante."
   ]
  },
  {
   "cell_type": "code",
   "execution_count": 8,
   "metadata": {},
   "outputs": [
    {
     "name": "stdout",
     "output_type": "stream",
     "text": [
      "Lista después de dividir: ['apple', 'banana', 'grape', 'orange']\n"
     ]
    }
   ],
   "source": [
    "import re\n",
    "\n",
    "text = \"apple,banana,grape,orange\"\n",
    "pattern = r\",\"\n",
    "result = re.split(pattern, text)\n",
    "print(\"Lista después de dividir:\", result)"
   ]
  },
  {
   "cell_type": "markdown",
   "metadata": {},
   "source": [
    "* **sub:** Reemplaza todas las ocurrencias del patrón en la cadena con el texto proporcionado y devuelve la cadena resultante."
   ]
  },
  {
   "cell_type": "code",
   "execution_count": 9,
   "metadata": {},
   "outputs": [
    {
     "name": "stdout",
     "output_type": "stream",
     "text": [
      "Texto después del reemplazo: Hola, amigos!\n"
     ]
    }
   ],
   "source": [
    "import re\n",
    "\n",
    "text = \"Hola, mundo!\"\n",
    "pattern = r\"mundo\"\n",
    "replacement = \"amigos\"\n",
    "result = re.sub(pattern, replacement, text)\n",
    "print(\"Texto después del reemplazo:\", result)\n",
    "\n",
    "# Texto después del reemplazo: Hola, amigos!"
   ]
  },
  {
   "cell_type": "markdown",
   "metadata": {},
   "source": [
    "### 2.2.\tComponentes Principales\n",
    "**A.\tLiterales**\n",
    ">+ Los literales son caracteres que representan ellos mismos en una cadena de texto. En otras palabras, un literal es un carácter que se debe coincidir exactamente tal como está escrito.\n",
    ">+ Por ejemplo, en la expresión regular apple, \"apple\" es un literal. Esto significa que la expresión buscará exactamente la palabra \"apple\" en el texto.\n",
    ">+ Los caracteres alfabéticos, numéricos y la mayoría de los caracteres especiales son considerados literales.\n"
   ]
  },
  {
   "cell_type": "markdown",
   "metadata": {},
   "source": [
    "**B.\tCaracteres de escape**\n",
    ">Los caracteres de escape son especialmente útiles cuando trabajas con expresiones regulares y cadenas de texto, ya que permiten incluir caracteres especiales sin que sean interpretados de manera incorrecta. Por ejemplo, si intentas buscar el carácter de paréntesis ( literal en una expresión regular, debes usar \\( para evitar que se interprete como un grupo de captura.\n",
    ">- Los caracteres de escape son caracteres que tienen un significado especial en expresiones regulares y en muchas otras situaciones en programación y en cadenas de texto.\n",
    ">- Estos caracteres se utilizan para representar elementos que no se pueden incluir literalmente en una cadena, como saltos de línea, tabulaciones, comillas, etc.\n",
    ">- En las expresiones regulares, el carácter de escape más común es la barra invertida '\\'.\n",
    "+  Algunos caracteres de escape comunes son:\n",
    "    >- \\n: Representa un salto de línea.\n",
    "    >- \\t: Representa una tabulación.\n",
    "    >- \\\": Representa una comilla doble.\n",
    "    >- \\': Representa una comilla simple.\n",
    "    >- <h5>\\\\: Representa una barra invertida literal.\n"
   ]
  },
  {
   "cell_type": "code",
   "execution_count": 10,
   "metadata": {},
   "outputs": [
    {
     "name": "stdout",
     "output_type": "stream",
     "text": [
      "Nombres completos encontrados: ['Juan Pérez', 'María López', 'Carlos Gómez']\n"
     ]
    }
   ],
   "source": [
    "import re\n",
    "\n",
    "text = '\"Juan Pérez\", \"María López\", \"Carlos Gómez\"'\n",
    "pattern = r'\"(.*?)\"'  # El patrón busca cualquier contenido entre comillas\n",
    "\n",
    "result = re.findall(pattern, text)\n",
    "print(\"Nombres completos encontrados:\", result)\n"
   ]
  },
  {
   "cell_type": "code",
   "execution_count": 11,
   "metadata": {},
   "outputs": [
    {
     "name": "stdout",
     "output_type": "stream",
     "text": [
      "Nombres de usuario encontrados: ['alice', 'bob123', 'carol_45']\n"
     ]
    }
   ],
   "source": [
    "import re\n",
    "\n",
    "text = \"\"\"alice@example.com\n",
    "bob123@gmail.com\n",
    "carol_45@yahoo.com\"\"\"\n",
    "\n",
    "pattern = r'(\\w+)@'  # El patrón busca cualquier palabra antes del símbolo \"@\"\n",
    "\n",
    "result = re.findall(pattern, text)\n",
    "print(\"Nombres de usuario encontrados:\", result)\n"
   ]
  },
  {
   "cell_type": "markdown",
   "metadata": {},
   "source": [
    "**C.\tGrupos de caracteres:**\n",
    ">Un grupo de caracteres es una forma de especificar un conjunto de caracteres que deseas buscar en una determinada posición en el texto.\n",
    ">- Se definen utilizando corchetes [] y puedes enumerar los caracteres que deseas que coincidan en esa posición.\n",
    ">- También puedes definir rangos de caracteres utilizando el guion -. Por ejemplo, [a-z] representa cualquier letra minúscula del alfabeto.\n",
    ">- Los grupos de caracteres permiten que una posición en el texto coincida con cualquiera de los caracteres enumerados en el grupo.\n"
   ]
  },
  {
   "cell_type": "code",
   "execution_count": 12,
   "metadata": {},
   "outputs": [
    {
     "name": "stdout",
     "output_type": "stream",
     "text": [
      "Vocales encontradas: ['e', 'u', 'i', 'o', 'o', 'u', 'o', 'e', 'e', 'a', 'o']\n"
     ]
    }
   ],
   "source": [
    "import re\n",
    "\n",
    "text = \"The quick brown fox jumps over the lazy dog.\"\n",
    "pattern = r\"[aeiou]\"\n",
    "result = re.findall(pattern, text)\n",
    "print(\"Vocales encontradas:\", result)\n"
   ]
  },
  {
   "cell_type": "markdown",
   "metadata": {},
   "source": [
    "**D.\tMetacaracteres:**\n",
    ">Los metacaracteres son caracteres con un significado especial en las expresiones regulares y se utilizan para definir patrones más complejos.\n",
    ">- Algunos metacaracteres comunes incluyen:\n",
    ">- .: Coincide con cualquier carácter excepto el salto de línea.\n",
    ">- *: Coincide con cero o más repeticiones del elemento anterior.\n",
    ">- +: Coincide con una o más repeticiones del elemento anterior.\n",
    ">- ?: Coincide con cero o una repetición del elemento anterior.\n",
    ">- ^: Coincide con el principio de una línea.\n",
    ">- $: Coincide con el final de una línea.\n",
    ">- |: Utilizado para alternancia, es decir, para buscar cualquiera de las expresiones separadas por el operador.\n",
    ">- (): Utilizados para agrupar elementos y aplicar operadores a grupos enteros.\n"
   ]
  },
  {
   "cell_type": "code",
   "execution_count": 13,
   "metadata": {},
   "outputs": [
    {
     "name": "stdout",
     "output_type": "stream",
     "text": [
      "Palabras de 5 letras: ['apple']\n"
     ]
    }
   ],
   "source": [
    "import re\n",
    "\n",
    "text = \"apple banana cherry date\"\n",
    "pattern = r\"\\b\\w{5}\\b\"\n",
    "result = re.findall(pattern, text)\n",
    "print(\"Palabras de 5 letras:\", result)\n"
   ]
  },
  {
   "cell_type": "markdown",
   "metadata": {},
   "source": [
    "## 3.\tErrores y Excepciones\n",
    "En la programación, los errores son situaciones en las que el código no puede ejecutarse correctamente debido a diversos motivos, como sintaxis incorrecta, problemas lógicos o condiciones imprevistas. Para manejar estas situaciones, Python ofrece un mecanismo llamado \"excepciones\", que son eventos excepcionales que pueden ocurrir durante la ejecución del programa y que pueden ser capturados y manejados para evitar que el programa se detenga abruptamente.\n"
   ]
  },
  {
   "cell_type": "markdown",
   "metadata": {},
   "source": [
    "### 3.1.\tTipos de Errores: "
   ]
  },
  {
   "cell_type": "markdown",
   "metadata": {},
   "source": [
    "* **Errores de Sintaxis:** Estos ocurren cuando el código no sigue las reglas de sintaxis del lenguaje"
   ]
  },
  {
   "cell_type": "code",
   "execution_count": 3,
   "metadata": {},
   "outputs": [
    {
     "ename": "NameError",
     "evalue": "name 'x' is not defined",
     "output_type": "error",
     "traceback": [
      "\u001b[1;31m---------------------------------------------------------------------------\u001b[0m",
      "\u001b[1;31mNameError\u001b[0m                                 Traceback (most recent call last)",
      "\u001b[1;32m~\\AppData\\Local\\Temp\\ipykernel_25956\\767648849.py\u001b[0m in \u001b[0;36m<cell line: 1>\u001b[1;34m()\u001b[0m\n\u001b[1;32m----> 1\u001b[1;33m \u001b[1;32mif\u001b[0m \u001b[0mx\u001b[0m \u001b[1;33m>\u001b[0m \u001b[1;36m5\u001b[0m\u001b[1;33m:\u001b[0m\u001b[1;33m\u001b[0m\u001b[1;33m\u001b[0m\u001b[0m\n\u001b[0m\u001b[0;32m      2\u001b[0m     \u001b[0mprint\u001b[0m\u001b[1;33m(\u001b[0m\u001b[1;34m\"Mayor que 5\"\u001b[0m\u001b[1;33m)\u001b[0m\u001b[1;33m\u001b[0m\u001b[1;33m\u001b[0m\u001b[0m\n",
      "\u001b[1;31mNameError\u001b[0m: name 'x' is not defined"
     ]
    }
   ],
   "source": [
    "if x > 5\n",
    "    print(\"Mayor que 5\")\n"
   ]
  },
  {
   "cell_type": "markdown",
   "metadata": {},
   "source": [
    "* **Errores de Nombre (NameError):** Estos ocurren cuando se intenta acceder a una variable o función que no está definida"
   ]
  },
  {
   "cell_type": "code",
   "execution_count": 15,
   "metadata": {},
   "outputs": [
    {
     "ename": "NameError",
     "evalue": "name 'variable_no_definida' is not defined",
     "output_type": "error",
     "traceback": [
      "\u001b[1;31m---------------------------------------------------------------------------\u001b[0m",
      "\u001b[1;31mNameError\u001b[0m                                 Traceback (most recent call last)",
      "Cell \u001b[1;32mIn[15], line 1\u001b[0m\n\u001b[1;32m----> 1\u001b[0m \u001b[39mprint\u001b[39m(variable_no_definida)\n",
      "\u001b[1;31mNameError\u001b[0m: name 'variable_no_definida' is not defined"
     ]
    }
   ],
   "source": [
    "print(variable_no_definida)\n"
   ]
  },
  {
   "cell_type": "markdown",
   "metadata": {},
   "source": [
    "* **Errores de Tipo (TypeError):** Estos ocurren cuando se realiza una operación en tipos de datos incompatibles"
   ]
  },
  {
   "cell_type": "code",
   "execution_count": 16,
   "metadata": {},
   "outputs": [
    {
     "ename": "TypeError",
     "evalue": "can only concatenate str (not \"int\") to str",
     "output_type": "error",
     "traceback": [
      "\u001b[1;31m---------------------------------------------------------------------------\u001b[0m",
      "\u001b[1;31mTypeError\u001b[0m                                 Traceback (most recent call last)",
      "Cell \u001b[1;32mIn[16], line 1\u001b[0m\n\u001b[1;32m----> 1\u001b[0m resultado \u001b[39m=\u001b[39m \u001b[39m\"\u001b[39;49m\u001b[39m2\u001b[39;49m\u001b[39m\"\u001b[39;49m \u001b[39m+\u001b[39;49m \u001b[39m3\u001b[39;49m\n",
      "\u001b[1;31mTypeError\u001b[0m: can only concatenate str (not \"int\") to str"
     ]
    }
   ],
   "source": [
    "resultado = \"2\" + 3\n"
   ]
  },
  {
   "cell_type": "markdown",
   "metadata": {},
   "source": [
    "* **Errores de índice:** Estos ocurren cuando se intenta acceder a una posición que no existe."
   ]
  },
  {
   "cell_type": "code",
   "execution_count": 17,
   "metadata": {},
   "outputs": [
    {
     "ename": "IndexError",
     "evalue": "list index out of range",
     "output_type": "error",
     "traceback": [
      "\u001b[1;31m---------------------------------------------------------------------------\u001b[0m",
      "\u001b[1;31mIndexError\u001b[0m                                Traceback (most recent call last)",
      "Cell \u001b[1;32mIn[17], line 2\u001b[0m\n\u001b[0;32m      1\u001b[0m lista \u001b[39m=\u001b[39m []\n\u001b[1;32m----> 2\u001b[0m lista[\u001b[39m2\u001b[39;49m]\n",
      "\u001b[1;31mIndexError\u001b[0m: list index out of range"
     ]
    }
   ],
   "source": [
    "lista = []\n",
    "lista[2]"
   ]
  },
  {
   "cell_type": "markdown",
   "metadata": {},
   "source": [
    "### 3.2.\tTipos de Excepciones: \n",
    ">Las excepciones son eventos que ocurren durante la ejecución del programa y que interrumpen el flujo normal de ejecución. Python proporciona una forma de manejar estas excepciones utilizando bloques try – except – else - finally.\n"
   ]
  },
  {
   "cell_type": "markdown",
   "metadata": {},
   "source": [
    "* **ZeroDivisionError:** Ocurre cuando se intenta dividir por cero. Puedes manejarlo con un bloque try y except:"
   ]
  },
  {
   "cell_type": "code",
   "execution_count": 26,
   "metadata": {},
   "outputs": [
    {
     "name": "stdout",
     "output_type": "stream",
     "text": [
      "División por cero no permitida\n"
     ]
    }
   ],
   "source": [
    "try:\n",
    "    resultado = 10 / 0\n",
    "except ZeroDivisionError:\n",
    "    print(\"División por cero no permitida\")\n"
   ]
  },
  {
   "cell_type": "markdown",
   "metadata": {},
   "source": [
    "* **ValueError:** Ocurre cuando se intenta convertir un valor a un tipo incorrecto. Puedes manejarlo de esta manera:"
   ]
  },
  {
   "cell_type": "code",
   "execution_count": 25,
   "metadata": {},
   "outputs": [
    {
     "name": "stdout",
     "output_type": "stream",
     "text": [
      "No se puede convertir a entero\n"
     ]
    }
   ],
   "source": [
    "try:\n",
    "    numero = int(\"abc\")\n",
    "except ValueError:\n",
    "    print(\"No se puede convertir a entero\")\n"
   ]
  },
  {
   "cell_type": "markdown",
   "metadata": {},
   "source": [
    "* **IndexError:** Ocurre cuando se intenta acceder a un índice que está fuera del rango válido en una lista o secuencia."
   ]
  },
  {
   "cell_type": "code",
   "execution_count": 23,
   "metadata": {},
   "outputs": [
    {
     "name": "stdout",
     "output_type": "stream",
     "text": [
      "Índice fuera de rango\n"
     ]
    }
   ],
   "source": [
    "lista = [1, 2, 3]\n",
    "try:\n",
    "    elemento = lista[10]\n",
    "except IndexError:\n",
    "    print(\"Índice fuera de rango\")\n"
   ]
  },
  {
   "cell_type": "markdown",
   "metadata": {},
   "source": [
    "* **KeyError:** Ocurre cuando se intenta acceder a una clave que no está presente en un diccionario."
   ]
  },
  {
   "cell_type": "code",
   "execution_count": 24,
   "metadata": {},
   "outputs": [
    {
     "name": "stdout",
     "output_type": "stream",
     "text": [
      "Clave no encontrada\n"
     ]
    }
   ],
   "source": [
    "diccionario = {\"nombre\": \"Juan\", \"edad\": 25}\n",
    "try:\n",
    "    valor = diccionario[\"apellido\"]\n",
    "except KeyError:\n",
    "    print(\"Clave no encontrada\")\n"
   ]
  },
  {
   "cell_type": "markdown",
   "metadata": {},
   "source": [
    "* **FileNotFoundError:** Ocurre cuando se intenta acceder a un archivo que no existe."
   ]
  },
  {
   "cell_type": "code",
   "execution_count": 27,
   "metadata": {},
   "outputs": [
    {
     "name": "stdout",
     "output_type": "stream",
     "text": [
      "El archivo no existe\n"
     ]
    }
   ],
   "source": [
    "try:\n",
    "    archivo = open(\"archivo_inexistente.txt\", \"r\")\n",
    "except FileNotFoundError:\n",
    "    print(\"El archivo no existe\")\n"
   ]
  },
  {
   "cell_type": "markdown",
   "metadata": {},
   "source": [
    "* **TypeError:** Ocurre cuando se realiza una operación en tipos de datos incompatibles."
   ]
  },
  {
   "cell_type": "code",
   "execution_count": 28,
   "metadata": {},
   "outputs": [
    {
     "name": "stdout",
     "output_type": "stream",
     "text": [
      "Operación entre tipos incompatibles\n"
     ]
    }
   ],
   "source": [
    "try:\n",
    "    resultado = \"2\" + 3\n",
    "except TypeError:\n",
    "    print(\"Operación entre tipos incompatibles\")\n"
   ]
  },
  {
   "cell_type": "markdown",
   "metadata": {},
   "source": [
    "* **Manejo de Excepciones en un Bloque else y finally:** Los bloques else y finally proporcionan aún más control sobre el flujo de manejo de excepciones:"
   ]
  },
  {
   "cell_type": "code",
   "execution_count": 18,
   "metadata": {},
   "outputs": [
    {
     "name": "stdout",
     "output_type": "stream",
     "text": [
      "Resultado: 5.0\n",
      "Terminando proceso\n"
     ]
    }
   ],
   "source": [
    "try:\n",
    "    resultado = 10 / 2\n",
    "except ZeroDivisionError:\n",
    "    print(\"División por cero\")\n",
    "else:\n",
    "    print(\"Resultado:\", resultado)\n",
    "finally:\n",
    "    print(\"Terminando proceso\")\n"
   ]
  },
  {
   "cell_type": "code",
   "execution_count": 20,
   "metadata": {},
   "outputs": [
    {
     "name": "stdout",
     "output_type": "stream",
     "text": [
      "El archivo no existe\n",
      "Liberando recursos\n"
     ]
    }
   ],
   "source": [
    "try:\n",
    "    archivo = None\n",
    "    try:\n",
    "        archivo = open(\"archivo.txt\", \"r\")\n",
    "        contenido = archivo.read()\n",
    "    except FileNotFoundError:\n",
    "        print(\"El archivo no existe\")\n",
    "    else:\n",
    "        print(\"Contenido:\", contenido)\n",
    "finally:\n",
    "    if archivo:\n",
    "        archivo.close()\n",
    "    print(\"Liberando recursos\")\n"
   ]
  },
  {
   "cell_type": "markdown",
   "metadata": {},
   "source": [
    "* **Errores Controlados:** Puedes lanzar excepciones manualmente utilizando la palabra clave raise para indicar que algo inesperado ocurrió. Esto te permite definir tus propias excepciones para situaciones específicas"
   ]
  },
  {
   "cell_type": "code",
   "execution_count": 21,
   "metadata": {},
   "outputs": [
    {
     "name": "stdout",
     "output_type": "stream",
     "text": [
      "Excepción: División por cero no permitida\n"
     ]
    }
   ],
   "source": [
    "def dividir(a, b):\n",
    "    if b == 0:\n",
    "        raise ZeroDivisionError(\"División por cero no permitida\")\n",
    "    return a / b\n",
    "\n",
    "try:\n",
    "    resultado = dividir(10, 0)\n",
    "except ZeroDivisionError as e:\n",
    "    print(\"Excepción:\", e)\n"
   ]
  },
  {
   "cell_type": "markdown",
   "metadata": {},
   "source": [
    "Además de usar raise para lanzar excepciones, también puedes definir tus propias clases de excepción personalizadas. Esto te permite crear excepciones más específicas para tu aplicación:"
   ]
  },
  {
   "cell_type": "code",
   "execution_count": 22,
   "metadata": {},
   "outputs": [
    {
     "name": "stdout",
     "output_type": "stream",
     "text": [
      "Excepción personalizada: Ocurrió un error personalizado\n"
     ]
    }
   ],
   "source": [
    "class MiErrorPersonalizado(Exception):\n",
    "    def __init__(self, mensaje):\n",
    "        self.mensaje = mensaje\n",
    "\n",
    "def funcion_personalizada():\n",
    "    raise MiErrorPersonalizado(\"Ocurrió un error personalizado\")\n",
    "\n",
    "try:\n",
    "    funcion_personalizada()\n",
    "except MiErrorPersonalizado as e:\n",
    "    print(\"Excepción personalizada:\", e.mensaje)\n"
   ]
  },
  {
   "cell_type": "markdown",
   "metadata": {},
   "source": [
    "## 4.\tCompresión de Listas\n",
    "La compresión de listas es una forma elegante de crear y transformar listas en una sola línea de código. En lugar de utilizar bucles tradicionales, puedes aprovechar esta técnica para simplificar tu código y hacerlo más legible.\n"
   ]
  },
  {
   "cell_type": "markdown",
   "metadata": {},
   "source": [
    "### 4.1.\tSintaxis:\n",
    "> nueva_lista = [expresion for elemento in secuencia if condicion]\n",
    ">- expresion: La operación que deseas realizar en cada elemento.\n",
    ">- elemento: Variable que toma los valores de la secuencia.\n",
    ">- secuencia: La secuencia de elementos sobre la cual iterar.\n",
    ">- condicion: (Opcional) Una condición para filtrar elementos."
   ]
  },
  {
   "cell_type": "code",
   "execution_count": 30,
   "metadata": {},
   "outputs": [
    {
     "data": {
      "text/plain": [
       "[1, 4, 9, 16, 25]"
      ]
     },
     "execution_count": 30,
     "metadata": {},
     "output_type": "execute_result"
    }
   ],
   "source": [
    "numeros = [1, 2, 3, 4, 5]\n",
    "cuadrados = [x ** 2 for x in numeros]\n",
    "cuadrados"
   ]
  },
  {
   "cell_type": "markdown",
   "metadata": {},
   "source": [
    "### 4.2.\tTipos de Compresión"
   ]
  },
  {
   "cell_type": "markdown",
   "metadata": {},
   "source": [
    "**A.\tCompresión de Listas con Condición:**\n",
    ">La compresión de listas también puede incluir una condición para filtrar los elementos que se agregarán a la nueva lista. En este ejemplo, se creó una lista de números pares del 1 al 10 utilizando la condición x % 2 == 0 para seleccionar solo los números pares. Esto resulta en una lista que contiene [2, 4, 6, 8, 10].\n"
   ]
  },
  {
   "cell_type": "code",
   "execution_count": 36,
   "metadata": {},
   "outputs": [
    {
     "data": {
      "text/plain": [
       "[2, 4, 6, 8, 10]"
      ]
     },
     "execution_count": 36,
     "metadata": {},
     "output_type": "execute_result"
    }
   ],
   "source": [
    "pares = [x for x in range(1, 11) if x % 2 == 0]\n",
    "pares"
   ]
  },
  {
   "cell_type": "markdown",
   "metadata": {},
   "source": [
    "**B.\tCompresión de Listas con Transformación:**\n",
    ">La compresión de listas no se limita a operaciones numéricas. En este ejemplo, se toma una palabra y se crea una lista de las letras en mayúsculas. Cada letra de la palabra original se transforma a mayúscula usando el método .upper().\n"
   ]
  },
  {
   "cell_type": "code",
   "execution_count": 35,
   "metadata": {},
   "outputs": [
    {
     "data": {
      "text/plain": [
       "['C', 'O', 'M', 'P', 'R', 'E', 'S', 'I', 'O', 'N']"
      ]
     },
     "execution_count": 35,
     "metadata": {},
     "output_type": "execute_result"
    }
   ],
   "source": [
    "palabra = \"compresion\"\n",
    "mayusculas = [letra.upper() for letra in palabra]\n",
    "mayusculas\n"
   ]
  },
  {
   "cell_type": "markdown",
   "metadata": {},
   "source": [
    "**C.\tCompresión de Listas con Diccionarios:**\n",
    ">La compresión de listas también puede aplicarse a la creación de diccionarios. En este ejemplo, se utiliza la función enumerate() para obtener tanto el índice como el valor de cada letra en la palabra. Luego, se crea un diccionario donde las letras son las claves y los índices son los valores.\n"
   ]
  },
  {
   "cell_type": "code",
   "execution_count": 34,
   "metadata": {},
   "outputs": [
    {
     "data": {
      "text/plain": [
       "{'c': 0, 'o': 8, 'm': 2, 'p': 3, 'r': 4, 'e': 5, 's': 6, 'i': 7, 'n': 9}"
      ]
     },
     "execution_count": 34,
     "metadata": {},
     "output_type": "execute_result"
    }
   ],
   "source": [
    "palabra = \"compresion\"\n",
    "diccionario = {letra: indice for indice, letra in enumerate(palabra)}\n",
    "diccionario\n"
   ]
  },
  {
   "cell_type": "markdown",
   "metadata": {},
   "source": [
    "**D.\tCompresión de Listas con Conjuntos:**\n",
    ">Además de crear listas, la compresión de listas también se puede usar para generar conjuntos (sets). Esto es útil para eliminar duplicados y mantener elementos únicos.\n"
   ]
  },
  {
   "cell_type": "code",
   "execution_count": 33,
   "metadata": {},
   "outputs": [
    {
     "data": {
      "text/plain": [
       "{1, 2, 3, 4, 5, 6}"
      ]
     },
     "execution_count": 33,
     "metadata": {},
     "output_type": "execute_result"
    }
   ],
   "source": [
    "numeros = [1, 2, 2, 3, 4, 4, 5, 6]\n",
    "conjunto_unicos = {numero for numero in numeros}\n",
    "conjunto_unicos\n"
   ]
  },
  {
   "cell_type": "markdown",
   "metadata": {},
   "source": [
    "**E.\tCompresión de Listas Anidadas:**\n",
    ">La compresión de listas no se limita a crear listas simples. También puedes utilizarla para crear listas anidadas, es decir, listas que contienen otras listas como elementos. Esto es útil cuando deseas aplicar operaciones en múltiples niveles de datos.\n"
   ]
  },
  {
   "cell_type": "code",
   "execution_count": 32,
   "metadata": {},
   "outputs": [
    {
     "data": {
      "text/plain": [
       "[[1, 4, 7], [2, 5, 8], [3, 6, 9]]"
      ]
     },
     "execution_count": 32,
     "metadata": {},
     "output_type": "execute_result"
    }
   ],
   "source": [
    "matriz = [[1, 2, 3], [4, 5, 6], [7, 8, 9]]\n",
    "transpuesta = [[fila[i] for fila in matriz] for i in range(3)]\n",
    "transpuesta"
   ]
  }
 ],
 "metadata": {
  "kernelspec": {
   "display_name": "Python 3 (ipykernel)",
   "language": "python",
   "name": "python3"
  },
  "language_info": {
   "codemirror_mode": {
    "name": "ipython",
    "version": 3
   },
   "file_extension": ".py",
   "mimetype": "text/x-python",
   "name": "python",
   "nbconvert_exporter": "python",
   "pygments_lexer": "ipython3",
   "version": "3.10.5"
  }
 },
 "nbformat": 4,
 "nbformat_minor": 4
}
