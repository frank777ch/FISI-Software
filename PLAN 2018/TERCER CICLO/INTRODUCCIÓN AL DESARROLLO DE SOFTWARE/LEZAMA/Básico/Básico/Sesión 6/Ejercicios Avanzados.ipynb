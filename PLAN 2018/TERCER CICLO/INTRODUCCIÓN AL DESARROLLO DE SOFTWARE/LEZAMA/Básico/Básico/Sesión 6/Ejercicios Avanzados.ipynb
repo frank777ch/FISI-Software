{
 "cells": [
  {
   "cell_type": "markdown",
   "metadata": {},
   "source": [
    "Ejercicio:\n",
    "Escribe una función que verifique si una contraseña es segura. Una contraseña segura debe tener al menos 8 caracteres, incluyendo al menos una letra minúscula, una letra mayúscula, un número y un carácter especial (por ejemplo, !, @, #, $)."
   ]
  },
  {
   "cell_type": "code",
   "execution_count": null,
   "metadata": {},
   "outputs": [],
   "source": []
  },
  {
   "cell_type": "markdown",
   "metadata": {},
   "source": [
    "Ejercicio:\n",
    "Escribe una función que extraiga todas las direcciones de correo electrónico de un texto largo y las almacene en una lista."
   ]
  },
  {
   "cell_type": "code",
   "execution_count": null,
   "metadata": {},
   "outputs": [],
   "source": []
  },
  {
   "cell_type": "markdown",
   "metadata": {},
   "source": [
    "Ejercicio:\n",
    "Escribe una función que tome una lista de palabras y devuelva un conjunto que contenga todas las combinaciones posibles de letras de las palabras, considerando solo letras únicas."
   ]
  },
  {
   "cell_type": "code",
   "execution_count": null,
   "metadata": {},
   "outputs": [],
   "source": []
  },
  {
   "cell_type": "markdown",
   "metadata": {},
   "source": [
    "Ejercicio:\n",
    "Escribe una función que realice una operación matemática compleja que involucre divisiones, exponenciaciones y raíces cuadradas. Maneja los posibles errores que puedan surgir durante el cálculo."
   ]
  },
  {
   "cell_type": "code",
   "execution_count": null,
   "metadata": {},
   "outputs": [],
   "source": []
  },
  {
   "cell_type": "markdown",
   "metadata": {},
   "source": [
    "Ejercicio:\n",
    "Crea una lista que contenga todos los números primos del 1 al 1000 utilizando la compresión de listas."
   ]
  },
  {
   "cell_type": "code",
   "execution_count": null,
   "metadata": {},
   "outputs": [],
   "source": []
  },
  {
   "cell_type": "markdown",
   "metadata": {},
   "source": [
    "Ejercicio:\n",
    "Dada una lista de palabras, crea un diccionario donde las claves sean las palabras y los valores sean las longitudes de las palabras, pero solo para palabras de más de 5 caracteres."
   ]
  },
  {
   "cell_type": "code",
   "execution_count": null,
   "metadata": {},
   "outputs": [],
   "source": []
  },
  {
   "cell_type": "markdown",
   "metadata": {},
   "source": [
    "Ejercicio:\n",
    "Crea una lista de todas las combinaciones posibles de lanzamientos de dos dados (dado que tiene 6 caras) y calcula la suma de los resultados de cada combinación."
   ]
  },
  {
   "cell_type": "code",
   "execution_count": null,
   "metadata": {},
   "outputs": [],
   "source": []
  },
  {
   "cell_type": "markdown",
   "metadata": {},
   "source": [
    "Ejercicio:\n",
    "Dada una lista de estudiantes con sus nombres y calificaciones, crea un diccionario donde las claves sean los nombres de los estudiantes y los valores sean sus calificaciones promedio."
   ]
  },
  {
   "cell_type": "code",
   "execution_count": null,
   "metadata": {},
   "outputs": [],
   "source": []
  },
  {
   "cell_type": "markdown",
   "metadata": {},
   "source": [
    "Ejercicio:\n",
    "Crea una matriz de 3x3 con números aleatorios entre 1 y 100. Luego, calcula la suma de los elementos en cada fila y almacena los resultados en una lista."
   ]
  },
  {
   "cell_type": "code",
   "execution_count": null,
   "metadata": {},
   "outputs": [],
   "source": []
  },
  {
   "cell_type": "markdown",
   "metadata": {},
   "source": [
    "Ejercicio:\n",
    "Escribe un programa que lea un archivo de texto que contiene direcciones de correo electrónico. Luego, verifica la validez de cada dirección utilizando expresiones regulares y almacena las direcciones válidas en un conjunto. Finalmente, maneja cualquier excepción que pueda ocurrir durante el proceso."
   ]
  },
  {
   "cell_type": "code",
   "execution_count": null,
   "metadata": {},
   "outputs": [],
   "source": []
  },
  {
   "cell_type": "markdown",
   "metadata": {},
   "source": [
    "### Escribe una función que lea un archivo de texto que contiene números separados por comas en cada línea. Para cada línea, calcula el promedio de los números y almacena los promedios en una lista. Si no se puede convertir un número en una línea, ignora ese número y continúa. Al final, calcula el promedio de todos los promedios obtenidos y muestra el resultado."
   ]
  },
  {
   "cell_type": "code",
   "execution_count": null,
   "metadata": {},
   "outputs": [],
   "source": []
  }
 ],
 "metadata": {
  "kernelspec": {
   "display_name": "Python 3",
   "language": "python",
   "name": "python3"
  },
  "language_info": {
   "codemirror_mode": {
    "name": "ipython",
    "version": 3
   },
   "file_extension": ".py",
   "mimetype": "text/x-python",
   "name": "python",
   "nbconvert_exporter": "python",
   "pygments_lexer": "ipython3",
   "version": "3.11.3"
  },
  "orig_nbformat": 4
 },
 "nbformat": 4,
 "nbformat_minor": 2
}
