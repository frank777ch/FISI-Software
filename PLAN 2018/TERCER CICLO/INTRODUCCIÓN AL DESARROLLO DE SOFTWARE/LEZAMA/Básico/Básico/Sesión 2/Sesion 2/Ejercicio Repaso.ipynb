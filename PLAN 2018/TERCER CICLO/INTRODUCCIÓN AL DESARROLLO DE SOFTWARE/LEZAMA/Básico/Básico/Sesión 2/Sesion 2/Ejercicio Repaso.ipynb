{
 "cells": [
  {
   "cell_type": "markdown",
   "id": "04e4ffb5",
   "metadata": {},
   "source": [
    "**Ejercicio 1: Identificadores**\n",
    ">Escribe un programa que solicite al usuario su nombre y edad, y luego muestre un mensaje de saludo personalizado con la información proporcionada. Asegúrate de utilizar nombres de variables descriptivos y seguir las convenciones de nomenclatura adecuadas."
   ]
  },
  {
   "cell_type": "code",
   "execution_count": null,
   "id": "dfe961d4",
   "metadata": {},
   "outputs": [],
   "source": []
  },
  {
   "cell_type": "markdown",
   "id": "6cd37cf5",
   "metadata": {},
   "source": [
    "**Ejercicio 2: Palabras Reservadas**\n",
    ">Solicita al usuario que ingrese una palabra y verifica si es una palabra reservada de Python. Muestra un mensaje indicando si la palabra ingresada es una palabra reservada o no."
   ]
  },
  {
   "cell_type": "code",
   "execution_count": null,
   "id": "3fbbd399",
   "metadata": {},
   "outputs": [],
   "source": []
  },
  {
   "cell_type": "markdown",
   "id": "fad0d98a",
   "metadata": {},
   "source": [
    "**Ejercicio 3: Sintaxis**\n",
    ">Escribe un programa que calcule el área de un triángulo utilizando la fórmula: área = (base * altura) / 2. Solicita al usuario que ingrese los valores de base y altura, y muestra el resultado."
   ]
  },
  {
   "cell_type": "code",
   "execution_count": null,
   "id": "13846f71",
   "metadata": {},
   "outputs": [],
   "source": []
  },
  {
   "cell_type": "markdown",
   "id": "b5f3617b",
   "metadata": {},
   "source": [
    "**Ejercicio 4: Variables**\n",
    ">Escribe un programa que solicite al usuario su nombre y edad, y luego muestre un mensaje de saludo personalizado utilizando variables."
   ]
  },
  {
   "cell_type": "code",
   "execution_count": null,
   "id": "33f0c708",
   "metadata": {},
   "outputs": [],
   "source": []
  },
  {
   "cell_type": "markdown",
   "id": "8d5b67c5",
   "metadata": {},
   "source": [
    "**Ejercicio 5: Conversión de tipo de Dato**\n",
    ">Escribe un programa que solicite al usuario un número entero y luego muestre el doble de ese número como resultado. Asegúrate de realizar la conversión de tipo de dato adecuada."
   ]
  },
  {
   "cell_type": "code",
   "execution_count": null,
   "id": "9070caba",
   "metadata": {},
   "outputs": [],
   "source": []
  },
  {
   "cell_type": "markdown",
   "id": "05c17666",
   "metadata": {},
   "source": [
    "**Ejercicio 6: Datos Numéricos - Operadores aritméticos**\n",
    ">Escribe un programa que solicite al usuario dos números y muestre el resultado de sumarlos, restarlos, multiplicarlos y dividirlos."
   ]
  },
  {
   "cell_type": "code",
   "execution_count": null,
   "id": "e54aa833",
   "metadata": {},
   "outputs": [],
   "source": []
  },
  {
   "cell_type": "markdown",
   "id": "25c85756",
   "metadata": {},
   "source": [
    "**Ejercicio 7: Datos Booleanos - Operadores lógicos**\n",
    ">Escribe un programa que solicite al usuario su edad y muestre si es mayor de edad o no. Considera que la mayoría de edad se alcanza a los 18 años."
   ]
  },
  {
   "cell_type": "code",
   "execution_count": null,
   "id": "9415bdd7",
   "metadata": {},
   "outputs": [],
   "source": []
  },
  {
   "cell_type": "markdown",
   "id": "8217bc76",
   "metadata": {},
   "source": [
    "**Ejercicio 8: Datos Booleanos - Operadores de Comparación**\n",
    ">Escribe un programa que solicite al usuario un número y muestre si es positivo, negativo o cero."
   ]
  },
  {
   "cell_type": "code",
   "execution_count": null,
   "id": "1cde61ba",
   "metadata": {},
   "outputs": [],
   "source": []
  },
  {
   "cell_type": "markdown",
   "id": "d5350671",
   "metadata": {},
   "source": [
    "**Ejercicio 9: Datos Booleanos - Operadores de Identidad**\n",
    ">Escribe un programa que solicite al usuario dos palabras y muestre si son iguales o diferentes."
   ]
  },
  {
   "cell_type": "code",
   "execution_count": null,
   "id": "9aec081c",
   "metadata": {},
   "outputs": [],
   "source": []
  },
  {
   "cell_type": "markdown",
   "id": "aa26805e",
   "metadata": {},
   "source": [
    "**Ejercicio 10: Cadenas de caracteres - Operadores de cadenas de texto**\n",
    ">Escribe un programa que solicite al usuario su nombre y muestre un mensaje de saludo personalizado utilizando concatenación de cadenas."
   ]
  },
  {
   "cell_type": "code",
   "execution_count": null,
   "id": "08564627",
   "metadata": {},
   "outputs": [],
   "source": []
  }
 ],
 "metadata": {
  "kernelspec": {
   "display_name": "Python 3 (ipykernel)",
   "language": "python",
   "name": "python3"
  },
  "language_info": {
   "codemirror_mode": {
    "name": "ipython",
    "version": 3
   },
   "file_extension": ".py",
   "mimetype": "text/x-python",
   "name": "python",
   "nbconvert_exporter": "python",
   "pygments_lexer": "ipython3",
   "version": "3.10.5"
  }
 },
 "nbformat": 4,
 "nbformat_minor": 5
}
