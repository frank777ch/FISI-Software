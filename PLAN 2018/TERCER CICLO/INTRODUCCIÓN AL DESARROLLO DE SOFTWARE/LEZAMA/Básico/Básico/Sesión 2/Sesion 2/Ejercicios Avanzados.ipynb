{
 "cells": [
  {
   "cell_type": "markdown",
   "id": "1fa3cd88",
   "metadata": {},
   "source": [
    "**Ejercicio 1: Contador de Palabras**\n",
    ">Escribe un programa que solicite al usuario una oración y cuente cuántas palabras hay en esa oración."
   ]
  },
  {
   "cell_type": "code",
   "execution_count": null,
   "id": "df66b130",
   "metadata": {},
   "outputs": [],
   "source": []
  },
  {
   "cell_type": "markdown",
   "id": "e61a55a5",
   "metadata": {},
   "source": [
    "**Ejercicio 2: Números Primos**\n",
    ">Escribe un programa que solicite al usuario un número y verifique si es un número primo."
   ]
  },
  {
   "cell_type": "code",
   "execution_count": null,
   "id": "c80aebdb",
   "metadata": {},
   "outputs": [],
   "source": []
  },
  {
   "cell_type": "markdown",
   "id": "58d279f2",
   "metadata": {},
   "source": [
    "**Ejercicio 3: Factorial**\n",
    ">Escribe un programa que solicite al usuario un número y calcule su factorial."
   ]
  },
  {
   "cell_type": "code",
   "execution_count": null,
   "id": "de3ccde3",
   "metadata": {},
   "outputs": [],
   "source": []
  },
  {
   "cell_type": "markdown",
   "id": "e44b20c1",
   "metadata": {},
   "source": [
    "**Ejercicio 4: Suma de Números**\n",
    ">Escribe un programa que solicite al usuario una lista de números separados por comas y calcule la suma de esos números."
   ]
  },
  {
   "cell_type": "code",
   "execution_count": null,
   "id": "27f541db",
   "metadata": {},
   "outputs": [],
   "source": []
  },
  {
   "cell_type": "markdown",
   "id": "5c3e078c",
   "metadata": {},
   "source": [
    "**Ejercicio 5: Números Fibonacci**\n",
    ">Escribe un programa que solicite al usuario un número y muestre los primeros n números de la secuencia de Fibonacci."
   ]
  },
  {
   "cell_type": "code",
   "execution_count": null,
   "id": "0fe06f62",
   "metadata": {},
   "outputs": [],
   "source": []
  },
  {
   "cell_type": "markdown",
   "id": "717c81b3",
   "metadata": {},
   "source": [
    "**Ejercicio 6: Palíndromo**\n",
    ">Escribe un programa que solicite al usuario una palabra y verifique si es un palíndromo (se lee igual de izquierda a derecha y de derecha a izquierda)."
   ]
  },
  {
   "cell_type": "code",
   "execution_count": null,
   "id": "e8ae71be",
   "metadata": {},
   "outputs": [],
   "source": []
  },
  {
   "cell_type": "markdown",
   "id": "0bcddef1",
   "metadata": {},
   "source": [
    "**Ejercicio 7: Cuenta Regresiva**\n",
    ">Escribe un programa que solicite al usuario un número y realice una cuenta regresiva desde ese número hasta 0."
   ]
  },
  {
   "cell_type": "code",
   "execution_count": null,
   "id": "f6768873",
   "metadata": {},
   "outputs": [],
   "source": []
  },
  {
   "cell_type": "markdown",
   "id": "5db8ac93",
   "metadata": {},
   "source": [
    "**Ejercicio 8: Suma de Dígitos**\n",
    ">Escribe un programa que solicite al usuario un número y calcule la suma de sus dígitos."
   ]
  },
  {
   "cell_type": "code",
   "execution_count": null,
   "id": "a83dcf7b",
   "metadata": {},
   "outputs": [],
   "source": []
  },
  {
   "cell_type": "markdown",
   "id": "584d76ad",
   "metadata": {},
   "source": [
    "**Ejercicio 9: Números Amigos**\n",
    ">Escribe un programa que solicite al usuario dos números y verifique si son números amigos. Dos números amigos son aquellos cuyas sumas de divisores propios son iguales al otro número."
   ]
  },
  {
   "cell_type": "code",
   "execution_count": null,
   "id": "941b7719",
   "metadata": {},
   "outputs": [],
   "source": []
  },
  {
   "cell_type": "markdown",
   "id": "b019de3e",
   "metadata": {},
   "source": [
    "**Ejercicio 10: Conversión de Número Romano a Decimal**\n",
    ">Escribe un programa que solicite al usuario un número romano y lo convierta a su equivalente decimal."
   ]
  },
  {
   "cell_type": "code",
   "execution_count": null,
   "id": "8c0973dc",
   "metadata": {},
   "outputs": [],
   "source": []
  },
  {
   "cell_type": "markdown",
   "id": "517f20b2",
   "metadata": {},
   "source": [
    "## Análisis de Texto\n",
    ">Escribe un programa que solicite al usuario un texto y realice un análisis del mismo. El programa debe mostrar la cantidad de palabras, la cantidad de oraciones y la frecuencia de cada palabra en el texto (es decir, cuántas veces aparece cada palabra)."
   ]
  },
  {
   "cell_type": "code",
   "execution_count": null,
   "id": "2499c17c",
   "metadata": {},
   "outputs": [],
   "source": []
  }
 ],
 "metadata": {
  "kernelspec": {
   "display_name": "Python 3 (ipykernel)",
   "language": "python",
   "name": "python3"
  },
  "language_info": {
   "codemirror_mode": {
    "name": "ipython",
    "version": 3
   },
   "file_extension": ".py",
   "mimetype": "text/x-python",
   "name": "python",
   "nbconvert_exporter": "python",
   "pygments_lexer": "ipython3",
   "version": "3.10.5"
  }
 },
 "nbformat": 4,
 "nbformat_minor": 5
}
