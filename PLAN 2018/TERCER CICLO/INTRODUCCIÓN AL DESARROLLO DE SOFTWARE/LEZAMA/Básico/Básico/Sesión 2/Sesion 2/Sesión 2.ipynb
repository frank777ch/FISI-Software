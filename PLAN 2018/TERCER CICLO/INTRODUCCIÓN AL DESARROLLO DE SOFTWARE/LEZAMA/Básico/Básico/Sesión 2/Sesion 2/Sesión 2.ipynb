{
 "cells": [
  {
   "cell_type": "markdown",
   "id": "47cf3beb",
   "metadata": {},
   "source": [
    "# Tema 2\n",
    "    1. Introducción \n",
    "        1.1. Objetivos\n",
    "    2. Sintaxis de Python\n",
    "        2.1. Identificadores\n",
    "        2.2. Palabras Reservadas\n",
    "        2.3. Sintaxis\n",
    "    3. Almacenar Valores\n",
    "        3.1. Variables\n",
    "        3.2. Conversion de tipo de Datos\n",
    "    4. Tipos de Datos y Operadores\n",
    "        4.1. Datos Numéricos\n",
    "        4.2. Datos Booleanos\n",
    "        4.3. Cadenas de caracteres\n",
    "    2.4. Tipos de datos y Operadores\n",
    "    "
   ]
  },
  {
   "cell_type": "markdown",
   "id": "fdbd13dc",
   "metadata": {},
   "source": [
    "## 1. Introducción\n",
    ">Comenzaremos hablando sobre la sintaxis en Python. Es importante destacar que Python se distingue de otros lenguajes, como Java y C, en términos de cómo se deben escribir los elementos del lenguaje. Esto se hace con el fin de mejorar la legibilidad del código y hacerlo más comprensible. A lo largo de este tema, exploraremos las reglas específicas sobre cómo escribir identificadores, comentarios y cómo utilizar la sangría adecuada.\n",
    "\n",
    ">Continuaremos con el almacenamiento de valores en Python. En Python, existen dos formas principales de almacenar valores: mediante variables y constantes. Aprenderemos cómo declarar variables y asignarles valores, así como también cómo trabajar con constantes, que son valores inmutables.\n",
    "\n",
    ">Una vez que tengamos claros los conceptos básicos de almacenamiento de valores, pasaremos a los tipos de datos fundamentales en Python. Estos incluyen los tipos numéricos (como enteros y números de punto flotante), los valores booleanos (True o False), las cadenas de caracteres (texto) y el tipo None, que representa la ausencia de un valor. Exploraremos cómo trabajar con cada uno de estos tipos de datos y cómo realizar operaciones y comparaciones con ellos.\n",
    "\n",
    "\n",
    "### 1.1.\tObjetivos\n",
    ">+ Familiarizarse con la sintaxis de Python para los identificadores, comentarios y la indentación.\n",
    ">+ Aprender cómo almacenar valores en variables y constantes.\n",
    ">+ Comprender los tipos básicos de Python, como los numéricos, booleanos, cadenas de caracteres y el tipo None.\n",
    ">+ Explorar los diversos operadores que se pueden aplicar a cada tipo de dato.\n",
    ">+ Descubrir cómo cambiar el tipo de dato de las variables.\n"
   ]
  },
  {
   "cell_type": "markdown",
   "id": "28bff684",
   "metadata": {},
   "source": [
    "## 2. Sintaxis Python"
   ]
  },
  {
   "cell_type": "markdown",
   "id": "b0cc4ede",
   "metadata": {},
   "source": [
    "### 2.1. Identificadores\n",
    "* Pueden ser combinaciones de números (0-9).\n",
    "* Pueden ser combinaciones de letras mayúsculas y minúsculas (Aa -Zz).\n",
    "* Puede usarse el símbolo de guion abajo (_).\n",
    "* Pueden tener cualquier longitud.\n",
    "* **No pueden comenzar por un digito.**\n",
    "* **No pueden utilizarse símbolos especiales: @, !, #, etc.**\n"
   ]
  },
  {
   "cell_type": "code",
   "execution_count": 1,
   "id": "955bfae5",
   "metadata": {},
   "outputs": [],
   "source": [
    "# Identificadores correctos\n",
    "variable = 324\n",
    "algo = 'algo'\n",
    "_variable_ = [1, 2, 3]\n",
    "Variable = True"
   ]
  },
  {
   "cell_type": "code",
   "execution_count": 3,
   "id": "3d810808",
   "metadata": {},
   "outputs": [
    {
     "ename": "SyntaxError",
     "evalue": "invalid syntax. Maybe you meant '==' or ':=' instead of '='? (2490348427.py, line 2)",
     "output_type": "error",
     "traceback": [
      "\u001b[1;36m  File \u001b[1;32m\"C:\\Users\\pedro\\AppData\\Local\\Temp\\ipykernel_14832\\2490348427.py\"\u001b[1;36m, line \u001b[1;32m2\u001b[0m\n\u001b[1;33m    @variable = 3\u001b[0m\n\u001b[1;37m     ^\u001b[0m\n\u001b[1;31mSyntaxError\u001b[0m\u001b[1;31m:\u001b[0m invalid syntax. Maybe you meant '==' or ':=' instead of '='?\n"
     ]
    }
   ],
   "source": [
    "# Identificadores incorrectos.\n",
    "@variable = 3"
   ]
  },
  {
   "cell_type": "code",
   "execution_count": 4,
   "id": "2e2fa3f2",
   "metadata": {},
   "outputs": [
    {
     "ename": "SyntaxError",
     "evalue": "invalid decimal literal (3102478352.py, line 2)",
     "output_type": "error",
     "traceback": [
      "\u001b[1;36m  File \u001b[1;32m\"C:\\Users\\pedro\\AppData\\Local\\Temp\\ipykernel_14832\\3102478352.py\"\u001b[1;36m, line \u001b[1;32m2\u001b[0m\n\u001b[1;33m    2_variable = \"dará error\"\u001b[0m\n\u001b[1;37m     ^\u001b[0m\n\u001b[1;31mSyntaxError\u001b[0m\u001b[1;31m:\u001b[0m invalid decimal literal\n"
     ]
    }
   ],
   "source": [
    "# Identificadores incorrectos.\n",
    "2_variable = \"dará error\""
   ]
  },
  {
   "cell_type": "code",
   "execution_count": 5,
   "id": "134c326c",
   "metadata": {},
   "outputs": [
    {
     "name": "stderr",
     "output_type": "stream",
     "text": [
      "\"variable\" no se reconoce como un comando interno o externo,\n",
      "programa o archivo por lotes ejecutable.\n"
     ]
    }
   ],
   "source": [
    "# Identificadores incorrectos.\n",
    "!variable = \"no reconocible\""
   ]
  },
  {
   "cell_type": "markdown",
   "id": "f365a06f",
   "metadata": {},
   "source": [
    "### 2.2. Palabras Reservadas\n",
    "Conjunto de palabras reservadas que no se pueden utilizar como identificadores.\n",
    "\n",
    "<table>\n",
    "\n",
    "  <tr>\n",
    "    <td>False</td>\n",
    "    <td>None</td>\n",
    "    <td>True</td>\n",
    "    <td>and</td>\n",
    "    <td>as</td>\n",
    "    <td>assert</td>\n",
    "  </tr>\n",
    "  <tr>\n",
    "    <td>break</td>\n",
    "    <td>class</td>\n",
    "    <td>continue</td>\n",
    "    <td>def</td>\n",
    "    <td>del</td>\n",
    "    <td>elif</td>\n",
    "  </tr>\n",
    "  <tr>\n",
    "    <td>else</td>\n",
    "    <td>except</td>\n",
    "    <td>finally</td>\n",
    "    <td>for</td>\n",
    "    <td>from</td>\n",
    "    <td>global</td>\n",
    "  </tr>\n",
    "  <tr>\n",
    "    <td>if</td>\n",
    "    <td>import</td>\n",
    "    <td>is</td>\n",
    "    <td>lambda</td>\n",
    "    <td>nolocal</td>\n",
    "    <td>not</td>\n",
    "  </tr>\n",
    "  <tr>\n",
    "    <td>in</td>\n",
    "    <td>or</td>\n",
    "    <td>pass</td>\n",
    "    <td>raise</td>\n",
    "    <td>return</td>\n",
    "    <td>while</td>\n",
    "  </tr>\n",
    "  <tr>\n",
    "    <td>async</td>\n",
    "    <td>await</td>\n",
    "    <td>try</td>\n",
    "    <td>with</td>\n",
    "    <td>yield</td>\n",
    "    <td> </td>\n",
    "  </tr>\n",
    "</table>\n"
   ]
  },
  {
   "cell_type": "code",
   "execution_count": 6,
   "id": "ada070a6",
   "metadata": {},
   "outputs": [
    {
     "name": "stdout",
     "output_type": "stream",
     "text": [
      "['False', 'None', 'True', 'and', 'as', 'assert', 'async', 'await', 'break', 'class', 'continue', 'def', 'del', 'elif', 'else', 'except', 'finally', 'for', 'from', 'global', 'if', 'import', 'in', 'is', 'lambda', 'nonlocal', 'not', 'or', 'pass', 'raise', 'return', 'try', 'while', 'with', 'yield']\n"
     ]
    }
   ],
   "source": [
    "import keyword\n",
    "\n",
    "# Obtener todas las palabras reservadas\n",
    "palabras_reservadas = keyword.kwlist\n",
    "print(palabras_reservadas)\n"
   ]
  },
  {
   "cell_type": "code",
   "execution_count": 7,
   "id": "6d0d7b53",
   "metadata": {
    "scrolled": true
   },
   "outputs": [
    {
     "ename": "SyntaxError",
     "evalue": "cannot assign to True (3787810390.py, line 2)",
     "output_type": "error",
     "traceback": [
      "\u001b[1;36m  File \u001b[1;32m\"C:\\Users\\pedro\\AppData\\Local\\Temp\\ipykernel_14832\\3787810390.py\"\u001b[1;36m, line \u001b[1;32m2\u001b[0m\n\u001b[1;33m    True = 5\u001b[0m\n\u001b[1;37m    ^\u001b[0m\n\u001b[1;31mSyntaxError\u001b[0m\u001b[1;31m:\u001b[0m cannot assign to True\n"
     ]
    }
   ],
   "source": [
    "# SyntaxError: cannot assign to True\n",
    "True = 5"
   ]
  },
  {
   "cell_type": "code",
   "execution_count": 8,
   "id": "638b62f5",
   "metadata": {},
   "outputs": [
    {
     "ename": "SyntaxError",
     "evalue": "invalid syntax (1174592409.py, line 2)",
     "output_type": "error",
     "traceback": [
      "\u001b[1;36m  File \u001b[1;32m\"C:\\Users\\pedro\\AppData\\Local\\Temp\\ipykernel_14832\\1174592409.py\"\u001b[1;36m, line \u001b[1;32m2\u001b[0m\n\u001b[1;33m    from = 'asignar valor fallido'\u001b[0m\n\u001b[1;37m         ^\u001b[0m\n\u001b[1;31mSyntaxError\u001b[0m\u001b[1;31m:\u001b[0m invalid syntax\n"
     ]
    }
   ],
   "source": [
    "# SyntaxError: invalid syntax\n",
    "from = 'asignar valor fallido'"
   ]
  },
  {
   "cell_type": "markdown",
   "id": "1fb8e9e1",
   "metadata": {},
   "source": [
    "### 2.3. Sintaxis"
   ]
  },
  {
   "cell_type": "markdown",
   "id": "dcacded4",
   "metadata": {},
   "source": [
    "+ **Comentarios**\n",
    "    + De línea, uso del símbolo #\n",
    "    + De bloque, comillas triples (dobles o simples) "
   ]
  },
  {
   "cell_type": "code",
   "execution_count": 9,
   "id": "ee195ec8",
   "metadata": {},
   "outputs": [
    {
     "name": "stdout",
     "output_type": "stream",
     "text": [
      "1\n"
     ]
    }
   ],
   "source": [
    "# Ejemplo de comentario de Línea\n",
    "codigo = 1\n",
    "print (codigo)"
   ]
  },
  {
   "cell_type": "code",
   "execution_count": 10,
   "id": "519a1479",
   "metadata": {},
   "outputs": [
    {
     "name": "stdout",
     "output_type": "stream",
     "text": [
      "El área del triángulo es: 7.5\n"
     ]
    }
   ],
   "source": [
    "\"\"\"\n",
    "Ejemplo de comentario de bloque.\n",
    "Todas las líneas pertenecen al comentario.\n",
    "\"\"\"\n",
    "base = 5\n",
    "altura = 3\n",
    "area = (base * altura) / 2\n",
    "print(\"El área del triángulo es:\", area)"
   ]
  },
  {
   "cell_type": "code",
   "execution_count": 11,
   "id": "2e5a03d6",
   "metadata": {},
   "outputs": [
    {
     "name": "stdout",
     "output_type": "stream",
     "text": [
      "El área del triángulo es: 7.5\n"
     ]
    }
   ],
   "source": [
    "'''\n",
    "Otro ejemplo de\n",
    "comentario de bloque.\n",
    "'''\n",
    "base = 5\n",
    "altura = 3\n",
    "area = (base * altura) / 2\n",
    "print(\"El área del triángulo es:\", area)"
   ]
  },
  {
   "cell_type": "markdown",
   "id": "d2c78499",
   "metadata": {},
   "source": [
    "+ **Identación,** \n",
    "\n",
    "    (sangría) es muy importante, dado que se define la estructura del código. usado para delimitar bloques"
   ]
  },
  {
   "cell_type": "code",
   "execution_count": 12,
   "id": "12c4b735",
   "metadata": {},
   "outputs": [
    {
     "name": "stdout",
     "output_type": "stream",
     "text": [
      "0\n",
      "Este código está dentro del bucle for\n",
      "1\n",
      "Este código está dentro del bucle for\n",
      "2\n",
      "Este código está dentro del bucle for\n",
      "3\n",
      "Este código está dentro del bucle for\n",
      "4\n",
      "Este código está dentro del bucle for\n",
      "Este código está fuera del bucle for\n"
     ]
    }
   ],
   "source": [
    "# bucle for\n",
    "for i in range(5):\n",
    "    print(i)\n",
    "    print(\"Este código está dentro del bucle for\")\n",
    "print(\"Este código está fuera del bucle for\")\n"
   ]
  },
  {
   "cell_type": "markdown",
   "id": "840a6b73",
   "metadata": {},
   "source": [
    "+ **Convenciones de nombres,** \n",
    "\n",
    "    consiste en escribir las palabras en minusculas y separarlas por guiones; en caso se escriba en mayusculas, significa que no se debe modificar el parametro"
   ]
  },
  {
   "cell_type": "code",
   "execution_count": 13,
   "id": "70e16c68",
   "metadata": {},
   "outputs": [],
   "source": [
    "# Ejemplo de variables\n",
    "nombre_completo = \"Juan Pérez\"\n",
    "numero_entero = 42\n",
    "calificacion_final = 8.5\n",
    "\n"
   ]
  },
  {
   "cell_type": "code",
   "execution_count": 16,
   "id": "dd1e5444",
   "metadata": {},
   "outputs": [
    {
     "name": "stdin",
     "output_type": "stream",
     "text": [
      "Ingresa el precio:  25\n"
     ]
    },
    {
     "name": "stdout",
     "output_type": "stream",
     "text": [
      "El precio final es: 30.25\n"
     ]
    }
   ],
   "source": [
    "# Ejemplo de constantes:\n",
    "IVA = 0.21  # constante\n",
    "\n",
    "precio = float(input(\"Ingresa el precio: \"))  # Convierte la entrada a float\n",
    "precio_final = precio + (precio * IVA)\n",
    "print(\"El precio final es:\", precio_final)\n"
   ]
  },
  {
   "cell_type": "markdown",
   "id": "046e1c7b",
   "metadata": {},
   "source": [
    "+ **Uso de paréntesis y puntos,** \n",
    "    \n",
    "    usados para agrupar y controlar la precedencia de las operaciones"
   ]
  },
  {
   "cell_type": "code",
   "execution_count": 17,
   "id": "ea937b24",
   "metadata": {},
   "outputs": [
    {
     "name": "stdout",
     "output_type": "stream",
     "text": [
      "20\n"
     ]
    }
   ],
   "source": [
    "# Ejemplo 1: Uso de paréntesis para agrupar operaciones matemáticas\n",
    "\n",
    "resultado = (2 + 3) * 4\n",
    "print(resultado)  # Salida: 20"
   ]
  },
  {
   "cell_type": "code",
   "execution_count": 18,
   "id": "21328430",
   "metadata": {},
   "outputs": [
    {
     "name": "stdout",
     "output_type": "stream",
     "text": [
      "1\n"
     ]
    }
   ],
   "source": [
    "# Ejemplo 2: Uso de puntos para acceder a atributos de un objeto\n",
    "\n",
    "cadena = \"Hola\"\n",
    "longitud = cadena.upper().count(\"O\")\n",
    "print(longitud)  # Salida: 1"
   ]
  },
  {
   "cell_type": "markdown",
   "id": "721b1266",
   "metadata": {},
   "source": [
    "+ **Fin de línea,**\n",
    "\n",
    "    el interprete de python reconoce el final de una línea de código cuando encuentra un salto de línea"
   ]
  },
  {
   "cell_type": "code",
   "execution_count": 19,
   "id": "389615a5",
   "metadata": {},
   "outputs": [],
   "source": [
    "nombre = \"Ana\"\n",
    "edad = 25"
   ]
  },
  {
   "cell_type": "code",
   "execution_count": 20,
   "id": "41f5a358",
   "metadata": {},
   "outputs": [],
   "source": [
    "nombre = \"Juan\"; edad = 30;"
   ]
  },
  {
   "cell_type": "markdown",
   "id": "4ea57170",
   "metadata": {},
   "source": [
    "## 3. Almacenar Valores"
   ]
  },
  {
   "cell_type": "markdown",
   "id": "d20031e1",
   "metadata": {},
   "source": [
    "### 3.1. Variables\n",
    "\n",
    "    Las variables en Python son contenedores que nos permiten almacenar y manipular datos. Para declarar una variable, simplemente asignamos un valor utilizando el operador de asignación (=). No es necesario especificar el tipo de dato de la variable, ya que Python es un lenguaje de tipado dinámico"
   ]
  },
  {
   "cell_type": "code",
   "execution_count": 21,
   "id": "f37cb93e",
   "metadata": {},
   "outputs": [],
   "source": [
    "# Declaración de variables\n",
    "nombre = \"Juan\"\n",
    "edad = 25\n",
    "pi = 3.14159\n",
    "es_estudiante = True\n"
   ]
  },
  {
   "cell_type": "code",
   "execution_count": 22,
   "id": "fd298471",
   "metadata": {},
   "outputs": [
    {
     "name": "stdout",
     "output_type": "stream",
     "text": [
      "Tipo de dato: <class 'str'>\n",
      "Tipo de dato: <class 'int'>\n",
      "Tipo de dato: <class 'float'>\n",
      "Tipo de dato: <class 'bool'>\n"
     ]
    }
   ],
   "source": [
    "print(f\"Tipo de dato: {type(nombre)}\")\n",
    "print(f\"Tipo de dato: {type(edad)}\")\n",
    "print(f\"Tipo de dato: {type(pi)}\")\n",
    "print(f\"Tipo de dato: {type(es_estudiante)}\")"
   ]
  },
  {
   "cell_type": "markdown",
   "id": "e2857afc",
   "metadata": {},
   "source": [
    "### 3.2. Conversión\n",
    "\n",
    "    Es posible convertir el tipo de dato de una variable de un tipo a otro utilizando funciones incorporadas como int(), float(), str(), entre otras. Esto es útil cuando se necesita realizar operaciones específicas o cuando se requiere que una variable tenga un tipo de dato particular"
   ]
  },
  {
   "cell_type": "code",
   "execution_count": 23,
   "id": "04310a13",
   "metadata": {},
   "outputs": [
    {
     "name": "stdout",
     "output_type": "stream",
     "text": [
      "<class 'str'>\n"
     ]
    }
   ],
   "source": [
    "# Conversión de tipo de datos\n",
    "edad = \"25\"  # La edad es una cadena de caracteres\n",
    "print(type(edad))  # Salida: <class 'str'>\n"
   ]
  },
  {
   "cell_type": "code",
   "execution_count": 24,
   "id": "0ffcadea",
   "metadata": {},
   "outputs": [
    {
     "name": "stdout",
     "output_type": "stream",
     "text": [
      "<class 'int'>\n"
     ]
    }
   ],
   "source": [
    "# Convertir la edad a un entero\n",
    "edad_entero = int(edad)\n",
    "print(type(edad_entero))  # Salida: <class 'int'>"
   ]
  },
  {
   "cell_type": "code",
   "execution_count": 25,
   "id": "74273717",
   "metadata": {},
   "outputs": [
    {
     "name": "stdout",
     "output_type": "stream",
     "text": [
      "50\n"
     ]
    }
   ],
   "source": [
    "# Realizar operaciones con la edad como entero\n",
    "doble_edad = edad_entero * 2\n",
    "print(doble_edad)  # Salida: 50"
   ]
  },
  {
   "cell_type": "code",
   "execution_count": 26,
   "id": "a0e1a8fa",
   "metadata": {},
   "outputs": [
    {
     "name": "stdout",
     "output_type": "stream",
     "text": [
      "<class 'str'>\n"
     ]
    }
   ],
   "source": [
    "# Convertir la edad nuevamente a una cadena de caracteres\n",
    "edad_str = str(edad_entero)\n",
    "print(type(edad_str))  # Salida: <class 'str'>"
   ]
  },
  {
   "cell_type": "markdown",
   "id": "eea7f489",
   "metadata": {},
   "source": [
    "## 4. Tipos de datos y Operadores"
   ]
  },
  {
   "cell_type": "markdown",
   "id": "5138c321",
   "metadata": {},
   "source": [
    "### 4.1. Datos Numéricos"
   ]
  },
  {
   "cell_type": "markdown",
   "id": "75d793a0",
   "metadata": {},
   "source": [
    "* **Operadores Aritmeticos**"
   ]
  },
  {
   "cell_type": "code",
   "execution_count": 27,
   "id": "05f94a18",
   "metadata": {},
   "outputs": [
    {
     "data": {
      "text/plain": [
       "8.22"
      ]
     },
     "execution_count": 27,
     "metadata": {},
     "output_type": "execute_result"
    }
   ],
   "source": [
    "5.12 + 3.1 # Devuelve 8.22"
   ]
  },
  {
   "cell_type": "code",
   "execution_count": 28,
   "id": "a93c9483",
   "metadata": {},
   "outputs": [
    {
     "data": {
      "text/plain": [
       "-2.87"
      ]
     },
     "execution_count": 28,
     "metadata": {},
     "output_type": "execute_result"
    }
   ],
   "source": [
    "3.13 - 6 # Devuelve -2.87"
   ]
  },
  {
   "cell_type": "code",
   "execution_count": 29,
   "id": "9e3bf083",
   "metadata": {},
   "outputs": [
    {
     "data": {
      "text/plain": [
       "32.3"
      ]
     },
     "execution_count": 29,
     "metadata": {},
     "output_type": "execute_result"
    }
   ],
   "source": [
    "3.23 * 10 # Devuelve 32.3"
   ]
  },
  {
   "cell_type": "code",
   "execution_count": 30,
   "id": "ef4691c7",
   "metadata": {},
   "outputs": [
    {
     "data": {
      "text/plain": [
       "0.315"
      ]
     },
     "execution_count": 30,
     "metadata": {},
     "output_type": "execute_result"
    }
   ],
   "source": [
    "3.15 / 10 # Devuelve 0.315"
   ]
  },
  {
   "cell_type": "code",
   "execution_count": 31,
   "id": "68c955ef",
   "metadata": {},
   "outputs": [
    {
     "data": {
      "text/plain": [
       "0"
      ]
     },
     "execution_count": 31,
     "metadata": {},
     "output_type": "execute_result"
    }
   ],
   "source": [
    "2 // 10 # Devuelve 0"
   ]
  },
  {
   "cell_type": "code",
   "execution_count": 32,
   "id": "5e0fde02",
   "metadata": {},
   "outputs": [
    {
     "data": {
      "text/plain": [
       "3"
      ]
     },
     "execution_count": 32,
     "metadata": {},
     "output_type": "execute_result"
    }
   ],
   "source": [
    "3 % 10 # Devuelve 3"
   ]
  },
  {
   "cell_type": "code",
   "execution_count": 33,
   "id": "cdda7514",
   "metadata": {},
   "outputs": [
    {
     "data": {
      "text/plain": [
       "25"
      ]
     },
     "execution_count": 33,
     "metadata": {},
     "output_type": "execute_result"
    }
   ],
   "source": [
    "5 ** 2 # Devuelve 25"
   ]
  },
  {
   "cell_type": "markdown",
   "id": "58c346fa",
   "metadata": {},
   "source": [
    "* **Operadores de Asignación**"
   ]
  },
  {
   "cell_type": "code",
   "execution_count": 34,
   "id": "4e36b7a0",
   "metadata": {},
   "outputs": [],
   "source": [
    "valor = 10 # vale 10"
   ]
  },
  {
   "cell_type": "code",
   "execution_count": 35,
   "id": "85ed5e7b",
   "metadata": {},
   "outputs": [
    {
     "data": {
      "text/plain": [
       "20"
      ]
     },
     "execution_count": 35,
     "metadata": {},
     "output_type": "execute_result"
    }
   ],
   "source": [
    "valor += 10 #  vale 20\n",
    "valor"
   ]
  },
  {
   "cell_type": "code",
   "execution_count": 36,
   "id": "2bf13e50",
   "metadata": {},
   "outputs": [
    {
     "data": {
      "text/plain": [
       "10"
      ]
     },
     "execution_count": 36,
     "metadata": {},
     "output_type": "execute_result"
    }
   ],
   "source": [
    "valor -= 10 # vale 10\n",
    "valor"
   ]
  },
  {
   "cell_type": "code",
   "execution_count": 37,
   "id": "475bc314",
   "metadata": {},
   "outputs": [
    {
     "data": {
      "text/plain": [
       "100"
      ]
     },
     "execution_count": 37,
     "metadata": {},
     "output_type": "execute_result"
    }
   ],
   "source": [
    "valor *= 10 # vale 100\n",
    "valor"
   ]
  },
  {
   "cell_type": "code",
   "execution_count": 38,
   "id": "b9ce5cbf",
   "metadata": {},
   "outputs": [
    {
     "data": {
      "text/plain": [
       "10.0"
      ]
     },
     "execution_count": 38,
     "metadata": {},
     "output_type": "execute_result"
    }
   ],
   "source": [
    "valor /= 10 # vale 10.0\n",
    "valor"
   ]
  },
  {
   "cell_type": "code",
   "execution_count": 39,
   "id": "0eaad8ba",
   "metadata": {},
   "outputs": [
    {
     "data": {
      "text/plain": [
       "1.0"
      ]
     },
     "execution_count": 39,
     "metadata": {},
     "output_type": "execute_result"
    }
   ],
   "source": [
    "valor //= 10 # resultado vale 1.0\n",
    "valor"
   ]
  },
  {
   "cell_type": "code",
   "execution_count": 40,
   "id": "ce78c45e",
   "metadata": {},
   "outputs": [
    {
     "data": {
      "text/plain": [
       "4"
      ]
     },
     "execution_count": 40,
     "metadata": {},
     "output_type": "execute_result"
    }
   ],
   "source": [
    "valor = 14\n",
    "valor %= 10 # resultado vale 4\n",
    "valor"
   ]
  },
  {
   "cell_type": "code",
   "execution_count": 41,
   "id": "bfca4f38",
   "metadata": {},
   "outputs": [
    {
     "data": {
      "text/plain": [
       "16"
      ]
     },
     "execution_count": 41,
     "metadata": {},
     "output_type": "execute_result"
    }
   ],
   "source": [
    "valor **= 2 # El resultado vale 9\n",
    "valor"
   ]
  },
  {
   "cell_type": "markdown",
   "id": "40fdb835",
   "metadata": {},
   "source": [
    "* **Operaciones de bits**"
   ]
  },
  {
   "cell_type": "code",
   "execution_count": 42,
   "id": "d2298a0a",
   "metadata": {},
   "outputs": [],
   "source": [
    "# Operaciones de bits\n",
    "a = 0b10101010  # Representación binaria de 170\n",
    "b = 0b11001100  # Representación binaria de 204\n"
   ]
  },
  {
   "cell_type": "code",
   "execution_count": 43,
   "id": "782d345a",
   "metadata": {},
   "outputs": [
    {
     "name": "stdout",
     "output_type": "stream",
     "text": [
      "0b10001000\n"
     ]
    }
   ],
   "source": [
    "# Operador AND a nivel de bits\n",
    "resultado_and = a & b\n",
    "print(bin(resultado_and))  # Salida: 0b10001000 (136 en decimal)\n"
   ]
  },
  {
   "cell_type": "code",
   "execution_count": 44,
   "id": "97c8cc87",
   "metadata": {},
   "outputs": [
    {
     "name": "stdout",
     "output_type": "stream",
     "text": [
      "0b11101110\n"
     ]
    }
   ],
   "source": [
    "# Operador OR a nivel de bits\n",
    "resultado_or = a | b\n",
    "print(bin(resultado_or))  # Salida: 0b11101110 (238 en decimal)"
   ]
  },
  {
   "cell_type": "code",
   "execution_count": 45,
   "id": "9febcf7c",
   "metadata": {},
   "outputs": [
    {
     "name": "stdout",
     "output_type": "stream",
     "text": [
      "0b1100110\n"
     ]
    }
   ],
   "source": [
    "# Operador XOR a nivel de bits\n",
    "resultado_xor = a ^ b\n",
    "print(bin(resultado_xor))  # Salida: 0b01100110 (102 en decimal)\n"
   ]
  },
  {
   "cell_type": "code",
   "execution_count": 46,
   "id": "a85b2aaf",
   "metadata": {},
   "outputs": [
    {
     "name": "stdout",
     "output_type": "stream",
     "text": [
      "-0b10101011\n"
     ]
    }
   ],
   "source": [
    "# Operador NOT a nivel de bits\n",
    "resultado_not = ~a\n",
    "print(bin(resultado_not))  # Salida: -0b10101011 (-171 en decimal)\n"
   ]
  },
  {
   "cell_type": "code",
   "execution_count": 47,
   "id": "07339b9a",
   "metadata": {},
   "outputs": [
    {
     "name": "stdout",
     "output_type": "stream",
     "text": [
      "0b1010101000\n"
     ]
    }
   ],
   "source": [
    "# Desplazamiento a la izquierda\n",
    "desplazamiento_izq = a << 2\n",
    "print(bin(desplazamiento_izq))  # Salida: 0b1010101000 (680 en decimal)\n"
   ]
  },
  {
   "cell_type": "code",
   "execution_count": 48,
   "id": "12067c82",
   "metadata": {},
   "outputs": [
    {
     "name": "stdout",
     "output_type": "stream",
     "text": [
      "0b11001\n"
     ]
    }
   ],
   "source": [
    "# Desplazamiento a la derecha\n",
    "desplazamiento_der = b >> 3\n",
    "print(bin(desplazamiento_der))  # Salida: 0b11001 (25 en decimal)\n"
   ]
  },
  {
   "cell_type": "code",
   "execution_count": 49,
   "id": "d86d2637",
   "metadata": {},
   "outputs": [
    {
     "data": {
      "text/plain": [
       "2"
      ]
     },
     "execution_count": 49,
     "metadata": {},
     "output_type": "execute_result"
    }
   ],
   "source": [
    "# AND\n",
    "3 & 2 # El resultado será 2"
   ]
  },
  {
   "cell_type": "code",
   "execution_count": 50,
   "id": "2d76cff2",
   "metadata": {},
   "outputs": [
    {
     "data": {
      "text/plain": [
       "3"
      ]
     },
     "execution_count": 50,
     "metadata": {},
     "output_type": "execute_result"
    }
   ],
   "source": [
    "# OR\n",
    "3 | 2 # el resultado será 3"
   ]
  },
  {
   "cell_type": "code",
   "execution_count": 51,
   "id": "31a35cf3",
   "metadata": {},
   "outputs": [
    {
     "data": {
      "text/plain": [
       "1"
      ]
     },
     "execution_count": 51,
     "metadata": {},
     "output_type": "execute_result"
    }
   ],
   "source": [
    "# XOR\n",
    "4 ^ 5 # el resultado será 1"
   ]
  },
  {
   "cell_type": "code",
   "execution_count": 52,
   "id": "a7b97527",
   "metadata": {},
   "outputs": [
    {
     "data": {
      "text/plain": [
       "8"
      ]
     },
     "execution_count": 52,
     "metadata": {},
     "output_type": "execute_result"
    }
   ],
   "source": [
    "# Mover bits a la izquierda \n",
    "4 << 1 # el resultado será 8"
   ]
  },
  {
   "cell_type": "code",
   "execution_count": 53,
   "id": "0a57d24b",
   "metadata": {},
   "outputs": [
    {
     "data": {
      "text/plain": [
       "2"
      ]
     },
     "execution_count": 53,
     "metadata": {},
     "output_type": "execute_result"
    }
   ],
   "source": [
    "# Mover bits a la derecha\n",
    "4 >> 1 # el resultado será 2"
   ]
  },
  {
   "cell_type": "markdown",
   "id": "459bc333",
   "metadata": {},
   "source": [
    "### 4.2. Datos Booleanos"
   ]
  },
  {
   "cell_type": "markdown",
   "id": "68f0867d",
   "metadata": {},
   "source": [
    "* **Operadores Lógicos**"
   ]
  },
  {
   "cell_type": "code",
   "execution_count": 54,
   "id": "838766e6",
   "metadata": {},
   "outputs": [
    {
     "data": {
      "text/plain": [
       "False"
      ]
     },
     "execution_count": 54,
     "metadata": {},
     "output_type": "execute_result"
    }
   ],
   "source": [
    "# AND\n",
    "True and False # Devolverá False"
   ]
  },
  {
   "cell_type": "code",
   "execution_count": 55,
   "id": "163ec2f7",
   "metadata": {},
   "outputs": [
    {
     "data": {
      "text/plain": [
       "True"
      ]
     },
     "execution_count": 55,
     "metadata": {},
     "output_type": "execute_result"
    }
   ],
   "source": [
    "# OR\n",
    "True or False # Devolverá True"
   ]
  },
  {
   "cell_type": "code",
   "execution_count": 56,
   "id": "851aa640",
   "metadata": {},
   "outputs": [
    {
     "data": {
      "text/plain": [
       "False"
      ]
     },
     "execution_count": 56,
     "metadata": {},
     "output_type": "execute_result"
    }
   ],
   "source": [
    "# NOT\n",
    "not True # Devolverá False"
   ]
  },
  {
   "cell_type": "markdown",
   "id": "035b04dc",
   "metadata": {},
   "source": [
    "* **Operadores de Comparación**"
   ]
  },
  {
   "cell_type": "code",
   "execution_count": 57,
   "id": "a938f24d",
   "metadata": {},
   "outputs": [],
   "source": [
    "# Definimos los valores\n",
    "x = 5\n",
    "y = 10"
   ]
  },
  {
   "cell_type": "code",
   "execution_count": 58,
   "id": "57b003ec",
   "metadata": {},
   "outputs": [
    {
     "name": "stdout",
     "output_type": "stream",
     "text": [
      "False\n"
     ]
    }
   ],
   "source": [
    "print(x == y)  # Salida: False"
   ]
  },
  {
   "cell_type": "code",
   "execution_count": 59,
   "id": "7d82394c",
   "metadata": {},
   "outputs": [
    {
     "name": "stdout",
     "output_type": "stream",
     "text": [
      "True\n"
     ]
    }
   ],
   "source": [
    "print(x != y)  # Salida: True"
   ]
  },
  {
   "cell_type": "code",
   "execution_count": 60,
   "id": "67e84f7b",
   "metadata": {},
   "outputs": [
    {
     "name": "stdout",
     "output_type": "stream",
     "text": [
      "False\n"
     ]
    }
   ],
   "source": [
    "print(x > y)   # Salida: False"
   ]
  },
  {
   "cell_type": "code",
   "execution_count": 61,
   "id": "e77dd28d",
   "metadata": {},
   "outputs": [
    {
     "name": "stdout",
     "output_type": "stream",
     "text": [
      "True\n"
     ]
    }
   ],
   "source": [
    "print(x < y)   # Salida: True"
   ]
  },
  {
   "cell_type": "code",
   "execution_count": 62,
   "id": "b38dc2bd",
   "metadata": {},
   "outputs": [
    {
     "name": "stdout",
     "output_type": "stream",
     "text": [
      "False\n"
     ]
    }
   ],
   "source": [
    "print(x >= y)  # Salida: False"
   ]
  },
  {
   "cell_type": "code",
   "execution_count": 63,
   "id": "295a364e",
   "metadata": {},
   "outputs": [
    {
     "name": "stdout",
     "output_type": "stream",
     "text": [
      "True\n"
     ]
    }
   ],
   "source": [
    "print(x <= y)  # Salida: True"
   ]
  },
  {
   "cell_type": "markdown",
   "id": "718d81a8",
   "metadata": {},
   "source": [
    "* **Operadores de Identidad**"
   ]
  },
  {
   "cell_type": "code",
   "execution_count": 64,
   "id": "134c825d",
   "metadata": {},
   "outputs": [],
   "source": [
    "# Definimos los valores\n",
    "x = [1, 2, 3]\n",
    "y = [1, 2, 3]\n",
    "z = x"
   ]
  },
  {
   "cell_type": "code",
   "execution_count": 65,
   "id": "6a31d4ba",
   "metadata": {},
   "outputs": [
    {
     "name": "stdout",
     "output_type": "stream",
     "text": [
      "False\n"
     ]
    }
   ],
   "source": [
    "print(x is y)  # Salida: False"
   ]
  },
  {
   "cell_type": "code",
   "execution_count": 66,
   "id": "b3d4f229",
   "metadata": {},
   "outputs": [
    {
     "name": "stdout",
     "output_type": "stream",
     "text": [
      "True\n"
     ]
    }
   ],
   "source": [
    "print(x is not y)  # Salida: True"
   ]
  },
  {
   "cell_type": "code",
   "execution_count": 67,
   "id": "820fd0e3",
   "metadata": {},
   "outputs": [
    {
     "name": "stdout",
     "output_type": "stream",
     "text": [
      "False\n"
     ]
    }
   ],
   "source": [
    "print(x is y)   # Salida: True"
   ]
  },
  {
   "cell_type": "markdown",
   "id": "569b43e7",
   "metadata": {},
   "source": [
    "**Nota:**\n",
    ">En el ejemplo anterior, x e y son dos listas distintas, aunque contengan los mismos elementos, por lo que x is y devuelve False. Sin embargo, x y z hacen referencia al mismo objeto en la memoria, por lo que x is z devuelve True."
   ]
  },
  {
   "cell_type": "markdown",
   "id": "5a0e8ea0",
   "metadata": {},
   "source": [
    "### 4.3. Cadenas de Caracteres"
   ]
  },
  {
   "cell_type": "markdown",
   "id": "0906bd71",
   "metadata": {},
   "source": [
    "* **Operadores de Cadenas de Texto**"
   ]
  },
  {
   "cell_type": "code",
   "execution_count": 68,
   "id": "25e7a448",
   "metadata": {},
   "outputs": [
    {
     "name": "stdout",
     "output_type": "stream",
     "text": [
      "Hola Mundo\n"
     ]
    }
   ],
   "source": [
    "# Concatenación\n",
    "cadena1 = \"Hola\"\n",
    "cadena2 = \"Mundo\"\n",
    "resultado = cadena1 + \" \" + cadena2\n",
    "print(resultado)  # Salida: \"Hola Mundo\"\n"
   ]
  },
  {
   "cell_type": "code",
   "execution_count": 69,
   "id": "d0f351e6",
   "metadata": {},
   "outputs": [
    {
     "name": "stdout",
     "output_type": "stream",
     "text": [
      "Hola Hola Hola \n"
     ]
    }
   ],
   "source": [
    "# Repetición\n",
    "cadena = \"Hola \"\n",
    "repetida = cadena * 3\n",
    "print(repetida)  # Salida: \"Hola Hola Hola \"\n"
   ]
  },
  {
   "cell_type": "code",
   "execution_count": 70,
   "id": "d4bcaef7",
   "metadata": {},
   "outputs": [
    {
     "name": "stdout",
     "output_type": "stream",
     "text": [
      "P\n",
      "t\n",
      "n\n"
     ]
    }
   ],
   "source": [
    "# Indexación\n",
    "cadena = \"Python\"\n",
    "print(cadena[0])     # Salida: \"P\"\n",
    "print(cadena[2])     # Salida: \"t\"\n",
    "print(cadena[-1])    # Salida: \"n\"\n"
   ]
  },
  {
   "cell_type": "code",
   "execution_count": 71,
   "id": "f6018245",
   "metadata": {},
   "outputs": [
    {
     "name": "stdout",
     "output_type": "stream",
     "text": [
      "yth\n",
      "Pyt\n",
      "thon\n",
      "Pto\n"
     ]
    }
   ],
   "source": [
    "# Slicing \n",
    "cadena = \"Python\"\n",
    "print(cadena[1:4])      # Salida: \"yth\"\n",
    "print(cadena[:3])       # Salida: \"Pyt\"\n",
    "print(cadena[2:])       # Salida: \"thon\"\n",
    "print(cadena[::2])      # Salida: \"Pto\"\n"
   ]
  },
  {
   "cell_type": "code",
   "execution_count": 72,
   "id": "cbb742ec",
   "metadata": {},
   "outputs": [
    {
     "name": "stdout",
     "output_type": "stream",
     "text": [
      "6\n"
     ]
    }
   ],
   "source": [
    "# Longitud\n",
    "cadena = \"Python\"\n",
    "longitud = len(cadena)\n",
    "print(longitud)  # Salida: 6\n"
   ]
  },
  {
   "cell_type": "code",
   "execution_count": 73,
   "id": "e704c403",
   "metadata": {},
   "outputs": [
    {
     "name": "stdout",
     "output_type": "stream",
     "text": [
      "['Hola', 'Python', 'Mundo']\n"
     ]
    }
   ],
   "source": [
    "# Split\n",
    "cadena = \"Hola,Python,Mundo\"\n",
    "lista = cadena.split(\",\")\n",
    "print(lista)  # Salida: ['Hola', 'Python', 'Mundo']\n"
   ]
  },
  {
   "cell_type": "code",
   "execution_count": 74,
   "id": "e1fbfb98",
   "metadata": {},
   "outputs": [
    {
     "name": "stdout",
     "output_type": "stream",
     "text": [
      "Hola,Python,Mundo\n"
     ]
    }
   ],
   "source": [
    "# Join\n",
    "lista = ['Hola', 'Python', 'Mundo']\n",
    "cadena = \",\".join(lista)\n",
    "print(cadena)  # Salida: \"Hola,Python,Mundo\"\n"
   ]
  },
  {
   "cell_type": "code",
   "execution_count": 75,
   "id": "36eddc11",
   "metadata": {},
   "outputs": [
    {
     "name": "stdout",
     "output_type": "stream",
     "text": [
      "123\n"
     ]
    }
   ],
   "source": [
    " # STR\n",
    "numero = 123\n",
    "cadena = str(numero)\n",
    "print(cadena)  # Salida: \"123\"\n"
   ]
  },
  {
   "cell_type": "code",
   "execution_count": 76,
   "id": "7ad9a7a7",
   "metadata": {},
   "outputs": [
    {
     "name": "stdout",
     "output_type": "stream",
     "text": [
      "hola mundo\n"
     ]
    }
   ],
   "source": [
    "# Lower\n",
    "cadena = \"Hola Mundo\"\n",
    "print(cadena.lower())        # Salida: \"hola mundo\"\n"
   ]
  },
  {
   "cell_type": "code",
   "execution_count": 77,
   "id": "67283b98",
   "metadata": {},
   "outputs": [
    {
     "name": "stdout",
     "output_type": "stream",
     "text": [
      "HOLA MUNDO\n"
     ]
    }
   ],
   "source": [
    "# Upper\n",
    "cadena = \"Hola Mundo\"\n",
    "print(cadena.upper())        # Salida: \"HOLA MUNDO\"\n"
   ]
  },
  {
   "cell_type": "code",
   "execution_count": 78,
   "id": "035b3820",
   "metadata": {},
   "outputs": [
    {
     "name": "stdout",
     "output_type": "stream",
     "text": [
      "Hola mundo\n"
     ]
    }
   ],
   "source": [
    "# Capitalize\n",
    "cadena = \"hola mundo\"\n",
    "print(cadena.capitalize())   # Salida: \"Hola mundo\"\n"
   ]
  },
  {
   "cell_type": "markdown",
   "id": "9ba245ce",
   "metadata": {},
   "source": [
    "* **Ejemplos adicionales de manejo de cadenas**"
   ]
  },
  {
   "cell_type": "code",
   "execution_count": 79,
   "id": "6740fd11",
   "metadata": {},
   "outputs": [
    {
     "name": "stdout",
     "output_type": "stream",
     "text": [
      "5\n",
      "True\n",
      "9\n"
     ]
    }
   ],
   "source": [
    "# Búsqueda de sub-cadena\n",
    "texto = \"Hola Mundo\"\n",
    "\n",
    "posicion = texto.find(\"Mundo\")\n",
    "print(posicion)  # Salida: 5\n",
    "\n",
    "existe = \"Mundo\" in texto\n",
    "print(existe)  # Salida: True\n",
    "\n",
    "posicion = texto.find(\"o\", 3)\n",
    "print(posicion) # Salida: 9\n"
   ]
  },
  {
   "cell_type": "code",
   "execution_count": 80,
   "id": "2546138d",
   "metadata": {},
   "outputs": [
    {
     "name": "stdout",
     "output_type": "stream",
     "text": [
      "Hola Mundo\n"
     ]
    }
   ],
   "source": [
    "# eliminación de espacios en blanco\n",
    "texto = \"   Hola Mundo   \"\n",
    "\n",
    "texto_sin_espacios = texto.strip()\n",
    "print(texto_sin_espacios)  # Salida: \"Hola Mundo\"\n"
   ]
  },
  {
   "cell_type": "code",
   "execution_count": 81,
   "id": "ef6316c3",
   "metadata": {},
   "outputs": [
    {
     "name": "stdout",
     "output_type": "stream",
     "text": [
      "Hola, mi nombre es John y tengo 30 años.\n"
     ]
    }
   ],
   "source": [
    "# Formateo de cadenas\n",
    "nombre = \"John\"\n",
    "edad = 30\n",
    "\n",
    "mensaje = \"Hola, mi nombre es {} y tengo {} años.\".format(nombre, edad)\n",
    "print(mensaje)  # Salida: \"Hola, mi nombre es John y tengo 30 años.\"\n"
   ]
  },
  {
   "cell_type": "code",
   "execution_count": 82,
   "id": "801e368b",
   "metadata": {},
   "outputs": [
    {
     "name": "stdout",
     "output_type": "stream",
     "text": [
      "Hola, mi nombre es Alice y tengo 25 años. Me llamo Alice.\n"
     ]
    }
   ],
   "source": [
    "# Formateo de cadenas - con indices\n",
    "nombre = \"Alice\"\n",
    "edad = 25\n",
    "\n",
    "mensaje = \"Hola, mi nombre es {0} y tengo {1} años. Me llamo {0}.\".format(nombre, edad)\n",
    "print(mensaje)\n",
    "# Salida: \"Hola, mi nombre es Alice y tengo 25 años. Me llamo Alice.\"\n"
   ]
  },
  {
   "cell_type": "code",
   "execution_count": 83,
   "id": "bf6e8602",
   "metadata": {},
   "outputs": [
    {
     "name": "stdout",
     "output_type": "stream",
     "text": [
      "Hola, mi nombre es Alice y tengo 25 años.\n"
     ]
    }
   ],
   "source": [
    "# Formateo de cadenas - con nombres de marcadores\n",
    "persona = {\"nombre\": \"Alice\", \"edad\": 25}\n",
    "\n",
    "mensaje = \"Hola, mi nombre es {nombre} y tengo {edad} años.\".format(**persona)\n",
    "print(mensaje)\n",
    "# Salida: \"Hola, mi nombre es Alice y tengo 25 años.\"\n"
   ]
  },
  {
   "cell_type": "code",
   "execution_count": 84,
   "id": "fb71d90c",
   "metadata": {},
   "outputs": [
    {
     "name": "stdout",
     "output_type": "stream",
     "text": [
      "2\n"
     ]
    }
   ],
   "source": [
    "# Contar ocurrencias de una subcadena:\n",
    "texto = \"Hola Mundo\"\n",
    "\n",
    "ocurrencias = texto.count(\"o\")\n",
    "print(ocurrencias)  # Salida: 2\n"
   ]
  },
  {
   "cell_type": "code",
   "execution_count": 85,
   "id": "9a4156d4",
   "metadata": {},
   "outputs": [
    {
     "name": "stdout",
     "output_type": "stream",
     "text": [
      "True\n"
     ]
    }
   ],
   "source": [
    "# Verificar si la cadena comienza o termina con una subcadena específica:\n",
    "# startswith\n",
    "texto = \"Hola Mundo\"\n",
    "\n",
    "comienza_con_hola = texto.startswith(\"Hola\")\n",
    "print(comienza_con_hola)  # Salida: True\n"
   ]
  },
  {
   "cell_type": "code",
   "execution_count": 86,
   "id": "7541b959",
   "metadata": {},
   "outputs": [
    {
     "name": "stdout",
     "output_type": "stream",
     "text": [
      "True\n"
     ]
    }
   ],
   "source": [
    "#endswith\n",
    "texto = \"Hola, ¿cómo estás?\"\n",
    "\n",
    "termina_con_estas = texto.endswith(\"estás?\")\n",
    "print(termina_con_estas)\n",
    "# Salida: True\n"
   ]
  },
  {
   "cell_type": "code",
   "execution_count": 87,
   "id": "c30c90f2",
   "metadata": {},
   "outputs": [
    {
     "name": "stdout",
     "output_type": "stream",
     "text": [
      "False\n"
     ]
    }
   ],
   "source": [
    "# startswith y endswith - complejo\n",
    "texto = \"Hola, ¿cómo estás?\"\n",
    "\n",
    "termina_con_saludo = texto.endswith((\"adiós\", \"bye\", \"hasta luego\"))\n",
    "print(termina_con_saludo)\n",
    "# Salida: False\n"
   ]
  },
  {
   "cell_type": "code",
   "execution_count": 88,
   "id": "5b89388f",
   "metadata": {},
   "outputs": [
    {
     "name": "stdout",
     "output_type": "stream",
     "text": [
      "True\n",
      "False\n"
     ]
    }
   ],
   "source": [
    "# Verificar si la cadena contiene solo caracteres alfabéticos o numéricos:\n",
    "texto1 = \"HolaMundo123\"\n",
    "texto2 = \"Hola Mundo 123\"\n",
    "\n",
    "es_alnum1 = texto1.isalnum()\n",
    "print(es_alnum1)  # Salida: True\n",
    "\n",
    "es_alnum2 = texto2.isalnum()\n",
    "print(es_alnum2)  # Salida: False\n"
   ]
  },
  {
   "cell_type": "code",
   "execution_count": 89,
   "id": "cafaf2a4",
   "metadata": {},
   "outputs": [
    {
     "name": "stdout",
     "output_type": "stream",
     "text": [
      "True\n",
      "False\n"
     ]
    }
   ],
   "source": [
    "# Verificar si la cadena contiene solo caracteres alfabéticos:\n",
    "texto1 = \"HolaMundo\"\n",
    "texto2 = \"Hola Mundo 123\"\n",
    "\n",
    "es_alpha1 = texto1.isalpha()\n",
    "print(es_alpha1)  # Salida: True\n",
    "\n",
    "es_alpha2 = texto2.isalpha()\n",
    "print(es_alpha2)  # Salida: False\n"
   ]
  },
  {
   "cell_type": "code",
   "execution_count": 90,
   "id": "207f3ae4",
   "metadata": {},
   "outputs": [
    {
     "name": "stdout",
     "output_type": "stream",
     "text": [
      "True\n",
      "False\n"
     ]
    }
   ],
   "source": [
    "# Verificar si la cadena contiene solo caracteres numéricos:\n",
    "texto1 = \"12345\"\n",
    "texto2 = \"Hola Mundo 123\"\n",
    "\n",
    "es_digit1 = texto1.isdigit()\n",
    "print(es_digit1)  # Salida: True\n",
    "\n",
    "es_digit2 = texto2.isdigit()\n",
    "print(es_digit2)  # Salida: False\n"
   ]
  },
  {
   "cell_type": "markdown",
   "id": "2ede86c1",
   "metadata": {},
   "source": [
    "* **Funcionalidades para el manejo de cadenas**"
   ]
  },
  {
   "cell_type": "code",
   "execution_count": 91,
   "id": "5490d080",
   "metadata": {},
   "outputs": [
    {
     "name": "stdout",
     "output_type": "stream",
     "text": [
      "abcdefghijklmnopqrstuvwxyzABCDEFGHIJKLMNOPQRSTUVWXYZ\n"
     ]
    }
   ],
   "source": [
    "# ascii_letters\n",
    "import string\n",
    "print(string.ascii_letters)\n",
    "# Salida: 'abcdefghijklmnopqrstuvwxyzABCDEFGHIJKLMNOPQRSTUVWXYZ'\n"
   ]
  },
  {
   "cell_type": "code",
   "execution_count": 92,
   "id": "52801629",
   "metadata": {},
   "outputs": [
    {
     "name": "stdout",
     "output_type": "stream",
     "text": [
      "abcdefghijklmnopqrstuvwxyz\n"
     ]
    }
   ],
   "source": [
    "# ascii_lowercase\n",
    "import string\n",
    "print(string.ascii_lowercase)\n",
    "# Salida: 'abcdefghijklmnopqrstuvwxyz'\n"
   ]
  },
  {
   "cell_type": "code",
   "execution_count": 93,
   "id": "e43f005f",
   "metadata": {},
   "outputs": [
    {
     "name": "stdout",
     "output_type": "stream",
     "text": [
      "ABCDEFGHIJKLMNOPQRSTUVWXYZ\n"
     ]
    }
   ],
   "source": [
    "# ascii_uppercase\n",
    "import string\n",
    "print(string.ascii_uppercase)\n",
    "# Salida: 'ABCDEFGHIJKLMNOPQRSTUVWXYZ'\n"
   ]
  },
  {
   "cell_type": "code",
   "execution_count": 94,
   "id": "7b2154f9",
   "metadata": {},
   "outputs": [
    {
     "name": "stdout",
     "output_type": "stream",
     "text": [
      "0123456789\n"
     ]
    }
   ],
   "source": [
    "# digits\n",
    "import string\n",
    "print(string.digits)\n",
    "# Salida: '0123456789'\n"
   ]
  },
  {
   "cell_type": "code",
   "execution_count": 95,
   "id": "81f23586",
   "metadata": {},
   "outputs": [
    {
     "name": "stdout",
     "output_type": "stream",
     "text": [
      "!\"#$%&'()*+,-./:;<=>?@[\\]^_`{|}~\n"
     ]
    }
   ],
   "source": [
    "# punctuation\n",
    "import string\n",
    "print(string.punctuation)\n",
    "# Salida: '!\"#$%&\\'()*+,-./:;<=>?@[\\\\]^_`{|}~'\n"
   ]
  },
  {
   "cell_type": "code",
   "execution_count": null,
   "id": "dd166279",
   "metadata": {},
   "outputs": [],
   "source": []
  }
 ],
 "metadata": {
  "kernelspec": {
   "display_name": "Python 3 (ipykernel)",
   "language": "python",
   "name": "python3"
  },
  "language_info": {
   "codemirror_mode": {
    "name": "ipython",
    "version": 3
   },
   "file_extension": ".py",
   "mimetype": "text/x-python",
   "name": "python",
   "nbconvert_exporter": "python",
   "pygments_lexer": "ipython3",
   "version": "3.10.5"
  }
 },
 "nbformat": 4,
 "nbformat_minor": 5
}
