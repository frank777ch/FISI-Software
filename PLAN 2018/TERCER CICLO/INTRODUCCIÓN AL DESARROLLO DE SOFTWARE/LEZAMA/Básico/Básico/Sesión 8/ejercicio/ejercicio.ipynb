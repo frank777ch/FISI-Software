{
 "cells": [
  {
   "cell_type": "markdown",
   "metadata": {
    "id": "4BpziQ81f2MH"
   },
   "source": [
    "# Ejercicios Visualización\n",
    "\n",
    "Se pedirá realizar graficos con distintos dataset. Es importante que cada uno de ellos cuente con un título y los respectivos nombres en sus ejes.\n",
    "\n",
    "\n",
    "## 1. Serie de tiempo\n",
    "\n",
    "Se pide realizar un análisis exploratorio de una serie de datos macroeconomicos, para ello es necesario visualizar la serie y otros gráficos descriptivos de la misma que se indicarán a continuación."
   ]
  },
  {
   "cell_type": "code",
   "execution_count": 1,
   "metadata": {
    "id": "opPrOZ1tf2MH"
   },
   "outputs": [],
   "source": [
    "# Imports\n",
    "import pandas as pd \n",
    "import matplotlib.pyplot as plt\n",
    "%matplotlib inline"
   ]
  },
  {
   "cell_type": "code",
   "execution_count": 3,
   "metadata": {
    "id": "5xSh2dnkf2MI"
   },
   "outputs": [],
   "source": [
    "df = pd.read_csv('data_macro.csv',sep=',')"
   ]
  },
  {
   "cell_type": "markdown",
   "metadata": {
    "id": "jIIHVXTJf2MI"
   },
   "source": [
    "### 1.1\n",
    "Graficar la serie de importaciones, en el eje de las abscisas deben ir los años, mientras que en el de las ordenadas la cantidad importada."
   ]
  },
  {
   "cell_type": "markdown",
   "metadata": {
    "id": "2fFtDjUtf2MI"
   },
   "source": [
    "### 1.2\n",
    "\n",
    "Graficar los cierres anuales para exportaciones, importaciones, consumo publico, consumo privado y PBI. Recuerde incorporar los años en el eje horizontal."
   ]
  },
  {
   "cell_type": "markdown",
   "metadata": {
    "id": "I1ExkX7if2MJ"
   },
   "source": [
    "### 1.3 \n",
    "Graficar la serie de exportaciones junto a su media movil y su desvio estandar móvil."
   ]
  },
  {
   "cell_type": "code",
   "execution_count": null,
   "metadata": {
    "id": "SOokQhCHf2MK"
   },
   "outputs": [],
   "source": [
    "import numpy as np"
   ]
  },
  {
   "cell_type": "code",
   "execution_count": null,
   "metadata": {
    "id": "Xn75E-6Df2ML"
   },
   "outputs": [],
   "source": [
    "# Consejo: utilizar las funciones np.rolling\n",
    "\n",
    "#media_movil = \n",
    "#desvio_movil = "
   ]
  },
  {
   "cell_type": "markdown",
   "metadata": {
    "id": "yINBNdTvf2ML"
   },
   "source": [
    "## 2. Iris Dataset\n",
    "\n",
    "Utilizando el [Iris Dataset](https://es.wikipedia.org/wiki/Conjunto_de_datos_flor_iris), una base de datos que contiene información acerca de tres especies de flores distintas, vamos realizar algunos gráficos para entender mejor su comportamiento. Este dataset es ampliamente utilizado en el ámbito academico para la práctica de visualización de datos, es recomendable que investiguen y vean los distintos trabajos realizados sobre el mismo. "
   ]
  },
  {
   "cell_type": "code",
   "execution_count": 5,
   "metadata": {
    "id": "f9ExygbBf2ML"
   },
   "outputs": [],
   "source": [
    "df = pd.read_csv(\"data_iris.csv\")"
   ]
  },
  {
   "cell_type": "markdown",
   "metadata": {
    "id": "s6mQricrf2MM"
   },
   "source": [
    "### 2.1 \n",
    "Graficar las distribución del largo del sepalo."
   ]
  },
  {
   "cell_type": "markdown",
   "metadata": {
    "id": "jghUFPS4f2MM"
   },
   "source": [
    "## 2.2\n",
    "Graficar la función de densidad del largo del sépalo."
   ]
  },
  {
   "cell_type": "markdown",
   "metadata": {
    "id": "qhV5NFHgf2MM"
   },
   "source": [
    "## 3. Plotly"
   ]
  },
  {
   "cell_type": "code",
   "execution_count": null,
   "metadata": {
    "id": "HXG3HEGdf2MM"
   },
   "outputs": [],
   "source": [
    "import plotly.graph_objects as go\n",
    "import plotly.express as px"
   ]
  },
  {
   "cell_type": "markdown",
   "metadata": {
    "id": "yWVPfddwf2MM"
   },
   "source": [
    "### 3.1\n",
    "\n",
    "Con plotly express realizar un gráfico de dispersion donde el eje de ordenadas explique el largo del sepalo y el eje de abscisas explique el largo del pétalo con cada una de las especies."
   ]
  },
  {
   "cell_type": "markdown",
   "metadata": {
    "id": "SrDer4dxf2MM"
   },
   "source": [
    "### 3.2"
   ]
  },
  {
   "cell_type": "markdown",
   "metadata": {
    "id": "TY6VqEzuf2MM"
   },
   "source": [
    "Realizar lo mismo que en el 3.1 pero con un *objeto gráfico* de plotly. Vemos que podemos hacer una mayor personalización."
   ]
  },
  {
   "cell_type": "code",
   "execution_count": null,
   "metadata": {
    "id": "grFsc21gf2MN"
   },
   "outputs": [],
   "source": [
    "# Especie versicolor\n",
    "traza1 = \n",
    "\n",
    "# Especie setosa\n",
    "traza2 = \n",
    "\n",
    "# Especies virginica\n",
    "traza3 = "
   ]
  }
 ],
 "metadata": {
  "colab": {
   "provenance": []
  },
  "kernelspec": {
   "display_name": "Python 3",
   "language": "python",
   "name": "python3"
  },
  "language_info": {
   "codemirror_mode": {
    "name": "ipython",
    "version": 3
   },
   "file_extension": ".py",
   "mimetype": "text/x-python",
   "name": "python",
   "nbconvert_exporter": "python",
   "pygments_lexer": "ipython3",
   "version": "3.11.3"
  }
 },
 "nbformat": 4,
 "nbformat_minor": 0
}
