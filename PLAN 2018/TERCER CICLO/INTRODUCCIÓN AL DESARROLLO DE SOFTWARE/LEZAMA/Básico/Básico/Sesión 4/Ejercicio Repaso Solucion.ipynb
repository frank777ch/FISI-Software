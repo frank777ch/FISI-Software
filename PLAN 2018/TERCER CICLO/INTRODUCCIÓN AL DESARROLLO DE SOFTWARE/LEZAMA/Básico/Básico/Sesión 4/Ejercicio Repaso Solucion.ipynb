{
 "cells": [
  {
   "cell_type": "markdown",
   "id": "b42300d2",
   "metadata": {},
   "source": [
    "### Ejercicio 1: Cálculo de Factorial\n",
    "Escribe una función que calcule el factorial de un número entero no negativo utilizando un bucle."
   ]
  },
  {
   "cell_type": "code",
   "execution_count": 1,
   "id": "74159811",
   "metadata": {},
   "outputs": [
    {
     "name": "stdout",
     "output_type": "stream",
     "text": [
      "120\n"
     ]
    }
   ],
   "source": [
    "def factorial_bucle(n):\n",
    "    resultado = 1\n",
    "    for i in range(1, n + 1):\n",
    "        resultado *= i\n",
    "    return resultado\n",
    "\n",
    "numero = 5\n",
    "print(factorial_bucle(numero))  # Output: 120\n"
   ]
  },
  {
   "cell_type": "markdown",
   "id": "7cf487f2",
   "metadata": {},
   "source": [
    "### Ejercicio 2: Verificación de Palíndromo\n",
    "Escribe una función que verifique si una cadena es un palíndromo (se lee igual de izquierda a derecha que de derecha a izquierda), ignorando espacios y mayúsculas/minúsculas."
   ]
  },
  {
   "cell_type": "code",
   "execution_count": 2,
   "id": "7668742f",
   "metadata": {},
   "outputs": [
    {
     "name": "stdout",
     "output_type": "stream",
     "text": [
      "True\n"
     ]
    }
   ],
   "source": [
    "def es_palindromo(cadena):\n",
    "    cadena = cadena.replace(\" \", \"\").lower()\n",
    "    return cadena == cadena[::-1]\n",
    "\n",
    "texto = \"Anita lava la tina\"\n",
    "print(es_palindromo(texto))  # Output: True\n"
   ]
  },
  {
   "cell_type": "markdown",
   "id": "272e0dca",
   "metadata": {},
   "source": [
    "### Ejercicio 3: Generador de Contraseña Aleatoria\n",
    "Escribe una función que genere una contraseña aleatoria con una longitud especificada."
   ]
  },
  {
   "cell_type": "code",
   "execution_count": 3,
   "id": "6f77a649",
   "metadata": {},
   "outputs": [
    {
     "name": "stdout",
     "output_type": "stream",
     "text": [
      "w`\\QniUy6/\n"
     ]
    }
   ],
   "source": [
    "import random\n",
    "import string\n",
    "\n",
    "def generar_contraseña(longitud):\n",
    "    caracteres = string.ascii_letters + string.digits + string.punctuation\n",
    "    contraseña = ''.join(random.choice(caracteres) for _ in range(longitud))\n",
    "    return contraseña\n",
    "\n",
    "longitud_contraseña = 10\n",
    "print(generar_contraseña(longitud_contraseña))\n"
   ]
  },
  {
   "cell_type": "markdown",
   "id": "56d0691a",
   "metadata": {},
   "source": [
    "### Ejercicio 4: Cálculo de Área de un Círculo\n",
    "Escribe una función que calcule el área de un círculo dado su radio utilizando el módulo math."
   ]
  },
  {
   "cell_type": "code",
   "execution_count": 4,
   "id": "53b37cf6",
   "metadata": {},
   "outputs": [
    {
     "name": "stdout",
     "output_type": "stream",
     "text": [
      "78.53981633974483\n"
     ]
    }
   ],
   "source": [
    "import math\n",
    "\n",
    "def area_circulo(radio):\n",
    "    return math.pi * radio ** 2\n",
    "\n",
    "radio_circulo = 5\n",
    "print(area_circulo(radio_circulo))  # Output: 78.53981633974483\n"
   ]
  },
  {
   "cell_type": "markdown",
   "id": "d3eea5ad",
   "metadata": {},
   "source": [
    "### Ejercicio 5: Validación de Fecha\n",
    "Escribe una función que verifique si una fecha ingresada es válida en el formato DD/MM/AAAA."
   ]
  },
  {
   "cell_type": "code",
   "execution_count": 5,
   "id": "78514847",
   "metadata": {},
   "outputs": [
    {
     "name": "stdout",
     "output_type": "stream",
     "text": [
      "True\n"
     ]
    }
   ],
   "source": [
    "def es_fecha_valida(fecha):\n",
    "    try:\n",
    "        dia, mes, anio = map(int, fecha.split('/'))\n",
    "        if 1 <= mes <= 12 and 1 <= dia <= 31:\n",
    "            return True\n",
    "        else:\n",
    "            return False\n",
    "    except ValueError:\n",
    "        return False\n",
    "\n",
    "fecha_ingresada = \"31/12/2023\"\n",
    "print(es_fecha_valida(fecha_ingresada))  # Output: True\n"
   ]
  },
  {
   "cell_type": "markdown",
   "id": "52296ce5",
   "metadata": {},
   "source": [
    "### Ejercicio 6: Diferencia Simétrica entre Listas\n",
    "Escribe una función que retorne la diferencia simétrica (elementos que están en una lista o en otra, pero no en ambas) de dos listas."
   ]
  },
  {
   "cell_type": "code",
   "execution_count": 6,
   "id": "6fd28546",
   "metadata": {},
   "outputs": [
    {
     "name": "stdout",
     "output_type": "stream",
     "text": [
      "[1, 2, 5, 6]\n"
     ]
    }
   ],
   "source": [
    "def diferencia_simetrica(list1, list2):\n",
    "    set1 = set(list1)\n",
    "    set2 = set(list2)\n",
    "    return list(set1.symmetric_difference(set2))\n",
    "\n",
    "lista1 = [1, 2, 3, 4]\n",
    "lista2 = [3, 4, 5, 6]\n",
    "print(diferencia_simetrica(lista1, lista2))  # Output: [1, 2, 5, 6]\n"
   ]
  },
  {
   "cell_type": "markdown",
   "id": "f88db9d4",
   "metadata": {},
   "source": [
    "### Ejercicio 7: Validación de Número Primo\n",
    "Escribe una función que verifique si un número ingresado es primo utilizando el módulo math."
   ]
  },
  {
   "cell_type": "code",
   "execution_count": 7,
   "id": "1b431812",
   "metadata": {},
   "outputs": [
    {
     "name": "stdout",
     "output_type": "stream",
     "text": [
      "True\n"
     ]
    }
   ],
   "source": [
    "import math\n",
    "\n",
    "def es_primo(numero):\n",
    "    if numero <= 1:\n",
    "        return False\n",
    "    for i in range(2, int(math.sqrt(numero)) + 1):\n",
    "        if numero % i == 0:\n",
    "            return False\n",
    "    return True\n",
    "\n",
    "numero_ingresado = 17\n",
    "print(es_primo(numero_ingresado))  # Output: True\n"
   ]
  },
  {
   "cell_type": "markdown",
   "id": "85e2a7d7",
   "metadata": {},
   "source": [
    "### Ejercicio 8: Obtener el Nombre de Archivos en un Directorio\n",
    "Escribe una función que retorne una lista con los nombres de los archivos en un directorio específico utilizando el módulo os."
   ]
  },
  {
   "cell_type": "code",
   "execution_count": 8,
   "id": "1462ca3c",
   "metadata": {},
   "outputs": [
    {
     "name": "stdout",
     "output_type": "stream",
     "text": [
      "['.ipynb_checkpoints', 'Ejercicio Repaso Solucion.ipynb', 'Ejercicio Repaso.ipynb', 'Ejercicios Avanzados Solucion.ipynb', 'Tema4.docx', 'Tema4.ipynb', 'Tema4.pdf']\n"
     ]
    }
   ],
   "source": [
    "import os\n",
    "\n",
    "def nombres_archivos_directorio(directorio):\n",
    "    return os.listdir(directorio)\n",
    "\n",
    "directorio_actual = os.getcwd()\n",
    "archivos_en_directorio = nombres_archivos_directorio(directorio_actual)\n",
    "print(archivos_en_directorio)\n"
   ]
  },
  {
   "cell_type": "markdown",
   "id": "d858d0a6",
   "metadata": {},
   "source": [
    "### Ejercicio 9: Generador de Números Aleatorios en un Rango\n",
    "Escribe una función que genere una lista de números enteros aleatorios en un rango especificado utilizando el módulo random."
   ]
  },
  {
   "cell_type": "code",
   "execution_count": 9,
   "id": "3084e73b",
   "metadata": {},
   "outputs": [
    {
     "name": "stdout",
     "output_type": "stream",
     "text": [
      "[7, 59, 47, 13, 89]\n"
     ]
    }
   ],
   "source": [
    "import random\n",
    "\n",
    "def numeros_aleatorios_rango(inicio, fin, cantidad):\n",
    "    return [random.randint(inicio, fin) for _ in range(cantidad)]\n",
    "\n",
    "inicio_rango = 1\n",
    "fin_rango = 100\n",
    "cantidad_numeros = 5\n",
    "print(numeros_aleatorios_rango(inicio_rango, fin_rango, cantidad_numeros))\n"
   ]
  },
  {
   "cell_type": "markdown",
   "id": "a58f9e22",
   "metadata": {},
   "source": [
    "### Ejercicio 10: Contar Ocurrencias en una Lista\n",
    "Escribe una función que tome una lista y retorne un diccionario donde las claves sean los elementos de la lista y los valores sean la cantidad de veces que cada elemento aparece en la lista."
   ]
  },
  {
   "cell_type": "code",
   "execution_count": 10,
   "id": "156e65e6",
   "metadata": {},
   "outputs": [
    {
     "name": "stdout",
     "output_type": "stream",
     "text": [
      "{1: 2, 2: 2, 3: 3, 4: 3}\n"
     ]
    }
   ],
   "source": [
    "def contar_ocurrencias(lista):\n",
    "    ocurrencias = {}\n",
    "    for elemento in lista:\n",
    "        ocurrencias[elemento] = ocurrencias.get(elemento, 0) + 1\n",
    "    return ocurrencias\n",
    "\n",
    "lista_numeros = [1, 2, 3, 2, 1, 3, 3, 4, 4, 4]\n",
    "print(contar_ocurrencias(lista_numeros))\n",
    "# Output: {1: 2, 2: 2, 3: 3, 4: 3}\n"
   ]
  },
  {
   "cell_type": "markdown",
   "id": "7ba76226",
   "metadata": {},
   "source": [
    "### Ejercicio 11: Conversión de Temperatura\n",
    "Escribe una función que convierta una temperatura dada en grados Celsius a grados Fahrenheit y viceversa."
   ]
  },
  {
   "cell_type": "code",
   "execution_count": 11,
   "id": "c03a672f",
   "metadata": {},
   "outputs": [
    {
     "name": "stdout",
     "output_type": "stream",
     "text": [
      "77.0\n",
      "20.0\n"
     ]
    }
   ],
   "source": [
    "def celsius_a_fahrenheit(celsius):\n",
    "    fahrenheit = (celsius * 9/5) + 32\n",
    "    return fahrenheit\n",
    "\n",
    "def fahrenheit_a_celsius(fahrenheit):\n",
    "    celsius = (fahrenheit - 32) * 5/9\n",
    "    return celsius\n",
    "\n",
    "temperatura_celsius = 25\n",
    "print(celsius_a_fahrenheit(temperatura_celsius))  # Output: 77.0\n",
    "\n",
    "temperatura_fahrenheit = 68\n",
    "print(fahrenheit_a_celsius(temperatura_fahrenheit))  # Output: 20.0\n"
   ]
  },
  {
   "cell_type": "markdown",
   "id": "002c64cd",
   "metadata": {},
   "source": [
    "### Ejercicio 12: Ordenar Lista de Diccionarios\n",
    "Escribe una función que tome una lista de diccionarios y los ordene en función de un campo específico de cada diccionario."
   ]
  },
  {
   "cell_type": "code",
   "execution_count": 12,
   "id": "037a86b9",
   "metadata": {},
   "outputs": [
    {
     "name": "stdout",
     "output_type": "stream",
     "text": [
      "[{'nombre': 'Juan', 'edad': 20}, {'nombre': 'Ana', 'edad': 25}, {'nombre': 'María', 'edad': 30}]\n"
     ]
    }
   ],
   "source": [
    "def ordenar_lista_diccionarios(lista_diccionarios, campo):\n",
    "    return sorted(lista_diccionarios, key=lambda x: x[campo])\n",
    "\n",
    "lista_personas = [\n",
    "    {'nombre': 'Ana', 'edad': 25},\n",
    "    {'nombre': 'Juan', 'edad': 20},\n",
    "    {'nombre': 'María', 'edad': 30}\n",
    "]\n",
    "campo_ordenamiento = 'edad'\n",
    "print(ordenar_lista_diccionarios(lista_personas, campo_ordenamiento))\n",
    "# Output: [{'nombre': 'Juan', 'edad': 20}, {'nombre': 'Ana', 'edad': 25}, {'nombre': 'María', 'edad': 30}]\n",
    "\n"
   ]
  },
  {
   "cell_type": "code",
   "execution_count": null,
   "id": "67f8351b",
   "metadata": {},
   "outputs": [],
   "source": []
  }
 ],
 "metadata": {
  "kernelspec": {
   "display_name": "Python 3 (ipykernel)",
   "language": "python",
   "name": "python3"
  },
  "language_info": {
   "codemirror_mode": {
    "name": "ipython",
    "version": 3
   },
   "file_extension": ".py",
   "mimetype": "text/x-python",
   "name": "python",
   "nbconvert_exporter": "python",
   "pygments_lexer": "ipython3",
   "version": "3.11.3"
  }
 },
 "nbformat": 4,
 "nbformat_minor": 5
}
