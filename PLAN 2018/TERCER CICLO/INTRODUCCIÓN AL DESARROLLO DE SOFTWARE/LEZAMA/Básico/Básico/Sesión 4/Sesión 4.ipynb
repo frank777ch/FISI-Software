{
 "cells": [
  {
   "cell_type": "markdown",
   "metadata": {},
   "source": [
    "## 1.\tIntroducción\n",
    "Las funciones son una herramienta fundamental en la programación de Python que nos proporciona dos ventajas principales para mejorar la eficiencia y organización del código.\n",
    "Al definir una función, encapsulamos un conjunto de instrucciones con una funcionalidad específica. Esto nos permite utilizar esa funcionalidad en diferentes partes del programa sin tener que volver a escribir el mismo código repetidamente. La reutilización de funciones promueve un enfoque modular y evita la duplicación innecesaria de código.\n",
    "Al agrupar bloques de código en funciones con nombres descriptivos, podemos mejorar significativamente la organización y legibilidad del código. En lugar de tener un programa monolítico y extenso, las funciones nos permiten dividir el código en tareas más manejables y comprensibles. Esto facilita el mantenimiento, la depuración y la colaboración en proyectos de programación más grandes.\n"
   ]
  },
  {
   "cell_type": "markdown",
   "metadata": {},
   "source": [
    "### 1.1.\tObjetivos\n",
    "    - Entender la sintaxis para definir funciones en Python.\n",
    "    - Aprender a usar parámetros relacionados a las funciones y retorno de valores.\n",
    "    - Comprender la importancia de las variables\n",
    "    - Conocer algunas funciones básicas incluidas en Python. \n"
   ]
  },
  {
   "cell_type": "markdown",
   "metadata": {},
   "source": [
    "## 2.\tFunciones\n",
    "Las funciones en Python son bloques de código que encapsulan una serie de instrucciones con el propósito de realizar una tarea específica. Un experto en Python entiende que las funciones son fundamentales para escribir código limpio, modular y reutilizable. Su experiencia le permite aprovechar plenamente las ventajas que ofrecen las funciones en el desarrollo de aplicaciones complejas.\n"
   ]
  },
  {
   "cell_type": "markdown",
   "metadata": {},
   "source": [
    "* **Básico**\n",
    "\n",
    "Consta de tres elementos fundamentales: la palabra clave def, el nombre de la función y, opcionalmente, los parámetros entre paréntesis. "
   ]
  },
  {
   "cell_type": "raw",
   "metadata": {},
   "source": [
    "def nombre_funcion(parametro1, parametro2, ...):\n",
    "    # Cuerpo de la función\n",
    "    # Instrucciones que realizan una tarea específica\n",
    "    return resultado\n"
   ]
  },
  {
   "cell_type": "markdown",
   "metadata": {},
   "source": [
    "* **Intermedio**\n",
    "\n",
    "además de los parámetros posicionales, podemos utilizar argumentos con nombre y asignar valores predeterminados a algunos parámetros."
   ]
  },
  {
   "cell_type": "raw",
   "metadata": {},
   "source": [
    "def nombre_funcion(parametro1, parametro2=valor_predeterminado, parametro3=valor_predeterminado, ...):\n",
    "    # Cuerpo de la función\n",
    "    # Instrucciones que realizan una tarea específica\n",
    "    return resultado\n"
   ]
  },
  {
   "cell_type": "markdown",
   "metadata": {},
   "source": [
    "* **Avanzado** \n",
    "\n",
    "podemos utilizar argumentos indeterminados, que nos permiten manejar una cantidad variable de argumentos en la función. Esto se logra utilizando *args y **kwargs"
   ]
  },
  {
   "cell_type": "raw",
   "metadata": {},
   "source": [
    "def nombre_funcion(parametro1, parametro2, *args, parametro3=valor_predeterminado, **kwargs):\n",
    "    # Cuerpo de la función\n",
    "    # Instrucciones que realizan una tarea específica\n",
    "    return resultado\n"
   ]
  },
  {
   "cell_type": "markdown",
   "metadata": {},
   "source": [
    "**Ejemplo Básico de la Creación de una Función:**\n",
    "\n",
    "Supongamos que queremos crear una función simple que calcule el área de un rectángulo dado su ancho y altura. Utilizaremos el formato básico para definir la función"
   ]
  },
  {
   "cell_type": "code",
   "execution_count": 1,
   "metadata": {},
   "outputs": [],
   "source": [
    "def calcular_area_rectangulo(ancho, altura):\n",
    "    area = ancho * altura\n",
    "    return area\n"
   ]
  },
  {
   "cell_type": "markdown",
   "metadata": {},
   "source": [
    "hemos definido la función area_rectangulo con dos parámetros ancho y altura. El cuerpo de la función realiza el cálculo del área multiplicando ambos valores, y luego devuelve el resultado mediante la instrucción return. Con esta función definida, podemos llamarla y pasarle los valores necesarios para obtener el área del rectángulo:"
   ]
  },
  {
   "cell_type": "code",
   "execution_count": 2,
   "metadata": {},
   "outputs": [
    {
     "name": "stdout",
     "output_type": "stream",
     "text": [
      "El área del rectángulo es: 50\n"
     ]
    }
   ],
   "source": [
    "ancho_rectangulo = 5\n",
    "altura_rectangulo = 10\n",
    "area_del_rectangulo = calcular_area_rectangulo(ancho_rectangulo, altura_rectangulo)\n",
    "\n",
    "print(\"El área del rectángulo es:\", area_del_rectangulo)\n"
   ]
  },
  {
   "cell_type": "markdown",
   "metadata": {},
   "source": [
    "### 2.1.\tAspectos  de las funciones\n",
    ">+ **Modularidad y Reutilización de código:** Un experto en Python comprende la importancia de la modularidad al dividir un programa en funciones coherentes y autónomas. Esto facilita la reutilización de código, lo que ahorra tiempo y esfuerzo al evitar la duplicación de lógica en diferentes partes del programa.\n",
    ">+ **Declaración y Uso:** Un experto entiende cómo declarar funciones utilizando la palabra clave def seguida del nombre de la función, los parámetros y el bloque de código indentado. Además, sabe cómo llamar a una función para ejecutar su comportamiento y cómo manejar los valores de retorno si es necesario.\n",
    ">+ **Parámetros y Argumentos:** Un experto en Python comprende los diferentes tipos de parámetros que pueden definirse en una función, incluidos los parámetros posicionales, los argumentos con nombre y los valores predeterminados. También es consciente de cómo manejar una cantidad variable de argumentos utilizando *args y **kwargs.\n",
    ">+ **Variables locales y globales:** Un experto entiende la diferencia entre las variables locales, que solo son accesibles dentro de la función, y las variables globales, que tienen un alcance más amplio. Comprende cómo evitar problemas de ámbito y cómo usar variables globales de manera controlada.\n",
    ">+ **Recursión:** Un experto en Python sabe cómo aplicar la recursión cuando una función se llama a sí misma. Comprende cuándo utilizar la recursión de manera eficiente y cómo evitar posibles problemas de desbordamiento de pila.\n",
    ">+ **Funciones Lambda:** Un experto está familiarizado con las funciones lambda, también conocidas como funciones anónimas, que son funciones pequeñas y compactas que pueden definirse en una sola línea. Entiende cómo utilizarlas en expresiones funcionales y en situaciones donde se requieren funciones rápidas y sencillas.\n",
    ">+ **Funciones integradas y módulos:** Un experto en Python conoce las funciones integradas que proporciona el lenguaje, como len(), map(), filter(), etc. Además, sabe cómo importar funciones y definiciones desde módulos y cómo estructurar un programa utilizando módulos para una mayor organización y claridad.\n",
    ">+ **Buenas prácticas de nomenclatura y documentación:** Un experto en Python sigue las buenas prácticas para nombrar funciones de manera clara y descriptiva. También comprende la importancia de documentar las funciones utilizando docstrings para facilitar la comprensión y el mantenimiento del código.\n"
   ]
  },
  {
   "cell_type": "markdown",
   "metadata": {},
   "source": [
    "### 2.2.\tRetorno de Valores de las Funciones\n",
    ">En Python, las funciones pueden devolver valores que son utilizados en el código que llamó a la función. El valor devuelto se especifica con la instrucción return dentro del cuerpo de la función. Al utilizar return, podemos enviar información desde la función al programa principal, lo que permite realizar tareas más complejas y utilizar los resultados obtenidos en otros cálculos o acciones.\n"
   ]
  },
  {
   "cell_type": "markdown",
   "metadata": {},
   "source": [
    "* **Retornar valores:** Para retornar un valor desde una función, simplemente se utiliza la instrucción return seguida del valor o expresión que deseamos retornar."
   ]
  },
  {
   "cell_type": "code",
   "execution_count": 3,
   "metadata": {},
   "outputs": [
    {
     "name": "stdout",
     "output_type": "stream",
     "text": [
      "8\n"
     ]
    }
   ],
   "source": [
    "def sumar(a, b):\n",
    "    resultado = a + b\n",
    "    return resultado\n",
    "\n",
    "# Llamada a la función y almacenamiento del valor retornado en una variable\n",
    "resultado_suma = sumar(3, 5)\n",
    "print(resultado_suma)  # Output: 8\n"
   ]
  },
  {
   "cell_type": "markdown",
   "metadata": {},
   "source": [
    "* **Retornar múltiples Valores:** Para retornar múltiples valores desde una función, simplemente se separan los valores o expresiones con comas después de la instrucción return. Es común utilizar tuplas para agrupar los valores a retornar."
   ]
  },
  {
   "cell_type": "code",
   "execution_count": 4,
   "metadata": {},
   "outputs": [
    {
     "name": "stdout",
     "output_type": "stream",
     "text": [
      "Cociente: 3\n",
      "Resto: 2\n"
     ]
    }
   ],
   "source": [
    "def dividir_y_obtener_resto(dividendo, divisor):\n",
    "    cociente = dividendo // divisor\n",
    "    resto = dividendo % divisor\n",
    "    return cociente, resto\n",
    "\n",
    "# Llamada a la función y almacenamiento de los valores retornados en variables\n",
    "resultado_cociente, resultado_resto = dividir_y_obtener_resto(17, 5)\n",
    "\n",
    "print(\"Cociente:\", resultado_cociente)  # Output: 3\n",
    "print(\"Resto:\", resultado_resto)        # Output: 2\n"
   ]
  },
  {
   "cell_type": "markdown",
   "metadata": {},
   "source": [
    "* **Retorno de funciones como Resultados:** En Python, una función puede retornar otra función como resultado. Esto se logra utilizando las funciones como objetos de primera clase y es útil en conceptos como funciones de orden superior y cierre"
   ]
  },
  {
   "cell_type": "code",
   "execution_count": 5,
   "metadata": {},
   "outputs": [
    {
     "name": "stdout",
     "output_type": "stream",
     "text": [
      "15\n"
     ]
    }
   ],
   "source": [
    "def crear_sumador(valor):\n",
    "    def sumar(num):\n",
    "        return num + valor\n",
    "    return sumar\n",
    "\n",
    "sumar_5 = crear_sumador(5)\n",
    "resultado = sumar_5(10)  # Sumará 5 al número 10\n",
    "print(resultado)  # Output: 15\n"
   ]
  },
  {
   "cell_type": "markdown",
   "metadata": {},
   "source": [
    "Las funciones pueden llamarse a sí mismas de forma recursiva, lo que significa que la función se invoca dentro de su propio cuerpo. En este caso, la función recursiva puede retornar un valor o, en algunos casos, acumular resultados a medida que la recursión se desenrolla."
   ]
  },
  {
   "cell_type": "code",
   "execution_count": 6,
   "metadata": {},
   "outputs": [
    {
     "name": "stdout",
     "output_type": "stream",
     "text": [
      "120\n"
     ]
    }
   ],
   "source": [
    "def factorial(n):\n",
    "    if n == 0 or n == 1:\n",
    "        return 1\n",
    "    else:\n",
    "        return n * factorial(n - 1)\n",
    "\n",
    "resultado_factorial = factorial(5)  # 5! = 5 * 4 * 3 * 2 * 1 = 120\n",
    "print(resultado_factorial)  # Output: 120\n"
   ]
  },
  {
   "cell_type": "markdown",
   "metadata": {},
   "source": [
    "## 2.3.\tanotaciones\n",
    "En Python, puedes consultar las anotaciones de una función utilizando la función incorporada __ annotations __. Esta función devuelve un diccionario que contiene las anotaciones de tipo de los argumentos y el tipo de retorno de la función, si se han proporcionado. \n"
   ]
  },
  {
   "cell_type": "code",
   "execution_count": 7,
   "metadata": {},
   "outputs": [
    {
     "name": "stdout",
     "output_type": "stream",
     "text": [
      "{'radio': <class 'float'>, 'return': <class 'float'>}\n"
     ]
    }
   ],
   "source": [
    "def calcular_area_circulo(radio: float) -> float: # hemos agregado la anotación de tipo -> float \n",
    "    # Fórmula para calcular el área del círculo\n",
    "    area = 3.14159 * radio ** 2\n",
    "    return area\n",
    "\n",
    "# Imprimir las anotaciones\n",
    "print(calcular_area_circulo.__annotations__)\n"
   ]
  },
  {
   "cell_type": "markdown",
   "metadata": {},
   "source": [
    "## 3.\tParámetros\n",
    "Los parámetros son elementos esenciales que permiten personalizar el comportamiento de las funciones. Son valores que se pasan a las funciones cuando se llaman y que se utilizan para realizar operaciones específicas en el cuerpo de la función. Por este motivo, podemos declarar unos parámetros que la función usará para leer esa información. Hay que saber diferenciar entre los parámetros, que son los valores que definimos en una función, y los argumentos, que son los valores que introducimos a la función en el momento de la ejecución."
   ]
  },
  {
   "cell_type": "markdown",
   "metadata": {},
   "source": [
    "### 3.1. Parámetros Posicionales:\n",
    ">Los parámetros posicionales son aquellos que se definen en la firma de la función y se pasan en el mismo orden en que fueron definidos al llamar a la función. El orden de los argumentos es crucial en este caso, ya que Python asigna automáticamente los valores en función de su posición. Es decir, el primer argumento que se pase al llamar a la función se asignará al primer parámetro definido, el segundo argumento al segundo parámetro, y así sucesivamente."
   ]
  },
  {
   "cell_type": "code",
   "execution_count": 8,
   "metadata": {},
   "outputs": [
    {
     "name": "stdout",
     "output_type": "stream",
     "text": [
      "8\n"
     ]
    }
   ],
   "source": [
    "def sumar(a, b):\n",
    "    return a + b\n",
    "\n",
    "resultado = sumar(3, 5)\n",
    "print(resultado)  "
   ]
  },
  {
   "cell_type": "markdown",
   "metadata": {},
   "source": [
    "### 3.2. Parámetros con Nombre:\n",
    ">Los parámetros con nombre son aquellos que se definen en la firma de la función y se pasan mediante su nombre específico al llamar a la función. Al usar argumentos con nombre, podemos proporcionar los valores en cualquier orden, siempre que indiquemos el nombre del parámetro al que pertenecen. Esto mejora la legibilidad y claridad del código, especialmente cuando se tienen funciones con múltiples parámetros."
   ]
  },
  {
   "cell_type": "code",
   "execution_count": 9,
   "metadata": {},
   "outputs": [
    {
     "name": "stdout",
     "output_type": "stream",
     "text": [
      "¡Hola, Ana.\n",
      "¡Buenos días, Juan.\n"
     ]
    }
   ],
   "source": [
    "def saludar(nombre, mensaje):\n",
    "    print(f\"{mensaje}, {nombre}.\")\n",
    "\n",
    "# Llamada a la función con argumentos con nombre\n",
    "saludar(nombre=\"Ana\", mensaje=\"¡Hola\")  # Output: ¡Hola, Ana.\n",
    "saludar(mensaje=\"¡Buenos días\", nombre=\"Juan\")  "
   ]
  },
  {
   "cell_type": "markdown",
   "metadata": {},
   "source": [
    "### 3.3. Valores Predeterminados\n",
    ">Los valores predeterminados son valores asignados a los parámetros en la definición de una función. Si al llamar a la función no se proporciona un valor para un parámetro, se utilizará su valor predeterminado en su lugar. Esto permite que algunos argumentos sean opcionales y no sea necesario proporcionar un valor cada vez que se llama a la función."
   ]
  },
  {
   "cell_type": "code",
   "execution_count": 10,
   "metadata": {},
   "outputs": [
    {
     "name": "stdout",
     "output_type": "stream",
     "text": [
      "Hola, Ana.\n",
      "¡Buenos días, Juan.\n"
     ]
    }
   ],
   "source": [
    "def saludar(nombre, mensaje=\"Hola\"):\n",
    "    print(f\"{mensaje}, {nombre}.\")\n",
    "\n",
    "# Llamada a la función sin especificar el argumento 'mensaje'\n",
    "saludar(\"Ana\")  # Output: Hola, Ana.\n",
    "\n",
    "# Llamada a la función especificando un valor diferente para 'mensaje'\n",
    "saludar(\"Juan\", \"¡Buenos días\")"
   ]
  },
  {
   "cell_type": "markdown",
   "metadata": {},
   "source": [
    "### 3.4. Argumentos Indeterminados\n",
    ">los argumentos indeterminados permiten manejar una cantidad variable de argumentos en una función. Esto es útil cuando no se conoce la cantidad exacta de argumentos que se van a pasar o cuando se desea proporcionar una mayor flexibilidad a la función. Existen dos tipos principales de argumentos indeterminados."
   ]
  },
  {
   "cell_type": "markdown",
   "metadata": {},
   "source": [
    "* **args:** \n",
    "\n",
    "Este es un parámetro especial que permite recibir una cantidad variable de argumentos posicionales en forma de tupla. El nombre args es solo una convención, pero el asterisco (*) es lo que indica que estamos trabajando con argumentos indeterminados. Al usar *args, podemos pasar cualquier número de argumentos posicionales a la función."
   ]
  },
  {
   "cell_type": "code",
   "execution_count": 11,
   "metadata": {},
   "outputs": [
    {
     "name": "stdout",
     "output_type": "stream",
     "text": [
      "15\n"
     ]
    }
   ],
   "source": [
    "def sumar(*args):\n",
    "    resultado = sum(args)\n",
    "    return resultado\n",
    "\n",
    "resultado_suma = sumar(1, 2, 3, 4, 5)\n",
    "print(resultado_suma)  # Output: 15"
   ]
  },
  {
   "cell_type": "markdown",
   "metadata": {},
   "source": [
    "* **kwargs:** \n",
    "\n",
    "Este es otro parámetro especial que permite recibir una cantidad variable de argumentos con nombre en forma de diccionario. El nombre kwargs es también una convención, y el doble asterisco (**) es lo que indica que estamos trabajando con argumentos indeterminados con nombre. Al usar **kwargs, podemos pasar cualquier número de argumentos con nombre a la función."
   ]
  },
  {
   "cell_type": "code",
   "execution_count": 12,
   "metadata": {},
   "outputs": [
    {
     "name": "stdout",
     "output_type": "stream",
     "text": [
      "nombre: Ana\n",
      "edad: 30\n",
      "ciudad: Madrid\n"
     ]
    }
   ],
   "source": [
    "def mostrar_info(**kwargs):\n",
    "    for key, value in kwargs.items():\n",
    "        print(f\"{key}: {value}\")\n",
    "\n",
    "mostrar_info(nombre=\"Ana\", edad=30, ciudad=\"Madrid\")"
   ]
  },
  {
   "cell_type": "markdown",
   "metadata": {},
   "source": [
    "**Uso Combinado de** *args y **kwargs:\n",
    "\n",
    "Es posible utilizar tanto *args como **kwargs en una misma función. En este caso, es importante que los argumentos posicionales sean pasados antes de los argumentos con nombre al llamar a la función."
   ]
  },
  {
   "cell_type": "code",
   "execution_count": 13,
   "metadata": {},
   "outputs": [],
   "source": [
    "def ejemplo_combinado(*args, **kwargs):\n",
    "    print(\"Argumentos posicionales:\")\n",
    "    for arg in args:\n",
    "        print(arg)\n",
    "    \n",
    "    print(\"\\nArgumentos con nombre:\")\n",
    "    for key, value in kwargs.items():\n",
    "        print(f\"{key}: {value}\")\n",
    "\n",
    "ejemplo_combinado(1, 2, 3, nombre=\"Ana\", edad=30, ciudad=\"Madrid\")"
   ]
  },
  {
   "cell_type": "markdown",
   "metadata": {},
   "source": [
    "## 4.\tAspectos adicionales relacionados con las funciones"
   ]
  },
  {
   "cell_type": "markdown",
   "metadata": {},
   "source": [
    "* **A.\tFunciones Lambda:** Las funciones lambda, también conocidas como funciones anónimas, son funciones pequeñas y de una sola línea que se definen sin nombre. Se utilizan para expresiones simples y se crean utilizando la palabra clave lambda. Son útiles en situaciones donde se requiere una función temporal y no es necesario definirla formalmente."
   ]
  },
  {
   "cell_type": "code",
   "execution_count": 14,
   "metadata": {},
   "outputs": [
    {
     "name": "stdout",
     "output_type": "stream",
     "text": [
      "25\n"
     ]
    }
   ],
   "source": [
    "cuadrado = lambda x: x ** 2\n",
    "resultado = cuadrado(5)\n",
    "print(resultado)  # Output: 25"
   ]
  },
  {
   "cell_type": "markdown",
   "metadata": {},
   "source": [
    "* **B.\tAlcance de variables (Scope):** Las variables pueden tener diferentes alcances en Python. Las variables definidas dentro de una función tienen un alcance local y solo existen dentro de esa función. Las variables definidas fuera de cualquier función tienen un alcance global y pueden ser accesibles en todo el programa. Se puede utilizar la palabra clave global para modificar una variable global dentro de una función."
   ]
  },
  {
   "cell_type": "code",
   "execution_count": 15,
   "metadata": {},
   "outputs": [
    {
     "name": "stdout",
     "output_type": "stream",
     "text": [
      "20 5\n",
      "20\n"
     ]
    }
   ],
   "source": [
    "x = 10\n",
    "\n",
    "def ejemplo_alcance():\n",
    "    y = 5\n",
    "    global x\n",
    "    x = 20\n",
    "    print(x, y)\n",
    "\n",
    "ejemplo_alcance()  # Output: 20 5\n",
    "print(x)          # Output: 20\n"
   ]
  },
  {
   "cell_type": "markdown",
   "metadata": {},
   "source": [
    "* **C.\tFunciones Recursivas Terminales:** Una función recursiva es considerada \"terminal\" cuando no realiza ninguna operación adicional después de hacer la llamada recursiva. Estas funciones se caracterizan por su uso eficiente de la memoria, ya que no generan una pila de llamadas recursivas en el stack."
   ]
  },
  {
   "cell_type": "code",
   "execution_count": 16,
   "metadata": {},
   "outputs": [
    {
     "name": "stdout",
     "output_type": "stream",
     "text": [
      "120\n"
     ]
    }
   ],
   "source": [
    "def factorial(n, resultado=1):\n",
    "    if n == 0 or n == 1:\n",
    "        return resultado\n",
    "    else:\n",
    "        return factorial(n - 1, resultado * n)\n",
    "\n",
    "resultado_factorial = factorial(5)  # 5! = 5 * 4 * 3 * 2 * 1 = 120\n",
    "print(resultado_factorial)  # Output: 120\n"
   ]
  },
  {
   "cell_type": "markdown",
   "metadata": {},
   "source": [
    "* **D.\tFunciones Decoradoras:** Las funciones decoradoras son funciones que envuelven a otras funciones para extender o modificar su comportamiento. Se utilizan para agregar funcionalidades adicionales a una función sin modificar su código interno."
   ]
  },
  {
   "cell_type": "code",
   "execution_count": 17,
   "metadata": {},
   "outputs": [
    {
     "name": "stdout",
     "output_type": "stream",
     "text": [
      "Realizando acciones antes de llamar a la función original.\n",
      "¡Hola, mundo!\n",
      "Realizando acciones después de llamar a la función original.\n"
     ]
    }
   ],
   "source": [
    "def mi_decorador(funcion):\n",
    "    def nueva_funcion():\n",
    "        print(\"Realizando acciones antes de llamar a la función original.\")\n",
    "        funcion()\n",
    "        print(\"Realizando acciones después de llamar a la función original.\")\n",
    "    return nueva_funcion\n",
    "\n",
    "@mi_decorador\n",
    "def saludar():\n",
    "    print(\"¡Hola, mundo!\")\n",
    "\n",
    "saludar()\n"
   ]
  },
  {
   "cell_type": "markdown",
   "metadata": {},
   "source": [
    "* **E.\tFunciones Generadoras:** Las funciones generadoras utilizan la palabra clave yield en lugar de return para devolver valores. Cuando una función generadora se llama, no se ejecuta completamente; en cambio, devuelve un generador que puede usarse para obtener valores bajo demanda, lo que ahorra memoria y recursos."
   ]
  },
  {
   "cell_type": "code",
   "execution_count": 18,
   "metadata": {},
   "outputs": [
    {
     "name": "stdout",
     "output_type": "stream",
     "text": [
      "0\n",
      "1\n",
      "2\n",
      "3\n",
      "4\n",
      "5\n"
     ]
    }
   ],
   "source": [
    "def generador_contador(maximo):\n",
    "    contador = 0\n",
    "    while contador <= maximo:\n",
    "        yield contador\n",
    "        contador += 1\n",
    "\n",
    "contador_gen = generador_contador(5)\n",
    "for numero in contador_gen:\n",
    "    print(numero)  # Output: 0, 1, 2, 3, 4, 5"
   ]
  },
  {
   "cell_type": "markdown",
   "metadata": {},
   "source": [
    "* **F.\tFunciones Internas (Nested Functions):**\n",
    "Es posible definir una función dentro de otra función, lo que crea una función interna (también conocida como función anidada). La función interna tiene acceso a las variables locales de la función externa, incluso después de que la función externa haya finalizado su ejecución.\n"
   ]
  },
  {
   "cell_type": "code",
   "execution_count": 19,
   "metadata": {},
   "outputs": [
    {
     "name": "stdout",
     "output_type": "stream",
     "text": [
      "Función interna: 10\n"
     ]
    }
   ],
   "source": [
    "def funcion_externa():\n",
    "    x = 10\n",
    "\n",
    "    def funcion_interna():\n",
    "        print(\"Función interna:\", x)\n",
    "\n",
    "    funcion_interna()\n",
    "\n",
    "funcion_externa()"
   ]
  },
  {
   "cell_type": "markdown",
   "metadata": {},
   "source": [
    "## 5.\tDocumentación de funciones\n",
    "La documentación de funciones es una práctica esencial en el desarrollo de software, ya que proporciona información detallada sobre el propósito, los parámetros y el comportamiento de una función. La documentación facilita la comprensión del código y permite a otros desarrolladores utilizar y colaborar de manera efectiva con el código que se ha escrito. En Python, se utiliza una convención específica para documentar funciones mediante el uso de cadenas de texto llamadas docstrings.\n",
    "\n",
    "Una docstring (cadena de documentación) es una cadena de texto que se coloca dentro de la definición de una función para proporcionar una descripción clara y concisa del propósito y comportamiento de esa función. Las docstrings se utilizan para documentar funciones, módulos y clases en Python. Pueden contener información sobre los parámetros, los valores de retorno, los efectos secundarios y cualquier otra información relevante que ayude a comprender cómo utilizar la función correctamente.\n"
   ]
  },
  {
   "cell_type": "markdown",
   "metadata": {},
   "source": [
    "* **Sintaxis de las Docstrings**\n",
    "\n",
    "Las docstrings se definen utilizando comillas triples (''' o \"\"\") al principio y al final del bloque de texto. Las comillas triples permiten que la cadena de texto abarque varias líneas, lo que es útil para describir funciones más complejas. La docstring se coloca inmediatamente después de la definición de la función, antes de que comience el bloque de código de la función.\n"
   ]
  },
  {
   "cell_type": "raw",
   "metadata": {},
   "source": [
    "def nombre_funcion(parametro1, parametro2, ...):\n",
    "    '''\n",
    "    Descripción de la función.\n",
    "\n",
    "    Parámetros:\n",
    "        parametro1 (tipo): Descripción del primer parámetro.\n",
    "        parametro2 (tipo): Descripción del segundo parámetro.\n",
    "\n",
    "    Valor de retorno:\n",
    "        tipo: Descripción del valor de retorno.\n",
    "    '''\n",
    "    # Cuerpo de la función\n",
    "    # Instrucciones que realizan una tarea específica\n",
    "    return resultado\n"
   ]
  },
  {
   "cell_type": "markdown",
   "metadata": {},
   "source": [
    "* **Acceso a la Docstring**\n",
    "\n",
    "Para acceder a la docstring de una función, se puede utilizar el atributo especial __ doc __ de la función. Esto devuelve la cadena de texto que representa la docstring de la función.\n"
   ]
  },
  {
   "cell_type": "raw",
   "metadata": {},
   "source": [
    "print(nombre_funcion.__doc__)"
   ]
  },
  {
   "cell_type": "markdown",
   "metadata": {},
   "source": [
    "* **Estilos de Docstrings:**\n",
    "\n",
    " Existen varios estilos y convenciones para escribir docstrings en Python. Uno de los estilos más comunes es el estilo de docstring de Google, que se utiliza ampliamente en proyectos de código abierto. Otros estilos populares incluyen el estilo de docstring de Sphinx y el estilo de docstring de NumPy. Independientemente del estilo utilizado, lo importante es que las docstrings sean claras, informativas y consistentes en todo el código.\n",
    "\n",
    "\n",
    "* **Herramientas de Generación de Documentación:** \n",
    "\n",
    "Python cuenta con diversas herramientas que permiten generar documentación automáticamente a partir de las docstrings de las funciones. Entre las herramientas más utilizadas están Sphinx y Pydoc. Estas herramientas facilitan la creación de documentación detallada y formateada en formatos como HTML, PDF o incluso páginas web.\n"
   ]
  },
  {
   "cell_type": "markdown",
   "metadata": {},
   "source": [
    "**Ejemplo de Docstring:**"
   ]
  },
  {
   "cell_type": "code",
   "execution_count": 20,
   "metadata": {},
   "outputs": [],
   "source": [
    "def calcular_area_triangulo(base, altura):\n",
    "    '''\n",
    "    Calcula el área de un triángulo dado su base y altura.\n",
    "\n",
    "    Parámetros:\n",
    "        base (float): La longitud de la base del triángulo.\n",
    "        altura (float): La altura del triángulo.\n",
    "\n",
    "    Valor de retorno:\n",
    "        float: El área del triángulo.\n",
    "\n",
    "    Ejemplo:\n",
    "        >>> calcular_area_triangulo(5, 3)\n",
    "        7.5\n",
    "    '''\n",
    "    area = 0.5 * base * altura\n",
    "    return area\n"
   ]
  },
  {
   "cell_type": "code",
   "execution_count": 21,
   "metadata": {},
   "outputs": [
    {
     "name": "stdout",
     "output_type": "stream",
     "text": [
      "\n",
      "    Calcula el área de un triángulo dado su base y altura.\n",
      "\n",
      "    Parámetros:\n",
      "        base (float): La longitud de la base del triángulo.\n",
      "        altura (float): La altura del triángulo.\n",
      "\n",
      "    Valor de retorno:\n",
      "        float: El área del triángulo.\n",
      "\n",
      "    Ejemplo:\n",
      "        >>> calcular_area_triangulo(5, 3)\n",
      "        7.5\n",
      "    \n"
     ]
    }
   ],
   "source": [
    "print(calcular_area_triangulo.__doc__)\n"
   ]
  },
  {
   "cell_type": "markdown",
   "metadata": {},
   "source": [
    "## 6.\tFunciones Incluidas en Python\n",
    "Dentro de Python encontraremos una diversidad de módulos que incluyen funciones muy útiles para el desarrollo de nuestros programas; A continuación, veremos los módulos y funciones mas importantes.\n"
   ]
  },
  {
   "cell_type": "markdown",
   "metadata": {},
   "source": [
    "**A.\tMódulo math**\n",
    "\n",
    "El módulo math proporciona funciones matemáticas para realizar operaciones comunes, como funciones trigonométricas, logaritmos, exponenciales, redondeo, entre otros. Es un módulo muy útil para cálculos matemáticos avanzados. \n"
   ]
  },
  {
   "cell_type": "code",
   "execution_count": 22,
   "metadata": {},
   "outputs": [
    {
     "name": "stdout",
     "output_type": "stream",
     "text": [
      "Raíz cuadrada de 25: 5.0\n"
     ]
    }
   ],
   "source": [
    "import math\n",
    "\n",
    "# math.sqrt(x)\n",
    "ejemplo_sqrt = math.sqrt(25)\n",
    "print(\"Raíz cuadrada de 25:\", ejemplo_sqrt)  # Salida: 5.0"
   ]
  },
  {
   "cell_type": "code",
   "execution_count": 23,
   "metadata": {},
   "outputs": [
    {
     "name": "stdout",
     "output_type": "stream",
     "text": [
      "2 elevado a la potencia 3: 8.0\n"
     ]
    }
   ],
   "source": [
    "# math.pow(x, y)\n",
    "ejemplo_pow = math.pow(2, 3)\n",
    "print(\"2 elevado a la potencia 3:\", ejemplo_pow)  # Salida: 8.0"
   ]
  },
  {
   "cell_type": "code",
   "execution_count": 24,
   "metadata": {},
   "outputs": [
    {
     "name": "stdout",
     "output_type": "stream",
     "text": [
      "e elevado a la potencia 2: 7.38905609893065\n"
     ]
    }
   ],
   "source": [
    "# math.exp(x)\n",
    "ejemplo_exp = math.exp(2)\n",
    "print(\"e elevado a la potencia 2:\", ejemplo_exp)  # Salida: 7.3890560989306495"
   ]
  },
  {
   "cell_type": "code",
   "execution_count": 25,
   "metadata": {},
   "outputs": [
    {
     "name": "stdout",
     "output_type": "stream",
     "text": [
      "Logaritmo base 2 de 10: 3.3219280948873626\n"
     ]
    }
   ],
   "source": [
    "# math.log(x, base)\n",
    "ejemplo_log = math.log(10, 2)\n",
    "print(\"Logaritmo base 2 de 10:\", ejemplo_log)  # Salida: 3.3219280948873626"
   ]
  },
  {
   "cell_type": "code",
   "execution_count": 26,
   "metadata": {},
   "outputs": [
    {
     "name": "stdout",
     "output_type": "stream",
     "text": [
      "Logaritmo base 10 de 100: 2.0\n"
     ]
    }
   ],
   "source": [
    "# math.log10(x)\n",
    "ejemplo_log10 = math.log10(100)\n",
    "print(\"Logaritmo base 10 de 100:\", ejemplo_log10)  # Salida: 2.0"
   ]
  },
  {
   "cell_type": "code",
   "execution_count": 27,
   "metadata": {},
   "outputs": [
    {
     "name": "stdout",
     "output_type": "stream",
     "text": [
      "Seno de 45 grados: 0.7071067811865476\n",
      "Coseno de 45 grados: 0.7071067811865476\n",
      "Tangente de 45 grados: 0.9999999999999999\n"
     ]
    }
   ],
   "source": [
    "# math.sin(x), math.cos(x), math.tan(x)\n",
    "angulo_radianes = math.radians(45)\n",
    "ejemplo_sin = math.sin(angulo_radianes)\n",
    "ejemplo_cos = math.cos(angulo_radianes)\n",
    "ejemplo_tan = math.tan(angulo_radianes)\n",
    "print(\"Seno de 45 grados:\", ejemplo_sin)  # Salida: 0.7071067811865475\n",
    "print(\"Coseno de 45 grados:\", ejemplo_cos)  # Salida: 0.7071067811865476\n",
    "print(\"Tangente de 45 grados:\", ejemplo_tan)  # Salida: 0.9999999999999999"
   ]
  },
  {
   "cell_type": "code",
   "execution_count": 28,
   "metadata": {},
   "outputs": [
    {
     "name": "stdout",
     "output_type": "stream",
     "text": [
      "Arcoseno de 0.5: 30.000000000000004\n",
      "Arcocoseno de 0.5: 60.00000000000001\n",
      "Arcotangente de 1: 45.0\n"
     ]
    }
   ],
   "source": [
    "# math.asin(x), math.acos(x), math.atan(x)\n",
    "ejemplo_asin = math.asin(0.5)\n",
    "ejemplo_acos = math.acos(0.5)\n",
    "ejemplo_atan = math.atan(1)\n",
    "print(\"Arcoseno de 0.5:\", math.degrees(ejemplo_asin))  # Salida: 30.000000000000004 (en grados)\n",
    "print(\"Arcocoseno de 0.5:\", math.degrees(ejemplo_acos))  # Salida: 59.99999999999999 (en grados)\n",
    "print(\"Arcotangente de 1:\", math.degrees(ejemplo_atan))  # Salida: 45.0 (en grados)"
   ]
  },
  {
   "cell_type": "code",
   "execution_count": 29,
   "metadata": {},
   "outputs": [
    {
     "name": "stdout",
     "output_type": "stream",
     "text": [
      "180 grados en radianes: 3.141592653589793\n",
      "π en grados: 180.0\n"
     ]
    }
   ],
   "source": [
    "# math.radians(x), math.degrees(x)\n",
    "ejemplo_radians = math.radians(180)\n",
    "ejemplo_degrees = math.degrees(math.pi)\n",
    "print(\"180 grados en radianes:\", ejemplo_radians)  # Salida: 3.141592653589793\n",
    "print(\"π en grados:\", ejemplo_degrees)  # Salida: 180.0"
   ]
  },
  {
   "cell_type": "code",
   "execution_count": 30,
   "metadata": {},
   "outputs": [
    {
     "name": "stdout",
     "output_type": "stream",
     "text": [
      "Parte entera de 3.8: 3\n",
      "Parte entera de 3.2: 4\n",
      "Parte entera de 4.9: 4\n"
     ]
    }
   ],
   "source": [
    "# math.floor(x), math.ceil(x), math.trunc(x)\n",
    "ejemplo_floor = math.floor(3.8)\n",
    "ejemplo_ceil = math.ceil(3.2)\n",
    "ejemplo_trunc = math.trunc(4.9)\n",
    "print(\"Parte entera de 3.8:\", ejemplo_floor)  # Salida: 3\n",
    "print(\"Parte entera de 3.2:\", ejemplo_ceil)   # Salida: 4\n",
    "print(\"Parte entera de 4.9:\", ejemplo_trunc)  # Salida: 4"
   ]
  },
  {
   "cell_type": "code",
   "execution_count": 31,
   "metadata": {},
   "outputs": [
    {
     "name": "stdout",
     "output_type": "stream",
     "text": [
      "Valor absoluto de -10: 10.0\n"
     ]
    }
   ],
   "source": [
    "# math.fabs(x)\n",
    "ejemplo_fabs = math.fabs(-10)\n",
    "print(\"Valor absoluto de -10:\", ejemplo_fabs)  # Salida: 10.0"
   ]
  },
  {
   "cell_type": "code",
   "execution_count": 32,
   "metadata": {},
   "outputs": [
    {
     "name": "stdout",
     "output_type": "stream",
     "text": [
      "Factorial de 5: 120\n"
     ]
    }
   ],
   "source": [
    "# math.factorial(x)\n",
    "ejemplo_factorial = math.factorial(5)\n",
    "print(\"Factorial de 5:\", ejemplo_factorial)  # Salida: 120"
   ]
  },
  {
   "cell_type": "code",
   "execution_count": 33,
   "metadata": {},
   "outputs": [
    {
     "name": "stdout",
     "output_type": "stream",
     "text": [
      "Máximo común divisor de 24 y 36: 12\n"
     ]
    }
   ],
   "source": [
    "# math.gcd(x, y)\n",
    "ejemplo_gcd = math.gcd(24, 36)\n",
    "print(\"Máximo común divisor de 24 y 36:\", ejemplo_gcd)  # Salida: 12"
   ]
  },
  {
   "cell_type": "code",
   "execution_count": 34,
   "metadata": {},
   "outputs": [
    {
     "name": "stdout",
     "output_type": "stream",
     "text": [
      "Raíz cuadrada entera de 25: 5\n"
     ]
    }
   ],
   "source": [
    "# math.isqrt(n)\n",
    "ejemplo_isqrt = math.isqrt(25)\n",
    "print(\"Raíz cuadrada entera de 25:\", ejemplo_isqrt)  # Salida: 5"
   ]
  },
  {
   "cell_type": "code",
   "execution_count": 35,
   "metadata": {},
   "outputs": [
    {
     "name": "stdout",
     "output_type": "stream",
     "text": [
      "¿Es 10 un número finito? True\n",
      "¿Es -infinito el logaritmo de 0? False\n",
      "¿Es NaN la raíz cuadrada de -1? False\n"
     ]
    }
   ],
   "source": [
    "# math.isfinite(x), math.isinf(x), math.isnan(x)\n",
    "ejemplo_isfinite = math.isfinite(10)\n",
    "ejemplo_isinf = math.isinf(math.log(1))\n",
    "ejemplo_isnan = math.isnan(math.sqrt(1))\n",
    "print(\"¿Es 10 un número finito?\", ejemplo_isfinite)  # Salida: True\n",
    "print(\"¿Es -infinito el logaritmo de 0?\", ejemplo_isinf)  # Salida: True\n",
    "print(\"¿Es NaN la raíz cuadrada de -1?\", ejemplo_isnan)  # Salida: True"
   ]
  },
  {
   "cell_type": "code",
   "execution_count": 36,
   "metadata": {},
   "outputs": [
    {
     "name": "stdout",
     "output_type": "stream",
     "text": [
      "El valor de π es: 3.141592653589793\n"
     ]
    }
   ],
   "source": [
    "# math.pi\n",
    "print(\"El valor de π es:\", math.pi)  # Salida: 3.141592653589793"
   ]
  },
  {
   "cell_type": "code",
   "execution_count": 37,
   "metadata": {},
   "outputs": [
    {
     "name": "stdout",
     "output_type": "stream",
     "text": [
      "El valor de e es: 2.718281828459045\n"
     ]
    }
   ],
   "source": [
    "# math.e\n",
    "print(\"El valor de e es:\", math.e)  # Salida: 2.718281828459045"
   ]
  },
  {
   "cell_type": "markdown",
   "metadata": {},
   "source": [
    "**B.\tModulo os**\n",
    "\n",
    "El módulo os proporciona funciones para interactuar con el sistema operativo, permitiendo acceder a funcionalidades del sistema de archivos, manipulación de directorios, ejecución de comandos del sistema y más.\n"
   ]
  },
  {
   "cell_type": "code",
   "execution_count": 38,
   "metadata": {},
   "outputs": [
    {
     "name": "stdout",
     "output_type": "stream",
     "text": [
      "Directorio de trabajo actual: C:\\Users\\Lenovo\\Documents\\Python ML\\Python\\Tema4\n"
     ]
    }
   ],
   "source": [
    "import os\n",
    "\n",
    "# getcwd\n",
    "# Devuelve el directorio de trabajo actual.\n",
    "current_dir = os.getcwd()\n",
    "print(\"Directorio de trabajo actual:\", current_dir)\n"
   ]
  },
  {
   "cell_type": "raw",
   "metadata": {},
   "source": [
    "# chdir\n",
    "# Cambia el directorio de trabajo actual.\n",
    "print(\"Directorio de trabajo actual:\", os.getcwd())\n",
    "\n",
    "new_dir = \"/path/to/new/directory\"\n",
    "os.chdir(new_dir)\n",
    "\n",
    "print(\"Directorio de trabajo actual después del cambio:\", os.getcwd())"
   ]
  },
  {
   "cell_type": "raw",
   "metadata": {},
   "source": [
    "# listdir\n",
    "# Lista los archivos y directorios en el directorio dado.\n",
    "path = \"/path/to/directory\"\n",
    "files_and_directories = os.listdir(path)\n",
    "print(\"Archivos y directorios en el directorio:\", files_and_directories)"
   ]
  },
  {
   "cell_type": "raw",
   "metadata": {},
   "source": [
    "# mkdir\n",
    "# Crea un nuevo directorio.\n",
    "\n",
    "new_directory = \"/path/to/new/directory\"\n",
    "os.mkdir(new_directory)\n",
    "print(\"Directorio creado:\", new_directory)"
   ]
  },
  {
   "cell_type": "raw",
   "metadata": {},
   "source": [
    "# makedirs\n",
    "# Crea directorios recursivamente.\n",
    "\n",
    "new_directory = \"/path/to/new/directory/with/subdirectories\"\n",
    "os.makedirs(new_directory)\n",
    "print(\"Directorios creados:\", new_directory)"
   ]
  },
  {
   "cell_type": "raw",
   "metadata": {},
   "source": [
    "# remove\n",
    "# Elimina un archivo.\n",
    "\n",
    "file_to_delete = \"/path/to/file.txt\"\n",
    "os.remove(file_to_delete)\n",
    "print(\"Archivo eliminado:\", file_to_delete)"
   ]
  },
  {
   "cell_type": "raw",
   "metadata": {},
   "source": [
    "# rmdir\n",
    "# Elimina un directorio vacío.\n",
    "\n",
    "directory_to_delete = \"/path/to/empty/directory\"\n",
    "os.rmdir(directory_to_delete)\n",
    "print(\"Directorio eliminado:\", directory_to_delete)"
   ]
  },
  {
   "cell_type": "raw",
   "metadata": {},
   "source": [
    "# join\n",
    "# Concatena componentes de ruta.\n",
    "\n",
    "base_path = \"/path/to/directory\"\n",
    "file_name = \"example.txt\"\n",
    "\n",
    "full_path = os.path.join(base_path, file_name)\n",
    "print(\"Ruta completa:\", full_path)"
   ]
  },
  {
   "cell_type": "raw",
   "metadata": {},
   "source": [
    "# exists\n",
    "# Verifica si una ruta existe.\n",
    "\n",
    "path_to_check = \"/path/to/file_or_directory\"\n",
    "\n",
    "if os.path.exists(path_to_check):\n",
    "    print(\"La ruta existe:\", path_to_check)\n",
    "else:\n",
    "    print(\"La ruta no existe:\", path_to_check)"
   ]
  },
  {
   "cell_type": "raw",
   "metadata": {},
   "source": [
    "# isdir\n",
    "# Verifica si una ruta es un directorio.\n",
    "\n",
    "path_to_check = \"/path/to/directory\"\n",
    "\n",
    "if os.path.isdir(path_to_check):\n",
    "    print(\"Es un directorio:\", path_to_check)\n",
    "else:\n",
    "    print(\"No es un directorio:\", path_to_check)"
   ]
  },
  {
   "cell_type": "markdown",
   "metadata": {},
   "source": [
    "**C.\tModulo random**\n",
    "\n",
    "El módulo random permite generar números pseudoaleatorios y realizar selecciones aleatorias de listas o secuencias.\n"
   ]
  },
  {
   "cell_type": "code",
   "execution_count": 39,
   "metadata": {},
   "outputs": [
    {
     "name": "stdout",
     "output_type": "stream",
     "text": [
      "0.833405541930479\n"
     ]
    }
   ],
   "source": [
    "import random\n",
    "# random\n",
    "# Generar un número decimal aleatorio entre 0 y 1\n",
    "random_number = random.random()\n",
    "print(random_number)"
   ]
  },
  {
   "cell_type": "code",
   "execution_count": 40,
   "metadata": {},
   "outputs": [
    {
     "name": "stdout",
     "output_type": "stream",
     "text": [
      "26\n"
     ]
    }
   ],
   "source": [
    "# randrange\n",
    "# Generar un número entero aleatorio en el rango de 10 a 50 (excluyendo 50)\n",
    "random_integer = random.randrange(10, 50)\n",
    "print(random_integer)"
   ]
  },
  {
   "cell_type": "code",
   "execution_count": 41,
   "metadata": {},
   "outputs": [
    {
     "name": "stdout",
     "output_type": "stream",
     "text": [
      "89\n"
     ]
    }
   ],
   "source": [
    "# randint\n",
    "# Generar un número entero aleatorio entre 1 y 100 (ambos inclusive)\n",
    "random_integer = random.randint(1, 100)\n",
    "print(random_integer)"
   ]
  },
  {
   "cell_type": "code",
   "execution_count": 42,
   "metadata": {},
   "outputs": [
    {
     "name": "stdout",
     "output_type": "stream",
     "text": [
      "orange\n"
     ]
    }
   ],
   "source": [
    "# choice\n",
    "# Elegir un elemento aleatorio de una lista\n",
    "fruits = ['apple', 'banana', 'orange', 'grape', 'watermelon']\n",
    "random_fruit = random.choice(fruits)\n",
    "print(random_fruit)"
   ]
  },
  {
   "cell_type": "code",
   "execution_count": 43,
   "metadata": {},
   "outputs": [
    {
     "name": "stdout",
     "output_type": "stream",
     "text": [
      "[2, 8, 4, 5, 10, 3, 1, 7, 6, 9]\n"
     ]
    }
   ],
   "source": [
    "# shuffle\n",
    "# Mezclar una lista de números\n",
    "numbers = [1, 2, 3, 4, 5, 6, 7, 8, 9, 10]\n",
    "random.shuffle(numbers)\n",
    "print(numbers)"
   ]
  },
  {
   "cell_type": "code",
   "execution_count": 44,
   "metadata": {},
   "outputs": [
    {
     "name": "stdout",
     "output_type": "stream",
     "text": [
      "['orange', 'red', 'purple']\n"
     ]
    }
   ],
   "source": [
    "# sample\n",
    "# Obtener una muestra aleatoria de 3 elementos sin reemplazo\n",
    "population = ['red', 'green', 'blue', 'yellow', 'orange', 'purple']\n",
    "random_sample = random.sample(population, 3)\n",
    "print(random_sample)"
   ]
  },
  {
   "cell_type": "code",
   "execution_count": 45,
   "metadata": {},
   "outputs": [
    {
     "name": "stdout",
     "output_type": "stream",
     "text": [
      "0.6394267984578837\n",
      "0.025010755222666936\n",
      "0.27502931836911926\n",
      "0.22321073814882275\n",
      "0.7364712141640124\n"
     ]
    }
   ],
   "source": [
    "# seed\n",
    "# Inicializar el generador con una semilla específica (42 en este caso)\n",
    "random.seed(42)\n",
    "\n",
    "# Generar números aleatorios con la semilla establecida\n",
    "for _ in range(5):\n",
    "    print(random.random())"
   ]
  },
  {
   "cell_type": "markdown",
   "metadata": {},
   "source": [
    "**D.\tModulo sys**\n",
    "\n",
    "El módulo sys proporciona funcionalidades y variables específicas del intérprete de Python. Permite interactuar con el intérprete y acceder a sus propiedades.\n"
   ]
  },
  {
   "cell_type": "code",
   "execution_count": 46,
   "metadata": {},
   "outputs": [
    {
     "name": "stdout",
     "output_type": "stream",
     "text": [
      "Argumentos de línea de comandos: ['C:\\\\Users\\\\Lenovo\\\\AppData\\\\Local\\\\Programs\\\\Python\\\\Python311\\\\Lib\\\\site-packages\\\\ipykernel_launcher.py', '-f', 'C:\\\\Users\\\\Lenovo\\\\AppData\\\\Roaming\\\\jupyter\\\\runtime\\\\kernel-ea5a9ba5-e80c-48ff-8b14-52156d79c3f4.json']\n"
     ]
    }
   ],
   "source": [
    "# script.py\n",
    "import sys\n",
    "\n",
    "# argv\n",
    "def main():\n",
    "    print(\"Argumentos de línea de comandos:\", sys.argv)\n",
    "\n",
    "if __name__ == \"__main__\":\n",
    "    main()\n"
   ]
  },
  {
   "cell_type": "code",
   "execution_count": 47,
   "metadata": {},
   "outputs": [
    {
     "name": "stdout",
     "output_type": "stream",
     "text": [
      "Ruta del intérprete de Python: C:\\Users\\Lenovo\\AppData\\Local\\Programs\\Python\\Python311\\python.exe\n"
     ]
    }
   ],
   "source": [
    "# executable\n",
    "print(\"Ruta del intérprete de Python:\", sys.executable)\n"
   ]
  },
  {
   "cell_type": "code",
   "execution_count": 48,
   "metadata": {},
   "outputs": [
    {
     "name": "stdout",
     "output_type": "stream",
     "text": [
      "Ejecución antes de sys.exit()\n"
     ]
    },
    {
     "ename": "SystemExit",
     "evalue": "1",
     "output_type": "error",
     "traceback": [
      "An exception has occurred, use %tb to see the full traceback.\n",
      "\u001b[1;31mSystemExit\u001b[0m\u001b[1;31m:\u001b[0m 1\n"
     ]
    },
    {
     "name": "stderr",
     "output_type": "stream",
     "text": [
      "C:\\Users\\Lenovo\\AppData\\Local\\Programs\\Python\\Python311\\Lib\\site-packages\\IPython\\core\\interactiveshell.py:3516: UserWarning: To exit: use 'exit', 'quit', or Ctrl-D.\n",
      "  warn(\"To exit: use 'exit', 'quit', or Ctrl-D.\", stacklevel=1)\n"
     ]
    }
   ],
   "source": [
    "# exit\n",
    "def main():\n",
    "    print(\"Ejecución antes de sys.exit()\")\n",
    "    sys.exit(1)\n",
    "    print(\"Esta línea no se imprimirá debido a sys.exit()\")\n",
    "\n",
    "if __name__ == \"__main__\":\n",
    "    main()\n"
   ]
  },
  {
   "cell_type": "code",
   "execution_count": 49,
   "metadata": {},
   "outputs": [
    {
     "name": "stdout",
     "output_type": "stream",
     "text": [
      "Codificación predeterminada: utf-8\n"
     ]
    }
   ],
   "source": [
    "# getdefaultencoding\n",
    "print(\"Codificación predeterminada:\", sys.getdefaultencoding())"
   ]
  },
  {
   "cell_type": "code",
   "execution_count": 50,
   "metadata": {},
   "outputs": [
    {
     "name": "stdout",
     "output_type": "stream",
     "text": [
      "Tamaño de la lista 'data' en bytes: 104\n"
     ]
    }
   ],
   "source": [
    "# getsizeof\n",
    "data = [1, 2, 3, 4, 5]\n",
    "print(\"Tamaño de la lista 'data' en bytes:\", sys.getsizeof(data))\n"
   ]
  },
  {
   "cell_type": "code",
   "execution_count": 51,
   "metadata": {},
   "outputs": [
    {
     "name": "stdout",
     "output_type": "stream",
     "text": [
      "Módulos cargados actualmente: dict_keys(['sys', 'builtins', '_frozen_importlib', '_imp', '_thread', '_warnings', '_weakref', 'winreg', '_io', 'marshal', 'nt', '_frozen_importlib_external', 'time', 'zipimport', '_codecs', 'codecs', 'encodings.aliases', 'encodings', 'encodings.utf_8', 'encodings.cp1252', '_signal', '_abc', 'abc', 'io', '__main__', '_stat', 'stat', '_collections_abc', 'genericpath', '_winapi', 'ntpath', 'os.path', 'os', '_sitebuiltins', 'types', 'importlib._bootstrap', 'importlib._bootstrap_external', 'warnings', 'importlib', 'importlib._abc', 'itertools', 'keyword', '_operator', 'operator', 'reprlib', '_collections', 'collections', '_functools', 'functools', 'contextlib', 'importlib.util', 'importlib.machinery', 'mpl_toolkits', 'mpl_toolkits.basemap_data', '_distutils_hack', 'google', 'pywin32_system32', 'pywin32_bootstrap', 'site', 'runpy', 'enum', '_sre', 're._constants', 're._parser', 're._casefix', 're._compiler', 'copyreg', 're', 'collections.abc', '_typing', 'typing.io', 'typing.re', 'typing', 'ipykernel._version', '_json', 'json.scanner', 'json.decoder', 'json.encoder', 'json', 'errno', '_locale', 'locale', 'signal', '_weakrefset', 'threading', 'msvcrt', 'subprocess', 'jupyter_client._version', 'platform', 'zmq.backend.select', '_cython_0_29_32', 'cython_runtime', 'zmq.error', 'zmq.backend.cython.context', 'weakref', 'zmq.backend.cython.message', 'copy', 'math', '_bisect', 'bisect', '_random', '_sha512', 'random', '_struct', 'struct', '_compat_pickle', '_pickle', 'pickle', 'zmq.constants', 'zmq.backend.cython.socket', 'zmq.backend.cython._device', 'zmq.backend.cython._poll', 'zmq.backend.cython._proxy_steerable', 'zmq.backend.cython._version', 'zmq.backend.cython.error', 'zmq.backend.cython.utils', 'zmq.backend.cython', 'zmq.backend', 'atexit', 'zmq.utils', 'zmq.utils.interop', 'zmq.sugar.attrsettr', 'zmq._typing', 'zmq.utils.jsonapi', 'zmq.sugar.poll', 'zmq.sugar.socket', 'zmq.sugar.context', 'zmq.sugar.frame', 'zmq.sugar.tracker', 'zmq.sugar.version', 'zmq.sugar.stopwatch', 'zmq.sugar', 'zmq', 'concurrent', 'token', 'tokenize', 'linecache', 'textwrap', 'traceback', '_string', 'string', 'logging', 'concurrent.futures._base', 'concurrent.futures', '_heapq', 'heapq', '_socket', 'select', 'selectors', 'socket', '_ssl', 'binascii', 'base64', 'ssl', 'asyncio.constants', '_ast', 'ast', '_opcode', 'opcode', 'dis', 'inspect', 'asyncio.coroutines', '_contextvars', 'contextvars', 'asyncio.format_helpers', 'asyncio.base_futures', 'asyncio.exceptions', 'asyncio.base_tasks', '_asyncio', 'asyncio.events', 'asyncio.futures', 'asyncio.protocols', 'asyncio.transports', 'asyncio.log', 'asyncio.sslproto', 'asyncio.mixins', 'asyncio.tasks', 'asyncio.locks', 'asyncio.staggered', 'asyncio.trsock', 'asyncio.base_events', 'asyncio.runners', 'asyncio.queues', 'asyncio.streams', 'asyncio.subprocess', 'asyncio.taskgroups', 'asyncio.timeouts', 'asyncio.threads', '_overlapped', 'asyncio.base_subprocess', 'asyncio.proactor_events', 'asyncio.selector_events', 'posixpath', 'fnmatch', 'zlib', '_compression', '_bz2', 'bz2', '_lzma', 'lzma', 'shutil', 'tempfile', 'asyncio.windows_utils', 'asyncio.windows_events', 'asyncio', 'zmq._future', 'zmq.asyncio', 'urllib', 'urllib.parse', 'pathlib', 'traitlets.utils', 'traitlets.utils.bunch', 'traitlets.utils.descriptions', 'traitlets.utils.getargspec', 'traitlets.utils.importstring', 'traitlets.utils.sentinel', 'traitlets.traitlets', 'traitlets._version', 'traitlets.utils.decorators', 'traitlets', '_queue', 'queue', 'jupyter_core.version', 'jupyter_core', 'jupyter_core.utils', 'jupyter_client.channelsabc', '_hashlib', '_blake2', 'hashlib', 'hmac', 'dataclasses', 'pprint', '_datetime', 'datetime', 'tornado', 'numbers', 'logging.handlers', 'html.entities', 'html', 'array', 'tornado.speedups', 'tornado.util', 'tornado.escape', 'colorama.ansi', '_ctypes', 'ctypes._endian', 'ctypes', 'ctypes.wintypes', 'colorama.win32', 'colorama.winterm', 'colorama.ansitowin32', 'colorama.initialise', 'colorama', 'tornado.log', 'tornado.concurrent', 'tornado.ioloop', 'socketserver', 'logging.config', 'traitlets.utils.text', 'gettext', 'argparse', 'traitlets.config.loader', 'traitlets.config.configurable', 'traitlets.utils.nested_update', 'traitlets.config.application', 'traitlets.config', 'traitlets.log', 'zmq.eventloop', 'zmq.eventloop.zmqstream', 'jupyter_client.adapter', 'dateutil._version', 'dateutil', '__future__', 'calendar', 'six', '_decimal', 'decimal', 'dateutil._common', 'dateutil.relativedelta', 'six.moves', 'dateutil.tz._common', 'dateutil.tz._factories', 'dateutil.tz.win', 'dateutil.tz.tz', 'dateutil.tz', 'dateutil.parser._parser', 'dateutil.parser.isoparser', 'dateutil.parser', '_strptime', 'jupyter_client.jsonutil', 'jupyter_client.session', 'jupyter_client.channels', 'getpass', 'jupyter_client.clientabc', 'glob', 'platformdirs.api', 'platformdirs.version', 'platformdirs.windows', 'platformdirs', 'jupyter_core.paths', 'jupyter_client.localinterfaces', 'jupyter_client.utils', 'jupyter_client.connect', 'jupyter_client.client', 'jupyter_client.asynchronous.client', 'jupyter_client.asynchronous', 'jupyter_client.blocking.client', 'jupyter_client.blocking', 'jupyter_client.launcher', '_uuid', 'uuid', '_csv', 'csv', 'email', 'zipfile', 'quopri', 'email._parseaddr', 'email.base64mime', 'email.quoprimime', 'email.errors', 'email.encoders', 'email.charset', 'email.utils', 'email.header', 'email._policybase', 'email._encoded_words', 'email.iterators', 'email.message', 'importlib.metadata._functools', 'importlib.metadata._text', 'importlib.metadata._adapters', 'importlib.metadata._meta', 'importlib.metadata._collections', 'importlib.metadata._itertools', 'importlib.resources.abc', 'importlib.resources._adapters', 'importlib.resources._common', 'importlib.resources._legacy', 'importlib.resources', 'importlib.abc', 'importlib.metadata', 'jupyter_client.provisioning.provisioner_base', 'jupyter_client.provisioning.factory', 'jupyter_client.provisioning.local_provisioner', 'jupyter_client.provisioning', 'jupyter_client.kernelspec', 'jupyter_client.managerabc', 'jupyter_client.manager', 'jupyter_client.multikernelmanager', 'jupyter_client', 'ipykernel.connect', 'ipykernel', 'IPython.core', 'IPython.core.getipython', 'IPython.core.release', 'pkgutil', 'sysconfig', 'pydoc', 'executing._exceptions', 'executing._position_node_finder', 'executing.executing', 'executing.version', 'executing', 'asttokens.line_numbers', 'asttokens.util', 'asttokens.asttokens', 'asttokens', 'fractions', 'pure_eval.utils', 'pure_eval.my_getattr_static', 'pure_eval.core', 'pure_eval.version', 'pure_eval', 'stack_data.utils', 'stack_data.core', 'stack_data.formatting', 'stack_data.serializing', 'stack_data.version', 'stack_data', 'pygments', 'pygments.formatters._mapping', 'pygments.plugin', 'pygments.util', 'pygments.formatters', 'pygments.styles', 'pygments.formatter', 'pygments.console', 'pygments.token', 'pygments.style', 'pygments.formatters.terminal256', 'IPython.utils', 'IPython.utils.colorable', 'IPython.utils.ipstruct', 'IPython.utils.coloransi', 'IPython.utils.PyColorize', 'IPython.utils.encoding', 'IPython.utils.py3compat', 'IPython.core.excolors', 'cmd', 'bdb', 'codeop', 'code', 'pdb', 'IPython.core.debugger', 'IPython.core.display_trap', 'shlex', 'IPython.utils._process_common', 'IPython.utils._process_win32', 'IPython.utils.process', 'IPython.utils.path', 'IPython.utils.terminal', 'IPython.core.ultratb', 'IPython.utils._sysinfo', 'IPython.utils.sysinfo', 'IPython.core.crashhandler', 'IPython.utils.importstring', 'IPython.paths', 'IPython.core.profiledir', 'IPython.core.application', 'IPython.terminal', 'IPython.core.compilerop', 'IPython.core.error', 'IPython.utils.docs', 'IPython.utils.decorators', 'IPython.utils.text', 'IPython.core.magic_arguments', 'getopt', 'IPython.core.display_functions', 'mimetypes', 'IPython.testing', 'IPython.testing.skipdoctest', 'IPython.core.display', 'IPython.lib', 'IPython.lib.display', 'IPython.display', 'IPython.utils.data', 'IPython.core.page', 'IPython.lib.pretty', 'IPython.utils.openpy', 'IPython.utils.dir2', 'IPython.utils.wildcard', 'pygments.lexers._mapping', 'pygments.modeline', 'pygments.lexers', 'pygments.filter', 'pygments.filters', 'pygments.regexopt', 'pygments.lexer', 'pygments.unistring', 'pygments.lexers.python', 'pygments.formatters.html', 'IPython.core.oinspect', 'IPython.core.inputtransformer2', 'IPython.core.magic', 'pickleshare', 'IPython.core.hooks', 'IPython.core.autocall', 'IPython.core.macro', 'IPython.core.splitinput', 'IPython.core.prefilter', 'IPython.core.alias', 'IPython.core.builtin_trap', 'IPython.core.displayhook', 'IPython.core.displaypub', 'backcall.backcall', 'backcall', 'IPython.core.events', 'IPython.core.extensions', 'decorator', 'IPython.utils.sentinel', 'IPython.core.formatters', '_sqlite3', 'sqlite3.dbapi2', 'sqlite3', 'IPython.core.history', 'IPython.core.logger', 'IPython.core.payload', 'IPython.core.usage', 'IPython.utils.capture', 'IPython.utils.io', 'IPython.utils.strdispatch', 'IPython.utils.syspathcontext', 'IPython.core.async_helpers', 'IPython.core.interactiveshell', 'prompt_toolkit.application.current', 'prompt_toolkit.eventloop.utils', 'prompt_toolkit.eventloop.async_generator', 'prompt_toolkit.eventloop.inputhook', 'prompt_toolkit.eventloop', 'prompt_toolkit.application.run_in_terminal', 'prompt_toolkit.selection', 'prompt_toolkit.clipboard.base', 'prompt_toolkit.clipboard.in_memory', 'prompt_toolkit.clipboard', 'prompt_toolkit.cache', 'prompt_toolkit.enums', 'prompt_toolkit.filters.base', 'prompt_toolkit.filters.app', 'prompt_toolkit.filters.cli', 'prompt_toolkit.filters.utils', 'prompt_toolkit.filters', 'prompt_toolkit.document', 'prompt_toolkit.auto_suggest', 'prompt_toolkit.keys', 'prompt_toolkit.key_binding.key_bindings', 'wcwidth.table_wide', 'wcwidth.table_zero', 'wcwidth.unicode_versions', 'wcwidth.wcwidth', 'wcwidth', 'prompt_toolkit.utils', 'prompt_toolkit.key_binding.key_processor', 'prompt_toolkit.key_binding', 'prompt_toolkit.key_binding.vi_state', 'prompt_toolkit.cursor_shapes', 'prompt_toolkit.data_structures', 'prompt_toolkit.styles.base', 'prompt_toolkit.styles.named_colors', 'prompt_toolkit.styles.style', 'prompt_toolkit.styles.defaults', 'prompt_toolkit.styles.pygments', 'colorsys', 'prompt_toolkit.styles.style_transformation', 'prompt_toolkit.styles', 'prompt_toolkit.output.color_depth', 'prompt_toolkit.output.base', 'prompt_toolkit.output.flush_stdout', 'prompt_toolkit.output.plain_text', 'prompt_toolkit.output.defaults', 'prompt_toolkit.output', 'prompt_toolkit.output.vt100', 'prompt_toolkit.mouse_events', 'prompt_toolkit.formatted_text.base', 'prompt_toolkit.formatted_text.ansi', 'xml', 'xml.dom.domreg', 'xml.dom', 'xml.dom.minicompat', 'xml.dom.NodeFilter', 'xml.dom.xmlbuilder', 'xml.dom.minidom', 'prompt_toolkit.formatted_text.html', 'prompt_toolkit.formatted_text.pygments', 'prompt_toolkit.formatted_text.utils', 'prompt_toolkit.formatted_text', 'prompt_toolkit.completion.base', 'prompt_toolkit.completion.deduplicate', 'prompt_toolkit.completion.filesystem', 'prompt_toolkit.completion.word_completer', 'prompt_toolkit.completion.fuzzy_completer', 'prompt_toolkit.completion.nested', 'prompt_toolkit.completion', 'prompt_toolkit.history', 'prompt_toolkit.search', 'prompt_toolkit.validation', 'prompt_toolkit.buffer', 'prompt_toolkit.input.base', 'prompt_toolkit.input.defaults', 'prompt_toolkit.input', 'prompt_toolkit.input.typeahead', 'prompt_toolkit.key_binding.bindings', 'prompt_toolkit.key_binding.bindings.scroll', 'prompt_toolkit.key_binding.bindings.page_navigation', 'prompt_toolkit.lexers.base', 'prompt_toolkit.lexers.pygments', 'prompt_toolkit.lexers', 'prompt_toolkit.layout.utils', 'prompt_toolkit.layout.processors', 'prompt_toolkit.layout.controls', 'prompt_toolkit.layout.dimension', 'prompt_toolkit.layout.margins', 'prompt_toolkit.layout.mouse_handlers', 'prompt_toolkit.layout.screen', 'prompt_toolkit.layout.containers', 'prompt_toolkit.layout.layout', 'prompt_toolkit.layout.menus', 'prompt_toolkit.layout.scrollable_pane', 'prompt_toolkit.layout', 'prompt_toolkit.key_binding.bindings.completion', 'prompt_toolkit.key_binding.bindings.named_commands', 'prompt_toolkit.key_binding.bindings.basic', 'prompt_toolkit.key_binding.bindings.cpr', 'prompt_toolkit.key_binding.bindings.emacs', 'prompt_toolkit.key_binding.bindings.mouse', 'prompt_toolkit.input.ansi_escape_sequences', 'prompt_toolkit.input.vt100_parser', 'prompt_toolkit.key_binding.digraphs', 'prompt_toolkit.key_binding.bindings.vi', 'prompt_toolkit.key_binding.defaults', 'prompt_toolkit.key_binding.emacs_state', 'prompt_toolkit.layout.dummy', 'prompt_toolkit.renderer', 'prompt_toolkit.application.application', 'prompt_toolkit.application.dummy', 'prompt_toolkit.application', 'prompt_toolkit.key_binding.bindings.focus', 'prompt_toolkit.widgets.toolbars', 'prompt_toolkit.widgets.base', 'prompt_toolkit.widgets.dialogs', 'prompt_toolkit.widgets.menus', 'prompt_toolkit.widgets', 'prompt_toolkit.shortcuts.dialogs', 'prompt_toolkit.shortcuts.progress_bar.formatters', 'prompt_toolkit.shortcuts.progress_bar.base', 'prompt_toolkit.shortcuts.progress_bar', 'prompt_toolkit.key_binding.bindings.auto_suggest', 'prompt_toolkit.key_binding.bindings.open_in_editor', 'prompt_toolkit.shortcuts.prompt', 'prompt_toolkit.shortcuts.utils', 'prompt_toolkit.shortcuts', 'prompt_toolkit', 'prompt_toolkit.patch_stdout', 'unicodedata', 'IPython.core.guarded_eval', 'IPython.core.latex_symbols', 'IPython.utils.generics', 'parso.utils', 'parso.tree', 'parso.python', 'parso.python.token', 'parso.python.tokenize', 'parso.pgen2.grammar_parser', 'parso.pgen2.generator', 'parso.pgen2', 'parso.parser', 'parso._compatibility', 'difflib', 'parso.python.prefix', 'parso.python.tree', 'parso.python.parser', 'parso.python.diff', 'gc', 'parso.cache', 'parso.normalizer', 'parso.python.errors', 'parso.python.pep8', 'parso.file_io', 'parso.grammar', 'parso', 'jedi.parser_utils', 'jedi.debug', 'jedi.settings', 'jedi.cache', 'jedi.file_io', 'jedi.inference.cache', 'jedi.inference.helpers', 'jedi.inference.utils', 'jedi.inference.base_value', 'jedi.inference.sys_path', 'jedi.inference.recursion', 'jedi.inference.flow_analysis', 'jedi.common', 'jedi.inference.lazy_value', 'jedi.inference.docstrings', 'jedi.plugins', 'jedi.inference.names', 'jedi.inference.filters', 'jedi.inference.compiled.getattr_static', 'jedi.inference.compiled.access', 'jedi.inference.signature', 'jedi.inference.context', 'jedi.inference.compiled.value', 'jedi.inference.compiled', 'jedi.inference.analysis', 'jedi.inference.gradual', 'jedi.inference.value.module', 'jedi.inference.value.dynamic_arrays', 'jedi.inference.value.iterable', 'jedi.inference.arguments', 'jedi.inference.parser_cache', 'jedi.inference.gradual.generics', 'jedi.inference.value.function', 'jedi.inference.value.klass', 'jedi.inference.value.instance', 'jedi.inference.value', 'jedi.inference.gradual.base', 'jedi.inference.gradual.type_var', 'jedi.inference.gradual.typing', 'jedi.inference.gradual.stub_value', 'jedi.inference.gradual.typeshed', 'jedi._compatibility', 'jedi.inference.compiled.subprocess.functions', 'jedi.api.exceptions', 'jedi.inference.compiled.subprocess', 'jedi.inference.imports', 'jedi.inference.param', 'jedi.inference.gradual.annotation', 'jedi.inference.value.decorator', 'jedi.inference.syntax_tree', 'jedi.inference', 'jedi.inference.gradual.conversion', 'jedi.inference.compiled.mixed', 'pydoc_data', 'pydoc_data.topics', 'jedi.api.keywords', 'jedi.api.completion_cache', 'jedi.api.helpers', 'jedi.api.classes', 'jedi.api.interpreter', 'jedi.api.strings', 'jedi.api.file_name', 'jedi.inference.docstring_utils', 'jedi.api.completion', 'filecmp', 'jedi.api.environment', 'jedi.inference.references', 'jedi.api.project', 'jedi.api.errors', 'jedi.api.refactoring', 'jedi.api.refactoring.extract', 'jedi.inference.gradual.utils', 'jedi.api', 'jedi.plugins.stdlib', 'jedi.plugins.flask', 'jedi.plugins.pytest', 'jedi.plugins.django', 'jedi.plugins.registry', 'jedi', 'IPython.core.completer', 'IPython.terminal.ptutils', 'IPython.terminal.shortcuts.auto_match', 'IPython.utils.tokenutil', 'IPython.terminal.shortcuts.auto_suggest', 'IPython.terminal.shortcuts.filters', 'IPython.lib.clipboard', 'IPython.terminal.shortcuts', 'concurrent.futures.thread', 'IPython.terminal.debugger', 'IPython.terminal.magics', 'IPython.terminal.pt_inputhooks', 'IPython.terminal.prompts', 'IPython.terminal.interactiveshell', 'IPython.core.magics.auto', 'IPython.core.magics.basic', 'http', 'email.feedparser', 'email.parser', 'http.client', 'urllib.response', 'urllib.error', 'nturl2path', 'urllib.request', 'IPython.utils.contexts', 'IPython.core.magics.code', 'IPython.core.magics.config', 'IPython.core.magics.display', '_lsprof', 'profile', 'cProfile', 'pstats', 'timeit', 'IPython.utils.module_paths', 'IPython.utils.timing', 'IPython.core.magics.execution', 'IPython.core.magics.extension', 'IPython.core.magics.history', 'IPython.core.magics.logging', 'IPython.core.magics.namespace', 'IPython.core.magics.osm', 'IPython.core.magics.packaging', 'IPython.core.pylabtools', 'IPython.core.magics.pylab', 'IPython.core.magics.script', 'IPython.core.magics', 'IPython.core.shellapp', 'IPython.extensions', 'IPython.extensions.storemagic', 'IPython.terminal.ipapp', 'IPython.terminal.embed', 'IPython.utils.frame', 'IPython', 'ipykernel.control', 'ipykernel.heartbeat', 'ipykernel.iostream', 'comm.base_comm', 'comm', 'ipykernel.jsonutil', 'psutil._common', 'psutil._compat', 'psutil._psutil_windows', 'psutil._pswindows', 'psutil', 'tornado.gen', 'tornado.locks', 'tornado.queues', 'ipykernel.kernelbase', 'ipykernel.comm.comm', 'ipykernel.comm.manager', 'ipykernel.comm', 'ipykernel.compiler', 'debugpy._version', 'debugpy.public_api', 'debugpy', 'debugpy._vendored._util', 'debugpy._vendored', '_pydevd_bundle', 'encodings.ascii', 'encodings.latin_1', 'stringprep', 'encodings.idna', '_pydevd_bundle.pydevd_vm_type', '_pydev_bundle', 'xmlrpc', 'xml.parsers', 'pyexpat.errors', 'pyexpat.model', 'pyexpat', 'xml.parsers.expat.model', 'xml.parsers.expat.errors', 'xml.parsers.expat', 'gzip', 'xmlrpc.client', 'http.server', 'xmlrpc.server', '_pydev_bundle._pydev_saved_modules', '_pydevd_bundle.pydevd_constants', '_pydev_runfiles', '_pydevd_frame_eval', 'pydev_ipython', 'plistlib', 'pkg_resources.extern', 'pkg_resources._vendor', 'pkg_resources._vendor.jaraco', 'pkg_resources.extern.jaraco', 'pkg_resources._vendor.more_itertools.recipes', 'pkg_resources._vendor.more_itertools.more', 'pkg_resources._vendor.more_itertools', 'pkg_resources.extern.more_itertools', 'pkg_resources.extern.jaraco.functools', 'pkg_resources.extern.jaraco.context', 'pkg_resources.extern.jaraco.text', '_win32sysloader', 'pywintypes', 'pythoncom', 'win32api', 'win32com.gen_py', 'win32com', 'win32com.shell', 'pkg_resources._vendor.appdirs', 'pkg_resources.extern.appdirs', 'pkg_resources._vendor.packaging.__about__', 'pkg_resources._vendor.packaging', 'pkg_resources.extern.packaging', 'pkg_resources.extern.packaging._structures', 'pkg_resources.extern.packaging.version', 'pkg_resources._vendor.packaging._manylinux', 'pkg_resources._vendor.packaging._musllinux', 'pkg_resources.extern.packaging.tags', 'pkg_resources.extern.packaging.utils', 'pkg_resources.extern.packaging.specifiers', 'pkg_resources._vendor.pyparsing.util', 'pkg_resources._vendor.pyparsing.unicode', 'pkg_resources._vendor.pyparsing.exceptions', 'pkg_resources._vendor.pyparsing.actions', 'pkg_resources._vendor.pyparsing.results', 'pkg_resources._vendor.pyparsing.core', 'pkg_resources._vendor.pyparsing.helpers', 'pkg_resources._vendor.pyparsing.testing', 'pkg_resources._vendor.pyparsing.common', 'pkg_resources._vendor.pyparsing', 'pkg_resources.extern.pyparsing', 'pkg_resources.extern.packaging.markers', 'pkg_resources.extern.packaging.requirements', 'pkg_resources', 'pydevd_plugins', '_pydev_bundle.pydev_log', '_pydev_bundle._pydev_filesystem_encoding', '_pydevd_bundle.pydevd_comm_constants', 'pydevd_file_utils', '_pydev_bundle._pydev_execfile', '_pydevd_bundle.pydevd_exec2', '_pydev_bundle.pydev_imports', '_pydev_bundle.pydev_is_thread_alive', '_pydev_bundle.pydev_override', 'pydevd_plugins.extensions', '_pydevd_bundle.pydevd_extension_utils', '_pydevd_bundle.pydevd_frame_utils', '_pydevd_bundle.pydevd_filtering', '_pydevd_bundle.pydevd_io', '_pydevd_bundle.pydevd_defaults', '_pydevd_bundle.pydevd_utils', '_pydevd_bundle.pydevd_runpy', '_pydev_bundle._pydev_tipper_common', '_pydev_bundle._pydev_imports_tipper', '_pydev_bundle._pydev_calltip_util', '_pydevd_bundle.pydevd_safe_repr', '_pydevd_bundle.pydevd_resolver', '_pydevd_bundle.pydevd_extension_api', '_pydevd_bundle.pydevd_xml', '_pydevd_bundle.pydevd_dont_trace', '_pydevd_frame_eval.vendored', '_pydevd_frame_eval.vendored.bytecode.flags', '_pydevd_frame_eval.vendored.bytecode.instr', '_pydevd_frame_eval.vendored.bytecode.bytecode', '_pydevd_frame_eval.vendored.bytecode.concrete', '_pydevd_frame_eval.vendored.bytecode.cfg', '_pydevd_frame_eval.vendored.bytecode', '_pydevd_bundle.pydevd_bytecode_utils', '_pydevd_bundle.pydevd_frame', '_pydevd_bundle.pydevd_additional_thread_info_regular', '_pydevd_bundle.pydevd_additional_thread_info', '_pydevd_bundle.pydevd_thread_lifecycle', '_pydevd_bundle.pydevd_save_locals', '_pydev_bundle.pydev_monkey', 'pydevd_tracing', '_pydevd_bundle.pydevd_collect_bytecode_info', '_pydevd_bundle.pydevd_daemon_thread', '_pydevd_bundle.pydevd_timeout', '_pydevd_bundle.pydevd_vars', '_pydev_bundle.pydev_console_utils', '_pydevd_bundle.pydevd_import_class', '_pydevd_bundle.pydevd_breakpoints', '_pydevd_bundle.pydevd_custom_frames', '_pydevd_bundle.pydevd_dont_trace_files', '_pydevd_bundle.pydevd_net_command', '_pydevd_bundle.pydevconsole_code', '_pydev_bundle.pydev_umd', 'pydevconsole', '_pydev_bundle._pydev_completer', '_pydevd_bundle.pydevd_net_command_factory_xml', '_pydevd_bundle.pydevd_trace_dispatch_regular', '_pydevd_bundle.pydevd_trace_dispatch', '_pydevd_frame_eval.pydevd_frame_eval_main', '_pydevd_bundle.pydevd_source_mapping', '_pydevd_bundle.pydevd_concurrency_analyser', '_pydevd_bundle.pydevd_concurrency_analyser.pydevd_thread_wrappers', '_pydevd_bundle.pydevd_concurrency_analyser.pydevd_concurrency_logger', '_pydevd_bundle._debug_adapter', '_pydevd_bundle._debug_adapter.pydevd_schema_log', '_pydevd_bundle._debug_adapter.pydevd_base_schema', '_pydevd_bundle._debug_adapter.pydevd_schema', '_pydevd_bundle.pydevd_reload', '_pydev_bundle.fsnotify', '_pydevd_bundle.pydevd_console', '_pydevd_bundle.pydevd_comm', '_pydevd_bundle.pydevd_net_command_factory_json', '_pydevd_bundle.pydevd_api', '_pydevd_bundle.pydevd_json_debug_options', '_pydevd_bundle.pydevd_process_net_command_json', '_pydevd_bundle.pydevd_traceproperty', '_pydevd_bundle.pydevd_process_net_command', '_pydevd_bundle.pydevd_suspended_frames', '_pydevd_bundle.pydevd_trace_api', 'pydevd_plugins.pydevd_line_validation', 'pydevd_plugins.django_debug', 'pydevd_plugins.jinja2_debug', '_pydevd_bundle.pydevd_plugin_utils', 'pydevd_plugins.extensions.types', 'pydevd_plugins.extensions.types.pydevd_helpers', 'pydevd_plugins.extensions.types.pydevd_plugin_numpy_types', 'pydevd_plugins.extensions.types.pydevd_plugin_pandas_types', 'pydevd_plugins.extensions.types.pydevd_plugins_django_form_str', 'pydevd', 'debugpy._vendored.force_pydevd', 'debugpy.server', 'debugpy.adapter', 'debugpy.common', 'debugpy.common.json', 'debugpy.common.timestamp', 'debugpy.common.util', 'debugpy.common.log', 'debugpy.common.sockets', 'debugpy.server.api', 'ipykernel.debugger', 'packaging', 'packaging._structures', 'packaging.version', 'ipykernel.eventloops', 'IPython.core.payloadpage', 'ipykernel.displayhook', 'ipykernel.zmqshell', 'ipykernel.ipkernel', 'ipykernel.parentpoller', 'ipykernel.kernelapp', 'tornado.platform', 'tornado.platform.asyncio', 'ntsecuritycon', 'win32security', 'faulthandler', 'IPython.core.completerlib'])\n"
     ]
    }
   ],
   "source": [
    "# modules\n",
    "print(\"Módulos cargados actualmente:\", sys.modules.keys())\n"
   ]
  },
  {
   "cell_type": "code",
   "execution_count": 52,
   "metadata": {},
   "outputs": [
    {
     "name": "stdout",
     "output_type": "stream",
     "text": [
      "Rutas de búsqueda para módulos importados: ['C:\\\\Users\\\\Lenovo\\\\Documents\\\\Python ML\\\\Python\\\\Tema4', 'C:\\\\Users\\\\Lenovo\\\\AppData\\\\Local\\\\Programs\\\\Python\\\\Python311\\\\python311.zip', 'C:\\\\Users\\\\Lenovo\\\\AppData\\\\Local\\\\Programs\\\\Python\\\\Python311\\\\DLLs', 'C:\\\\Users\\\\Lenovo\\\\AppData\\\\Local\\\\Programs\\\\Python\\\\Python311\\\\Lib', 'C:\\\\Users\\\\Lenovo\\\\AppData\\\\Local\\\\Programs\\\\Python\\\\Python311', '', 'C:\\\\Users\\\\Lenovo\\\\AppData\\\\Roaming\\\\Python\\\\Python311\\\\site-packages', 'C:\\\\Users\\\\Lenovo\\\\AppData\\\\Local\\\\Programs\\\\Python\\\\Python311\\\\Lib\\\\site-packages', 'C:\\\\Users\\\\Lenovo\\\\AppData\\\\Local\\\\Programs\\\\Python\\\\Python311\\\\Lib\\\\site-packages\\\\win32', 'C:\\\\Users\\\\Lenovo\\\\AppData\\\\Local\\\\Programs\\\\Python\\\\Python311\\\\Lib\\\\site-packages\\\\win32\\\\lib', 'C:\\\\Users\\\\Lenovo\\\\AppData\\\\Local\\\\Programs\\\\Python\\\\Python311\\\\Lib\\\\site-packages\\\\Pythonwin']\n"
     ]
    }
   ],
   "source": [
    "# path\n",
    "print(\"Rutas de búsqueda para módulos importados:\", sys.path)\n"
   ]
  },
  {
   "cell_type": "code",
   "execution_count": 53,
   "metadata": {},
   "outputs": [
    {
     "name": "stdout",
     "output_type": "stream",
     "text": [
      "Plataforma en la que se está ejecutando Python: win32\n"
     ]
    }
   ],
   "source": [
    "# platform\n",
    "print(\"Plataforma en la que se está ejecutando Python:\", sys.platform)\n"
   ]
  },
  {
   "cell_type": "code",
   "execution_count": 54,
   "metadata": {},
   "outputs": [
    {
     "name": "stdout",
     "output_type": "stream",
     "text": [
      "Este es un mensaje en la salida estándar.\n"
     ]
    },
    {
     "name": "stderr",
     "output_type": "stream",
     "text": [
      "Este es un mensaje en el error estándar.\n"
     ]
    },
    {
     "data": {
      "text/plain": [
       "41"
      ]
     },
     "execution_count": 54,
     "metadata": {},
     "output_type": "execute_result"
    }
   ],
   "source": [
    "# stdout, stderr\n",
    "\n",
    "sys.stdout.write(\"Este es un mensaje en la salida estándar.\\n\")\n",
    "sys.stderr.write(\"Este es un mensaje en el error estándar.\\n\")\n"
   ]
  },
  {
   "cell_type": "code",
   "execution_count": 55,
   "metadata": {},
   "outputs": [
    {
     "name": "stdout",
     "output_type": "stream",
     "text": [
      "Versión completa del intérprete de Python: 3.11.3 (tags/v3.11.3:f3909b8, Apr  4 2023, 23:49:59) [MSC v.1934 64 bit (AMD64)]\n"
     ]
    }
   ],
   "source": [
    "# version\n",
    "\n",
    "print(\"Versión completa del intérprete de Python:\", sys.version)\n"
   ]
  },
  {
   "cell_type": "code",
   "execution_count": 56,
   "metadata": {},
   "outputs": [
    {
     "name": "stdout",
     "output_type": "stream",
     "text": [
      "Versión de Python: sys.version_info(major=3, minor=11, micro=3, releaselevel='final', serial=0)\n",
      "Versión mayor: 3\n",
      "Versión menor: 11\n"
     ]
    }
   ],
   "source": [
    "# version_info\n",
    "\n",
    "print(\"Versión de Python:\", sys.version_info)\n",
    "print(\"Versión mayor:\", sys.version_info.major)\n",
    "print(\"Versión menor:\", sys.version_info.minor)\n"
   ]
  },
  {
   "cell_type": "code",
   "execution_count": 57,
   "metadata": {},
   "outputs": [
    {
     "name": "stdout",
     "output_type": "stream",
     "text": [
      "Opciones de advertencias: []\n"
     ]
    }
   ],
   "source": [
    "# warnoptions\n",
    "\n",
    "print(\"Opciones de advertencias:\", sys.warnoptions)\n"
   ]
  },
  {
   "cell_type": "code",
   "execution_count": null,
   "metadata": {},
   "outputs": [],
   "source": []
  }
 ],
 "metadata": {
  "kernelspec": {
   "display_name": "Python 3 (ipykernel)",
   "language": "python",
   "name": "python3"
  },
  "language_info": {
   "codemirror_mode": {
    "name": "ipython",
    "version": 3
   },
   "file_extension": ".py",
   "mimetype": "text/x-python",
   "name": "python",
   "nbconvert_exporter": "python",
   "pygments_lexer": "ipython3",
   "version": "3.11.3"
  }
 },
 "nbformat": 4,
 "nbformat_minor": 2
}
