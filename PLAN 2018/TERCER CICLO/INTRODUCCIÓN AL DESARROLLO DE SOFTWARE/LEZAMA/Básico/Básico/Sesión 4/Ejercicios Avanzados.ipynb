{
 "cells": [
  {
   "cell_type": "markdown",
   "id": "74f08612",
   "metadata": {},
   "source": [
    "### Ejercicio 1: Cálculo de Fibonacci Recursivo\n",
    "Escribe una función que calcule el n-ésimo número de la secuencia de Fibonacci utilizando recursión."
   ]
  },
  {
   "cell_type": "code",
   "execution_count": null,
   "id": "e9741018",
   "metadata": {},
   "outputs": [],
   "source": []
  },
  {
   "cell_type": "markdown",
   "id": "bf9047ba",
   "metadata": {},
   "source": [
    "### Ejercicio 2: Obtener el Tamaño de un Archivo\n",
    "Escribe una función que tome el nombre de un archivo y retorne el tamaño en bytes."
   ]
  },
  {
   "cell_type": "code",
   "execution_count": null,
   "id": "80c7efb7",
   "metadata": {},
   "outputs": [],
   "source": []
  },
  {
   "cell_type": "markdown",
   "id": "811d28fc",
   "metadata": {},
   "source": [
    "### Ejercicio 3: Generador de Números Primos\n",
    "Escribe una función que genere una lista de los n primeros números primos."
   ]
  },
  {
   "cell_type": "code",
   "execution_count": null,
   "id": "0be45f7c",
   "metadata": {},
   "outputs": [],
   "source": []
  },
  {
   "cell_type": "markdown",
   "id": "a8819f75",
   "metadata": {},
   "source": [
    "### Ejercicio 4: Simulación de Banco\n",
    "Imagina que estás construyendo un sistema de simulación para un banco. Crea una función que simule el proceso de depósito y retiro de dinero de una cuenta bancaria. La función debe aceptar el saldo inicial de la cuenta y una lista de transacciones que indica si es un depósito (número positivo) o un retiro (número negativo). La función debe calcular el saldo final y asegurarse de que el saldo nunca sea negativo."
   ]
  },
  {
   "cell_type": "code",
   "execution_count": null,
   "id": "717f366e",
   "metadata": {},
   "outputs": [],
   "source": []
  },
  {
   "cell_type": "markdown",
   "id": "6f480885",
   "metadata": {},
   "source": [
    "### Ejercicio 5: Juego de Adivinar el Número\n",
    "Imagina que estás creando un juego de adivinar el número. Crea una función que simule el juego, donde el jugador debe adivinar un número aleatorio entre 1 y 100. La función debe generar el número aleatorio y permitir que el jugador haga múltiples intentos para adivinar el número correcto. Al final, debe mostrar el número de intentos realizados y si el jugador adivinó correctamente."
   ]
  },
  {
   "cell_type": "code",
   "execution_count": null,
   "id": "6eb05654",
   "metadata": {},
   "outputs": [],
   "source": []
  },
  {
   "cell_type": "markdown",
   "id": "66c5d60b",
   "metadata": {},
   "source": [
    "### Ejercicio 6: Validación de Sudoku\n",
    "Imagina que estás desarrollando una función que valida si un tablero de Sudoku es válido o no. Crea una función que tome una lista de listas representando el tablero de Sudoku (con 9 filas y 9 columnas) y determine si el tablero es una solución válida o no. Un tablero de Sudoku válido debe cumplir con las siguientes reglas: cada fila, cada columna y cada una de las nueve subgrillas 3x3 debe contener todos los números del 1 al 9 sin repetirse."
   ]
  },
  {
   "cell_type": "code",
   "execution_count": null,
   "id": "fc33d278",
   "metadata": {},
   "outputs": [],
   "source": []
  },
  {
   "cell_type": "markdown",
   "id": "68559b61",
   "metadata": {},
   "source": [
    "### Ejercicio 7: Minería de Datos\n",
    "Imagina que estás trabajando en un proyecto de minería de datos y necesitas calcular la similitud de dos conjuntos de datos. Crea una función que tome dos listas como entrada y retorne el coeficiente de similitud Jaccard, que mide la similitud entre dos conjuntos."
   ]
  },
  {
   "cell_type": "code",
   "execution_count": null,
   "id": "9939f58e",
   "metadata": {},
   "outputs": [],
   "source": []
  },
  {
   "cell_type": "markdown",
   "id": "cc64023d",
   "metadata": {},
   "source": [
    "### Ejercicio 8: Juego de Laberinto\n",
    "Imagina que estás creando un juego de laberinto. Crea una función que tome un laberinto representado como una matriz de caracteres, donde 'S' es el punto de inicio, 'E' es la salida y '#' representa una pared. La función debe encontrar la ruta más corta desde el punto de inicio hasta la salida usando un algoritmo de búsqueda de caminos."
   ]
  },
  {
   "cell_type": "code",
   "execution_count": null,
   "id": "e55ec5b3",
   "metadata": {},
   "outputs": [],
   "source": []
  },
  {
   "cell_type": "markdown",
   "id": "00a4a535",
   "metadata": {},
   "source": [
    "### Ejercicio 9: Gestión de Reservas de Vuelos\n",
    "Imagina que estás desarrollando un sistema para gestionar las reservas de vuelos de una aerolínea. Crea una función que tome una lista de asientos disponibles en un vuelo y una lista de asientos reservados por los pasajeros. La función debe verificar si todos los asientos reservados son válidos y están disponibles. Si es así, debe actualizar la lista de asientos disponibles con los asientos reservados y retornar la lista actualizada. Si algún asiento reservado no es válido o ya está ocupado, la función debe retornar None."
   ]
  },
  {
   "cell_type": "code",
   "execution_count": null,
   "id": "7058ab15",
   "metadata": {},
   "outputs": [],
   "source": []
  },
  {
   "cell_type": "markdown",
   "id": "a277c934",
   "metadata": {},
   "source": [
    "### Ejercicio 10: Análisis de Sentimiento\n",
    "Imagina que estás construyendo un sistema de análisis de sentimiento para comentarios de clientes. Crea una función que tome una lista de comentarios y retorne el sentimiento promedio de los comentarios. Los comentarios pueden ser positivos, neutrales o negativos, y puedes asignar valores numéricos a cada categoría (-1 para negativo, 0 para neutro, +1 para positivo)."
   ]
  },
  {
   "cell_type": "code",
   "execution_count": null,
   "id": "f6e10e56",
   "metadata": {},
   "outputs": [],
   "source": []
  }
 ],
 "metadata": {
  "kernelspec": {
   "display_name": "Python 3 (ipykernel)",
   "language": "python",
   "name": "python3"
  },
  "language_info": {
   "codemirror_mode": {
    "name": "ipython",
    "version": 3
   },
   "file_extension": ".py",
   "mimetype": "text/x-python",
   "name": "python",
   "nbconvert_exporter": "python",
   "pygments_lexer": "ipython3",
   "version": "3.11.3"
  }
 },
 "nbformat": 4,
 "nbformat_minor": 5
}
