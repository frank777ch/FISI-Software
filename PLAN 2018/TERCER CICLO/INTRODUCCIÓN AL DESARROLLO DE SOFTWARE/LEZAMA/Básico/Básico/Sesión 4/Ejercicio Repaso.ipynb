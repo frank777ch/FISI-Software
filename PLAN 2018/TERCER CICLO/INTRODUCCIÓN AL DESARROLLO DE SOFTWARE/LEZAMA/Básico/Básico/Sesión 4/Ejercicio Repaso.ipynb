{
 "cells": [
  {
   "cell_type": "markdown",
   "id": "b42300d2",
   "metadata": {},
   "source": [
    "### Ejercicio 1: Cálculo de Factorial\n",
    "Escribe una función que calcule el factorial de un número entero no negativo utilizando un bucle."
   ]
  },
  {
   "cell_type": "code",
   "execution_count": null,
   "id": "bde4ef46",
   "metadata": {},
   "outputs": [],
   "source": []
  },
  {
   "cell_type": "markdown",
   "id": "7cf487f2",
   "metadata": {},
   "source": [
    "### Ejercicio 2: Verificación de Palíndromo\n",
    "Escribe una función que verifique si una cadena es un palíndromo (se lee igual de izquierda a derecha que de derecha a izquierda), ignorando espacios y mayúsculas/minúsculas."
   ]
  },
  {
   "cell_type": "code",
   "execution_count": null,
   "id": "80217aa7",
   "metadata": {},
   "outputs": [],
   "source": []
  },
  {
   "cell_type": "markdown",
   "id": "272e0dca",
   "metadata": {},
   "source": [
    "### Ejercicio 3: Generador de Contraseña Aleatoria\n",
    "Escribe una función que genere una contraseña aleatoria con una longitud especificada."
   ]
  },
  {
   "cell_type": "code",
   "execution_count": null,
   "id": "547847a6",
   "metadata": {},
   "outputs": [],
   "source": []
  },
  {
   "cell_type": "markdown",
   "id": "56d0691a",
   "metadata": {},
   "source": [
    "### Ejercicio 4: Cálculo de Área de un Círculo\n",
    "Escribe una función que calcule el área de un círculo dado su radio utilizando el módulo math."
   ]
  },
  {
   "cell_type": "code",
   "execution_count": null,
   "id": "3fbc22d1",
   "metadata": {},
   "outputs": [],
   "source": []
  },
  {
   "cell_type": "markdown",
   "id": "d3eea5ad",
   "metadata": {},
   "source": [
    "### Ejercicio 5: Validación de Fecha\n",
    "Escribe una función que verifique si una fecha ingresada es válida en el formato DD/MM/AAAA."
   ]
  },
  {
   "cell_type": "code",
   "execution_count": null,
   "id": "688808fc",
   "metadata": {},
   "outputs": [],
   "source": []
  },
  {
   "cell_type": "markdown",
   "id": "52296ce5",
   "metadata": {},
   "source": [
    "### Ejercicio 6: Diferencia Simétrica entre Listas\n",
    "Escribe una función que retorne la diferencia simétrica (elementos que están en una lista o en otra, pero no en ambas) de dos listas."
   ]
  },
  {
   "cell_type": "code",
   "execution_count": null,
   "id": "cf4513ce",
   "metadata": {},
   "outputs": [],
   "source": []
  },
  {
   "cell_type": "markdown",
   "id": "f88db9d4",
   "metadata": {},
   "source": [
    "### Ejercicio 7: Validación de Número Primo\n",
    "Escribe una función que verifique si un número ingresado es primo utilizando el módulo math."
   ]
  },
  {
   "cell_type": "code",
   "execution_count": null,
   "id": "4839dbf9",
   "metadata": {},
   "outputs": [],
   "source": []
  },
  {
   "cell_type": "markdown",
   "id": "85e2a7d7",
   "metadata": {},
   "source": [
    "### Ejercicio 8: Obtener el Nombre de Archivos en un Directorio\n",
    "Escribe una función que retorne una lista con los nombres de los archivos en un directorio específico utilizando el módulo os."
   ]
  },
  {
   "cell_type": "code",
   "execution_count": null,
   "id": "de2d50f1",
   "metadata": {},
   "outputs": [],
   "source": []
  },
  {
   "cell_type": "markdown",
   "id": "d858d0a6",
   "metadata": {},
   "source": [
    "### Ejercicio 9: Generador de Números Aleatorios en un Rango\n",
    "Escribe una función que genere una lista de números enteros aleatorios en un rango especificado utilizando el módulo random."
   ]
  },
  {
   "cell_type": "code",
   "execution_count": null,
   "id": "ca2a6d39",
   "metadata": {},
   "outputs": [],
   "source": []
  },
  {
   "cell_type": "markdown",
   "id": "a58f9e22",
   "metadata": {},
   "source": [
    "### Ejercicio 10: Contar Ocurrencias en una Lista\n",
    "Escribe una función que tome una lista y retorne un diccionario donde las claves sean los elementos de la lista y los valores sean la cantidad de veces que cada elemento aparece en la lista."
   ]
  },
  {
   "cell_type": "code",
   "execution_count": null,
   "id": "978e8aff",
   "metadata": {},
   "outputs": [],
   "source": []
  },
  {
   "cell_type": "markdown",
   "id": "7ba76226",
   "metadata": {},
   "source": [
    "### Ejercicio 11: Conversión de Temperatura\n",
    "Escribe una función que convierta una temperatura dada en grados Celsius a grados Fahrenheit y viceversa."
   ]
  },
  {
   "cell_type": "code",
   "execution_count": null,
   "id": "a8adafc2",
   "metadata": {},
   "outputs": [],
   "source": []
  },
  {
   "cell_type": "markdown",
   "id": "002c64cd",
   "metadata": {},
   "source": [
    "### Ejercicio 12: Ordenar Lista de Diccionarios\n",
    "Escribe una función que tome una lista de diccionarios y los ordene en función de un campo específico de cada diccionario."
   ]
  },
  {
   "cell_type": "code",
   "execution_count": null,
   "id": "67f8351b",
   "metadata": {},
   "outputs": [],
   "source": []
  }
 ],
 "metadata": {
  "kernelspec": {
   "display_name": "Python 3 (ipykernel)",
   "language": "python",
   "name": "python3"
  },
  "language_info": {
   "codemirror_mode": {
    "name": "ipython",
    "version": 3
   },
   "file_extension": ".py",
   "mimetype": "text/x-python",
   "name": "python",
   "nbconvert_exporter": "python",
   "pygments_lexer": "ipython3",
   "version": "3.11.3"
  }
 },
 "nbformat": 4,
 "nbformat_minor": 5
}
