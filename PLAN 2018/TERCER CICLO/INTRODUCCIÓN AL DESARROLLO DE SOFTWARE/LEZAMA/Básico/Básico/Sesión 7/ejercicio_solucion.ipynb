{
 "cells": [
  {
   "cell_type": "markdown",
   "metadata": {
    "id": "LPYG850vM4LR"
   },
   "source": [
    "# Ejercicio I: base de Colegios de Bogotá."
   ]
  },
  {
   "cell_type": "code",
   "execution_count": 4,
   "metadata": {
    "id": "rAD3x2WMMvK9"
   },
   "outputs": [],
   "source": [
    "import pandas as pd\n",
    "import numpy as np"
   ]
  },
  {
   "cell_type": "code",
   "execution_count": 5,
   "metadata": {
    "id": "e-GeDWXsMvK9"
   },
   "outputs": [],
   "source": [
    "df_colegios = pd.read_csv('df_colegios')"
   ]
  },
  {
   "cell_type": "markdown",
   "metadata": {
    "id": "zMKPtDY-MvK9"
   },
   "source": [
    "¿Cuáles son las columnas? ¿Cuántas filas tiene?"
   ]
  },
  {
   "cell_type": "code",
   "execution_count": 6,
   "metadata": {
    "id": "faYJWCXgMvK-",
    "outputId": "bf647f3f-4b04-4a7a-efed-1de43a6361d4"
   },
   "outputs": [
    {
     "data": {
      "text/plain": [
       "Index(['Unnamed: 0', 'año', 'secretaria', 'nombreestablecimiento', 'zona',\n",
       "       'direccion', 'telefono', 'nombre_Rector', 'tipo_Establecimiento',\n",
       "       'etnias', 'sector', 'genero', 'niveles', 'jornadas', 'caracter',\n",
       "       'especialidad', 'grados', 'modelos_Educativos',\n",
       "       'capacidades_Excepcionales', 'discapacidades', 'idiomas',\n",
       "       'numero_de_Sedes', 'estado', 'prestador_de_Servicio',\n",
       "       'propiedad_Planta_Fisica', 'resguardo', 'matricula_Contratada',\n",
       "       'calendario', 'internado', 'estrato_Socio_Economico',\n",
       "       'correo_Electronico'],\n",
       "      dtype='object')"
      ]
     },
     "execution_count": 6,
     "metadata": {},
     "output_type": "execute_result"
    }
   ],
   "source": [
    "df_colegios.columns"
   ]
  },
  {
   "cell_type": "code",
   "execution_count": 7,
   "metadata": {
    "id": "zv_ovulcMvK-",
    "outputId": "431e168d-87b5-41e6-8df8-8ea10b5d0988"
   },
   "outputs": [
    {
     "data": {
      "text/plain": [
       "(2404, 31)"
      ]
     },
     "execution_count": 7,
     "metadata": {},
     "output_type": "execute_result"
    }
   ],
   "source": [
    "df_colegios.shape"
   ]
  },
  {
   "cell_type": "markdown",
   "metadata": {
    "id": "W13iqV9JMvK-"
   },
   "source": [
    "Seleccionen los colegios donde la propiedad de la planta física sea de una persona natural o comunidad religiosa."
   ]
  },
  {
   "cell_type": "code",
   "execution_count": 8,
   "metadata": {
    "id": "bGh-vaXiMvK-"
   },
   "outputs": [],
   "source": [
    "df_selec=df_colegios[(df_colegios[\"propiedad_Planta_Fisica\"]==\"PERSONA NATURAL\")|(df_colegios[\"propiedad_Planta_Fisica\"]==\"COMUNIDAD RELIGIOSA\")]"
   ]
  },
  {
   "cell_type": "markdown",
   "metadata": {
    "id": "ZguyMl06MvK-"
   },
   "source": [
    "¿Hay alguno de estos colegios que sea para capacidades excepcionales?"
   ]
  },
  {
   "cell_type": "code",
   "execution_count": 9,
   "metadata": {
    "id": "mXJ72yJeMvK-",
    "outputId": "5f5a5200-a6ab-4cc3-eba5-fc157a016e05"
   },
   "outputs": [
    {
     "data": {
      "text/html": [
       "<div>\n",
       "<style scoped>\n",
       "    .dataframe tbody tr th:only-of-type {\n",
       "        vertical-align: middle;\n",
       "    }\n",
       "\n",
       "    .dataframe tbody tr th {\n",
       "        vertical-align: top;\n",
       "    }\n",
       "\n",
       "    .dataframe thead th {\n",
       "        text-align: right;\n",
       "    }\n",
       "</style>\n",
       "<table border=\"1\" class=\"dataframe\">\n",
       "  <thead>\n",
       "    <tr style=\"text-align: right;\">\n",
       "      <th></th>\n",
       "      <th>Unnamed: 0</th>\n",
       "      <th>año</th>\n",
       "      <th>secretaria</th>\n",
       "      <th>nombreestablecimiento</th>\n",
       "      <th>zona</th>\n",
       "      <th>direccion</th>\n",
       "      <th>telefono</th>\n",
       "      <th>nombre_Rector</th>\n",
       "      <th>tipo_Establecimiento</th>\n",
       "      <th>etnias</th>\n",
       "      <th>...</th>\n",
       "      <th>numero_de_Sedes</th>\n",
       "      <th>estado</th>\n",
       "      <th>prestador_de_Servicio</th>\n",
       "      <th>propiedad_Planta_Fisica</th>\n",
       "      <th>resguardo</th>\n",
       "      <th>matricula_Contratada</th>\n",
       "      <th>calendario</th>\n",
       "      <th>internado</th>\n",
       "      <th>estrato_Socio_Economico</th>\n",
       "      <th>correo_Electronico</th>\n",
       "    </tr>\n",
       "  </thead>\n",
       "  <tbody>\n",
       "    <tr>\n",
       "      <th>263</th>\n",
       "      <td>263</td>\n",
       "      <td>2016</td>\n",
       "      <td>BOGOTA</td>\n",
       "      <td>COL CAMPESTRE MAXIMINO POITIERS               ...</td>\n",
       "      <td>URBANA</td>\n",
       "      <td>KR 92 148 51</td>\n",
       "      <td>6835013 / 6841539                             ...</td>\n",
       "      <td>KILIAN ALEXANDER ARENAS SANABRIA</td>\n",
       "      <td>INSTITUCION EDUCATIVA</td>\n",
       "      <td>AMORÚA</td>\n",
       "      <td>...</td>\n",
       "      <td>1</td>\n",
       "      <td>NaN</td>\n",
       "      <td>PERSONA NATURAL</td>\n",
       "      <td>PERSONA NATURAL</td>\n",
       "      <td>NO APLICA</td>\n",
       "      <td>NO</td>\n",
       "      <td>A</td>\n",
       "      <td>NaN</td>\n",
       "      <td>NaN</td>\n",
       "      <td>kilanarenas@hotmail.com                       ...</td>\n",
       "    </tr>\n",
       "    <tr>\n",
       "      <th>507</th>\n",
       "      <td>507</td>\n",
       "      <td>2016</td>\n",
       "      <td>BOGOTA</td>\n",
       "      <td>LIC VAL (VIDA-AMOR-LUZ)                       ...</td>\n",
       "      <td>URBANA</td>\n",
       "      <td>CL 71 C 51 31</td>\n",
       "      <td>2251109 -- 2401331 -- 2502167</td>\n",
       "      <td>LUZ ESPERANZA MORALES SARMIENTO</td>\n",
       "      <td>INSTITUCION EDUCATIVA</td>\n",
       "      <td>NaN</td>\n",
       "      <td>...</td>\n",
       "      <td>1</td>\n",
       "      <td>NaN</td>\n",
       "      <td>PERSONA NATURAL</td>\n",
       "      <td>PERSONA NATURAL</td>\n",
       "      <td>NO APLICA</td>\n",
       "      <td>NO</td>\n",
       "      <td>A</td>\n",
       "      <td>NaN</td>\n",
       "      <td>NaN</td>\n",
       "      <td>liceo.vida.amor.luz.2@gmail.com</td>\n",
       "    </tr>\n",
       "    <tr>\n",
       "      <th>1012</th>\n",
       "      <td>1012</td>\n",
       "      <td>2016</td>\n",
       "      <td>BOGOTA</td>\n",
       "      <td>LIC ECOLOGICO DEL NORTE                       ...</td>\n",
       "      <td>URBANA</td>\n",
       "      <td>CR. 98A NO.156D-26</td>\n",
       "      <td>6822591 / 6839957                             ...</td>\n",
       "      <td>JULIA ALICIA PELAEZ CASTILLO</td>\n",
       "      <td>INSTITUCION EDUCATIVA</td>\n",
       "      <td>NaN</td>\n",
       "      <td>...</td>\n",
       "      <td>1</td>\n",
       "      <td>NaN</td>\n",
       "      <td>PERSONA NATURAL</td>\n",
       "      <td>PERSONA NATURAL</td>\n",
       "      <td>NO APLICA</td>\n",
       "      <td>NO</td>\n",
       "      <td>A</td>\n",
       "      <td>NaN</td>\n",
       "      <td>NaN</td>\n",
       "      <td>semillasverdes@hotmail.com                    ...</td>\n",
       "    </tr>\n",
       "    <tr>\n",
       "      <th>1367</th>\n",
       "      <td>1367</td>\n",
       "      <td>2016</td>\n",
       "      <td>BOGOTA</td>\n",
       "      <td>GIMNASIO CAMPESTRE STEPHEN HAWKING</td>\n",
       "      <td>URBANA</td>\n",
       "      <td>KR 68 173 A 50</td>\n",
       "      <td>6718575 -- 3005581260</td>\n",
       "      <td>DORA ASTRID PARDO AVILA</td>\n",
       "      <td>INSTITUCION EDUCATIVA</td>\n",
       "      <td>NaN</td>\n",
       "      <td>...</td>\n",
       "      <td>1</td>\n",
       "      <td>NaN</td>\n",
       "      <td>PERSONA NATURAL</td>\n",
       "      <td>PERSONA NATURAL</td>\n",
       "      <td>NO APLICA</td>\n",
       "      <td>SI</td>\n",
       "      <td>A</td>\n",
       "      <td>NaN</td>\n",
       "      <td>NaN</td>\n",
       "      <td>gcstephenhawking@gmail.com</td>\n",
       "    </tr>\n",
       "    <tr>\n",
       "      <th>1964</th>\n",
       "      <td>1964</td>\n",
       "      <td>2016</td>\n",
       "      <td>BOGOTA</td>\n",
       "      <td>COL JONATHAN SWIFT                            ...</td>\n",
       "      <td>URBANA</td>\n",
       "      <td>KR 90 163 30</td>\n",
       "      <td>6818191</td>\n",
       "      <td>DIANA J.  MARQUEZ S.</td>\n",
       "      <td>INSTITUCION EDUCATIVA</td>\n",
       "      <td>NaN</td>\n",
       "      <td>...</td>\n",
       "      <td>1</td>\n",
       "      <td>NaN</td>\n",
       "      <td>PERSONA NATURAL</td>\n",
       "      <td>PERSONA NATURAL</td>\n",
       "      <td>NO APLICA</td>\n",
       "      <td>NO</td>\n",
       "      <td>A</td>\n",
       "      <td>NaN</td>\n",
       "      <td>NaN</td>\n",
       "      <td>COLEGIOJONTHANSWIFT@YAHOO.COM.CO              ...</td>\n",
       "    </tr>\n",
       "    <tr>\n",
       "      <th>2282</th>\n",
       "      <td>2282</td>\n",
       "      <td>2016</td>\n",
       "      <td>BOGOTA</td>\n",
       "      <td>COL CALATRAVA</td>\n",
       "      <td>URBANA</td>\n",
       "      <td>KR 80 156 95</td>\n",
       "      <td>6847860</td>\n",
       "      <td>CONSUELO VALDERRAMA MORALES</td>\n",
       "      <td>INSTITUCION EDUCATIVA</td>\n",
       "      <td>NaN</td>\n",
       "      <td>...</td>\n",
       "      <td>1</td>\n",
       "      <td>NaN</td>\n",
       "      <td>PERSONA NATURAL</td>\n",
       "      <td>PERSONA NATURAL</td>\n",
       "      <td>NO APLICA</td>\n",
       "      <td>NO</td>\n",
       "      <td>B</td>\n",
       "      <td>NaN</td>\n",
       "      <td>NaN</td>\n",
       "      <td>info@colegiocalatrava.edu.co - rectoria@colegi...</td>\n",
       "    </tr>\n",
       "    <tr>\n",
       "      <th>2341</th>\n",
       "      <td>2341</td>\n",
       "      <td>2016</td>\n",
       "      <td>BOGOTA</td>\n",
       "      <td>INST DE PEDAG AUTOACTIVA DE GRUPOS (IPAG)     ...</td>\n",
       "      <td>URBANA</td>\n",
       "      <td>KR 8 C 183 32</td>\n",
       "      <td>6711029 -- 6701198</td>\n",
       "      <td>CARMEN TULIA CORDOBA ACOSTA</td>\n",
       "      <td>INSTITUCION EDUCATIVA</td>\n",
       "      <td>NaN</td>\n",
       "      <td>...</td>\n",
       "      <td>1</td>\n",
       "      <td>NaN</td>\n",
       "      <td>PERSONA NATURAL</td>\n",
       "      <td>PERSONA NATURAL</td>\n",
       "      <td>NO APLICA</td>\n",
       "      <td>NO</td>\n",
       "      <td>A</td>\n",
       "      <td>NaN</td>\n",
       "      <td>NaN</td>\n",
       "      <td>colegioipag@gmail.com</td>\n",
       "    </tr>\n",
       "  </tbody>\n",
       "</table>\n",
       "<p>7 rows × 31 columns</p>\n",
       "</div>"
      ],
      "text/plain": [
       "      Unnamed: 0   año secretaria  \\\n",
       "263          263  2016     BOGOTA   \n",
       "507          507  2016     BOGOTA   \n",
       "1012        1012  2016     BOGOTA   \n",
       "1367        1367  2016     BOGOTA   \n",
       "1964        1964  2016     BOGOTA   \n",
       "2282        2282  2016     BOGOTA   \n",
       "2341        2341  2016     BOGOTA   \n",
       "\n",
       "                                  nombreestablecimiento    zona  \\\n",
       "263   COL CAMPESTRE MAXIMINO POITIERS               ...  URBANA   \n",
       "507   LIC VAL (VIDA-AMOR-LUZ)                       ...  URBANA   \n",
       "1012  LIC ECOLOGICO DEL NORTE                       ...  URBANA   \n",
       "1367                 GIMNASIO CAMPESTRE STEPHEN HAWKING  URBANA   \n",
       "1964  COL JONATHAN SWIFT                            ...  URBANA   \n",
       "2282                                      COL CALATRAVA  URBANA   \n",
       "2341  INST DE PEDAG AUTOACTIVA DE GRUPOS (IPAG)     ...  URBANA   \n",
       "\n",
       "               direccion                                           telefono  \\\n",
       "263         KR 92 148 51  6835013 / 6841539                             ...   \n",
       "507        CL 71 C 51 31                      2251109 -- 2401331 -- 2502167   \n",
       "1012  CR. 98A NO.156D-26  6822591 / 6839957                             ...   \n",
       "1367      KR 68 173 A 50                              6718575 -- 3005581260   \n",
       "1964        KR 90 163 30                                            6818191   \n",
       "2282        KR 80 156 95                                            6847860   \n",
       "2341       KR 8 C 183 32                                 6711029 -- 6701198   \n",
       "\n",
       "                         nombre_Rector   tipo_Establecimiento  etnias  ...  \\\n",
       "263   KILIAN ALEXANDER ARENAS SANABRIA  INSTITUCION EDUCATIVA  AMORÚA  ...   \n",
       "507    LUZ ESPERANZA MORALES SARMIENTO  INSTITUCION EDUCATIVA     NaN  ...   \n",
       "1012      JULIA ALICIA PELAEZ CASTILLO  INSTITUCION EDUCATIVA     NaN  ...   \n",
       "1367           DORA ASTRID PARDO AVILA  INSTITUCION EDUCATIVA     NaN  ...   \n",
       "1964              DIANA J.  MARQUEZ S.  INSTITUCION EDUCATIVA     NaN  ...   \n",
       "2282       CONSUELO VALDERRAMA MORALES  INSTITUCION EDUCATIVA     NaN  ...   \n",
       "2341       CARMEN TULIA CORDOBA ACOSTA  INSTITUCION EDUCATIVA     NaN  ...   \n",
       "\n",
       "      numero_de_Sedes  estado prestador_de_Servicio propiedad_Planta_Fisica  \\\n",
       "263                 1     NaN       PERSONA NATURAL         PERSONA NATURAL   \n",
       "507                 1     NaN       PERSONA NATURAL         PERSONA NATURAL   \n",
       "1012                1     NaN       PERSONA NATURAL         PERSONA NATURAL   \n",
       "1367                1     NaN       PERSONA NATURAL         PERSONA NATURAL   \n",
       "1964                1     NaN       PERSONA NATURAL         PERSONA NATURAL   \n",
       "2282                1     NaN       PERSONA NATURAL         PERSONA NATURAL   \n",
       "2341                1     NaN       PERSONA NATURAL         PERSONA NATURAL   \n",
       "\n",
       "      resguardo matricula_Contratada calendario internado  \\\n",
       "263   NO APLICA                   NO          A       NaN   \n",
       "507   NO APLICA                   NO          A       NaN   \n",
       "1012  NO APLICA                   NO          A       NaN   \n",
       "1367  NO APLICA                   SI          A       NaN   \n",
       "1964  NO APLICA                   NO          A       NaN   \n",
       "2282  NO APLICA                   NO          B       NaN   \n",
       "2341  NO APLICA                   NO          A       NaN   \n",
       "\n",
       "     estrato_Socio_Economico  \\\n",
       "263                      NaN   \n",
       "507                      NaN   \n",
       "1012                     NaN   \n",
       "1367                     NaN   \n",
       "1964                     NaN   \n",
       "2282                     NaN   \n",
       "2341                     NaN   \n",
       "\n",
       "                                     correo_Electronico  \n",
       "263   kilanarenas@hotmail.com                       ...  \n",
       "507                     liceo.vida.amor.luz.2@gmail.com  \n",
       "1012  semillasverdes@hotmail.com                    ...  \n",
       "1367                         gcstephenhawking@gmail.com  \n",
       "1964  COLEGIOJONTHANSWIFT@YAHOO.COM.CO              ...  \n",
       "2282  info@colegiocalatrava.edu.co - rectoria@colegi...  \n",
       "2341                              colegioipag@gmail.com  \n",
       "\n",
       "[7 rows x 31 columns]"
      ]
     },
     "execution_count": 9,
     "metadata": {},
     "output_type": "execute_result"
    }
   ],
   "source": [
    "df_selec[df_selec[\"capacidades_Excepcionales\"].notna()]"
   ]
  },
  {
   "cell_type": "markdown",
   "metadata": {
    "id": "hv6j47_pMvK_"
   },
   "source": [
    "¿Cuáles son los colegios que ofrecen todos los niveles educativos? ¿Qué idiomas ofrecen?"
   ]
  },
  {
   "cell_type": "markdown",
   "metadata": {
    "id": "nEPohKg0MvK_"
   },
   "source": [
    "# Ejercicio II: PyEPH"
   ]
  },
  {
   "cell_type": "markdown",
   "metadata": {
    "id": "2agC2cqgMvK_"
   },
   "source": [
    "### PyEPH"
   ]
  },
  {
   "cell_type": "markdown",
   "metadata": {
    "id": "9gSIo2ClMvK_"
   },
   "source": [
    "La librería Pyeph tiene como objetivo facilitar el procesamiento en Python de las Encuesta Permanente de Hogares (eph) publicadas por INDEC de forma periódica. Está pensada como un espacio donde se nuclean y centralizan los cálculos vinculados a las mismas para posteriormente ser utilizadas en investigaciones, artículos, publicaciones, etc. Es una librería que hace principal hincapié en la transparencia metodológica utilizando licencias de código abierto y que promueve la colaboración de las comunidades de cientístas de datos, sociales, investigadorxs, desarrolladorxs, periodistas y demás curiosxs.\n",
    "\n",
    "https://github.com/institutohumai/pyeph"
   ]
  },
  {
   "cell_type": "markdown",
   "metadata": {
    "id": "k_BSKhk9MvK_"
   },
   "source": [
    "Para entender qué representan las columnas ver documentación:\n",
    "\n",
    "\n",
    "https://www.indec.gob.ar/ftp/cuadros/menusuperior/eph/EPH_diseno_reg_t414.pdf"
   ]
  },
  {
   "cell_type": "code",
   "execution_count": 10,
   "metadata": {
    "id": "iCFePuybMvK_",
    "outputId": "087704ad-f58d-4eba-ca7a-643cd9e2d2dc"
   },
   "outputs": [
    {
     "name": "stdout",
     "output_type": "stream",
     "text": [
      "Collecting pyeph\n",
      "  Downloading pyeph-1.2.0-py3-none-any.whl (64 kB)\n",
      "     ---------------------------------------- 0.0/64.5 kB ? eta -:--:--\n",
      "     ---------------------------------------- 64.5/64.5 kB 3.4 MB/s eta 0:00:00\n",
      "Requirement already satisfied: ipykernel<7.0.0,>=6.13.0 in c:\\users\\lenovo\\appdata\\local\\programs\\python\\python311\\lib\\site-packages (from pyeph) (6.23.1)\n",
      "Requirement already satisfied: openpyxl<4.0.0,>=3.0.10 in c:\\users\\lenovo\\appdata\\local\\programs\\python\\python311\\lib\\site-packages (from pyeph) (3.1.2)\n",
      "Requirement already satisfied: pandas<2.0.0,>=1.1.5 in c:\\users\\lenovo\\appdata\\local\\programs\\python\\python311\\lib\\site-packages (from pyeph) (1.5.3)\n",
      "Collecting wget<4.0,>=3.2 (from pyeph)\n",
      "  Downloading wget-3.2.zip (10 kB)\n",
      "  Preparing metadata (setup.py): started\n",
      "  Preparing metadata (setup.py): finished with status 'done'\n",
      "Collecting xlrd<3.0.0,>=2.0.1 (from pyeph)\n",
      "  Downloading xlrd-2.0.1-py2.py3-none-any.whl (96 kB)\n",
      "     ---------------------------------------- 0.0/96.5 kB ? eta -:--:--\n",
      "     ---------------------------------------- 96.5/96.5 kB 5.4 MB/s eta 0:00:00\n",
      "Requirement already satisfied: comm>=0.1.1 in c:\\users\\lenovo\\appdata\\local\\programs\\python\\python311\\lib\\site-packages (from ipykernel<7.0.0,>=6.13.0->pyeph) (0.1.3)\n",
      "Requirement already satisfied: debugpy>=1.6.5 in c:\\users\\lenovo\\appdata\\local\\programs\\python\\python311\\lib\\site-packages (from ipykernel<7.0.0,>=6.13.0->pyeph) (1.6.7)\n",
      "Requirement already satisfied: ipython>=7.23.1 in c:\\users\\lenovo\\appdata\\local\\programs\\python\\python311\\lib\\site-packages (from ipykernel<7.0.0,>=6.13.0->pyeph) (8.13.2)\n",
      "Requirement already satisfied: jupyter-client>=6.1.12 in c:\\users\\lenovo\\appdata\\local\\programs\\python\\python311\\lib\\site-packages (from ipykernel<7.0.0,>=6.13.0->pyeph) (8.2.0)\n",
      "Requirement already satisfied: jupyter-core!=5.0.*,>=4.12 in c:\\users\\lenovo\\appdata\\local\\programs\\python\\python311\\lib\\site-packages (from ipykernel<7.0.0,>=6.13.0->pyeph) (5.3.0)\n",
      "Requirement already satisfied: matplotlib-inline>=0.1 in c:\\users\\lenovo\\appdata\\local\\programs\\python\\python311\\lib\\site-packages (from ipykernel<7.0.0,>=6.13.0->pyeph) (0.1.6)\n",
      "Requirement already satisfied: nest-asyncio in c:\\users\\lenovo\\appdata\\local\\programs\\python\\python311\\lib\\site-packages (from ipykernel<7.0.0,>=6.13.0->pyeph) (1.5.6)\n",
      "Requirement already satisfied: packaging in c:\\users\\lenovo\\appdata\\local\\programs\\python\\python311\\lib\\site-packages (from ipykernel<7.0.0,>=6.13.0->pyeph) (23.1)\n",
      "Requirement already satisfied: psutil in c:\\users\\lenovo\\appdata\\local\\programs\\python\\python311\\lib\\site-packages (from ipykernel<7.0.0,>=6.13.0->pyeph) (5.9.5)\n",
      "Requirement already satisfied: pyzmq>=20 in c:\\users\\lenovo\\appdata\\local\\programs\\python\\python311\\lib\\site-packages (from ipykernel<7.0.0,>=6.13.0->pyeph) (25.0.2)\n",
      "Requirement already satisfied: tornado>=6.1 in c:\\users\\lenovo\\appdata\\local\\programs\\python\\python311\\lib\\site-packages (from ipykernel<7.0.0,>=6.13.0->pyeph) (6.3.2)\n",
      "Requirement already satisfied: traitlets>=5.4.0 in c:\\users\\lenovo\\appdata\\local\\programs\\python\\python311\\lib\\site-packages (from ipykernel<7.0.0,>=6.13.0->pyeph) (5.9.0)\n",
      "Requirement already satisfied: et-xmlfile in c:\\users\\lenovo\\appdata\\local\\programs\\python\\python311\\lib\\site-packages (from openpyxl<4.0.0,>=3.0.10->pyeph) (1.1.0)\n",
      "Requirement already satisfied: python-dateutil>=2.8.1 in c:\\users\\lenovo\\appdata\\local\\programs\\python\\python311\\lib\\site-packages (from pandas<2.0.0,>=1.1.5->pyeph) (2.8.2)\n",
      "Requirement already satisfied: pytz>=2020.1 in c:\\users\\lenovo\\appdata\\local\\programs\\python\\python311\\lib\\site-packages (from pandas<2.0.0,>=1.1.5->pyeph) (2023.3)\n",
      "Requirement already satisfied: numpy>=1.21.0 in c:\\users\\lenovo\\appdata\\local\\programs\\python\\python311\\lib\\site-packages (from pandas<2.0.0,>=1.1.5->pyeph) (1.23.5)\n",
      "Requirement already satisfied: backcall in c:\\users\\lenovo\\appdata\\local\\programs\\python\\python311\\lib\\site-packages (from ipython>=7.23.1->ipykernel<7.0.0,>=6.13.0->pyeph) (0.2.0)\n",
      "Requirement already satisfied: decorator in c:\\users\\lenovo\\appdata\\local\\programs\\python\\python311\\lib\\site-packages (from ipython>=7.23.1->ipykernel<7.0.0,>=6.13.0->pyeph) (5.1.1)\n",
      "Requirement already satisfied: jedi>=0.16 in c:\\users\\lenovo\\appdata\\local\\programs\\python\\python311\\lib\\site-packages (from ipython>=7.23.1->ipykernel<7.0.0,>=6.13.0->pyeph) (0.18.2)\n",
      "Requirement already satisfied: pickleshare in c:\\users\\lenovo\\appdata\\local\\programs\\python\\python311\\lib\\site-packages (from ipython>=7.23.1->ipykernel<7.0.0,>=6.13.0->pyeph) (0.7.5)\n",
      "Requirement already satisfied: prompt-toolkit!=3.0.37,<3.1.0,>=3.0.30 in c:\\users\\lenovo\\appdata\\local\\programs\\python\\python311\\lib\\site-packages (from ipython>=7.23.1->ipykernel<7.0.0,>=6.13.0->pyeph) (3.0.38)\n",
      "Requirement already satisfied: pygments>=2.4.0 in c:\\users\\lenovo\\appdata\\local\\programs\\python\\python311\\lib\\site-packages (from ipython>=7.23.1->ipykernel<7.0.0,>=6.13.0->pyeph) (2.15.1)\n",
      "Requirement already satisfied: stack-data in c:\\users\\lenovo\\appdata\\local\\programs\\python\\python311\\lib\\site-packages (from ipython>=7.23.1->ipykernel<7.0.0,>=6.13.0->pyeph) (0.6.2)\n",
      "Requirement already satisfied: colorama in c:\\users\\lenovo\\appdata\\local\\programs\\python\\python311\\lib\\site-packages (from ipython>=7.23.1->ipykernel<7.0.0,>=6.13.0->pyeph) (0.4.6)\n",
      "Requirement already satisfied: platformdirs>=2.5 in c:\\users\\lenovo\\appdata\\local\\programs\\python\\python311\\lib\\site-packages (from jupyter-core!=5.0.*,>=4.12->ipykernel<7.0.0,>=6.13.0->pyeph) (3.5.1)\n",
      "Requirement already satisfied: pywin32>=300 in c:\\users\\lenovo\\appdata\\local\\programs\\python\\python311\\lib\\site-packages (from jupyter-core!=5.0.*,>=4.12->ipykernel<7.0.0,>=6.13.0->pyeph) (306)\n",
      "Requirement already satisfied: six>=1.5 in c:\\users\\lenovo\\appdata\\local\\programs\\python\\python311\\lib\\site-packages (from python-dateutil>=2.8.1->pandas<2.0.0,>=1.1.5->pyeph) (1.16.0)\n",
      "Requirement already satisfied: parso<0.9.0,>=0.8.0 in c:\\users\\lenovo\\appdata\\local\\programs\\python\\python311\\lib\\site-packages (from jedi>=0.16->ipython>=7.23.1->ipykernel<7.0.0,>=6.13.0->pyeph) (0.8.3)\n",
      "Requirement already satisfied: wcwidth in c:\\users\\lenovo\\appdata\\local\\programs\\python\\python311\\lib\\site-packages (from prompt-toolkit!=3.0.37,<3.1.0,>=3.0.30->ipython>=7.23.1->ipykernel<7.0.0,>=6.13.0->pyeph) (0.2.6)\n",
      "Requirement already satisfied: executing>=1.2.0 in c:\\users\\lenovo\\appdata\\local\\programs\\python\\python311\\lib\\site-packages (from stack-data->ipython>=7.23.1->ipykernel<7.0.0,>=6.13.0->pyeph) (1.2.0)\n",
      "Requirement already satisfied: asttokens>=2.1.0 in c:\\users\\lenovo\\appdata\\local\\programs\\python\\python311\\lib\\site-packages (from stack-data->ipython>=7.23.1->ipykernel<7.0.0,>=6.13.0->pyeph) (2.2.1)\n",
      "Requirement already satisfied: pure-eval in c:\\users\\lenovo\\appdata\\local\\programs\\python\\python311\\lib\\site-packages (from stack-data->ipython>=7.23.1->ipykernel<7.0.0,>=6.13.0->pyeph) (0.2.2)\n",
      "Building wheels for collected packages: wget\n",
      "  Building wheel for wget (setup.py): started\n",
      "  Building wheel for wget (setup.py): finished with status 'done'\n",
      "  Created wheel for wget: filename=wget-3.2-py3-none-any.whl size=9681 sha256=283ef9f0e04770e967af8d98a85c520195355bf58704ef861c01f05cbfaed8b5\n",
      "  Stored in directory: c:\\users\\lenovo\\appdata\\local\\pip\\cache\\wheels\\40\\b3\\0f\\a40dbd1c6861731779f62cc4babcb234387e11d697df70ee97\n",
      "Successfully built wget\n",
      "Installing collected packages: wget, xlrd, pyeph\n",
      "Successfully installed pyeph-1.2.0 wget-3.2 xlrd-2.0.1\n",
      "Note: you may need to restart the kernel to use updated packages.\n"
     ]
    }
   ],
   "source": [
    "# Instalamos la librería.\n",
    "\n",
    "%pip install pyeph"
   ]
  },
  {
   "cell_type": "code",
   "execution_count": 11,
   "metadata": {
    "id": "LI37cJnaMvK_"
   },
   "outputs": [],
   "source": [
    "import pyeph"
   ]
  },
  {
   "cell_type": "code",
   "execution_count": 12,
   "metadata": {
    "id": "sZ2bdBMrMvK_",
    "outputId": "7446440b-ffc7-4b95-80c3-f35f94ebc090"
   },
   "outputs": [
    {
     "name": "stdout",
     "output_type": "stream",
     "text": [
      "\n",
      "Obtenido con exito: base_individual_2021T2.zip \n"
     ]
    }
   ],
   "source": [
    "# Ejemplo: traemos el 2do trimestre del 2021\n",
    "eph = pyeph.get(data=\"eph\", year=2021, period=2, base_type='individual') # EPH individual"
   ]
  },
  {
   "cell_type": "code",
   "execution_count": 13,
   "metadata": {
    "id": "gd6AJ6DvMvK_",
    "outputId": "c7e1778d-5d3c-47f7-8261-236af9f21fdd"
   },
   "outputs": [
    {
     "data": {
      "text/plain": [
       "Index(['CODUSU', 'ANO4', 'TRIMESTRE', 'NRO_HOGAR', 'COMPONENTE', 'H15',\n",
       "       'REGION', 'MAS_500', 'AGLOMERADO', 'PONDERA',\n",
       "       ...\n",
       "       'PDECIFR', 'ADECIFR', 'IPCF', 'DECCFR', 'IDECCFR', 'RDECCFR', 'GDECCFR',\n",
       "       'PDECCFR', 'ADECCFR', 'PONDIH'],\n",
       "      dtype='object', length=177)"
      ]
     },
     "execution_count": 13,
     "metadata": {},
     "output_type": "execute_result"
    }
   ],
   "source": [
    "eph.columns"
   ]
  },
  {
   "cell_type": "markdown",
   "metadata": {
    "id": "bcD-tpowMvK_"
   },
   "source": [
    "Levantar la última base individual de EPH \n",
    "\n",
    "Crear una variable llamada Variables que contenga los nombres de las siguientes variables de interés para realizar algunos ejercicios:\n",
    "\n",
    "Edad (CH_06), Sexo (CH_04), Ingreso de la ocupación principal (P21), Categoría ocupacional (CAT_OCUP), Condición de actividad (ESTADO), Ponderación (PONDERA)\n",
    "\n",
    "Calcular las tasas de actividad, empleo y desempleo según sexo, para jóvenes entre 18 y 35 años\n",
    "Calcular el salario promedio por sexo, para dos grupos de edad: 18 a 35 años y 36 a 70 años. (Recordatorio: La base debe filtrarse para contener únicamente OCUPADOS ASALARIADOS)\n",
    "Grabar los resultados en un excel\n",
    "\n",
    "Sexo\n",
    "    01 = Varón\n",
    "    02 = Mujer\n",
    "    \n",
    "Categoría ocupacional (para ocupados y desocupados con\n",
    "ocupación anterior)\n",
    "    1 = Patrón\n",
    "    2 = Cuenta propia\n",
    "    3 = Obrero o empleado\n",
    "    4 = Trabajador familiar sin remuneración\n",
    "    9 = Ns/Nr\n",
    "\n",
    "\n",
    "Estado Condición de actividad\n",
    "    0 = Entrevista individual no realizada (no respuesta al\n",
    "Cuestionario Individual)\n",
    "    1 = Ocupado\n",
    "    2 = Desocupado\n",
    "    3 = Inactivo\n",
    "    4 = Menor de 10 años"
   ]
  },
  {
   "cell_type": "code",
   "execution_count": 14,
   "metadata": {
    "id": "QZqi2Km0MvLA"
   },
   "outputs": [],
   "source": [
    "#Filtramos por columnas\n",
    "eph_2=eph[[\"CH06\", \"CH04\", \"P21\", \"CAT_OCUP\", \"ESTADO\", \"PONDERA\"]]"
   ]
  },
  {
   "cell_type": "code",
   "execution_count": 15,
   "metadata": {
    "id": "A7fkT2SCMvLA"
   },
   "outputs": [],
   "source": [
    "#Renombramos columnas\n",
    "eph_2.columns=[\"edad\", \"sexo\", \"ingreso\", \"cat_ocup\", \"estado\", \"pondera\"]"
   ]
  },
  {
   "cell_type": "markdown",
   "metadata": {
    "id": "JVlWfpBfMvLA"
   },
   "source": [
    "La columna \"pondera\" representa un estimado poblacional de las personas que representa cada fila. Por lo tanto, para cada cálculo es necesario operar con esa columna. Por ejemplo, la fila 0 representa a 214 personas de sexo masculino, que tienen $50.000 de ingreso de la ocupación principal, su categoría es cuentapropista y pertenecen al segmento de ocupados.   "
   ]
  },
  {
   "cell_type": "code",
   "execution_count": 16,
   "metadata": {
    "id": "9ioQSsZjMvLA",
    "outputId": "040cdaba-5638-4bcf-ae05-1c41aa235c74"
   },
   "outputs": [
    {
     "data": {
      "text/html": [
       "<div>\n",
       "<style scoped>\n",
       "    .dataframe tbody tr th:only-of-type {\n",
       "        vertical-align: middle;\n",
       "    }\n",
       "\n",
       "    .dataframe tbody tr th {\n",
       "        vertical-align: top;\n",
       "    }\n",
       "\n",
       "    .dataframe thead th {\n",
       "        text-align: right;\n",
       "    }\n",
       "</style>\n",
       "<table border=\"1\" class=\"dataframe\">\n",
       "  <thead>\n",
       "    <tr style=\"text-align: right;\">\n",
       "      <th></th>\n",
       "      <th>edad</th>\n",
       "      <th>sexo</th>\n",
       "      <th>ingreso</th>\n",
       "      <th>cat_ocup</th>\n",
       "      <th>estado</th>\n",
       "      <th>pondera</th>\n",
       "    </tr>\n",
       "  </thead>\n",
       "  <tbody>\n",
       "    <tr>\n",
       "      <th>0</th>\n",
       "      <td>58</td>\n",
       "      <td>1</td>\n",
       "      <td>50000</td>\n",
       "      <td>2</td>\n",
       "      <td>1</td>\n",
       "      <td>214</td>\n",
       "    </tr>\n",
       "    <tr>\n",
       "      <th>1</th>\n",
       "      <td>24</td>\n",
       "      <td>1</td>\n",
       "      <td>0</td>\n",
       "      <td>3</td>\n",
       "      <td>2</td>\n",
       "      <td>214</td>\n",
       "    </tr>\n",
       "    <tr>\n",
       "      <th>2</th>\n",
       "      <td>51</td>\n",
       "      <td>2</td>\n",
       "      <td>0</td>\n",
       "      <td>4</td>\n",
       "      <td>1</td>\n",
       "      <td>192</td>\n",
       "    </tr>\n",
       "    <tr>\n",
       "      <th>3</th>\n",
       "      <td>27</td>\n",
       "      <td>1</td>\n",
       "      <td>4000</td>\n",
       "      <td>2</td>\n",
       "      <td>1</td>\n",
       "      <td>192</td>\n",
       "    </tr>\n",
       "    <tr>\n",
       "      <th>4</th>\n",
       "      <td>18</td>\n",
       "      <td>1</td>\n",
       "      <td>0</td>\n",
       "      <td>0</td>\n",
       "      <td>3</td>\n",
       "      <td>192</td>\n",
       "    </tr>\n",
       "    <tr>\n",
       "      <th>...</th>\n",
       "      <td>...</td>\n",
       "      <td>...</td>\n",
       "      <td>...</td>\n",
       "      <td>...</td>\n",
       "      <td>...</td>\n",
       "      <td>...</td>\n",
       "    </tr>\n",
       "    <tr>\n",
       "      <th>47080</th>\n",
       "      <td>77</td>\n",
       "      <td>2</td>\n",
       "      <td>0</td>\n",
       "      <td>0</td>\n",
       "      <td>3</td>\n",
       "      <td>86</td>\n",
       "    </tr>\n",
       "    <tr>\n",
       "      <th>47081</th>\n",
       "      <td>57</td>\n",
       "      <td>1</td>\n",
       "      <td>-9</td>\n",
       "      <td>2</td>\n",
       "      <td>1</td>\n",
       "      <td>86</td>\n",
       "    </tr>\n",
       "    <tr>\n",
       "      <th>47082</th>\n",
       "      <td>73</td>\n",
       "      <td>2</td>\n",
       "      <td>0</td>\n",
       "      <td>0</td>\n",
       "      <td>3</td>\n",
       "      <td>230</td>\n",
       "    </tr>\n",
       "    <tr>\n",
       "      <th>47083</th>\n",
       "      <td>44</td>\n",
       "      <td>2</td>\n",
       "      <td>18000</td>\n",
       "      <td>3</td>\n",
       "      <td>1</td>\n",
       "      <td>230</td>\n",
       "    </tr>\n",
       "    <tr>\n",
       "      <th>47084</th>\n",
       "      <td>20</td>\n",
       "      <td>1</td>\n",
       "      <td>4000</td>\n",
       "      <td>2</td>\n",
       "      <td>1</td>\n",
       "      <td>230</td>\n",
       "    </tr>\n",
       "  </tbody>\n",
       "</table>\n",
       "<p>47085 rows × 6 columns</p>\n",
       "</div>"
      ],
      "text/plain": [
       "       edad  sexo  ingreso  cat_ocup  estado  pondera\n",
       "0        58     1    50000         2       1      214\n",
       "1        24     1        0         3       2      214\n",
       "2        51     2        0         4       1      192\n",
       "3        27     1     4000         2       1      192\n",
       "4        18     1        0         0       3      192\n",
       "...     ...   ...      ...       ...     ...      ...\n",
       "47080    77     2        0         0       3       86\n",
       "47081    57     1       -9         2       1       86\n",
       "47082    73     2        0         0       3      230\n",
       "47083    44     2    18000         3       1      230\n",
       "47084    20     1     4000         2       1      230\n",
       "\n",
       "[47085 rows x 6 columns]"
      ]
     },
     "execution_count": 16,
     "metadata": {},
     "output_type": "execute_result"
    }
   ],
   "source": [
    "eph_2"
   ]
  },
  {
   "cell_type": "code",
   "execution_count": 17,
   "metadata": {
    "id": "hEGuAz0CMvLA",
    "outputId": "d96dbfff-9710-401c-bc2e-dc049fd05b3a"
   },
   "outputs": [
    {
     "name": "stdout",
     "output_type": "stream",
     "text": [
      "14038615\n",
      "14833824\n"
     ]
    }
   ],
   "source": [
    "print(eph_2.query(\"sexo==1\")[\"pondera\"].sum())\n",
    "print(eph_2.query(\"sexo==2\")[\"pondera\"].sum())\n",
    "\n"
   ]
  },
  {
   "cell_type": "code",
   "execution_count": 18,
   "metadata": {
    "id": "rkLXlcbdMvLA",
    "outputId": "b43ba330-7eae-4f00-97f0-ba2e5214aca3"
   },
   "outputs": [
    {
     "name": "stdout",
     "output_type": "stream",
     "text": [
      "28872439\n"
     ]
    }
   ],
   "source": [
    "print(eph_2[\"pondera\"].sum())"
   ]
  },
  {
   "cell_type": "markdown",
   "metadata": {
    "id": "GeXu1j1bMvLA"
   },
   "source": [
    "a) Traer un dataframe que filtre solo a las personas que tengan 21 años o menos. "
   ]
  },
  {
   "cell_type": "code",
   "execution_count": 19,
   "metadata": {
    "id": "TrB0uDuUMvLA",
    "outputId": "4dd44ada-22e7-4bba-f4e6-3f9f1c221ea9"
   },
   "outputs": [
    {
     "data": {
      "text/html": [
       "<div>\n",
       "<style scoped>\n",
       "    .dataframe tbody tr th:only-of-type {\n",
       "        vertical-align: middle;\n",
       "    }\n",
       "\n",
       "    .dataframe tbody tr th {\n",
       "        vertical-align: top;\n",
       "    }\n",
       "\n",
       "    .dataframe thead th {\n",
       "        text-align: right;\n",
       "    }\n",
       "</style>\n",
       "<table border=\"1\" class=\"dataframe\">\n",
       "  <thead>\n",
       "    <tr style=\"text-align: right;\">\n",
       "      <th></th>\n",
       "      <th>edad</th>\n",
       "      <th>sexo</th>\n",
       "      <th>ingreso</th>\n",
       "      <th>cat_ocup</th>\n",
       "      <th>estado</th>\n",
       "      <th>pondera</th>\n",
       "    </tr>\n",
       "  </thead>\n",
       "  <tbody>\n",
       "    <tr>\n",
       "      <th>4</th>\n",
       "      <td>18</td>\n",
       "      <td>1</td>\n",
       "      <td>0</td>\n",
       "      <td>0</td>\n",
       "      <td>3</td>\n",
       "      <td>192</td>\n",
       "    </tr>\n",
       "    <tr>\n",
       "      <th>8</th>\n",
       "      <td>5</td>\n",
       "      <td>1</td>\n",
       "      <td>0</td>\n",
       "      <td>0</td>\n",
       "      <td>4</td>\n",
       "      <td>250</td>\n",
       "    </tr>\n",
       "    <tr>\n",
       "      <th>11</th>\n",
       "      <td>19</td>\n",
       "      <td>2</td>\n",
       "      <td>0</td>\n",
       "      <td>0</td>\n",
       "      <td>3</td>\n",
       "      <td>250</td>\n",
       "    </tr>\n",
       "    <tr>\n",
       "      <th>12</th>\n",
       "      <td>17</td>\n",
       "      <td>1</td>\n",
       "      <td>0</td>\n",
       "      <td>0</td>\n",
       "      <td>3</td>\n",
       "      <td>250</td>\n",
       "    </tr>\n",
       "    <tr>\n",
       "      <th>13</th>\n",
       "      <td>14</td>\n",
       "      <td>1</td>\n",
       "      <td>0</td>\n",
       "      <td>0</td>\n",
       "      <td>3</td>\n",
       "      <td>250</td>\n",
       "    </tr>\n",
       "    <tr>\n",
       "      <th>...</th>\n",
       "      <td>...</td>\n",
       "      <td>...</td>\n",
       "      <td>...</td>\n",
       "      <td>...</td>\n",
       "      <td>...</td>\n",
       "      <td>...</td>\n",
       "    </tr>\n",
       "    <tr>\n",
       "      <th>47070</th>\n",
       "      <td>15</td>\n",
       "      <td>2</td>\n",
       "      <td>0</td>\n",
       "      <td>0</td>\n",
       "      <td>3</td>\n",
       "      <td>46</td>\n",
       "    </tr>\n",
       "    <tr>\n",
       "      <th>47071</th>\n",
       "      <td>13</td>\n",
       "      <td>1</td>\n",
       "      <td>0</td>\n",
       "      <td>0</td>\n",
       "      <td>3</td>\n",
       "      <td>46</td>\n",
       "    </tr>\n",
       "    <tr>\n",
       "      <th>47074</th>\n",
       "      <td>8</td>\n",
       "      <td>1</td>\n",
       "      <td>0</td>\n",
       "      <td>0</td>\n",
       "      <td>4</td>\n",
       "      <td>49</td>\n",
       "    </tr>\n",
       "    <tr>\n",
       "      <th>47077</th>\n",
       "      <td>10</td>\n",
       "      <td>1</td>\n",
       "      <td>0</td>\n",
       "      <td>0</td>\n",
       "      <td>3</td>\n",
       "      <td>111</td>\n",
       "    </tr>\n",
       "    <tr>\n",
       "      <th>47084</th>\n",
       "      <td>20</td>\n",
       "      <td>1</td>\n",
       "      <td>4000</td>\n",
       "      <td>2</td>\n",
       "      <td>1</td>\n",
       "      <td>230</td>\n",
       "    </tr>\n",
       "  </tbody>\n",
       "</table>\n",
       "<p>15192 rows × 6 columns</p>\n",
       "</div>"
      ],
      "text/plain": [
       "       edad  sexo  ingreso  cat_ocup  estado  pondera\n",
       "4        18     1        0         0       3      192\n",
       "8         5     1        0         0       4      250\n",
       "11       19     2        0         0       3      250\n",
       "12       17     1        0         0       3      250\n",
       "13       14     1        0         0       3      250\n",
       "...     ...   ...      ...       ...     ...      ...\n",
       "47070    15     2        0         0       3       46\n",
       "47071    13     1        0         0       3       46\n",
       "47074     8     1        0         0       4       49\n",
       "47077    10     1        0         0       3      111\n",
       "47084    20     1     4000         2       1      230\n",
       "\n",
       "[15192 rows x 6 columns]"
      ]
     },
     "execution_count": 19,
     "metadata": {},
     "output_type": "execute_result"
    }
   ],
   "source": [
    "eph_2.query(\"edad<=21\")"
   ]
  },
  {
   "cell_type": "markdown",
   "metadata": {
    "id": "Ql5W8xHRMvLA"
   },
   "source": [
    "b) Traer un dataframe que filtre a las personas desocupadas de más de 40 años. "
   ]
  },
  {
   "cell_type": "code",
   "execution_count": 20,
   "metadata": {
    "id": "HHQ9_-H8MvLA",
    "outputId": "d578e304-ca61-4429-d3e0-4ba79f045e52"
   },
   "outputs": [
    {
     "data": {
      "text/html": [
       "<div>\n",
       "<style scoped>\n",
       "    .dataframe tbody tr th:only-of-type {\n",
       "        vertical-align: middle;\n",
       "    }\n",
       "\n",
       "    .dataframe tbody tr th {\n",
       "        vertical-align: top;\n",
       "    }\n",
       "\n",
       "    .dataframe thead th {\n",
       "        text-align: right;\n",
       "    }\n",
       "</style>\n",
       "<table border=\"1\" class=\"dataframe\">\n",
       "  <thead>\n",
       "    <tr style=\"text-align: right;\">\n",
       "      <th></th>\n",
       "      <th>edad</th>\n",
       "      <th>sexo</th>\n",
       "      <th>ingreso</th>\n",
       "      <th>cat_ocup</th>\n",
       "      <th>estado</th>\n",
       "      <th>pondera</th>\n",
       "    </tr>\n",
       "  </thead>\n",
       "  <tbody>\n",
       "    <tr>\n",
       "      <th>0</th>\n",
       "      <td>58</td>\n",
       "      <td>1</td>\n",
       "      <td>50000</td>\n",
       "      <td>2</td>\n",
       "      <td>1</td>\n",
       "      <td>214</td>\n",
       "    </tr>\n",
       "    <tr>\n",
       "      <th>1</th>\n",
       "      <td>24</td>\n",
       "      <td>1</td>\n",
       "      <td>0</td>\n",
       "      <td>3</td>\n",
       "      <td>2</td>\n",
       "      <td>214</td>\n",
       "    </tr>\n",
       "    <tr>\n",
       "      <th>2</th>\n",
       "      <td>51</td>\n",
       "      <td>2</td>\n",
       "      <td>0</td>\n",
       "      <td>4</td>\n",
       "      <td>1</td>\n",
       "      <td>192</td>\n",
       "    </tr>\n",
       "    <tr>\n",
       "      <th>5</th>\n",
       "      <td>45</td>\n",
       "      <td>1</td>\n",
       "      <td>120000</td>\n",
       "      <td>3</td>\n",
       "      <td>1</td>\n",
       "      <td>192</td>\n",
       "    </tr>\n",
       "    <tr>\n",
       "      <th>9</th>\n",
       "      <td>65</td>\n",
       "      <td>2</td>\n",
       "      <td>0</td>\n",
       "      <td>0</td>\n",
       "      <td>3</td>\n",
       "      <td>187</td>\n",
       "    </tr>\n",
       "    <tr>\n",
       "      <th>...</th>\n",
       "      <td>...</td>\n",
       "      <td>...</td>\n",
       "      <td>...</td>\n",
       "      <td>...</td>\n",
       "      <td>...</td>\n",
       "      <td>...</td>\n",
       "    </tr>\n",
       "    <tr>\n",
       "      <th>47073</th>\n",
       "      <td>41</td>\n",
       "      <td>2</td>\n",
       "      <td>57000</td>\n",
       "      <td>3</td>\n",
       "      <td>1</td>\n",
       "      <td>49</td>\n",
       "    </tr>\n",
       "    <tr>\n",
       "      <th>47080</th>\n",
       "      <td>77</td>\n",
       "      <td>2</td>\n",
       "      <td>0</td>\n",
       "      <td>0</td>\n",
       "      <td>3</td>\n",
       "      <td>86</td>\n",
       "    </tr>\n",
       "    <tr>\n",
       "      <th>47081</th>\n",
       "      <td>57</td>\n",
       "      <td>1</td>\n",
       "      <td>-9</td>\n",
       "      <td>2</td>\n",
       "      <td>1</td>\n",
       "      <td>86</td>\n",
       "    </tr>\n",
       "    <tr>\n",
       "      <th>47082</th>\n",
       "      <td>73</td>\n",
       "      <td>2</td>\n",
       "      <td>0</td>\n",
       "      <td>0</td>\n",
       "      <td>3</td>\n",
       "      <td>230</td>\n",
       "    </tr>\n",
       "    <tr>\n",
       "      <th>47083</th>\n",
       "      <td>44</td>\n",
       "      <td>2</td>\n",
       "      <td>18000</td>\n",
       "      <td>3</td>\n",
       "      <td>1</td>\n",
       "      <td>230</td>\n",
       "    </tr>\n",
       "  </tbody>\n",
       "</table>\n",
       "<p>20282 rows × 6 columns</p>\n",
       "</div>"
      ],
      "text/plain": [
       "       edad  sexo  ingreso  cat_ocup  estado  pondera\n",
       "0        58     1    50000         2       1      214\n",
       "1        24     1        0         3       2      214\n",
       "2        51     2        0         4       1      192\n",
       "5        45     1   120000         3       1      192\n",
       "9        65     2        0         0       3      187\n",
       "...     ...   ...      ...       ...     ...      ...\n",
       "47073    41     2    57000         3       1       49\n",
       "47080    77     2        0         0       3       86\n",
       "47081    57     1       -9         2       1       86\n",
       "47082    73     2        0         0       3      230\n",
       "47083    44     2    18000         3       1      230\n",
       "\n",
       "[20282 rows x 6 columns]"
      ]
     },
     "execution_count": 20,
     "metadata": {},
     "output_type": "execute_result"
    }
   ],
   "source": [
    "eph_2.query(\"estado==2 | edad>40\")"
   ]
  },
  {
   "cell_type": "markdown",
   "metadata": {
    "id": "H2TFzkYXMvLB"
   },
   "source": [
    "c) ¿Cuántas mujeres hay en la base de datos? ¿Y hombres?"
   ]
  },
  {
   "cell_type": "code",
   "execution_count": 21,
   "metadata": {
    "id": "5KBADqwEMvLB",
    "outputId": "7016412e-9321-4825-ad3b-2813afc8e19c"
   },
   "outputs": [
    {
     "name": "stdout",
     "output_type": "stream",
     "text": [
      "Hay 14038615 hombres y 14833824 mujeres en la base de datos\n"
     ]
    }
   ],
   "source": [
    "hombres=eph_2.query(\"sexo==1\")[\"pondera\"].sum()\n",
    "mujeres=eph_2.query(\"sexo==2\")[\"pondera\"].sum()\n",
    "\n",
    "print (f\"Hay {hombres} hombres y {mujeres} mujeres en la base de datos\")\n",
    "\n"
   ]
  },
  {
   "cell_type": "markdown",
   "metadata": {
    "id": "1NVlqGyaMvLB"
   },
   "source": [
    "d) ¿Cuál era la tasa de desocupación en el período seleccionado para las mujeres? ¿Era más alta o más baja que la de los hombres? (Extra: pensar el resultado usando una función)\n",
    "\n",
    "Nota: la tasa se calcula como Desocupados / (Ocupados + Desocupados)"
   ]
  },
  {
   "cell_type": "code",
   "execution_count": 22,
   "metadata": {
    "id": "nsDZz3urMvLB"
   },
   "outputs": [],
   "source": [
    "# Mujeres ocupadas\n",
    "ocup_m=eph_2.query(\"sexo==2 & estado==2\")[\"pondera\"].sum()"
   ]
  },
  {
   "cell_type": "code",
   "execution_count": 23,
   "metadata": {
    "id": "uBgpC_TNMvLB"
   },
   "outputs": [],
   "source": [
    "# Población económicamente activa de mujeres (Ocupadas + Descoupadas)\n",
    "PEA_m=eph_2.query(\"sexo==2 & (estado==1 | estado==2)\")[\"pondera\"].sum()"
   ]
  },
  {
   "cell_type": "code",
   "execution_count": 24,
   "metadata": {
    "id": "hS4IdXrgMvLB"
   },
   "outputs": [],
   "source": [
    "# Tasa de desocupación de las mujeres\n",
    "tasa_desocup_m = ocup_m / PEA_m"
   ]
  },
  {
   "cell_type": "code",
   "execution_count": 25,
   "metadata": {
    "id": "23rWFtjcMvLB",
    "outputId": "199d3422-7b30-43ec-9bf7-276f891ab017"
   },
   "outputs": [
    {
     "name": "stdout",
     "output_type": "stream",
     "text": [
      "La tasa de desocupacion de las mujeres en el segundo trimestre del 2021 era de un 10%\n"
     ]
    }
   ],
   "source": [
    "print(f\"La tasa de desocupacion de las mujeres en el segundo trimestre del 2021 era de un {int(tasa_desocup_m*100)}%\")"
   ]
  },
  {
   "cell_type": "code",
   "execution_count": 26,
   "metadata": {
    "id": "NOjDhqV9MvLB"
   },
   "outputs": [],
   "source": [
    "# Hombres ocupados\n",
    "ocup_h=eph_2.query(\"sexo==1 & estado==2\")[\"pondera\"].sum()"
   ]
  },
  {
   "cell_type": "code",
   "execution_count": 27,
   "metadata": {
    "id": "ILI5aM-GMvLB"
   },
   "outputs": [],
   "source": [
    "# Población económicamente activa de hombres (Ocupados + Desocupados)\n",
    "PEA_h=eph_2.query(\"sexo==1 & (estado==1 | estado==2)\")[\"pondera\"].sum()"
   ]
  },
  {
   "cell_type": "code",
   "execution_count": 28,
   "metadata": {
    "id": "Lj28oCeSMvLB"
   },
   "outputs": [],
   "source": [
    "# Tasa de desocupación de los hombres\n",
    "tasa_desocup_h = ocup_h / PEA_h"
   ]
  },
  {
   "cell_type": "code",
   "execution_count": 29,
   "metadata": {
    "id": "3BqROR8zMvLB",
    "outputId": "83779211-9f06-415d-dc45-8010ad9af59a"
   },
   "outputs": [
    {
     "name": "stdout",
     "output_type": "stream",
     "text": [
      "La tasa de desocupacion de los hombres en el segundo trimestre del 2021 era de un 9%\n"
     ]
    }
   ],
   "source": [
    "print(f\"La tasa de desocupacion de los hombres en el segundo trimestre del 2021 era de un {int(tasa_desocup_h*100)}%\")"
   ]
  },
  {
   "cell_type": "code",
   "execution_count": 30,
   "metadata": {
    "id": "nh8HpMb5MvLB",
    "outputId": "23c1d47b-8302-4c21-be76-481eb73e22e6"
   },
   "outputs": [
    {
     "name": "stdout",
     "output_type": "stream",
     "text": [
      "La tasa de desocupación de los hombres en el 2T del 2021 era de un 9%, más baja que el 10% de las mujeres.\n"
     ]
    }
   ],
   "source": [
    "if tasa_desocup_h>tasa_desocup_m:\n",
    "    print (f\"La tasa de desocupación de los hombres en el 2T del 2021 era de un {int(tasa_desocup_h*100)}%, más alta que el {int(tasa_desocup_m*100)}% de las mujeres.\")\n",
    "else:\n",
    "    print (f\"La tasa de desocupación de los hombres en el 2T del 2021 era de un {int(tasa_desocup_h*100)}%, más baja que el {int(tasa_desocup_m*100)}% de las mujeres.\")"
   ]
  }
 ],
 "metadata": {
  "colab": {
   "name": "ejercicio_solucion.ipynb",
   "provenance": []
  },
  "kernelspec": {
   "display_name": "Python 3 (ipykernel)",
   "language": "python",
   "name": "python3"
  },
  "language_info": {
   "codemirror_mode": {
    "name": "ipython",
    "version": 3
   },
   "file_extension": ".py",
   "mimetype": "text/x-python",
   "name": "python",
   "nbconvert_exporter": "python",
   "pygments_lexer": "ipython3",
   "version": "3.10.5"
  },
  "vscode": {
   "interpreter": {
    "hash": "f40b5ec51608688695ff6eacfbfd97600e453560f55d9818c49e934cb28338b9"
   }
  }
 },
 "nbformat": 4,
 "nbformat_minor": 4
}
