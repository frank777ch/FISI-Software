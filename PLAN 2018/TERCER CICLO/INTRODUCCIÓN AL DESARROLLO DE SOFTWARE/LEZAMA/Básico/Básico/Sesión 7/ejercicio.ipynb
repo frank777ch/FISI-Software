{
 "cells": [
  {
   "cell_type": "markdown",
   "metadata": {
    "id": "LPYG850vM4LR"
   },
   "source": [
    "# Ejercicio I: base de Colegios de Bogotá."
   ]
  },
  {
   "cell_type": "code",
   "execution_count": null,
   "metadata": {
    "id": "rAD3x2WMMvK9"
   },
   "outputs": [],
   "source": [
    "import pandas as pd\n",
    "import numpy as np"
   ]
  },
  {
   "cell_type": "code",
   "execution_count": null,
   "metadata": {
    "id": "e-GeDWXsMvK9"
   },
   "outputs": [],
   "source": [
    "df_colegios = pd.read_csv('df_colegios')"
   ]
  },
  {
   "cell_type": "markdown",
   "metadata": {
    "id": "zMKPtDY-MvK9"
   },
   "source": [
    "¿Cuáles son las columnas? ¿Cuántas filas tiene?"
   ]
  },
  {
   "cell_type": "code",
   "execution_count": null,
   "metadata": {
    "id": "WZyOH-eQW50v"
   },
   "outputs": [],
   "source": []
  },
  {
   "cell_type": "markdown",
   "metadata": {
    "id": "W13iqV9JMvK-"
   },
   "source": [
    "Seleccionen los colegios donde la propiedad de la planta física sea de una persona natural o comunidad religiosa."
   ]
  },
  {
   "cell_type": "code",
   "execution_count": null,
   "metadata": {
    "id": "5tRsx_G5W6k6"
   },
   "outputs": [],
   "source": []
  },
  {
   "cell_type": "markdown",
   "metadata": {
    "id": "ZguyMl06MvK-"
   },
   "source": [
    "¿Hay alguno de estos colegios que sea para capacidades excepcionales?"
   ]
  },
  {
   "cell_type": "code",
   "execution_count": null,
   "metadata": {
    "id": "hdZM-ASGW7IE"
   },
   "outputs": [],
   "source": []
  },
  {
   "cell_type": "markdown",
   "metadata": {
    "id": "hv6j47_pMvK_"
   },
   "source": [
    "¿Cuáles son los colegios que ofrecen todos los niveles educativos? ¿Qué idiomas ofrecen?"
   ]
  },
  {
   "cell_type": "code",
   "execution_count": null,
   "metadata": {
    "id": "VVfZqjfdW7h2"
   },
   "outputs": [],
   "source": []
  },
  {
   "cell_type": "markdown",
   "metadata": {
    "id": "nEPohKg0MvK_"
   },
   "source": [
    "# Ejercicio II: PyEPH"
   ]
  },
  {
   "cell_type": "markdown",
   "metadata": {
    "id": "2agC2cqgMvK_"
   },
   "source": [
    "### PyEPH"
   ]
  },
  {
   "cell_type": "markdown",
   "metadata": {
    "id": "9gSIo2ClMvK_"
   },
   "source": [
    "La librería Pyeph tiene como objetivo facilitar el procesamiento en Python de las Encuesta Permanente de Hogares (eph) publicadas por INDEC de forma periódica. Está pensada como un espacio donde se nuclean y centralizan los cálculos vinculados a las mismas para posteriormente ser utilizadas en investigaciones, artículos, publicaciones, etc. Es una librería que hace principal hincapié en la transparencia metodológica utilizando licencias de código abierto y que promueve la colaboración de las comunidades de cientístas de datos, sociales, investigadorxs, desarrolladorxs, periodistas y demás curiosxs.\n",
    "\n",
    "https://github.com/institutohumai/pyeph"
   ]
  },
  {
   "cell_type": "markdown",
   "metadata": {
    "id": "k_BSKhk9MvK_"
   },
   "source": [
    "Para entender qué representan las columnas ver documentación:\n",
    "\n",
    "\n",
    "https://www.indec.gob.ar/ftp/cuadros/menusuperior/eph/EPH_diseno_reg_t414.pdf"
   ]
  },
  {
   "cell_type": "code",
   "execution_count": null,
   "metadata": {
    "id": "iCFePuybMvK_"
   },
   "outputs": [],
   "source": [
    "# Instalamos la librería.\n",
    "\n",
    "!pip install pyeph"
   ]
  },
  {
   "cell_type": "code",
   "execution_count": null,
   "metadata": {
    "id": "LI37cJnaMvK_"
   },
   "outputs": [],
   "source": [
    "import pyeph"
   ]
  },
  {
   "cell_type": "code",
   "execution_count": null,
   "metadata": {
    "colab": {
     "base_uri": "https://localhost:8080/"
    },
    "id": "sZ2bdBMrMvK_",
    "outputId": "add611cb-8a0a-4dc1-fe91-85291645099b"
   },
   "outputs": [
    {
     "name": "stdout",
     "output_type": "stream",
     "text": [
      "\n",
      "Obtenido con exito: base_individual_2021T2.zip \n"
     ]
    }
   ],
   "source": [
    "# Ejemplo: traemos el 2do trimestre del 2021\n",
    "eph = pyeph.get(data=\"eph\", year=2021, period=2, base_type='individual') # EPH individual"
   ]
  },
  {
   "cell_type": "code",
   "execution_count": null,
   "metadata": {
    "colab": {
     "base_uri": "https://localhost:8080/"
    },
    "id": "gd6AJ6DvMvK_",
    "outputId": "9a11a6c7-5527-47c6-e6c3-f9f0a6a5a8a5"
   },
   "outputs": [
    {
     "data": {
      "text/plain": [
       "Index(['CODUSU', 'ANO4', 'TRIMESTRE', 'NRO_HOGAR', 'COMPONENTE', 'H15',\n",
       "       'REGION', 'MAS_500', 'AGLOMERADO', 'PONDERA',\n",
       "       ...\n",
       "       'PDECIFR', 'ADECIFR', 'IPCF', 'DECCFR', 'IDECCFR', 'RDECCFR', 'GDECCFR',\n",
       "       'PDECCFR', 'ADECCFR', 'PONDIH'],\n",
       "      dtype='object', length=177)"
      ]
     },
     "execution_count": 7,
     "metadata": {},
     "output_type": "execute_result"
    }
   ],
   "source": [
    "eph.columns"
   ]
  },
  {
   "cell_type": "markdown",
   "metadata": {
    "id": "bcD-tpowMvK_"
   },
   "source": [
    "**Primer paso.** Crear una variable llamada eph_2 que contenga las siguientes columnas para realizar el siguiente análisis:\n",
    "\n",
    "Edad (**CH_06**), Sexo (**CH_04**), Ingreso de la ocupación principal (**P21**), Categoría ocupacional (**CAT_OCUP**), Condición de actividad (ESTADO), Ponderación (**PONDERA**)\n",
    "\n",
    "Referencias:\n",
    "\n",
    "Sexo:\n",
    "*   01 = Varón \n",
    "*   02 = Mujer\n",
    "\n",
    "Categoría ocupacional (para ocupados y desocupados con\n",
    "ocupación anterior):\n",
    "*   1 = Patrón\n",
    "*   2 = Cuenta propia\n",
    "*   3 = Obrero o empleado\n",
    "*   4 = Trabajador familiar sin remuneración\n",
    "*   9 = Ns/Nr\n",
    "\n",
    "Estado - Condición de actividad:\n",
    "*   0 = Entrevista individual no realizada\n",
    "*   1 = Ocupado \n",
    "*   2 = Descoupado\n",
    "*   3 = Inactivo\n",
    "*   4 = menor de 10 años"
   ]
  },
  {
   "cell_type": "code",
   "execution_count": null,
   "metadata": {
    "id": "QZqi2Km0MvLA"
   },
   "outputs": [],
   "source": [
    "#Filtramos por columnas\n",
    "eph_2=eph[[\"CH06\", \"CH04\", \"P21\", \"CAT_OCUP\", \"ESTADO\", \"PONDERA\"]]"
   ]
  },
  {
   "cell_type": "code",
   "execution_count": null,
   "metadata": {
    "id": "A7fkT2SCMvLA"
   },
   "outputs": [],
   "source": [
    "#Renombramos columnas\n",
    "eph_2.columns=[\"edad\", \"sexo\", \"ingreso\", \"cat_ocup\", \"estado\", \"pondera\"]"
   ]
  },
  {
   "cell_type": "markdown",
   "metadata": {
    "id": "JVlWfpBfMvLA"
   },
   "source": [
    "La columna **pondera** representa un estimado poblacional de las personas que representa cada fila. Por lo tanto, para cada cálculo es necesario operar con esa columna. Por ejemplo, la fila 0 representa a 214 personas de 58 años de sexo masculino, que tienen $50.000 de ingreso de la ocupación principal, su categoría es cuentapropista y pertenecen al segmento de ocupados.   "
   ]
  },
  {
   "cell_type": "code",
   "execution_count": null,
   "metadata": {
    "colab": {
     "base_uri": "https://localhost:8080/",
     "height": 206
    },
    "id": "9ioQSsZjMvLA",
    "outputId": "4cb66e9b-f2ef-4a9b-bd45-e00b11973eda"
   },
   "outputs": [
    {
     "data": {
      "text/html": [
       "\n",
       "  <div id=\"df-6c513274-4b00-4def-a343-2141d8dc5405\">\n",
       "    <div class=\"colab-df-container\">\n",
       "      <div>\n",
       "<style scoped>\n",
       "    .dataframe tbody tr th:only-of-type {\n",
       "        vertical-align: middle;\n",
       "    }\n",
       "\n",
       "    .dataframe tbody tr th {\n",
       "        vertical-align: top;\n",
       "    }\n",
       "\n",
       "    .dataframe thead th {\n",
       "        text-align: right;\n",
       "    }\n",
       "</style>\n",
       "<table border=\"1\" class=\"dataframe\">\n",
       "  <thead>\n",
       "    <tr style=\"text-align: right;\">\n",
       "      <th></th>\n",
       "      <th>edad</th>\n",
       "      <th>sexo</th>\n",
       "      <th>ingreso</th>\n",
       "      <th>cat_ocup</th>\n",
       "      <th>estado</th>\n",
       "      <th>pondera</th>\n",
       "    </tr>\n",
       "  </thead>\n",
       "  <tbody>\n",
       "    <tr>\n",
       "      <th>0</th>\n",
       "      <td>58</td>\n",
       "      <td>1</td>\n",
       "      <td>50000</td>\n",
       "      <td>2</td>\n",
       "      <td>1</td>\n",
       "      <td>214</td>\n",
       "    </tr>\n",
       "    <tr>\n",
       "      <th>1</th>\n",
       "      <td>24</td>\n",
       "      <td>1</td>\n",
       "      <td>0</td>\n",
       "      <td>3</td>\n",
       "      <td>2</td>\n",
       "      <td>214</td>\n",
       "    </tr>\n",
       "    <tr>\n",
       "      <th>2</th>\n",
       "      <td>51</td>\n",
       "      <td>2</td>\n",
       "      <td>0</td>\n",
       "      <td>4</td>\n",
       "      <td>1</td>\n",
       "      <td>192</td>\n",
       "    </tr>\n",
       "    <tr>\n",
       "      <th>3</th>\n",
       "      <td>27</td>\n",
       "      <td>1</td>\n",
       "      <td>4000</td>\n",
       "      <td>2</td>\n",
       "      <td>1</td>\n",
       "      <td>192</td>\n",
       "    </tr>\n",
       "    <tr>\n",
       "      <th>4</th>\n",
       "      <td>18</td>\n",
       "      <td>1</td>\n",
       "      <td>0</td>\n",
       "      <td>0</td>\n",
       "      <td>3</td>\n",
       "      <td>192</td>\n",
       "    </tr>\n",
       "  </tbody>\n",
       "</table>\n",
       "</div>\n",
       "      <button class=\"colab-df-convert\" onclick=\"convertToInteractive('df-6c513274-4b00-4def-a343-2141d8dc5405')\"\n",
       "              title=\"Convert this dataframe to an interactive table.\"\n",
       "              style=\"display:none;\">\n",
       "        \n",
       "  <svg xmlns=\"http://www.w3.org/2000/svg\" height=\"24px\"viewBox=\"0 0 24 24\"\n",
       "       width=\"24px\">\n",
       "    <path d=\"M0 0h24v24H0V0z\" fill=\"none\"/>\n",
       "    <path d=\"M18.56 5.44l.94 2.06.94-2.06 2.06-.94-2.06-.94-.94-2.06-.94 2.06-2.06.94zm-11 1L8.5 8.5l.94-2.06 2.06-.94-2.06-.94L8.5 2.5l-.94 2.06-2.06.94zm10 10l.94 2.06.94-2.06 2.06-.94-2.06-.94-.94-2.06-.94 2.06-2.06.94z\"/><path d=\"M17.41 7.96l-1.37-1.37c-.4-.4-.92-.59-1.43-.59-.52 0-1.04.2-1.43.59L10.3 9.45l-7.72 7.72c-.78.78-.78 2.05 0 2.83L4 21.41c.39.39.9.59 1.41.59.51 0 1.02-.2 1.41-.59l7.78-7.78 2.81-2.81c.8-.78.8-2.07 0-2.86zM5.41 20L4 18.59l7.72-7.72 1.47 1.35L5.41 20z\"/>\n",
       "  </svg>\n",
       "      </button>\n",
       "      \n",
       "  <style>\n",
       "    .colab-df-container {\n",
       "      display:flex;\n",
       "      flex-wrap:wrap;\n",
       "      gap: 12px;\n",
       "    }\n",
       "\n",
       "    .colab-df-convert {\n",
       "      background-color: #E8F0FE;\n",
       "      border: none;\n",
       "      border-radius: 50%;\n",
       "      cursor: pointer;\n",
       "      display: none;\n",
       "      fill: #1967D2;\n",
       "      height: 32px;\n",
       "      padding: 0 0 0 0;\n",
       "      width: 32px;\n",
       "    }\n",
       "\n",
       "    .colab-df-convert:hover {\n",
       "      background-color: #E2EBFA;\n",
       "      box-shadow: 0px 1px 2px rgba(60, 64, 67, 0.3), 0px 1px 3px 1px rgba(60, 64, 67, 0.15);\n",
       "      fill: #174EA6;\n",
       "    }\n",
       "\n",
       "    [theme=dark] .colab-df-convert {\n",
       "      background-color: #3B4455;\n",
       "      fill: #D2E3FC;\n",
       "    }\n",
       "\n",
       "    [theme=dark] .colab-df-convert:hover {\n",
       "      background-color: #434B5C;\n",
       "      box-shadow: 0px 1px 3px 1px rgba(0, 0, 0, 0.15);\n",
       "      filter: drop-shadow(0px 1px 2px rgba(0, 0, 0, 0.3));\n",
       "      fill: #FFFFFF;\n",
       "    }\n",
       "  </style>\n",
       "\n",
       "      <script>\n",
       "        const buttonEl =\n",
       "          document.querySelector('#df-6c513274-4b00-4def-a343-2141d8dc5405 button.colab-df-convert');\n",
       "        buttonEl.style.display =\n",
       "          google.colab.kernel.accessAllowed ? 'block' : 'none';\n",
       "\n",
       "        async function convertToInteractive(key) {\n",
       "          const element = document.querySelector('#df-6c513274-4b00-4def-a343-2141d8dc5405');\n",
       "          const dataTable =\n",
       "            await google.colab.kernel.invokeFunction('convertToInteractive',\n",
       "                                                     [key], {});\n",
       "          if (!dataTable) return;\n",
       "\n",
       "          const docLinkHtml = 'Like what you see? Visit the ' +\n",
       "            '<a target=\"_blank\" href=https://colab.research.google.com/notebooks/data_table.ipynb>data table notebook</a>'\n",
       "            + ' to learn more about interactive tables.';\n",
       "          element.innerHTML = '';\n",
       "          dataTable['output_type'] = 'display_data';\n",
       "          await google.colab.output.renderOutput(dataTable, element);\n",
       "          const docLink = document.createElement('div');\n",
       "          docLink.innerHTML = docLinkHtml;\n",
       "          element.appendChild(docLink);\n",
       "        }\n",
       "      </script>\n",
       "    </div>\n",
       "  </div>\n",
       "  "
      ],
      "text/plain": [
       "   edad  sexo  ingreso  cat_ocup  estado  pondera\n",
       "0    58     1    50000         2       1      214\n",
       "1    24     1        0         3       2      214\n",
       "2    51     2        0         4       1      192\n",
       "3    27     1     4000         2       1      192\n",
       "4    18     1        0         0       3      192"
      ]
     },
     "execution_count": 11,
     "metadata": {},
     "output_type": "execute_result"
    }
   ],
   "source": [
    "eph_2.head()"
   ]
  },
  {
   "cell_type": "markdown",
   "metadata": {
    "id": "GeXu1j1bMvLA"
   },
   "source": [
    "a) Traer un dataframe que filtre solo a las personas que tengan 21 años o menos. "
   ]
  },
  {
   "cell_type": "code",
   "execution_count": null,
   "metadata": {
    "id": "mN5fKUt4W9f4"
   },
   "outputs": [],
   "source": []
  },
  {
   "cell_type": "markdown",
   "metadata": {
    "id": "Ql5W8xHRMvLA"
   },
   "source": [
    "b) Traer un dataframe que filtre a las personas desocupadas de más de 40 años. "
   ]
  },
  {
   "cell_type": "code",
   "execution_count": null,
   "metadata": {
    "id": "1Y1D9WylW91P"
   },
   "outputs": [],
   "source": []
  },
  {
   "cell_type": "markdown",
   "metadata": {
    "id": "H2TFzkYXMvLB"
   },
   "source": [
    "c) ¿Cuántas mujeres hay en la base de datos? ¿Y hombres?"
   ]
  },
  {
   "cell_type": "code",
   "execution_count": null,
   "metadata": {
    "id": "fiWgLS66W-PB"
   },
   "outputs": [],
   "source": []
  },
  {
   "cell_type": "markdown",
   "metadata": {
    "id": "1NVlqGyaMvLB"
   },
   "source": [
    "d) ¿Cuál era la tasa de desocupación en el período seleccionado para las mujeres? ¿Era más alta o más baja que la de los hombres? (Extra: pensar el resultado usando una función)\n",
    "\n",
    "Nota: la tasa se calcula como Desocupados / (Ocupados + Desocupados)"
   ]
  },
  {
   "cell_type": "code",
   "execution_count": null,
   "metadata": {
    "id": "PXPt61vQW-uy"
   },
   "outputs": [],
   "source": []
  }
 ],
 "metadata": {
  "colab": {
   "collapsed_sections": [],
   "name": "ejercicio.ipynb",
   "provenance": []
  },
  "kernelspec": {
   "display_name": "Python 3 (ipykernel)",
   "language": "python",
   "name": "python3"
  },
  "language_info": {
   "codemirror_mode": {
    "name": "ipython",
    "version": 3
   },
   "file_extension": ".py",
   "mimetype": "text/x-python",
   "name": "python",
   "nbconvert_exporter": "python",
   "pygments_lexer": "ipython3",
   "version": "3.10.5"
  },
  "vscode": {
   "interpreter": {
    "hash": "f40b5ec51608688695ff6eacfbfd97600e453560f55d9818c49e934cb28338b9"
   }
  }
 },
 "nbformat": 4,
 "nbformat_minor": 4
}
