{
 "cells": [
  {
   "cell_type": "markdown",
   "id": "94ac069a",
   "metadata": {},
   "source": [
    "## Ejercicio: Sistema de Gestión de Restaurante\n",
    "\n",
    "## Enunciado:\n",
    "Imagina que estás creando un sistema de gestión para un restaurante. Debes diseñar una solución utilizando programación orientada a objetos para administrar mesas, pedidos y platos.\n",
    "\n",
    ">- Crea una clase Plato con atributos como nombre, descripción y precio. Implementa un método para mostrar la información del plato.\n",
    "\n",
    ">- Crea una clase Pedido que contenga una lista de platos ordenados por un cliente. Implementa métodos para agregar platos al pedido y calcular el total.\n",
    "\n",
    ">- Crea una clase Mesa con atributos como número de mesa y capacidad. Implementa métodos para agregar un pedido a la mesa, mostrar los platos ordenados en la mesa y calcular el total de la cuenta.\n",
    "\n",
    ">- Crea una clase Restaurante que tenga una lista de mesas y métodos para administrar la asignación de pedidos a mesas, calcular los ingresos totales del restaurante y mostrar información de todas las mesas."
   ]
  },
  {
   "cell_type": "code",
   "execution_count": null,
   "id": "58c111d1",
   "metadata": {},
   "outputs": [],
   "source": []
  },
  {
   "cell_type": "code",
   "execution_count": null,
   "id": "e53e4a4e",
   "metadata": {},
   "outputs": [],
   "source": []
  },
  {
   "cell_type": "markdown",
   "id": "524914bf",
   "metadata": {},
   "source": [
    "## Ejercicio: Sistema de Reservas de Eventos\n",
    "\n",
    "### Enunciado:\n",
    "Imagina que estás desarrollando un sistema para administrar las reservas de eventos en un centro de convenciones. Debes diseñar una solución utilizando programación orientada a objetos para gestionar eventos, salas y reservas.\n",
    "\n",
    ">- Crea una clase Evento con atributos como nombre, fecha, hora y capacidad máxima de asistentes. Implementa un método para mostrar la información del evento.\n",
    "\n",
    ">- Crea una clase Sala con atributos como número de sala, capacidad y lista de eventos programados. Implementa métodos para agregar eventos a la sala, verificar disponibilidad de horario y mostrar la lista de eventos.\n",
    "\n",
    ">- Crea una clase Reserva que contenga información del cliente, evento y sala reservada. Implementa un método para realizar una reserva y verificar si hay espacio disponible en la sala.\n",
    "\n",
    ">- Crea una clase CentroConvenciones que tenga una lista de salas y métodos para realizar reservas, mostrar la disponibilidad de salas y mostrar información de los eventos programados."
   ]
  },
  {
   "cell_type": "code",
   "execution_count": null,
   "id": "584af296",
   "metadata": {},
   "outputs": [],
   "source": []
  },
  {
   "cell_type": "code",
   "execution_count": null,
   "id": "de1b09ee",
   "metadata": {},
   "outputs": [],
   "source": []
  },
  {
   "cell_type": "markdown",
   "id": "0c732054",
   "metadata": {},
   "source": [
    "## Ejercicio: Sistema de Biblioteca\n",
    "\n",
    "### Enunciado:\n",
    "Imagina que estás desarrollando un sistema de gestión para una biblioteca. Debes diseñar una solución utilizando programación orientada a objetos para administrar libros, usuarios y préstamos.\n",
    "\n",
    ">- Crea un módulo llamado \"libro\" que contenga una clase \"Libro\" con atributos como título, autor y año de publicación. Implementa un método para mostrar la información del libro.\n",
    "\n",
    ">- Crea un módulo llamado \"usuario\" que contenga una clase \"Usuario\" con atributos como nombre, correo electrónico y cantidad de libros prestados. Implementa un método para mostrar la información del usuario.\n",
    "\n",
    ">- Crea un módulo llamado \"prestamo\" que contenga una clase \"Prestamo\" con atributos como el libro prestado, el usuario que realiza el préstamo y la fecha de devolución. Implementa métodos para realizar un préstamo y para devolver un libro.\n",
    "\n",
    "importa las clases de los módulos anteriores y simule la interacción entre usuarios, libros y préstamos. Permite a los usuarios buscar libros por título, realizar préstamos y devolver libros."
   ]
  },
  {
   "cell_type": "code",
   "execution_count": null,
   "id": "e22a50b3",
   "metadata": {},
   "outputs": [],
   "source": []
  },
  {
   "cell_type": "markdown",
   "id": "ff3e4f9a",
   "metadata": {},
   "source": [
    "## Ejercicio: Sistema de Gestión de Proyectos\n",
    "\n",
    "### Enunciado:\n",
    "Imagina que estás desarrollando un sistema de gestión de proyectos para una empresa de desarrollo de software. Debes diseñar una solución utilizando programación orientada a objetos para administrar proyectos, tareas y empleados.\n",
    "\n",
    ">- Crea un módulo llamado \"empleado\" que contenga una clase \"Empleado\" con atributos como nombre, cargo y salario. Implementa un método para mostrar la información del empleado.\n",
    "\n",
    ">- Crea un módulo llamado \"tarea\" que contenga una clase \"Tarea\" con atributos como título, descripción y estado (pendiente, en progreso, completada). Implementa métodos para cambiar el estado de una tarea y para mostrar información de la tarea.\n",
    "\n",
    ">- Crea un módulo llamado \"proyecto\" que contenga una clase \"Proyecto\" con atributos como nombre, descripción y lista de tareas asociadas. Implementa métodos para agregar tareas al proyecto y para mostrar el progreso del mismo.\n",
    "\n",
    ">- Agrega funcionalidad para calcular el costo total del proyecto considerando los salarios de los empleados asignados a las tareas.\n",
    "\n",
    "importa las clases de los módulos anteriores y simule la interacción entre empleados, tareas y proyectos. Permite a los empleados realizar tareas, cambiar estados de tareas y agregar tareas a proyectos.\n",
    "\n"
   ]
  },
  {
   "cell_type": "code",
   "execution_count": null,
   "id": "c613c58a",
   "metadata": {},
   "outputs": [],
   "source": []
  },
  {
   "cell_type": "markdown",
   "id": "1c04ff21",
   "metadata": {},
   "source": [
    "**después de crear las instancias, calcule el costo total del proyecto**"
   ]
  },
  {
   "cell_type": "code",
   "execution_count": null,
   "id": "ef5fe529",
   "metadata": {},
   "outputs": [],
   "source": []
  }
 ],
 "metadata": {
  "kernelspec": {
   "display_name": "Python 3 (ipykernel)",
   "language": "python",
   "name": "python3"
  },
  "language_info": {
   "codemirror_mode": {
    "name": "ipython",
    "version": 3
   },
   "file_extension": ".py",
   "mimetype": "text/x-python",
   "name": "python",
   "nbconvert_exporter": "python",
   "pygments_lexer": "ipython3",
   "version": "3.11.3"
  }
 },
 "nbformat": 4,
 "nbformat_minor": 5
}
