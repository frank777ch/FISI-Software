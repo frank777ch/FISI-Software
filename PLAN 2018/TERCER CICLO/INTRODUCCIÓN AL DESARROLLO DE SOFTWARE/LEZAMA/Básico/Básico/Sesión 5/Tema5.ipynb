{
 "cells": [
  {
   "cell_type": "markdown",
   "metadata": {},
   "source": [
    "# 1.\tIntroducción\n",
    "En el mundo del desarrollo de proyectos en Python, es fundamental mantener un código organizado y estructurado. En este curso, nos enfocaremos en dos enfoques clave para lograr esto: el uso de módulos y paquetes, así como la programación orientada a objetos.<br> \n",
    "Los módulos y paquetes nos permiten dividir nuestro código en diferentes scripts, lo que facilita la gestión y reutilización de funciones y variables en distintas partes de nuestro proyecto. Además, aprenderemos cómo organizar nuestros scripts en carpetas para una mejor estructura y mantenimiento.<br>\n",
    "Por otro lado, la programación orientada a objetos (POO) es un paradigma esencial en Python. Con POO, encapsulamos datos y comportamientos en objetos, lo que nos brinda una forma más intuitiva y eficiente de trabajar con nuestra información. A través de clases y objetos, podemos crear estructuras complejas y aplicar herencia, lo que nos permite aprovechar al máximo la reutilización del código.\n",
    "\n",
    "## 1.1.\tObjetivos\n",
    ">- Aprenderemos a crear y utilizar módulos y paquetes para dividir y organizar nuestro código de manera eficiente.\n",
    ">- Dominaremos las técnicas para importar módulos y paquetes de forma adecuada en nuestros proyectos.\n",
    ">- Conoceremos cómo documentar nuestros módulos y paquetes de manera profesional para una colaboración efectiva con otros desarrolladores.\n",
    ">- Aplicaremos los conceptos fundamentales de la programación orientada a objetos en Python para crear código más modular, mantenible y escalable.\n",
    ">- Exploraremos cómo utilizar la herencia para aprovechar la reutilización de código y construir jerarquías de clases sólidas.\n"
   ]
  },
  {
   "cell_type": "markdown",
   "metadata": {},
   "source": [
    "# 2.\tMódulos y Paquetes\n",
    "En esta sección, exploraremos a fondo el uso de módulos y paquetes en Python, dos herramientas esenciales para organizar y estructurar nuestro código en proyectos de cualquier escala. Aprenderemos cómo dividir nuestro código en fragmentos lógicos y funcionales, lo que nos permitirá mejorar la legibilidad, reutilización y mantenimiento de nuestras aplicaciones.\n",
    "\n",
    "\n",
    "### 2.1.\tMódulos\n",
    ">Los módulos en Python son archivos que contienen funciones, variables y clases que pueden ser reutilizados en diferentes partes de nuestro programa. Permiten dividir el código en fragmentos lógicos y funcionales, lo que mejora la legibilidad y facilita el mantenimiento del código.\n"
   ]
  },
  {
   "cell_type": "markdown",
   "metadata": {},
   "source": [
    "* **Creación de módulos:** Crear módulos personalizados en Python nos permite organizar nuestras funciones y clases relacionadas en archivos separados, lo que facilita la reutilización del código y mejora la mantenibilidad de nuestros proyectos. Aquí te guiaré a través de los pasos para crear un módulo personalizado:\n",
    "    > En primer lugar, crea un archivo Python con las funciones y clases que deseas incluir en el módulo. Asegúrate de que el archivo tenga la extensión \".py\". Por ejemplo, crearemos un módulo llamado \"modulo_aritmetica.py\" que contendrá algunas funciones matemáticas:\n"
   ]
  },
  {
   "cell_type": "code",
   "execution_count": 93,
   "metadata": {},
   "outputs": [],
   "source": [
    "# modulo_aritmetica.py\n",
    "\n",
    "def suma(a, b):\n",
    "    return a + b\n",
    "\n",
    "def resta(a, b):\n",
    "    return a - b\n",
    "\n",
    "def multiplicacion(a, b):\n",
    "    return a * b\n"
   ]
  },
  {
   "cell_type": "markdown",
   "metadata": {},
   "source": [
    "* **Importación de módulos en nuestro código:** Una vez que hemos creado nuestros módulos personalizados, necesitamos importarlos en otros scripts para utilizar sus funciones y variables. Existen varias formas de importar módulos en Python, como \"import\", \"from ... import\" e \"import ... as\". Exploraremos cuándo y cómo utilizar cada método de importación."
   ]
  },
  {
   "cell_type": "code",
   "execution_count": 94,
   "metadata": {},
   "outputs": [
    {
     "name": "stdout",
     "output_type": "stream",
     "text": [
      "Suma: 8\n",
      "Resta: 6\n"
     ]
    }
   ],
   "source": [
    "# script principal: main.py\n",
    "import modulo_aritmetica\n",
    "\n",
    "resultado = modulo_aritmetica.suma(5, 3)\n",
    "print(\"Suma:\", resultado)\n",
    "\n",
    "resultado = modulo_aritmetica.resta(10, 4)\n",
    "print(\"Resta:\", resultado)\n"
   ]
  },
  {
   "cell_type": "code",
   "execution_count": 95,
   "metadata": {},
   "outputs": [
    {
     "name": "stdout",
     "output_type": "stream",
     "text": [
      "Suma: 8\n",
      "Resta: 6\n"
     ]
    }
   ],
   "source": [
    "# script principal: main.py\n",
    "import modulo_aritmetica as ma\n",
    "\n",
    "resultado = ma.suma(5, 3)\n",
    "print(\"Suma:\", resultado)\n",
    "\n",
    "resultado = ma.resta(10, 4)\n",
    "print(\"Resta:\", resultado)\n"
   ]
  },
  {
   "cell_type": "markdown",
   "metadata": {},
   "source": [
    "* **Exploración de los módulos de la biblioteca estándar de Python:** La biblioteca estándar de Python es una colección de módulos que vienen incluidos con la instalación básica del lenguaje. Estos módulos proporcionan una amplia gama de funcionalidades que cubren tareas comunes, desde operaciones del sistema hasta manipulación de datos, acceso a redes y mucho más."
   ]
  },
  {
   "cell_type": "code",
   "execution_count": 96,
   "metadata": {},
   "outputs": [
    {
     "name": "stdout",
     "output_type": "stream",
     "text": [
      "Directorio actual: c:\\Users\\Lenovo\\Documents\\Genosis\\Python ML\\Python\\Tema5\n"
     ]
    }
   ],
   "source": [
    "import os\n",
    "directorio_actual = os.getcwd()\n",
    "print(\"Directorio actual:\", directorio_actual)"
   ]
  },
  {
   "cell_type": "markdown",
   "metadata": {},
   "source": [
    "* **Mejores prácticas para estructurar y diseñar módulos en Python:** Una estructura de módulos bien organizada y diseñada es esencial para proyectos grandes y complejos, ya que facilita la legibilidad, el mantenimiento y la reutilización del código. Aquí tienes algunas mejores prácticas para diseñar y organizar módulos de manera efectiva:\n",
    "    >- Nombres descriptivos: Nombra los módulos de manera coherente y descriptiva para que sea fácil entender su propósito. Utiliza nombres en minúsculas y, si es necesario, separa palabras con guiones bajos (snake_case). Evita nombres demasiado genéricos o ambiguos.\n",
    "    >- División de funciones relacionadas: Agrupa funciones y clases relacionadas en módulos separados. Cada módulo debería tener un propósito claro y centrarse en una tarea o funcionalidad específica. Esto promueve la cohesión y facilita la navegación dentro del proyecto.\n",
    "    >- Módulos pequeños y cohesivos: Es preferible tener varios módulos pequeños y cohesivos en lugar de un solo módulo grande y monolítico. Esto mejora la mantenibilidad y permite una reutilización más eficiente del código.\n",
    "    >- Evitar módulos con demasiadas dependencias: Intenta evitar que un módulo tenga demasiadas dependencias externas, ya que esto puede complicar su uso y dificultar la comprensión del código.\n",
    "    >- Evitar dependencias circulares: Asegúrate de que no haya dependencias circulares entre módulos, ya que esto puede causar problemas en la ejecución y es una mala práctica de diseño.\n",
    "    >- Separación de preocupaciones: Diseña módulos que sigan el principio de \"separación de preocupaciones\". Cada módulo debe centrarse en resolver una tarea específica sin mezclar lógica de diferentes áreas.\n",
    "    >- Organización de directorios: Utiliza una estructura de directorios lógica para organizar tus módulos. Agrupa módulos relacionados en directorios temáticos o funcionales.\n",
    "    >- Evitar importaciones excesivas: Evita importar módulos o funciones innecesarias en tu código. Importa solo lo que necesitas para reducir la complejidad y mejorar el rendimiento.\n",
    "    >- Documentación: Proporciona documentación adecuada para tus módulos y funciones. Utiliza docstrings para describir el propósito, la entrada y la salida de las funciones, y añade comentarios explicativos si es necesario.\n",
    "    >- Mantenimiento regular: Mantén tus módulos actualizados y realiza mantenimiento regularmente. Elimina funciones o clases obsoletas y refactoriza el código según sea necesario para mantenerlo limpio y eficiente.\n"
   ]
  },
  {
   "cell_type": "code",
   "execution_count": 89,
   "metadata": {},
   "outputs": [
    {
     "name": "stdout",
     "output_type": "stream",
     "text": [
      "c:\\Users\\Lenovo\\Documents\\Genosis\\Python ML\\Python\\Tema5\\mi_proyecto\n",
      "Listado de rutas de carpetas para el volumen Windows\n",
      "El n�mero de serie del volumen es A21E-74D6\n",
      "C:.\n",
      "�   main.py\n",
      "�   \n",
      "����data_processing\n",
      "�       advanced_math.py\n",
      "�       basic_math.py\n",
      "�       __init__.py\n",
      "�       \n",
      "����math_operation\n",
      "�       data_analysis.py\n",
      "�       file_io.py\n",
      "�       __init__.py\n",
      "�       \n",
      "����utils\n",
      "        logging.py\n",
      "        validation.py\n",
      "        __init__.py\n",
      "        \n",
      "c:\\Users\\Lenovo\\Documents\\Genosis\\Python ML\\Python\\Tema5\n"
     ]
    }
   ],
   "source": [
    "# Ejemplo de estructura de directorios para un proyecto\n",
    "%cd ./mi_proyecto\n",
    "!tree /f\n",
    "\n",
    "%cd .."
   ]
  },
  {
   "cell_type": "markdown",
   "metadata": {},
   "source": [
    "### 2.2.\tPaquetes\n",
    ">Los paquetes en Python son directorios que contienen módulos relacionados, permitiendo una organización más avanzada del código. Son una extensión natural de los módulos y nos ayudan a estructurar proyectos más grandes y complejos.\n",
    "\n",
    "    * Un paquete es simplemente un directorio que contiene un archivo especial llamado __init__.py. Este archivo es obligatorio y se utiliza para convertir el directorio en un paquete válido de Python. Puedes dejarlo en blanco, pero también puede contener código de inicialización o importaciones que se ejecutarán cuando se importe el paquete.\n",
    "    * Los paquetes pueden contener otros paquetes (subpaquetes) y/o módulos. Esto permite una organización jerárquica y modular de tu código.\n",
    "    * Los paquetes nos permiten evitar conflictos de nombres y mantener la cohesión temática entre módulos y subpaquetes. Por ejemplo, si tienes varios módulos con funciones llamadas \"util\", puedes agruparlos en un paquete llamado \"utilidades\" para evitar confusiones.\n",
    "    * La estructura de directorios de los paquetes sigue la estructura de los nombres de los paquetes. Por ejemplo, si tienes un paquete llamado \"mi_paquete\" que contiene un módulo llamado \"mi_modulo\", la estructura de directorios sería: mi_paquete/ mi_modulo.py.\n",
    "    * Para importar módulos desde un paquete, se utiliza la sintaxis de puntos. Por ejemplo, si tienes un paquete llamado \"mi_paquete\" que contiene un módulo llamado \"mi_modulo\", la importación se vería así: from mi_paquete import mi_modulo.\n"
   ]
  },
  {
   "cell_type": "code",
   "execution_count": 92,
   "metadata": {},
   "outputs": [
    {
     "name": "stdout",
     "output_type": "stream",
     "text": [
      "c:\\Users\\Lenovo\\Documents\\Genosis\\Python ML\\Python\\Tema5\\mi_paquete\n",
      "Listado de rutas de carpetas para el volumen Windows\n",
      "El n�mero de serie del volumen es A21E-74D6\n",
      "C:.\n",
      "�   modulo1.py\n",
      "�   modulo2.py\n",
      "�   __init__.py\n",
      "�   \n",
      "����subpaquete1\n",
      "�   �   modulo4.py\n",
      "�   �   __init__.py\n",
      "�   �   \n",
      "�   ����__pycache__\n",
      "�           modulo4.cpython-311.pyc\n",
      "�           __init__.cpython-311.pyc\n",
      "�           \n",
      "����subpaquete2\n",
      "�       modulo5.py\n",
      "�       __init__.py\n",
      "�       \n",
      "����__pycache__\n",
      "        modulo1.cpython-311.pyc\n",
      "        modulo2.cpython-311.pyc\n",
      "        __init__.cpython-311.pyc\n",
      "        \n",
      "c:\\Users\\Lenovo\\Documents\\Genosis\\Python ML\\Python\\Tema5\n"
     ]
    }
   ],
   "source": [
    "# Ejemplo de estructura de modulos\n",
    "%cd ./mi_paquete\n",
    "!tree /f\n",
    "\n",
    "%cd .."
   ]
  },
  {
   "cell_type": "code",
   "execution_count": 59,
   "metadata": {},
   "outputs": [
    {
     "name": "stdout",
     "output_type": "stream",
     "text": [
      "Suma: 8\n",
      "Resta: 6\n",
      "Resta: 12\n"
     ]
    }
   ],
   "source": [
    "from mi_paquete import modulo1, modulo2\n",
    "from mi_paquete.subpaquete1 import modulo4\n",
    "\n",
    "resultado = modulo1.suma(5, 3)\n",
    "print(\"Suma:\", resultado)\n",
    "\n",
    "resultado = modulo2.resta(10, 4)\n",
    "print(\"Resta:\", resultado)\n",
    "\n",
    "resultado = modulo4.multiplicacion(6, 2)\n",
    "print(\"Resta:\", resultado)\n"
   ]
  },
  {
   "cell_type": "markdown",
   "metadata": {},
   "source": [
    "**Paquetes como contenedores de módulos relacionados:**\n",
    "•\tMejora la cohesión: Al agrupar módulos que comparten una temática o funcionalidad común en un paquete, aumentamos la cohesión del código. Esto significa que los módulos dentro del paquete están relacionados lógicamente y tienen una responsabilidad similar, lo que facilita el mantenimiento y la comprensión del proyecto.\n",
    "\n",
    "•\t**Organización lógica:** Los paquetes permiten una organización más lógica de los módulos, lo que simplifica la navegación y búsqueda de funcionalidades específicas en un proyecto más grande. En lugar de tener todos los módulos en un solo directorio, los paquetes nos permiten dividir el código en unidades más manejables.\n",
    "\n",
    "•\t**Evitar conflictos de nombres:** Al agrupar módulos relacionados en un paquete, se evitan conflictos de nombres entre funciones y clases que pueden tener el mismo nombre, pero con propósitos diferentes. Cada paquete proporciona un espacio de nombres independiente.\n",
    "\n",
    "•\t**Reutilización y mantenibilidad:** Los paquetes facilitan la reutilización del código en diferentes proyectos, ya que puedes importar y utilizar todo el paquete o módulos individuales donde sea necesario. Esto también mejora la mantenibilidad, ya que los cambios en un módulo relacionado conllevan una menor probabilidad de afectar otros módulos no relacionados.\n",
    "\n",
    "•\t**Facilita la colaboración en equipo:** Al utilizar paquetes, la colaboración en equipo se vuelve más sencilla, ya que los desarrolladores pueden trabajar en módulos y paquetes específicos sin afectar otras partes del proyecto. Además, los paquetes proporcionan una estructura clara y definida que ayuda a los miembros del equipo a comprender la arquitectura general del proyecto. \n"
   ]
  },
  {
   "cell_type": "markdown",
   "metadata": {},
   "source": [
    "## 3.\tProgramación Orientada a Objetos\n",
    "La Programación Orientada a Objetos (POO) es un paradigma de programación que se centra en organizar y estructurar el código en torno a objetos. Un objeto es una representación concreta de una entidad del mundo real que posee características y comportamientos. La POO busca modelar el mundo real en el código, lo que facilita la creación de programas más mantenibles, escalables y reutilizables."
   ]
  },
  {
   "cell_type": "markdown",
   "metadata": {},
   "source": [
    "### 3.1.\tClase y Objeto: \n",
    ">- Una **clase** en la POO es una plantilla o molde que define la estructura y el comportamiento de los objetos que se van a crear. La estructura de una clase se compone de atributos y métodos. Los atributos son variables que representan las características del objeto, mientras que los métodos son funciones que definen el comportamiento del objeto. Una clase puede tener uno o varios constructores, que son métodos especiales utilizados para inicializar los atributos del objeto cuando se crea una nueva instancia de la clase.\n",
    ">- Un **objeto** es una instancia concreta de una clase. Representa un elemento específico del mundo real y tiene sus propios valores para los atributos definidos en la clase. Los objetos se crean a partir de una clase usando la sintaxis de llamada a la clase con paréntesis. Cada objeto creado a partir de la misma clase tendrá sus propios valores para los atributos.\n"
   ]
  },
  {
   "cell_type": "code",
   "execution_count": 58,
   "metadata": {},
   "outputs": [
    {
     "name": "stdout",
     "output_type": "stream",
     "text": [
      "Hola, mi nombre es Juan y tengo 30 años.\n"
     ]
    }
   ],
   "source": [
    "class Persona:\n",
    "    def saludar(self, nombre, edad):\n",
    "        print(f\"Hola, mi nombre es {nombre} y tengo {edad} años.\")\n",
    "\n",
    "persona = Persona()\n",
    "persona.saludar(\"Juan\", 30)\n"
   ]
  },
  {
   "cell_type": "markdown",
   "metadata": {},
   "source": [
    "### 3.2.\tEncapsulación: \n",
    ">La encapsulación es un concepto clave en la POO que permite ocultar los detalles internos de un objeto y exponer solo las funcionalidades necesarias para interactuar con él. En Python, la encapsulación se logra mediante el uso de atributos y métodos con modificadores de acceso como public, private o protected (aunque en Python no existen modificadores de acceso estrictos).\n"
   ]
  },
  {
   "cell_type": "code",
   "execution_count": 56,
   "metadata": {},
   "outputs": [],
   "source": [
    "class Persona:\n",
    "    def __init__(self, nombre, edad):\n",
    "        self._nombre = nombre\n",
    "        self._edad = edad\n",
    "\n",
    "    def saludar(self):\n",
    "        print(f\"Hola, mi nombre es {self._nombre} y tengo {self._edad} años.\")\n"
   ]
  },
  {
   "cell_type": "code",
   "execution_count": 57,
   "metadata": {},
   "outputs": [
    {
     "name": "stdout",
     "output_type": "stream",
     "text": [
      "Hola, mi nombre es Tema5 y tengo 5 años.\n"
     ]
    }
   ],
   "source": [
    "persona = Persona(nombre = 'Tema5'\n",
    "                  , edad = 5)\n",
    "\n",
    "persona.saludar()"
   ]
  },
  {
   "cell_type": "markdown",
   "metadata": {},
   "source": [
    "Se utiliza una convención para indicar que un atributo o método es privado o interno, mediante el uso de un guión bajo al inicio del nombre, como _atributo o _metodo. _ _ init _ _ es un método especial en Python que se llama automáticamente cuando se crea una nueva instancia (objeto) de una clase. Es conocido como el \"constructor\" de la clase. El nombre _ _ init _ _ es un nombre reservado en Python para este método."
   ]
  },
  {
   "cell_type": "markdown",
   "metadata": {},
   "source": [
    "### 3.3.\tAbstracción\n",
    ">La abstracción es un principio que permite simplificar y representar objetos complejos del mundo real mediante clases con atributos y métodos. Al utilizar la abstracción, podemos enfocarnos solo en las características y comportamientos relevantes de un objeto y omitir los detalles innecesarios.\n"
   ]
  },
  {
   "cell_type": "code",
   "execution_count": 54,
   "metadata": {},
   "outputs": [],
   "source": [
    "# Definición de la clase Coche con abstracción\n",
    "\n",
    "class Coche:\n",
    "    def __init__(self, modelo, color):\n",
    "        self.modelo = modelo\n",
    "        self.color = color\n",
    "        self.velocidad = 0\n",
    "\n",
    "    def acelerar(self, incremento):\n",
    "        self.velocidad += incremento\n",
    "\n",
    "    def frenar(self, decremento):\n",
    "        if self.velocidad >= decremento:\n",
    "            self.velocidad -= decremento\n",
    "        else:\n",
    "            self.velocidad = 0"
   ]
  },
  {
   "cell_type": "code",
   "execution_count": 53,
   "metadata": {},
   "outputs": [
    {
     "name": "stdout",
     "output_type": "stream",
     "text": [
      "Velocidad actual: 30\n",
      "Velocidad actual después de frenar: 20\n"
     ]
    }
   ],
   "source": [
    "# Uso de la clase Coche\n",
    "\n",
    "# Creamos una instancia del coche\n",
    "mi_coche = Coche(\"Sedan\", \"Rojo\")\n",
    "\n",
    "# Aceleramos el coche\n",
    "mi_coche.acelerar(30)\n",
    "print(\"Velocidad actual:\", mi_coche.velocidad)\n",
    "\n",
    "# Frenamos el coche\n",
    "mi_coche.frenar(10)\n",
    "print(\"Velocidad actual después de frenar:\", mi_coche.velocidad)"
   ]
  },
  {
   "cell_type": "markdown",
   "metadata": {},
   "source": [
    "### 3.4.\tHerencia\n",
    ">- La herencia es un mecanismo mediante el cual una clase (denominada \"clase hija\" o \"subclase\") puede heredar atributos y métodos de otra clase (denominada \"clase padre\" o \"superclase\"). Esto permite reutilizar código y crear jerarquías de clases.\n",
    ">- En Python, la herencia se especifica entre paréntesis al definir una clase. La clase hija tendrá acceso a los atributos y métodos públicos y protegidos de la clase padre. Esto facilita la creación de clases especializadas que comparten características con la clase padre pero también pueden tener sus propias funcionalidades adicionales.\n"
   ]
  },
  {
   "cell_type": "code",
   "execution_count": 52,
   "metadata": {},
   "outputs": [],
   "source": [
    "class Animal:\n",
    "    def __init__(self, nombre):\n",
    "        self.nombre = nombre\n",
    "\n",
    "    def emitir_sonido(self):\n",
    "        pass  # Los animales generalmente no hacen sonidos específicos, esta es una clase abstracta\n",
    "\n",
    "class Perro(Animal):\n",
    "    def __init__(self, nombre, raza):\n",
    "        super().__init__(nombre)\n",
    "        self.raza = raza\n",
    "\n",
    "    def emitir_sonido(self):\n",
    "        return \"Guau, guau!\"\n"
   ]
  },
  {
   "cell_type": "markdown",
   "metadata": {},
   "source": [
    "### 3.5.\tPolimorfismo\n",
    ">El polimorfismo es la capacidad de diferentes clases de responder a una misma función o método de manera diferente. Esto permite utilizar un mismo método con diferentes objetos y obtener comportamientos distintos según el tipo de objeto.\n",
    "El polimorfismo se logra a través del uso de la herencia y la sobrescritura de métodos. Cuando una clase hija redefine un método de la clase padre, se dice que está sobrescribiendo el método y el comportamiento se adapta al de la clase hija.\n"
   ]
  },
  {
   "cell_type": "code",
   "execution_count": 1,
   "metadata": {},
   "outputs": [],
   "source": [
    "class Figura:\n",
    "    def calcular_area(self):\n",
    "        pass\n",
    "\n",
    "class Circulo(Figura):\n",
    "    def __init__(self, radio):\n",
    "        self.radio = radio\n",
    "\n",
    "    def calcular_area(self):\n",
    "        return 3.1416 * self.radio**2\n",
    "\n",
    "class Cuadrado(Figura):\n",
    "    def __init__(self, lado):\n",
    "        self.lado = lado\n",
    "\n",
    "    def calcular_area(self):\n",
    "        return self.lado**2\n"
   ]
  },
  {
   "cell_type": "code",
   "execution_count": 10,
   "metadata": {},
   "outputs": [
    {
     "name": "stdout",
     "output_type": "stream",
     "text": [
      "Área del cuadrado: 16\n"
     ]
    }
   ],
   "source": [
    "cuadrado = Cuadrado(4) \n",
    "area_cuadrado = cuadrado.calcular_area()\n",
    "print(\"Área del cuadrado:\", area_cuadrado)"
   ]
  },
  {
   "cell_type": "markdown",
   "metadata": {},
   "source": [
    "## 4.\tEncapsulación y Abstracción\n",
    "Encapsulación y Abstracción son dos conceptos fundamentales en la Programación Orientada a Objetos (POO). A continuación, profundizaremos en cada uno de ellos y también hablaremos sobre la creación de interfaces y clases abstractas, así como la herencia y la creación de jerarquías de clases\n",
    "\n",
    "La encapsulación es un mecanismo que permite ocultar los detalles internos de un objeto y proteger sus atributos y métodos para que solo puedan ser accedidos o modificados a través de métodos específicos. Es un principio clave para mantener la integridad de los datos y para evitar modificaciones no autorizadas o accidentales desde el exterior de la clase.\n",
    "En Python, a diferencia de otros lenguajes de programación que tienen modificadores de acceso explícitos (como public, private y protected), el encapsulamiento se logra mediante convenciones y el uso de guiones bajos en el nombre de los atributos y métodos.\n",
    "\n",
    "    - Atributos privados: Se definen con un guion bajo al inicio del nombre del atributo, como _nombre_atributo. Esto indica que el atributo debería ser tratado como privado, y no se debería acceder o modificar directamente desde fuera de la clase.\n",
    "    - Métodos privados: Se definen de manera similar con un guion bajo al inicio del nombre del método, como _nombre_metodo(). Los métodos privados son utilizados generalmente para realizar operaciones internas dentro de la clase.\n"
   ]
  },
  {
   "cell_type": "markdown",
   "metadata": {},
   "source": [
    "### 4.1.\tMétodos getter y setter:\n",
    "> Los métodos getter y setter son métodos públicos que se utilizan para acceder y modificar los atributos privados de una clase de manera controlada. Los getter obtienen el valor de un atributo y los setter permiten cambiar el valor de un atributo, asegurando que se realicen validaciones u operaciones adicionales si es necesario.\n",
    "> En Python, los getter y setter se definen utilizando el decorador @property para el getter y @nombre_atributo.setter para el setter.\n"
   ]
  },
  {
   "cell_type": "code",
   "execution_count": 11,
   "metadata": {},
   "outputs": [],
   "source": [
    "class Persona:\n",
    "    def __init__(self, nombre, edad):\n",
    "        self._nombre = nombre\n",
    "        self._edad = edad\n",
    "\n",
    "    @property\n",
    "    def nombre(self):\n",
    "        return self._nombre\n",
    "\n",
    "    @nombre.setter\n",
    "    def nombre(self, nuevo_nombre):\n",
    "        self._nombre = nuevo_nombre"
   ]
  },
  {
   "cell_type": "code",
   "execution_count": 14,
   "metadata": {},
   "outputs": [
    {
     "name": "stdout",
     "output_type": "stream",
     "text": [
      "Juan\n",
      "Pedro\n"
     ]
    }
   ],
   "source": [
    "persona = Persona(\"Juan\", 30)\n",
    "print(persona.nombre)  # Salida: \"Juan\"\n",
    "persona.nombre = \"Pedro\"\n",
    "print(persona.nombre)  # Salida: \"Pedro\""
   ]
  },
  {
   "cell_type": "markdown",
   "metadata": {},
   "source": [
    "### 4.2.\tAbstracción:\n",
    ">La abstracción es el proceso de identificar las características y comportamientos esenciales de un objeto del mundo real y representarlos en forma de clases y métodos. Permite enfocarse en los aspectos relevantes del objeto y ocultar los detalles innecesarios.\n"
   ]
  },
  {
   "cell_type": "markdown",
   "metadata": {},
   "source": [
    "* **Interfaces:** Una interfaz es una especificación de métodos que deben ser implementados por las clases que la heredan. En Python, las interfaces se definen utilizando clases abstractas con métodos abstractos. Una clase abstracta es una clase que no puede ser instanciada directamente y debe ser subclaseada para ser utilizada."
   ]
  },
  {
   "cell_type": "code",
   "execution_count": 16,
   "metadata": {},
   "outputs": [],
   "source": [
    "from abc import ABC, abstractmethod\n",
    "\n",
    "class Figura(ABC):\n",
    "    @abstractmethod\n",
    "    def calcular_area(self):\n",
    "        pass"
   ]
  },
  {
   "cell_type": "markdown",
   "metadata": {},
   "source": [
    "* **Clases abstractas:** Una clase abstracta es una clase que contiene uno o más métodos abstractos. Estas clases se utilizan para proporcionar una estructura común para las clases que la heredan, pero no se pueden instanciar directamente."
   ]
  },
  {
   "cell_type": "code",
   "execution_count": 17,
   "metadata": {},
   "outputs": [],
   "source": [
    "class Figura(ABC):\n",
    "    @abstractmethod\n",
    "    def calcular_area(self):\n",
    "        pass\n",
    "\n",
    "class Cuadrado(Figura):\n",
    "    def __init__(self, lado):\n",
    "        self.lado = lado\n",
    "\n",
    "    def calcular_area(self):\n",
    "        return self.lado**2\n",
    "    \n",
    "class Circulo(Figura):\n",
    "    def __init__(self, radio):\n",
    "        self.radio = radio\n",
    "\n",
    "    def calcular_area(self):\n",
    "        return 3.1416 * self.radio ** 2"
   ]
  },
  {
   "cell_type": "code",
   "execution_count": 18,
   "metadata": {},
   "outputs": [
    {
     "name": "stdout",
     "output_type": "stream",
     "text": [
      "Área del cuadrado: 25\n",
      "Área del círculo: 28.2744\n"
     ]
    }
   ],
   "source": [
    "# No se puede instanciar directamente una clase abstracta\n",
    "# figura = Figura()  # Esto generaría un TypeError\n",
    "\n",
    "# Creamos objetos de las clases concretas\n",
    "cuadrado = Cuadrado(5)\n",
    "circulo = Circulo(3)\n",
    "\n",
    "# Llamamos al método calcular_area de cada objeto\n",
    "print(\"Área del cuadrado:\", cuadrado.calcular_area())\n",
    "print(\"Área del círculo:\", circulo.calcular_area())"
   ]
  },
  {
   "cell_type": "markdown",
   "metadata": {},
   "source": [
    "## 5.\tPolimorfismo y Composición\n",
    "El polimorfismo es un concepto fundamental en la Programación Orientada a Objetos (POO) que se refiere a la capacidad de diferentes clases de responder a una misma función o método de manera diferente. En otras palabras, diferentes objetos pueden interpretar un mismo mensaje o invocar un mismo método, pero actuarán de forma particular según su tipo o clase.\n",
    "El polimorfismo permite tratar objetos de distintas clases de manera uniforme, lo que facilita la reutilización de código y mejora la flexibilidad del diseño. Gracias al polimorfismo, podemos crear código más genérico y fácil de mantener, ya que podemos utilizar un mismo método para diferentes objetos sin preocuparnos por su tipo específico.\n"
   ]
  },
  {
   "cell_type": "markdown",
   "metadata": {},
   "source": [
    "**A.\tAplicaciones del polimorfismo:**\n",
    ">- **Sobrescritura de métodos:** En la herencia, una subclase puede redefinir (sobrescribir) un método heredado de su clase padre para ajustarlo a su comportamiento específico. Esto permite que un método con el mismo nombre en diferentes clases tenga un comportamiento diferente.\n",
    ">- **Interfaces:** Al definir una interfaz, especificamos qué métodos deben implementar las clases que la heredan. Cada clase puede proporcionar su propia implementación de los métodos, permitiendo que diferentes clases interactúen de manera polimórfica a través de la interfaz.\n",
    ">- **Polimorfismo paramétrico:** Al utilizar genéricos o plantillas (dependiendo del lenguaje de programación), podemos crear estructuras de datos o clases que trabajen con diferentes tipos de datos. Esto permite reutilizar el mismo código para diferentes tipos de objetos.\n"
   ]
  },
  {
   "cell_type": "markdown",
   "metadata": {},
   "source": [
    "**B.\tSobrecarga de métodos y operadores:**\n",
    ">La sobrecarga de métodos y operadores es la capacidad de definir múltiples métodos con el mismo nombre o operador, pero con diferentes parámetros o comportamientos. Esto se denomina polimorfismo ad-hoc, ya que el método o el operador actuará de manera diferente según los parámetros con los que se llame.\n",
    "\n",
    ">En Python, no se permite la verdadera sobrecarga de métodos en el sentido de otros lenguajes como Java o C++, donde se pueden definir múltiples métodos con el mismo nombre y diferentes listas de argumentos. Sin embargo, Python sí permite el uso de valores predeterminados en los argumentos, lo que da lugar a un comportamiento similar a la sobrecarga.\n"
   ]
  },
  {
   "cell_type": "code",
   "execution_count": 19,
   "metadata": {},
   "outputs": [],
   "source": [
    "class Calculadora:\n",
    "    def sumar(self, a, b):\n",
    "        return a + b\n",
    "\n",
    "    def sumar(self, a, b, c):\n",
    "        return a + b + c"
   ]
  },
  {
   "cell_type": "code",
   "execution_count": 21,
   "metadata": {},
   "outputs": [],
   "source": [
    "# Creamos un objeto de la clase Calculadora\n",
    "calc = Calculadora()"
   ]
  },
  {
   "cell_type": "code",
   "execution_count": 25,
   "metadata": {},
   "outputs": [
    {
     "ename": "TypeError",
     "evalue": "Calculadora.sumar() missing 1 required positional argument: 'c'",
     "output_type": "error",
     "traceback": [
      "\u001b[1;31m---------------------------------------------------------------------------\u001b[0m",
      "\u001b[1;31mTypeError\u001b[0m                                 Traceback (most recent call last)",
      "\u001b[1;32m~\\AppData\\Local\\Temp\\ipykernel_19172\\43529368.py\u001b[0m in \u001b[0;36m<cell line: 3>\u001b[1;34m()\u001b[0m\n\u001b[0;32m      1\u001b[0m \u001b[1;31m# Llamamos a los métodos sumar con diferente cantidad de argumentos\u001b[0m\u001b[1;33m\u001b[0m\u001b[1;33m\u001b[0m\u001b[0m\n\u001b[0;32m      2\u001b[0m \u001b[1;31m# Salida: Error, ya que falta un argumento para el segundo método sumar\u001b[0m\u001b[1;33m\u001b[0m\u001b[1;33m\u001b[0m\u001b[0m\n\u001b[1;32m----> 3\u001b[1;33m \u001b[0mprint\u001b[0m\u001b[1;33m(\u001b[0m\u001b[0mcalc\u001b[0m\u001b[1;33m.\u001b[0m\u001b[0msumar\u001b[0m\u001b[1;33m(\u001b[0m\u001b[1;36m2\u001b[0m\u001b[1;33m,\u001b[0m \u001b[1;36m3\u001b[0m\u001b[1;33m)\u001b[0m\u001b[1;33m)\u001b[0m\u001b[1;33m\u001b[0m\u001b[1;33m\u001b[0m\u001b[0m\n\u001b[0m",
      "\u001b[1;31mTypeError\u001b[0m: Calculadora.sumar() missing 1 required positional argument: 'c'"
     ]
    }
   ],
   "source": [
    "# Llamamos a los métodos sumar con diferente cantidad de argumentos\n",
    "# Salida: Error, ya que falta un argumento para el segundo método sumar\n",
    "print(calc.sumar(2, 3))      "
   ]
  },
  {
   "cell_type": "code",
   "execution_count": 26,
   "metadata": {},
   "outputs": [
    {
     "name": "stdout",
     "output_type": "stream",
     "text": [
      "10\n"
     ]
    }
   ],
   "source": [
    "# Salida: 10, se llama al segundo método sumar\n",
    "print(calc.sumar(2, 3, 5))   "
   ]
  },
  {
   "cell_type": "markdown",
   "metadata": {},
   "source": [
    "**C.\tComposición: Relación entre objetos**\n",
    ">La composición es una relación entre objetos en la que un objeto contiene o está compuesto por otros objetos. Es una forma de asociación entre clases, donde una clase es \"compuesta\" por instancias de otras clases. La composición permite crear objetos complejos mediante la combinación de objetos más simples y reutilizar código de manera efectiva.\n",
    "La relación entre los objetos es generalmente una relación \"tiene un\" o \"está compuesto por\". Esto significa que un objeto puede tener otros objetos como atributos, y estos objetos están completamente contenidos dentro del objeto principal.\n"
   ]
  },
  {
   "cell_type": "code",
   "execution_count": 27,
   "metadata": {},
   "outputs": [],
   "source": [
    "class Motor:\n",
    "    def encender(self):\n",
    "        print(\"Motor encendido\")\n",
    "\n",
    "    def apagar(self):\n",
    "        print(\"Motor apagado\")\n",
    "\n",
    "class Auto:\n",
    "    def __init__(self):\n",
    "        self.motor = Motor()\n",
    "\n",
    "    def encender_auto(self):\n",
    "        self.motor.encender()\n",
    "\n",
    "    def apagar_auto(self):\n",
    "        self.motor.apagar()"
   ]
  },
  {
   "cell_type": "code",
   "execution_count": 28,
   "metadata": {},
   "outputs": [
    {
     "name": "stdout",
     "output_type": "stream",
     "text": [
      "Motor encendido\n",
      "Motor apagado\n"
     ]
    }
   ],
   "source": [
    "auto = Auto()\n",
    "auto.encender_auto()  # Salida: \"Motor encendido\"\n",
    "auto.apagar_auto()    # Salida: \"Motor apagado\""
   ]
  },
  {
   "cell_type": "markdown",
   "metadata": {},
   "source": [
    "**Ejemplo de Uso de clases y objetos en un escenario práctico:**\n",
    "Imaginemos un escenario práctico en el que estamos desarrollando un sistema para una biblioteca. Podríamos modelar este sistema utilizando clases y objetos de la siguiente manera:\n"
   ]
  },
  {
   "cell_type": "code",
   "execution_count": 29,
   "metadata": {},
   "outputs": [],
   "source": [
    "class Libro:\n",
    "    def __init__(self, titulo, autor):\n",
    "        self.titulo = titulo\n",
    "        self.autor = autor\n",
    "\n",
    "class Biblioteca:\n",
    "    def __init__(self):\n",
    "        self.libros = []\n",
    "\n",
    "    def agregar_libro(self, libro):\n",
    "        self.libros.append(libro)\n",
    "\n",
    "    def mostrar_libros(self):\n",
    "        for libro in self.libros:\n",
    "            print(f\"{libro.titulo} - {libro.autor}\")"
   ]
  },
  {
   "cell_type": "code",
   "execution_count": 30,
   "metadata": {},
   "outputs": [
    {
     "name": "stdout",
     "output_type": "stream",
     "text": [
      "El principito - Antoine de Saint-Exupéry\n",
      "Don Quijote de la Mancha - Miguel de Cervantes\n"
     ]
    }
   ],
   "source": [
    "# Crear algunos libros\n",
    "libro1 = Libro(\"El principito\", \"Antoine de Saint-Exupéry\")\n",
    "libro2 = Libro(\"Don Quijote de la Mancha\", \"Miguel de Cervantes\")\n",
    "\n",
    "# Crear una biblioteca\n",
    "biblioteca = Biblioteca()\n",
    "\n",
    "# Agregar libros a la biblioteca\n",
    "biblioteca.agregar_libro(libro1)\n",
    "biblioteca.agregar_libro(libro2)\n",
    "\n",
    "# Mostrar los libros en la biblioteca\n",
    "biblioteca.mostrar_libros()"
   ]
  },
  {
   "cell_type": "markdown",
   "metadata": {},
   "source": [
    "En este escenario, hemos creado dos clases: Libro y Biblioteca. La clase Libro representa un libro con atributos titulo y autor, mientras que la clase Biblioteca representa una colección de libros con un atributo libros que es una lista de objetos Libro. La clase Biblioteca tiene métodos para agregar libros a la biblioteca y mostrar la lista de libros que contiene."
   ]
  },
  {
   "cell_type": "markdown",
   "metadata": {},
   "source": [
    "## 6.\tHerencia y Polimorfismo\n"
   ]
  },
  {
   "cell_type": "markdown",
   "metadata": {},
   "source": [
    "**A.\tHerencia múltiple y resolución de conflictos**\n",
    ">En Python, es posible realizar herencia múltiple mediante la declaración de una clase que herede de dos o más clases superiores. Sin embargo, cuando una clase hereda de varias clases superiores que tienen métodos o atributos con el mismo nombre, puede surgir un conflicto en cuanto a cuál método o atributo debe utilizar la clase hija.\n"
   ]
  },
  {
   "cell_type": "code",
   "execution_count": 31,
   "metadata": {},
   "outputs": [],
   "source": [
    "class A:\n",
    "    def metodo(self):\n",
    "        print(\"Método de clase A\")\n",
    "\n",
    "class B:\n",
    "    def metodo(self):\n",
    "        print(\"Método de clase B\")\n",
    "\n",
    "class C(A, B):\n",
    "    pass\n"
   ]
  },
  {
   "cell_type": "code",
   "execution_count": 32,
   "metadata": {},
   "outputs": [
    {
     "name": "stdout",
     "output_type": "stream",
     "text": [
      "Método de clase A\n"
     ]
    }
   ],
   "source": [
    "objeto_c = C()\n",
    "objeto_c.metodo()"
   ]
  },
  {
   "cell_type": "markdown",
   "metadata": {},
   "source": [
    "**B.\tClases abstractas y herencia múltiple**\n",
    ">En Python, podemos implementar clases abstractas utilizando el módulo abc y la clase ABC como base. Un método abstracto es un método que se declara en la clase abstracta pero no se proporciona una implementación. Las clases hijas deben implementar los métodos abstractos de la clase abstracta.\n"
   ]
  },
  {
   "cell_type": "code",
   "execution_count": 35,
   "metadata": {},
   "outputs": [],
   "source": [
    "from abc import ABC, abstractmethod\n",
    "\n",
    "class Figura(ABC):\n",
    "    @abstractmethod\n",
    "    def calcular_area(self):\n",
    "        pass\n",
    "\n",
    "class Cuadrado(Figura):\n",
    "    def __init__(self, lado):\n",
    "        self.lado = lado\n",
    "\n",
    "    def calcular_area(self):\n",
    "        return self.lado ** 2\n",
    "\n",
    "class Circulo(Figura):\n",
    "    def __init__(self, radio):\n",
    "        self.radio = radio\n",
    "\n",
    "    def calcular_area(self):\n",
    "        return 3.1416 * self.radio ** 2\n",
    "\n",
    "class Triangulo(Figura):\n",
    "    def __init__(self, base, altura):\n",
    "        self.base = base\n",
    "        self.altura = altura\n",
    "\n",
    "    def calcular_area(self):\n",
    "        return (self.base * self.altura) / 2\n"
   ]
  },
  {
   "cell_type": "code",
   "execution_count": 36,
   "metadata": {},
   "outputs": [],
   "source": [
    "# Crear objetos de las clases que implementan la clase abstracta Figura\n",
    "cuadrado = Cuadrado(5)\n",
    "circulo = Circulo(3)\n",
    "triangulo = Triangulo(4, 6)"
   ]
  },
  {
   "cell_type": "code",
   "execution_count": 37,
   "metadata": {},
   "outputs": [
    {
     "name": "stdout",
     "output_type": "stream",
     "text": [
      "Área del cuadrado: 25\n",
      "Área del círculo: 28.2744\n",
      "Área del triángulo: 12.0\n"
     ]
    }
   ],
   "source": [
    "# Llamamos al método calcular_area con diferentes objetos\n",
    "print(\"Área del cuadrado:\", cuadrado.calcular_area())\n",
    "print(\"Área del círculo:\", circulo.calcular_area())\n",
    "print(\"Área del triángulo:\", triangulo.calcular_area())"
   ]
  },
  {
   "cell_type": "markdown",
   "metadata": {},
   "source": [
    "**C.\tPolimorfismo con interfaces:**\n",
    ">El polimorfismo con interfaces se logra mediante la implementación de interfaces por parte de diferentes clases. Una interfaz define una lista de métodos que deben ser implementados por las clases que la heredan, pero no proporciona una implementación concreta de esos métodos.\n"
   ]
  },
  {
   "cell_type": "code",
   "execution_count": 39,
   "metadata": {},
   "outputs": [],
   "source": [
    "from abc import ABC, abstractmethod\n",
    "\n",
    "class Animal(ABC):\n",
    "    @abstractmethod\n",
    "    def hacer_sonido(self):\n",
    "        pass\n",
    "\n",
    "class Perro(Animal):\n",
    "    def hacer_sonido(self):\n",
    "        return \"Guau, guau!\"\n",
    "\n",
    "class Gato(Animal):\n",
    "    def hacer_sonido(self):\n",
    "        return \"Miau, miau!\"\n",
    "\n",
    "def hacer_ruido(animal):\n",
    "    print(animal.hacer_sonido())\n"
   ]
  },
  {
   "cell_type": "code",
   "execution_count": 40,
   "metadata": {},
   "outputs": [
    {
     "name": "stdout",
     "output_type": "stream",
     "text": [
      "Guau, guau!\n",
      "Miau, miau!\n"
     ]
    }
   ],
   "source": [
    "# Crear objetos de las clases que implementan la interfaz Animal\n",
    "perro = Perro()\n",
    "gato = Gato()\n",
    "\n",
    "# Llamamos a la función hacer_ruido con diferentes objetos\n",
    "hacer_ruido(perro)  # Salida: \"Guau, guau!\"\n",
    "hacer_ruido(gato)   # Salida: \"Miau, miau!\""
   ]
  },
  {
   "cell_type": "code",
   "execution_count": null,
   "metadata": {},
   "outputs": [],
   "source": []
  }
 ],
 "metadata": {
  "kernelspec": {
   "display_name": "Python 3 (ipykernel)",
   "language": "python",
   "name": "python3"
  },
  "language_info": {
   "codemirror_mode": {
    "name": "ipython",
    "version": 3
   },
   "file_extension": ".py",
   "mimetype": "text/x-python",
   "name": "python",
   "nbconvert_exporter": "python",
   "pygments_lexer": "ipython3",
   "version": "3.10.5"
  }
 },
 "nbformat": 4,
 "nbformat_minor": 4
}
