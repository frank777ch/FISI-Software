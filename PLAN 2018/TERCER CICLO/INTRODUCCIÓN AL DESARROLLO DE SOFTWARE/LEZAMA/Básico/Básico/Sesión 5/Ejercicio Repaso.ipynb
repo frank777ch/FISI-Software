{
 "cells": [
  {
   "cell_type": "markdown",
   "id": "d0a8e25f",
   "metadata": {},
   "source": [
    "**Ejercicio 1: Módulos y Paquetes**\n",
    ">Crea un módulo llamado \"matematicas\" que contenga una función llamada \"potencia\" que calcule la potencia de un número dado. Luego, crea un paquete llamado \"calculos\" que incluya este módulo y utiliza la función para calcular 2 elevado a la 5."
   ]
  },
  {
   "cell_type": "code",
   "execution_count": null,
   "id": "92f7bcff",
   "metadata": {},
   "outputs": [],
   "source": []
  },
  {
   "cell_type": "markdown",
   "id": "32f995c0",
   "metadata": {},
   "source": [
    "**Ejercicio 2: Programación Orientada a Objetos - Clase y Objeto**\n",
    "> Crea una clase llamada \"Coche\" con atributos de marca y modelo. Luego, crea una instancia de esta clase y muestra la marca y el modelo en la pantalla."
   ]
  },
  {
   "cell_type": "code",
   "execution_count": null,
   "id": "c40a586d",
   "metadata": {},
   "outputs": [],
   "source": []
  },
  {
   "cell_type": "markdown",
   "id": "2661be7c",
   "metadata": {},
   "source": [
    "**Ejercicio 3: Encapsulación y Abstracción - Métodos Getter y Setter**\n",
    ">Mejora la clase \"Coche\" del ejercicio anterior agregando métodos getter y setter para el atributo \"modelo\". Crea una instancia de la clase, cambia el modelo utilizando el método setter y muestra el nuevo modelo."
   ]
  },
  {
   "cell_type": "code",
   "execution_count": null,
   "id": "b921b763",
   "metadata": {},
   "outputs": [],
   "source": []
  },
  {
   "cell_type": "markdown",
   "id": "ba127e11",
   "metadata": {},
   "source": [
    "**Ejercicio 4: Polimorfismo y Composición**\n",
    ">Crea una clase base llamada \"FormaGeometrica\" con un método \"calcular_area\" que no hace nada. Luego, crea tres clases derivadas: \"Triangulo\", \"Circulo\" y \"Rectangulo\", que sobrescriban el método \"calcular_area\" para calcular el área correspondiente de cada figura. Crea instancias de estas clases y muestra sus áreas."
   ]
  },
  {
   "cell_type": "code",
   "execution_count": null,
   "id": "8d80d2c8",
   "metadata": {},
   "outputs": [],
   "source": []
  },
  {
   "cell_type": "markdown",
   "id": "3792b76b",
   "metadata": {},
   "source": [
    "**Ejercicio 5: Herencia y Polimorfismo - Animales y Acciones**\n",
    ">Crea una clase base llamada \"Animal\" con métodos para \"hablar\", \"comer\" y \"moverse\". Luego, crea tres clases derivadas: \"Perro\", \"Gato\" y \"Pajaro\", que implementen estos métodos de manera específica para cada animal. Crea instancias de estas clases y muestra cómo cada animal realiza estas acciones."
   ]
  },
  {
   "cell_type": "code",
   "execution_count": null,
   "id": "ab80cd94",
   "metadata": {},
   "outputs": [],
   "source": []
  },
  {
   "cell_type": "markdown",
   "id": "31d06816",
   "metadata": {},
   "source": [
    "**Ejercicio 6:  Sistema de Empleados**\n",
    ">Crea una jerarquía de clases para un sistema de empleados. Tendrás una clase base \"Empleado\" con atributos como nombre, salario base y un método \"calcular_salario\" que devuelve el salario base. Luego, crea dos clases derivadas: \"EmpleadoPorHoras\" y \"EmpleadoAsalariado\", que sobrescriban el método \"calcular_salario\" para calcular el salario total en base a las horas trabajadas o el salario fijo mensual, respectivamente. Crea instancias de ambas clases y muestra sus salarios."
   ]
  },
  {
   "cell_type": "code",
   "execution_count": null,
   "id": "a6940290",
   "metadata": {},
   "outputs": [],
   "source": []
  },
  {
   "cell_type": "markdown",
   "id": "d8e86dc5",
   "metadata": {},
   "source": [
    "**Ejercicio 7: Cuenta Bancaria Avanzada**\n",
    ">Crea una clase \"CuentaBancaria\" con atributos privados para el saldo y el titular. Utiliza propiedades para acceder a estos atributos y asegurarte de que el saldo no sea negativo. Implementa métodos para depositar, retirar y transferir dinero entre cuentas. Además, agrega un método \"historial\" que registre todas las transacciones realizadas en la cuenta."
   ]
  },
  {
   "cell_type": "code",
   "execution_count": null,
   "id": "1ff965f6",
   "metadata": {},
   "outputs": [],
   "source": []
  },
  {
   "cell_type": "markdown",
   "id": "e21d562c",
   "metadata": {},
   "source": [
    "**Ejercicio 8: Librería de Vectores**\n",
    ">Crea una clase \"Vector\" que represente un vector en dos dimensiones. Sobrecarga los métodos mágicos para permitir la suma, resta, producto escalar y producto vectorial de dos vectores. Además, implementa el método __str__ para imprimir el vector de manera legible. Crea instancias de esta clase y realiza operaciones."
   ]
  },
  {
   "cell_type": "code",
   "execution_count": null,
   "id": "e2e7b9ee",
   "metadata": {},
   "outputs": [],
   "source": []
  },
  {
   "cell_type": "markdown",
   "id": "64a7fd78",
   "metadata": {},
   "source": [
    "**Ejercicio 9: Conversión de Unidades**\n",
    "> Crea un módulo externo llamado \"conversor\" que contenga funciones para convertir entre Celsius y Fahrenheit, y entre kilómetros y millas. Luego, en otro archivo, importa el módulo y utiliza estas funciones para convertir temperaturas y distancias."
   ]
  },
  {
   "cell_type": "code",
   "execution_count": null,
   "id": "c281bc39",
   "metadata": {},
   "outputs": [],
   "source": []
  },
  {
   "cell_type": "markdown",
   "id": "fbf62c3c",
   "metadata": {},
   "source": [
    "**Ejercicio 10: Gestión de Tareas**\n",
    ">Crea un módulo externo llamado \"gestion_tareas\" que contenga una clase \"Tarea\" con atributos como título, descripción y estado (pendiente, en progreso, completada). Implementa métodos para cambiar el estado de una tarea y para mostrar información de la tarea. Luego, en otro archivo, importa el módulo y utiliza la clase para gestionar una lista de tareas."
   ]
  },
  {
   "cell_type": "code",
   "execution_count": null,
   "id": "d17aadf4",
   "metadata": {},
   "outputs": [],
   "source": []
  },
  {
   "cell_type": "markdown",
   "id": "d147b18b",
   "metadata": {},
   "source": [
    "**Ejercicio 11: Sistema de Universidades**\n",
    ">Crea una jerarquía de clases para modelar un sistema de universidades. Tendrás una clase base \"Universidad\" con atributos como nombre y ubicación, y métodos para mostrar información básica. Luego, crea dos clases derivadas: \"UniversidadPublica\" y \"UniversidadPrivada\", que hereden de \"Universidad\" y agreguen atributos y métodos específicos, como la cantidad de estudiantes y el costo de matrícula. Crea instancias de ambas clases y muestra su información."
   ]
  },
  {
   "cell_type": "code",
   "execution_count": null,
   "id": "fb44130f",
   "metadata": {},
   "outputs": [],
   "source": []
  },
  {
   "cell_type": "markdown",
   "id": "d78e3dd2",
   "metadata": {},
   "source": [
    "**Ejercicio 12: Sistema de Empleados Avanzado**\n",
    ">Crea una jerarquía de clases para un sistema de empleados más avanzado. Comienza con una clase base \"Empleado\" que tiene atributos como nombre, salario base y antigüedad. Implementa un método \"calcular_salario\" que incluya un bono basado en la antigüedad. Luego, crea dos clases derivadas: \"EmpleadoTiempoCompleto\" y \"EmpleadoMedioTiempo\", que hereden de \"Empleado\" y agreguen atributos y métodos específicos, como horas trabajadas y tarifa por hora para \"EmpleadoMedioTiempo\", y un bono adicional por productividad para \"EmpleadoTiempoCompleto\". Crea instancias de ambas clases y muestra sus salarios."
   ]
  },
  {
   "cell_type": "code",
   "execution_count": null,
   "id": "bf1f381c",
   "metadata": {},
   "outputs": [],
   "source": []
  }
 ],
 "metadata": {
  "kernelspec": {
   "display_name": "Python 3 (ipykernel)",
   "language": "python",
   "name": "python3"
  },
  "language_info": {
   "codemirror_mode": {
    "name": "ipython",
    "version": 3
   },
   "file_extension": ".py",
   "mimetype": "text/x-python",
   "name": "python",
   "nbconvert_exporter": "python",
   "pygments_lexer": "ipython3",
   "version": "3.11.3"
  }
 },
 "nbformat": 4,
 "nbformat_minor": 5
}
