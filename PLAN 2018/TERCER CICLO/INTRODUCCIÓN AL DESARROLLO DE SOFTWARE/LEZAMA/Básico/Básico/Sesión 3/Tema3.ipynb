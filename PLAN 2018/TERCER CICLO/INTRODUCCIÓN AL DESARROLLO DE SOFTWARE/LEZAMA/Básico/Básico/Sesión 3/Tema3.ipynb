{
 "cells": [
  {
   "cell_type": "markdown",
   "id": "c9687e21",
   "metadata": {},
   "source": [
    "## 2.\tEstructuras de datos\n",
    "\n",
    "Una estructura de datos es una forma de organizar y almacenar datos de manera eficiente en la memoria de una computadora. En Python, contamos con diferentes tipos de estructuras de datos que nos permiten almacenar y manipular información de manera versátil."
   ]
  },
  {
   "cell_type": "markdown",
   "id": "4b9f3a74",
   "metadata": {},
   "source": [
    "### 2.1.\tListas\n",
    ">Una lista es una colección ordenada y modificable de elementos. Puedes almacenar cualquier tipo de dato en una lista, como números, cadenas o incluso otras listas. Las listas se representan con corchetes ([]), y los elementos se separan por comas. Puedes acceder a los elementos de una lista utilizando índices y realizar operaciones como agregar elementos, eliminar elementos o modificar elementos existentes.\n"
   ]
  },
  {
   "cell_type": "markdown",
   "id": "eb55bf78",
   "metadata": {},
   "source": [
    "### Estructura"
   ]
  },
  {
   "cell_type": "markdown",
   "id": "2b5fbb1e",
   "metadata": {},
   "source": [
    "- **Almacenar cualquier tipo de dato:** \n",
    "\n",
    "Puedes almacenar cualquier tipo de dato en una lista. Por ejemplo, puedes tener una lista de números, cadenas, booleanos u otros objetos."
   ]
  },
  {
   "cell_type": "code",
   "execution_count": 1,
   "id": "342a0b9d",
   "metadata": {},
   "outputs": [],
   "source": [
    "# Ejemplo de una lista con diferentes tipos de datos\n",
    "lista = [1, 'Hola', True, 3.14, ['otra', 'lista']]\n"
   ]
  },
  {
   "cell_type": "markdown",
   "id": "19e39aa6",
   "metadata": {},
   "source": [
    "- **Crear listas vacías:**\n",
    "\n",
    "Puedes crear una lista vacía e ir agregando elementos a medida que lo necesites."
   ]
  },
  {
   "cell_type": "code",
   "execution_count": 2,
   "id": "029eedef",
   "metadata": {},
   "outputs": [],
   "source": [
    "# Ejemplo de lista vacía\n",
    "lista_vacia = list()\n",
    "# O también\n",
    "lista_vacia = []\n",
    "\n"
   ]
  },
  {
   "cell_type": "markdown",
   "id": "e03d5857",
   "metadata": {},
   "source": [
    "- **Acceder a posiciones:** \n",
    "\n",
    "Puedes acceder a los elementos de una lista utilizando índices. Los índices comienzan desde 0 para el primer elemento y pueden ser negativos para contar desde el final de la lista."
   ]
  },
  {
   "cell_type": "code",
   "execution_count": 3,
   "id": "370c8842",
   "metadata": {},
   "outputs": [
    {
     "name": "stdout",
     "output_type": "stream",
     "text": [
      "manzana\n",
      "cereza\n"
     ]
    }
   ],
   "source": [
    "# Ejemplo de acceso a elementos de una lista\n",
    "lista = ['manzana', 'banana', 'cereza']\n",
    "print(lista[0])      # Imprime: manzana\n",
    "print(lista[-1])     # Imprime: cereza\n",
    "\n"
   ]
  },
  {
   "cell_type": "markdown",
   "id": "ae18e8fa",
   "metadata": {},
   "source": [
    "- **Rango de índices:** \n",
    "\n",
    "Puedes utilizar el operador de segmentación (:) para obtener un rango de elementos de una lista."
   ]
  },
  {
   "cell_type": "code",
   "execution_count": 4,
   "id": "6940a5b4",
   "metadata": {},
   "outputs": [
    {
     "name": "stdout",
     "output_type": "stream",
     "text": [
      "['b', 'c']\n",
      "['a', 'b']\n",
      "['d', 'e']\n"
     ]
    }
   ],
   "source": [
    "# Ejemplo de rango de índices en una lista\n",
    "lista = ['a', 'b', 'c', 'd', 'e']\n",
    "print(lista[1:3])    # Imprime: ['b', 'c']\n",
    "print(lista[:2])     # Imprime: ['a', 'b']\n",
    "print(lista[3:])     # Imprime: ['d', 'e']\n"
   ]
  },
  {
   "cell_type": "markdown",
   "id": "99fb3edd",
   "metadata": {},
   "source": [
    "### Funciones de Listas\n",
    "* **len(lista):** Devuelve la longitud de la lista, es decir, el número de elementos en la lista.\n",
    "* **lista.append(elemento):** Agrega un elemento al final de la lista.\n",
    "* **lista.insert(posición, elemento):** Inserta un elemento en una posición específica de la lista.\n",
    "* **lista.remove(elemento):** Elimina la primera aparición del elemento en la lista.\n",
    "* **lista.pop([posición]):** Elimina y devuelve el elemento en la posición especificada, o el último elemento si no se proporciona ninguna posición.\n",
    "* **lista.index(elemento):** Devuelve el índice de la primera aparición del elemento en la lista.\n",
    "* **elemento in lista:** Verifica si un elemento está presente en la lista.\n",
    "* **lista.sort():** Ordena los elementos de la lista de forma ascendente.\n",
    "* **lista.reverse():** Invierte el orden de los elementos en la lista.\n"
   ]
  },
  {
   "cell_type": "code",
   "execution_count": 5,
   "id": "7045caed",
   "metadata": {},
   "outputs": [
    {
     "name": "stdout",
     "output_type": "stream",
     "text": [
      "5\n",
      "[5, 2, 8, 1, 10, 4]\n",
      "[5, 2, 7, 8, 1, 10, 4]\n",
      "[5, 2, 7, 1, 10, 4]\n",
      "1\n",
      "[5, 2, 7, 10, 4]\n",
      "True\n",
      "[2, 4, 5, 7, 10]\n",
      "[10, 7, 5, 4, 2]\n"
     ]
    }
   ],
   "source": [
    "numeros = [5, 2, 8, 1, 10]\n",
    "\n",
    "print(len(numeros))      # Imprime: 5\n",
    "numeros.append(4)\n",
    "print(numeros)           # Imprime: [5, 2, 8, 1, 10, 4]\n",
    "numeros.insert(2, 7)\n",
    "print(numeros)           # Imprime: [5, 2, 7, 8, 1, 10, 4]\n",
    "numeros.remove(8)\n",
    "print(numeros)           # Imprime: [5, 2, 7, 1, 10, 4]\n",
    "elemento = numeros.pop(3)\n",
    "print(elemento)          # Imprime: 1\n",
    "print(numeros)           # Imprime: [5, 2, 7, 10, 4]\n",
    "print(2 in numeros)      # Imprime: True\n",
    "numeros.sort()\n",
    "print(numeros)           # Imprime: [2, 4, 5, 7, 10]\n",
    "numeros.reverse()\n",
    "print(numeros)           # Imprime: [10, 7, 5, 4, 2]\n"
   ]
  },
  {
   "cell_type": "markdown",
   "id": "fb1f9c1c",
   "metadata": {},
   "source": [
    "### 2.2.\tTuplas\n",
    "\n",
    ">Una tupla es similar a una lista, pero es inmutable, lo que significa que no se pueden modificar una vez creadas. Las tuplas se representan con paréntesis (()), y los elementos se separan por comas. Aunque no se pueden modificar, las tuplas son útiles cuando necesitas almacenar datos que no deben cambiar, como coordenadas geográficas.\n"
   ]
  },
  {
   "cell_type": "markdown",
   "id": "5b38efd7",
   "metadata": {},
   "source": [
    "### Estructura"
   ]
  },
  {
   "cell_type": "markdown",
   "id": "fb29a6fd",
   "metadata": {},
   "source": [
    "- **Almacenar datos inmutables:**\n",
    "\n",
    "Las tuplas se utilizan para almacenar datos que no deben modificarse después de su creación, como coordenadas o datos constantes."
   ]
  },
  {
   "cell_type": "code",
   "execution_count": 6,
   "id": "129d8ee9",
   "metadata": {},
   "outputs": [],
   "source": [
    "# Ejemplo de una tupla de coordenadas\n",
    "coordenadas = (10, 20)\n"
   ]
  },
  {
   "cell_type": "markdown",
   "id": "1561015c",
   "metadata": {},
   "source": [
    "\n",
    "* **Crear Tupla vacía**\n",
    "\n",
    "Para crear una tupla vacía, puedes utilizar la función tuple() sin pasar ningún argumento."
   ]
  },
  {
   "cell_type": "code",
   "execution_count": 7,
   "id": "b3fba33b",
   "metadata": {},
   "outputs": [],
   "source": [
    "# Ejemplo de tupla vacía\n",
    "tupla_vacia = tuple()\n",
    "\n",
    "# O también\n",
    "tupla_vacia = ()\n"
   ]
  },
  {
   "cell_type": "markdown",
   "id": "5ba4e997",
   "metadata": {},
   "source": [
    "- **Acceder a elementos:**\n",
    "\n",
    "Puedes acceder a los elementos de una tupla utilizando índices de la misma manera que en las listas."
   ]
  },
  {
   "cell_type": "code",
   "execution_count": 8,
   "id": "992b05d2",
   "metadata": {},
   "outputs": [
    {
     "name": "stdout",
     "output_type": "stream",
     "text": [
      "10\n",
      "20\n"
     ]
    }
   ],
   "source": [
    "# Ejemplo de acceso a elementos de una tupla\n",
    "coordenadas = (10, 20)\n",
    "print(coordenadas[0])   # Imprime: 10\n",
    "print(coordenadas[1])   # Imprime: 20\n"
   ]
  },
  {
   "cell_type": "markdown",
   "id": "f9fe6392",
   "metadata": {},
   "source": [
    "- **Desempaquetado de tuplas:**\n",
    "\n",
    "Puedes asignar los elementos de una tupla a variables individuales en una sola operación."
   ]
  },
  {
   "cell_type": "code",
   "execution_count": 9,
   "id": "d14289c2",
   "metadata": {},
   "outputs": [
    {
     "name": "stdout",
     "output_type": "stream",
     "text": [
      "3\n",
      "4\n"
     ]
    }
   ],
   "source": [
    "# Ejemplo de desempaquetado de tuplas\n",
    "punto = (3, 4)\n",
    "x, y = punto\n",
    "print(x)   # Imprime: 3\n",
    "print(y)   # Imprime: 4\n"
   ]
  },
  {
   "cell_type": "markdown",
   "id": "546547f5",
   "metadata": {},
   "source": [
    "### Funciones de Tupla\n",
    "* **len(tupla):** Devuelve la longitud de la tupla, es decir, el número de elementos en la tupla.\n",
    "* **tupla.index(elemento):** Devuelve el índice de la primera aparición del elemento en la tupla.\n",
    "* **elemento in tupla:** Verifica si un elemento está presente en la tupla."
   ]
  },
  {
   "cell_type": "code",
   "execution_count": 10,
   "id": "bac70b2d",
   "metadata": {},
   "outputs": [
    {
     "name": "stdout",
     "output_type": "stream",
     "text": [
      "3\n",
      "1\n",
      "True\n"
     ]
    }
   ],
   "source": [
    "punto = (3, 7, 2)\n",
    "\n",
    "print(len(punto))           # Imprime: 3\n",
    "print(punto.index(7))       # Imprime: 1\n",
    "print(2 in punto)           # Imprime: True"
   ]
  },
  {
   "cell_type": "markdown",
   "id": "7fdf6203",
   "metadata": {},
   "source": [
    "### 2.3.\tDiccionarios\n",
    "\n",
    ">Un diccionario es una estructura de datos que almacena pares clave-valor. Cada elemento en un diccionario consiste en una clave única y su valor correspondiente. Los diccionarios se representan con llaves ({}), y los pares clave-valor se separan por comas. Puedes acceder a los valores de un diccionario utilizando sus claves, y también puedes agregar, modificar o eliminar pares clave-valor.\n",
    "\n"
   ]
  },
  {
   "cell_type": "markdown",
   "id": "3025fa48",
   "metadata": {},
   "source": [
    "### Estructura"
   ]
  },
  {
   "cell_type": "markdown",
   "id": "3fb32062",
   "metadata": {},
   "source": [
    "* **Almacenar datos con claves únicas:**\n",
    "\n",
    "Cada elemento en un diccionario tiene una clave única asociada a su valor correspondiente."
   ]
  },
  {
   "cell_type": "code",
   "execution_count": 11,
   "id": "b0e8dcbf",
   "metadata": {},
   "outputs": [],
   "source": [
    "# Ejemplo de un diccionario de frutas y sus cantidades\n",
    "frutas = {'manzanas': 10, 'naranjas': 5, 'plátanos': 7}\n"
   ]
  },
  {
   "cell_type": "markdown",
   "id": "ea425656",
   "metadata": {},
   "source": [
    "* **Crear Diccionario vacio**\n",
    "\n",
    "Para crear un diccionario vacío, puedes utilizar la función dict() o simplemente las llaves {} sin ningún par clave-valor dentro."
   ]
  },
  {
   "cell_type": "code",
   "execution_count": 12,
   "id": "16a776b4",
   "metadata": {},
   "outputs": [],
   "source": [
    "# Ejemplo de diccionario vacío\n",
    "diccionario_vacio = dict()\n",
    "# O también\n",
    "diccionario_vacio = {}\n"
   ]
  },
  {
   "cell_type": "markdown",
   "id": "ddfee1a6",
   "metadata": {},
   "source": [
    "* **Almacenar datos con claves únicas:**\n",
    "\n",
    "Cada elemento en un diccionario tiene una clave única asociada a su valor correspondiente."
   ]
  },
  {
   "cell_type": "code",
   "execution_count": 13,
   "id": "486089ee",
   "metadata": {},
   "outputs": [
    {
     "name": "stdout",
     "output_type": "stream",
     "text": [
      "10\n"
     ]
    }
   ],
   "source": [
    "# Ejemplo de acceso a valores de un diccionario\n",
    "frutas = {'manzanas': 10, 'naranjas': 5, 'plátanos': 7}\n",
    "print(frutas['manzanas'])   # Imprime: 10\n"
   ]
  },
  {
   "cell_type": "markdown",
   "id": "ee55fc49",
   "metadata": {},
   "source": [
    "* **Almacenar datos con claves únicas:**\n",
    "\n",
    "Cada elemento en un diccionario tiene una clave única asociada a su valor correspondiente."
   ]
  },
  {
   "cell_type": "code",
   "execution_count": 14,
   "id": "415daefb",
   "metadata": {},
   "outputs": [
    {
     "name": "stdout",
     "output_type": "stream",
     "text": [
      "{'manzanas': 15, 'naranjas': 5, 'plátanos': 7}\n"
     ]
    }
   ],
   "source": [
    "# Ejemplo de agregar y modificar elementos en un diccionario\n",
    "frutas = {'manzanas': 10, 'naranjas': 5}\n",
    "frutas['plátanos'] = 7      # Agrega un nuevo par clave-valor\n",
    "frutas['manzanas'] = 15     # Modifica el valor existente\n",
    "print(frutas)               # Imprime: {'manzanas': 15, 'naranjas': 5, 'plátanos': 7}\n"
   ]
  },
  {
   "cell_type": "markdown",
   "id": "04dd95d9",
   "metadata": {},
   "source": [
    "### Funciones de los diccionarios:\n",
    "* **len(diccionario):** Devuelve la cantidad de pares clave-valor en el diccionario.\n",
    "* **diccionario[key]:** Accede al valor asociado con una clave específica.\n",
    "* **diccionario[key] = valor:** Asigna un valor a una clave en el diccionario.\n",
    "* **diccionario.keys():** Devuelve una lista con todas las claves del diccionario.\n",
    "* **diccionario.values():** Devuelve una lista con todos los valores del diccionario.\n",
    "* **diccionario.items():** Devuelve una lista de tuplas con los pares clave-valor del diccionario.\n",
    "\n"
   ]
  },
  {
   "cell_type": "code",
   "execution_count": 15,
   "id": "f2a95e48",
   "metadata": {},
   "outputs": [
    {
     "name": "stdout",
     "output_type": "stream",
     "text": [
      "3\n",
      "10\n",
      "{'manzanas': 10, 'naranjas': 5, 'plátanos': 7, 'peras': 3}\n",
      "dict_keys(['manzanas', 'naranjas', 'plátanos', 'peras'])\n",
      "dict_values([10, 5, 7, 3])\n",
      "dict_items([('manzanas', 10), ('naranjas', 5), ('plátanos', 7), ('peras', 3)])\n"
     ]
    }
   ],
   "source": [
    "\n",
    "frutas = {'manzanas': 10, 'naranjas': 5, 'plátanos': 7}\n",
    "\n",
    "print(len(frutas))             # Imprime: 3\n",
    "print(frutas['manzanas'])      # Imprime: 10\n",
    "\n",
    "frutas['peras'] = 3\n",
    "print(frutas)                  # Imprime: {'manzanas': 10, 'naranjas': 5, 'plátanos': 7, 'peras': 3}\n",
    "\n",
    "print(frutas.keys())           # Imprime: dict_keys(['manzanas', 'naranjas', 'plátanos', 'peras'])\n",
    "print(frutas.values())         # Imprime: dict_values([10, 5, 7, 3])\n",
    "print(frutas.items())          # Imprime: dict_items([('manzanas', 10), ('naranjas', 5), ('plátanos', 7), ('peras', 3)])\n"
   ]
  },
  {
   "cell_type": "markdown",
   "id": "331a4e44",
   "metadata": {},
   "source": [
    "### 2.4.\tConjuntos\n",
    ">Un conjunto es una colección desordenada de elementos únicos. Los conjuntos son útiles cuando necesitas almacenar elementos sin duplicados y no te importa el orden. Los conjuntos se representan con llaves ({}), pero a diferencia de los diccionarios, no tienen pares clave-valor. Puedes realizar operaciones de conjunto, como unión, intersección o diferencia, y también agregar o eliminar elementos de un conjunto. \n",
    "\n",
    "\n"
   ]
  },
  {
   "cell_type": "markdown",
   "id": "9967d119",
   "metadata": {},
   "source": [
    "### Estructura"
   ]
  },
  {
   "cell_type": "markdown",
   "id": "2aedb646",
   "metadata": {},
   "source": [
    "* **Almacenar elementos únicos:**\n",
    "\n",
    " Los conjuntos no contienen elementos duplicados, por lo que son útiles para almacenar una colección de valores únicos."
   ]
  },
  {
   "cell_type": "code",
   "execution_count": 16,
   "id": "051be5b0",
   "metadata": {},
   "outputs": [],
   "source": [
    "# Ejemplo de un conjunto de colores\n",
    "colores = {'rojo', 'verde', 'azul'}\n"
   ]
  },
  {
   "cell_type": "markdown",
   "id": "e122b71f",
   "metadata": {},
   "source": [
    "* **Crear Conjunto vacío**\n",
    "\n",
    "Para crear un conjunto vacío, puedes utilizar la función set() sin pasar ningún argumento."
   ]
  },
  {
   "cell_type": "code",
   "execution_count": 17,
   "id": "30cdd194",
   "metadata": {},
   "outputs": [],
   "source": [
    "# Ejemplo de conjunto vacío\n",
    "conjunto_vacio = set()\n"
   ]
  },
  {
   "cell_type": "markdown",
   "id": "4fe4742b",
   "metadata": {},
   "source": [
    "* **Operaciones de conjunto:**\n",
    "\n",
    " Puedes realizar operaciones de conjunto, como unión, intersección y diferencia, utilizando los métodos y operadores proporcionados por los conjuntos."
   ]
  },
  {
   "cell_type": "code",
   "execution_count": 18,
   "id": "995eb667",
   "metadata": {},
   "outputs": [
    {
     "name": "stdout",
     "output_type": "stream",
     "text": [
      "{1, 2, 3, 4}\n",
      "{2, 3}\n",
      "{1}\n"
     ]
    }
   ],
   "source": [
    "# Ejemplo de operaciones de conjunto\n",
    "conjunto1 = {1, 2, 3}\n",
    "conjunto2 = {2, 3, 4}\n",
    "union = conjunto1 | conjunto2              # Unión de conjuntos\n",
    "interseccion = conjunto1 & conjunto2       # Intersección de conjuntos\n",
    "diferencia = conjunto1 - conjunto2         # Diferencia de conjuntos\n",
    "print(union)          # Imprime: {1, 2, 3, 4}\n",
    "print(interseccion)   # Imprime: {2, 3}\n",
    "print(diferencia)     # Imprime: {1}\n"
   ]
  },
  {
   "cell_type": "markdown",
   "id": "c03d9482",
   "metadata": {},
   "source": [
    "### Funciones de los conjuntos:\n",
    "\n",
    "* **len(conjunto):** Devuelve la cantidad de elementos en el conjunto.\n",
    "* **conjunto.add(elemento):** Agrega un elemento al conjunto.\n",
    "* **conjunto.remove(elemento):** Elimina un elemento del conjunto. Genera un error si el elemento no está presente.\n",
    "* **conjunto.discard(elemento):** Elimina un elemento del conjunto si está presente. No genera un error si el elemento no existe.\n",
    "* **elemento in conjunto:** Verifica si un elemento está presente en el conjunto.\n",
    "* **conjunto.union(otro_conjunto):** Devuelve un nuevo conjunto que es la unión de dos conjuntos.\n",
    "* **conjunto.intersection(otro_conjunto):** Devuelve un nuevo conjunto que es la intersección de dos conjuntos.\n",
    "* **conjunto.difference(otro_conjunto):** Devuelve un nuevo conjunto que es la diferencia entre dos conjuntos.\n"
   ]
  },
  {
   "cell_type": "code",
   "execution_count": 19,
   "id": "1bd6244f",
   "metadata": {},
   "outputs": [
    {
     "name": "stdout",
     "output_type": "stream",
     "text": [
      "3\n",
      "{'a', 'e', 'o', 'i'}\n",
      "{'a', 'e', 'o'}\n",
      "False\n",
      "{1, 2, 3, 4, 5}\n",
      "{3}\n",
      "{1, 2}\n"
     ]
    }
   ],
   "source": [
    "vocales = {'a', 'e', 'i'}\n",
    "\n",
    "print(len(vocales))                  # Imprime: 3\n",
    "vocales.add('o')\n",
    "print(vocales)                       # Imprime: {'a', 'i', 'o', 'e'}\n",
    "vocales.remove('i')\n",
    "print(vocales)                       # Imprime: {'a', 'o', 'e'}\n",
    "print('u' in vocales)                # Imprime: False\n",
    "\n",
    "numeros1 = {1, 2, 3}\n",
    "numeros2 = {3, 4, 5}\n",
    "union = numeros1.union(numeros2)\n",
    "print(union)                         # Imprime: {1, 2, 3, 4, 5}\n",
    "interseccion = numeros1.intersection(numeros2)\n",
    "print(interseccion)                  # Imprime: {3}\n",
    "diferencia = numeros1.difference(numeros2)\n",
    "print(diferencia)                    # Imprime: {1, 2}\n"
   ]
  },
  {
   "cell_type": "markdown",
   "id": "2a7544a1",
   "metadata": {},
   "source": [
    "## 3.\tCondicionales\n",
    "Las ejecuciones condicionales nos permiten tomar decisiones en el flujo de un programa en función de ciertas condiciones. En Python, utilizamos las declaraciones \"if\", \"elif\" y \"else\" para implementar ejecuciones condicionales. Estas declaraciones evalúan una condición y ejecutan un bloque de código si se cumple esa condición.\n"
   ]
  },
  {
   "cell_type": "markdown",
   "id": "df1d97d1",
   "metadata": {},
   "source": [
    "### 3.1 Declaración IF\n",
    ">nos permite ejecutar un bloque de código si una condición especificada es verdadera. La sintaxis básica es la siguiente:"
   ]
  },
  {
   "cell_type": "code",
   "execution_count": null,
   "id": "be6b1e17",
   "metadata": {},
   "outputs": [],
   "source": [
    "if condición:\n",
    "    # Bloque de código a ejecutar si la condición es verdadera\n"
   ]
  },
  {
   "cell_type": "code",
   "execution_count": 21,
   "id": "d89cace3",
   "metadata": {},
   "outputs": [
    {
     "name": "stdout",
     "output_type": "stream",
     "text": [
      "Eres mayor de edad\n"
     ]
    }
   ],
   "source": [
    "\"\"\"\n",
    "En este ejemplo, si la variable edad es mayor o igual a 18\n",
    ", se imprimirá \"Eres mayor de edad\".\n",
    "\"\"\"\n",
    "edad = 20\n",
    "\n",
    "if edad >= 18:\n",
    "    print(\"Eres mayor de edad\")"
   ]
  },
  {
   "cell_type": "markdown",
   "id": "35822fc2",
   "metadata": {},
   "source": [
    "### 3.2.\tDeclaración ELSE\n",
    ">La declaración else se utiliza como una cláusula final en una estructura condicional y se ejecuta si ninguna de las condiciones anteriores es verdadera. La sintaxis básica es la siguiente:\n"
   ]
  },
  {
   "cell_type": "code",
   "execution_count": null,
   "id": "73785f8e",
   "metadata": {},
   "outputs": [],
   "source": [
    "if condición1:\n",
    "    # Bloque de código a ejecutar si la condición1 es verdadera\n",
    "else:\n",
    "    # Bloque de código a ejecutar si la condición1 es falsa\n"
   ]
  },
  {
   "cell_type": "code",
   "execution_count": 22,
   "id": "bcd28f62",
   "metadata": {},
   "outputs": [
    {
     "name": "stdout",
     "output_type": "stream",
     "text": [
      "Buenas tardes\n"
     ]
    }
   ],
   "source": [
    "\"\"\"\n",
    "En este ejemplo, si el valor de hora es menor que 12, \n",
    "se imprimirá \"Buenos días\". De lo contrario, se imprimirá \"Buenas tardes\".\n",
    "\"\"\"\n",
    "hora = 15\n",
    "\n",
    "if hora < 12:\n",
    "    print(\"Buenos días\")\n",
    "else:\n",
    "    print(\"Buenas tardes\")\n"
   ]
  },
  {
   "cell_type": "markdown",
   "id": "1795392f",
   "metadata": {},
   "source": [
    "### 3.3.\tDeclaración ELIF\n",
    ">La declaración elif nos permite evaluar múltiples condiciones alternativas después de un if inicial. La sintaxis básica es la siguiente:\n"
   ]
  },
  {
   "cell_type": "code",
   "execution_count": null,
   "id": "6608bb59",
   "metadata": {},
   "outputs": [],
   "source": [
    "if condición1:\n",
    "    # Bloque de código a ejecutar si la condición1 es verdadera\n",
    "elif condición2:\n",
    "    # Bloque de código a ejecutar si la condición1 es falsa y la condición2 es verdadera\n"
   ]
  },
  {
   "cell_type": "code",
   "execution_count": 23,
   "id": "ff12fd38",
   "metadata": {},
   "outputs": [
    {
     "name": "stdout",
     "output_type": "stream",
     "text": [
      "Buen trabajo\n"
     ]
    }
   ],
   "source": [
    "\"\"\"\n",
    "En este ejemplo, se evalúa la variable puntuación y \n",
    "se imprime un mensaje dependiendo del rango de puntuación \n",
    "en el que se encuentre.\n",
    "\"\"\"\n",
    "puntuación = 85\n",
    "\n",
    "if puntuación >= 90:\n",
    "    print(\"Excelente\")\n",
    "elif puntuación >= 80:\n",
    "    print(\"Buen trabajo\")\n",
    "elif puntuación >= 70:\n",
    "    print(\"Aprobado\")\n",
    "else:\n",
    "    print(\"Reprobado\")\n"
   ]
  },
  {
   "cell_type": "markdown",
   "id": "1ec6a2ae",
   "metadata": {},
   "source": [
    "## 4.\tEjecuciones Iterativas\n",
    "Las ejecuciones iterativas nos permiten repetir bloques de código múltiples veces. En Python, tenemos dos tipos de bucles para implementar ejecuciones iterativas: el bucle \"for\" y el bucle \"while\".\n",
    "\n"
   ]
  },
  {
   "cell_type": "markdown",
   "id": "b68b7f68",
   "metadata": {},
   "source": [
    "### 4.1.\tFOR\n",
    ">El bucle \"for\" se utiliza cuando se conoce el número exacto de repeticiones o cuando deseas iterar sobre una secuencia de elementos, como una lista o una cadena de caracteres. La sintaxis básica es la siguiente:\n"
   ]
  },
  {
   "cell_type": "code",
   "execution_count": null,
   "id": "13ee7c1f",
   "metadata": {},
   "outputs": [],
   "source": [
    "for elemento in secuencia:\n",
    "    # Bloque de código a ejecutar para cada elemento de la secuencia\n"
   ]
  },
  {
   "cell_type": "code",
   "execution_count": 24,
   "id": "4e5436c3",
   "metadata": {},
   "outputs": [
    {
     "name": "stdout",
     "output_type": "stream",
     "text": [
      "manzana\n",
      "plátano\n",
      "naranja\n"
     ]
    }
   ],
   "source": [
    "\"\"\"\n",
    "En este ejemplo, el bucle \"for\" itera sobre la lista de frutas. \n",
    "En cada iteración, la variable \"fruta\" toma el valor de cada elemento de la lista, \n",
    "y se ejecuta el bloque de código que imprime cada fruta en una línea separada.\n",
    "\"\"\"\n",
    "frutas = [\"manzana\", \"plátano\", \"naranja\"]\n",
    "\n",
    "for fruta in frutas:\n",
    "    print(fruta)\n"
   ]
  },
  {
   "cell_type": "markdown",
   "id": "a5498bc3",
   "metadata": {},
   "source": [
    "### 4.2. WHILE\n",
    ">El bucle \"while\" se utiliza cuando la repetición se basa en una condición que puede cambiar durante la ejecución. El bucle se ejecuta mientras la condición especificada sea verdadera. La sintaxis básica es la siguiente:"
   ]
  },
  {
   "cell_type": "code",
   "execution_count": null,
   "id": "b98c784c",
   "metadata": {},
   "outputs": [],
   "source": [
    "while condición:\n",
    "    # Bloque de código a ejecutar mientras la condición sea verdadera\n"
   ]
  },
  {
   "cell_type": "code",
   "execution_count": 25,
   "id": "70b5a307",
   "metadata": {},
   "outputs": [
    {
     "name": "stdout",
     "output_type": "stream",
     "text": [
      "0\n",
      "1\n",
      "2\n",
      "3\n",
      "4\n"
     ]
    }
   ],
   "source": [
    "\"\"\"\n",
    "En este ejemplo, el bucle \"while\" se ejecutará mientras el valor de \"contador\" sea menor que 5. \n",
    "En cada iteración, se imprime el valor actual del contador y se incrementa en 1. \n",
    "El bucle se detiene cuando el contador alcanza el valor de 5.\n",
    "\"\"\"\n",
    "contador = 0\n",
    "\n",
    "while contador < 5:\n",
    "    print(contador)\n",
    "    contador += 1\n"
   ]
  },
  {
   "cell_type": "markdown",
   "id": "b8d537db",
   "metadata": {},
   "source": [
    "### 4.3. Sentencias Adicionales"
   ]
  },
  {
   "cell_type": "markdown",
   "id": "80692548",
   "metadata": {},
   "source": [
    "* **Break**\n",
    "\n",
    "Detener ejecuciones, usado para evitar bucles infinitos"
   ]
  },
  {
   "cell_type": "code",
   "execution_count": 26,
   "id": "0f77b051",
   "metadata": {},
   "outputs": [
    {
     "name": "stdout",
     "output_type": "stream",
     "text": [
      "1\n",
      "2\n",
      "3\n",
      "4\n",
      "5\n",
      "6\n",
      "7\n",
      "8\n",
      "9\n",
      "10\n"
     ]
    }
   ],
   "source": [
    "# Manejo de break para evitar bucles infinitos\n",
    "numero = 1\n",
    "\n",
    "while numero <= 10:\n",
    "    print(numero)\n",
    "    numero += 1\n",
    "\n",
    "    if numero > 15:\n",
    "        break\n"
   ]
  },
  {
   "cell_type": "code",
   "execution_count": 27,
   "id": "4b9ac46e",
   "metadata": {},
   "outputs": [
    {
     "name": "stdout",
     "output_type": "stream",
     "text": [
      "manzana\n"
     ]
    }
   ],
   "source": [
    "frutas = [\"manzana\", \"plátano\", \"naranja\"]\n",
    "\n",
    "for fruta in frutas:\n",
    "    if fruta == \"plátano\":\n",
    "        break\n",
    "    print(fruta)\n"
   ]
  },
  {
   "cell_type": "markdown",
   "id": "d18e93b2",
   "metadata": {},
   "source": [
    "* **Continue**\n",
    "\n",
    "omitir el resto del bloque de código en una iteración específica de un bucle y pasar a la siguiente iteración"
   ]
  },
  {
   "cell_type": "code",
   "execution_count": 28,
   "id": "adae25f9",
   "metadata": {},
   "outputs": [
    {
     "name": "stdout",
     "output_type": "stream",
     "text": [
      "1\n",
      "3\n",
      "5\n",
      "7\n",
      "9\n"
     ]
    }
   ],
   "source": [
    "numero = 0\n",
    "\n",
    "while numero < 10:\n",
    "    numero += 1\n",
    "\n",
    "    if numero % 2 == 0:\n",
    "        continue\n",
    "\n",
    "    print(numero)\n",
    "\n"
   ]
  },
  {
   "cell_type": "code",
   "execution_count": 29,
   "id": "75b919b4",
   "metadata": {},
   "outputs": [
    {
     "name": "stdout",
     "output_type": "stream",
     "text": [
      "manzana\n",
      "naranja\n"
     ]
    }
   ],
   "source": [
    "frutas = [\"manzana\", \"plátano\", \"naranja\"]\n",
    "\n",
    "for fruta in frutas:\n",
    "    if fruta == \"plátano\":\n",
    "        continue\n",
    "    print(fruta)\n"
   ]
  },
  {
   "cell_type": "markdown",
   "id": "4b57372f",
   "metadata": {},
   "source": [
    "* **Pass**\n",
    "\n",
    "Se utiliza como marcador de posición cuando no se requiere ninguna acción en ese punto del código"
   ]
  },
  {
   "cell_type": "code",
   "execution_count": null,
   "id": "d14d840d",
   "metadata": {},
   "outputs": [],
   "source": [
    "while condición:\n",
    "    # Código aún no implementado\n",
    "    pass\n"
   ]
  },
  {
   "cell_type": "code",
   "execution_count": 30,
   "id": "ce242934",
   "metadata": {},
   "outputs": [
    {
     "name": "stdout",
     "output_type": "stream",
     "text": [
      "manzana\n",
      "naranja\n"
     ]
    }
   ],
   "source": [
    "frutas = [\"manzana\", \"plátano\", \"naranja\"]\n",
    "\n",
    "for fruta in frutas:\n",
    "    if fruta == \"plátano\":\n",
    "        pass\n",
    "    else:\n",
    "        print(fruta)\n"
   ]
  },
  {
   "cell_type": "markdown",
   "id": "2fb19321",
   "metadata": {},
   "source": [
    "* **Else**\n",
    "\n",
    "El bloque de código dentro del else se ejecutará cuando la condición del bucle se vuelva falsa (es decir, cuando el bucle termine normalmente sin un break)."
   ]
  },
  {
   "cell_type": "code",
   "execution_count": 31,
   "id": "b2253249",
   "metadata": {},
   "outputs": [
    {
     "name": "stdout",
     "output_type": "stream",
     "text": [
      "0\n",
      "1\n",
      "2\n",
      "3\n",
      "4\n",
      "El bucle ha finalizado\n"
     ]
    }
   ],
   "source": [
    "contador = 0\n",
    "\n",
    "while contador < 5:\n",
    "    print(contador)\n",
    "    contador += 1\n",
    "else:\n",
    "    print(\"El bucle ha finalizado\")\n"
   ]
  },
  {
   "cell_type": "code",
   "execution_count": 32,
   "id": "083981d1",
   "metadata": {},
   "outputs": [
    {
     "name": "stdout",
     "output_type": "stream",
     "text": [
      "manzana\n",
      "plátano\n",
      "naranja\n",
      "Se han procesado todas las frutas\n"
     ]
    }
   ],
   "source": [
    "frutas = [\"manzana\", \"plátano\", \"naranja\"]\n",
    "\n",
    "for fruta in frutas:\n",
    "    print(fruta)\n",
    "else:\n",
    "    print(\"Se han procesado todas las frutas\")\n"
   ]
  },
  {
   "cell_type": "markdown",
   "id": "8731be5c",
   "metadata": {},
   "source": [
    "### 4.4. Iteradores\n",
    ">Un iterador es un objeto que implementa los métodos __iter__() y __next__() en Python. El método __iter__() devuelve el propio objeto iterador, mientras que el método __next__() devuelve el siguiente elemento de la secuencia o lanza una excepción StopIteration cuando no hay más elementos para recorrer."
   ]
  },
  {
   "cell_type": "code",
   "execution_count": 33,
   "id": "db0b75eb",
   "metadata": {},
   "outputs": [
    {
     "name": "stdout",
     "output_type": "stream",
     "text": [
      "manzana\n",
      "plátano\n",
      "naranja\n"
     ]
    }
   ],
   "source": [
    "frutas = [\"manzana\", \"plátano\", \"naranja\"]\n",
    "\n",
    "iterador_frutas = iter(frutas)  # Crear un iterador a partir de la lista\n",
    "\n",
    "for fruta in iterador_frutas:\n",
    "    print(fruta)\n"
   ]
  },
  {
   "cell_type": "code",
   "execution_count": 34,
   "id": "bdabd796",
   "metadata": {},
   "outputs": [
    {
     "name": "stdout",
     "output_type": "stream",
     "text": [
      "0\n",
      "1\n",
      "2\n",
      "3\n",
      "4\n",
      "5\n",
      "6\n",
      "7\n",
      "8\n",
      "9\n",
      "10\n"
     ]
    }
   ],
   "source": [
    "import itertools\n",
    "\n",
    "iterador_infinito = itertools.count()  # Iterador que genera una secuencia infinita de números\n",
    "\n",
    "for num in iterador_infinito:\n",
    "    print(num)\n",
    "    if num >= 10:\n",
    "        break\n"
   ]
  },
  {
   "cell_type": "code",
   "execution_count": null,
   "id": "62ede75a",
   "metadata": {},
   "outputs": [],
   "source": []
  }
 ],
 "metadata": {
  "kernelspec": {
   "display_name": "Python 3 (ipykernel)",
   "language": "python",
   "name": "python3"
  },
  "language_info": {
   "codemirror_mode": {
    "name": "ipython",
    "version": 3
   },
   "file_extension": ".py",
   "mimetype": "text/x-python",
   "name": "python",
   "nbconvert_exporter": "python",
   "pygments_lexer": "ipython3",
   "version": "3.10.5"
  }
 },
 "nbformat": 4,
 "nbformat_minor": 5
}
