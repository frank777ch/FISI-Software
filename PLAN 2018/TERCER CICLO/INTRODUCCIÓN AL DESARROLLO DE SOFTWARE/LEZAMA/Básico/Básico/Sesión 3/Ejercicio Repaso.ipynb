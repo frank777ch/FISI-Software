{
 "cells": [
  {
   "cell_type": "markdown",
   "id": "32960250",
   "metadata": {},
   "source": [
    "**Ejercicio 1: Suma de los primeros N números naturales**\n",
    ">Dado un número entero N, calcula la suma de los primeros N números naturales."
   ]
  },
  {
   "cell_type": "code",
   "execution_count": null,
   "id": "bba07b4e",
   "metadata": {},
   "outputs": [],
   "source": []
  },
  {
   "cell_type": "markdown",
   "id": "e4d4d7d0",
   "metadata": {},
   "source": [
    "**Ejercicio 2: Números pares e impares**\n",
    ">Imprime los números pares e impares en el rango del 1 al 10."
   ]
  },
  {
   "cell_type": "code",
   "execution_count": null,
   "id": "e7c38088",
   "metadata": {},
   "outputs": [],
   "source": []
  },
  {
   "cell_type": "markdown",
   "id": "29706faf",
   "metadata": {},
   "source": [
    "**Ejercicio 3: Factorial de un número**\n",
    ">Dado un número entero N, calcula su factorial."
   ]
  },
  {
   "cell_type": "code",
   "execution_count": null,
   "id": "b63424b0",
   "metadata": {},
   "outputs": [],
   "source": []
  },
  {
   "cell_type": "markdown",
   "id": "17bce5eb",
   "metadata": {},
   "source": [
    "**Ejercicio 4: Tabla de multiplicar**\n",
    ">Imprime la tabla de multiplicar de un número dado (por ejemplo, 5)."
   ]
  },
  {
   "cell_type": "code",
   "execution_count": null,
   "id": "5099d115",
   "metadata": {},
   "outputs": [],
   "source": []
  },
  {
   "cell_type": "markdown",
   "id": "7ca7ea6d",
   "metadata": {},
   "source": [
    "**Ejercicio 5: Números primos**\n",
    ">Imprime los números primos en el rango del 1 al 20."
   ]
  },
  {
   "cell_type": "code",
   "execution_count": null,
   "id": "3fbc6872",
   "metadata": {},
   "outputs": [],
   "source": []
  },
  {
   "cell_type": "markdown",
   "id": "5da6622c",
   "metadata": {},
   "source": [
    "**Ejercicio 6: Contar caracteres en una cadena**\n",
    ">Dada una cadena de texto, cuenta cuántos caracteres tiene."
   ]
  },
  {
   "cell_type": "code",
   "execution_count": null,
   "id": "13f63c66",
   "metadata": {},
   "outputs": [],
   "source": []
  },
  {
   "cell_type": "markdown",
   "id": "5109f944",
   "metadata": {},
   "source": [
    "**Ejercicio 7: Suma de elementos de una lista**\n",
    ">Dada una lista de números, calcula la suma de todos los elementos."
   ]
  },
  {
   "cell_type": "code",
   "execution_count": null,
   "id": "a354abe0",
   "metadata": {},
   "outputs": [],
   "source": []
  },
  {
   "cell_type": "markdown",
   "id": "86bb5147",
   "metadata": {},
   "source": [
    "**Ejercicio 8: Números perfectos**\n",
    ">Imprime los números perfectos en el rango del 1 al 1000."
   ]
  },
  {
   "cell_type": "code",
   "execution_count": null,
   "id": "4da155d2",
   "metadata": {},
   "outputs": [],
   "source": []
  },
  {
   "cell_type": "markdown",
   "id": "2acf20a7",
   "metadata": {},
   "source": [
    "**Ejercicio 9: Conversión de grados Celsius a Fahrenheit**\n",
    ">Dada una lista de temperaturas en grados Celsius, convierte cada temperatura a grados Fahrenheit."
   ]
  },
  {
   "cell_type": "code",
   "execution_count": null,
   "id": "de248409",
   "metadata": {},
   "outputs": [],
   "source": []
  },
  {
   "cell_type": "markdown",
   "id": "bf1f41bf",
   "metadata": {},
   "source": [
    "**Ejercicio 10: Conteo de vocales en una cadena**\n",
    ">Dada una cadena de texto, cuenta cuántas vocales contiene."
   ]
  },
  {
   "cell_type": "code",
   "execution_count": null,
   "id": "1a7f778b",
   "metadata": {},
   "outputs": [],
   "source": []
  }
 ],
 "metadata": {
  "kernelspec": {
   "display_name": "Python 3 (ipykernel)",
   "language": "python",
   "name": "python3"
  },
  "language_info": {
   "codemirror_mode": {
    "name": "ipython",
    "version": 3
   },
   "file_extension": ".py",
   "mimetype": "text/x-python",
   "name": "python",
   "nbconvert_exporter": "python",
   "pygments_lexer": "ipython3",
   "version": "3.10.5"
  }
 },
 "nbformat": 4,
 "nbformat_minor": 5
}
