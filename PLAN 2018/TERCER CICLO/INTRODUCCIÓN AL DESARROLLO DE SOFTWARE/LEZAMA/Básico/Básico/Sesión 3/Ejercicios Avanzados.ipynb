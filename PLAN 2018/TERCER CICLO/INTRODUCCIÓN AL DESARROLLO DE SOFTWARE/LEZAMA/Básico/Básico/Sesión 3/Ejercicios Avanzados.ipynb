{
 "cells": [
  {
   "cell_type": "markdown",
   "id": "b49d8a44",
   "metadata": {},
   "source": [
    "**Ejercicio 1: Juego de adivinar un número**\n",
    ">Crea un programa en el que el usuario debe adivinar un número generado aleatoriamente entre 1 y 100. El programa debe dar pistas para guiar al usuario hacia la respuesta y contar la cantidad de intentos realizados."
   ]
  },
  {
   "cell_type": "code",
   "execution_count": null,
   "id": "b54ff3ab",
   "metadata": {},
   "outputs": [],
   "source": []
  },
  {
   "cell_type": "markdown",
   "id": "c284b520",
   "metadata": {},
   "source": [
    "**Ejercicio 2: Calculadora avanzada**\n",
    ">Crea una calculadora avanzada que permita realizar operaciones aritméticas básicas y avanzadas (como potencias y raíces cuadradas) hasta que el usuario decida salir."
   ]
  },
  {
   "cell_type": "code",
   "execution_count": null,
   "id": "81f0c02f",
   "metadata": {},
   "outputs": [],
   "source": []
  },
  {
   "cell_type": "markdown",
   "id": "91178230",
   "metadata": {},
   "source": [
    "**Ejercicio 3: Cifrado César**\n",
    ">Crea un programa que permita cifrar y descifrar un mensaje utilizando el Cifrado César. El usuario debe ingresar un mensaje y un número de desplazamiento para cifrarlo o descifrarlo.\n",
    "\n",
    "El cifrado César es uno de los métodos de cifrado más simples y conocidos de la criptografía clásica. Fue utilizado por Julio César, el famoso líder romano, para proteger mensajes importantes durante la época del Imperio Romano. Consiste en una técnica de sustitución, donde cada letra del mensaje original es reemplazada por otra letra que se encuentra un número fijo de posiciones hacia la derecha en el alfabeto.\n",
    "\n",
    "El proceso de cifrado César se realiza de la siguiente manera:\n",
    "\n",
    "Selecciona un número entero positivo llamado \"desplazamiento\" o \"clave\".\n",
    "Toma cada letra del mensaje original y, si es una letra del alfabeto, muévela \"desplazamiento\" posiciones hacia la derecha en el alfabeto. Por ejemplo, con un desplazamiento de 3, la letra 'A' se cifra como 'D', 'B' como 'E', y así sucesivamente. Si se llega al final del alfabeto, se continúa desde el principio. Por ejemplo, 'X' se cifraría como 'A', 'Y' como 'B', y 'Z' como 'C'.\n",
    "Las letras que no son del alfabeto (espacios, números, signos de puntuación, etc.) se dejan sin cambios.\n",
    "Para descifrar un mensaje cifrado utilizando el cifrado César, se aplica el mismo proceso, pero con un desplazamiento negativo. Es decir, para descifrar un mensaje cifrado con un desplazamiento de 3, se usa un desplazamiento de -3 para volver al mensaje original.\n",
    "\n",
    "Esencialmente, el cifrado César es una forma muy básica de criptografía y es vulnerable a ataques de fuerza bruta, ya que solo tiene 26 posibles combinaciones (un desplazamiento de 0 a 25). Sin embargo, históricamente, fue un método eficaz para proteger la información contra miradas indiscretas, aunque no sea adecuado para aplicaciones de seguridad modernas."
   ]
  },
  {
   "cell_type": "code",
   "execution_count": null,
   "id": "ed90cf5f",
   "metadata": {},
   "outputs": [],
   "source": []
  },
  {
   "cell_type": "markdown",
   "id": "50139c76",
   "metadata": {},
   "source": [
    "**Ejercicio 4: Cálculo de intereses compuestos**\n",
    ">Crea un programa que calcule el monto final después de ciertos años, utilizando la fórmula de interés compuesto. El usuario debe ingresar el monto principal, la tasa de interés y el número de años."
   ]
  },
  {
   "cell_type": "code",
   "execution_count": null,
   "id": "f9b51926",
   "metadata": {},
   "outputs": [],
   "source": []
  },
  {
   "cell_type": "markdown",
   "id": "6deceed9",
   "metadata": {},
   "source": [
    "**Ejercicio 5: Calculadora de IMC**\n",
    ">Crea una calculadora de índice de masa corporal (IMC) que tome el peso y la estatura de una persona, y calcule su IMC junto con su clasificación."
   ]
  },
  {
   "cell_type": "code",
   "execution_count": null,
   "id": "3ac28970",
   "metadata": {},
   "outputs": [],
   "source": []
  },
  {
   "cell_type": "markdown",
   "id": "1fee148b",
   "metadata": {},
   "source": [
    "**Ejercicio 6: Juego de piedra, papel o tijera**\n",
    ">Crea un juego simple de piedra, papel o tijera, donde el usuario juegue contra la computadora."
   ]
  },
  {
   "cell_type": "code",
   "execution_count": null,
   "id": "073f7c75",
   "metadata": {},
   "outputs": [],
   "source": []
  },
  {
   "cell_type": "markdown",
   "id": "71e9ae2e",
   "metadata": {},
   "source": [
    "**Ejercicio 7: Juego de ahorcado**\n",
    ">Crea un juego de ahorcado en el que el usuario intente adivinar una palabra. El programa debe mostrar el progreso y la cantidad de intentos restantes."
   ]
  },
  {
   "cell_type": "code",
   "execution_count": null,
   "id": "b7a0c233",
   "metadata": {},
   "outputs": [],
   "source": []
  },
  {
   "cell_type": "markdown",
   "id": "19a61f1c",
   "metadata": {},
   "source": [
    "**Ejercicio 8: Generador de contraseñas seguras**\n",
    ">Crea un generador de contraseñas seguras que incluya letras mayúsculas, minúsculas, números y caracteres especiales. El usuario debe especificar la longitud de la contraseña."
   ]
  },
  {
   "cell_type": "code",
   "execution_count": null,
   "id": "b1c3b8ac",
   "metadata": {},
   "outputs": [],
   "source": []
  },
  {
   "cell_type": "markdown",
   "id": "42d055eb",
   "metadata": {},
   "source": [
    "**Ejercicio 9: Convertidor de sistema numérico**\n",
    ">Crea un programa que permita al usuario convertir un número decimal a binario, octal o hexadecimal."
   ]
  },
  {
   "cell_type": "code",
   "execution_count": null,
   "id": "bd0bfb6e",
   "metadata": {},
   "outputs": [],
   "source": []
  },
  {
   "cell_type": "markdown",
   "id": "2a95d4e8",
   "metadata": {},
   "source": [
    "**Ejercicio 10: Simulador de tienda online con carrito de compras***\n",
    ">Crea un simulador de tienda online que permita al usuario agregar productos a un carrito de compras, calcular el total de la compra y aplicar descuentos. El programa debe ofrecer opciones para agregar y eliminar productos del carrito, así como aplicar cupones de descuento."
   ]
  },
  {
   "cell_type": "code",
   "execution_count": null,
   "id": "71f740ef",
   "metadata": {},
   "outputs": [],
   "source": []
  }
 ],
 "metadata": {
  "kernelspec": {
   "display_name": "Python 3 (ipykernel)",
   "language": "python",
   "name": "python3"
  },
  "language_info": {
   "codemirror_mode": {
    "name": "ipython",
    "version": 3
   },
   "file_extension": ".py",
   "mimetype": "text/x-python",
   "name": "python",
   "nbconvert_exporter": "python",
   "pygments_lexer": "ipython3",
   "version": "3.10.5"
  }
 },
 "nbformat": 4,
 "nbformat_minor": 5
}
