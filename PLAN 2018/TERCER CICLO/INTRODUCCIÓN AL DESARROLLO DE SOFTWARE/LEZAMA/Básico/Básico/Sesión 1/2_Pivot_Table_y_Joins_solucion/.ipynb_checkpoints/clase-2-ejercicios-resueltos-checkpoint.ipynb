{
 "cells": [
  {
   "cell_type": "markdown",
   "metadata": {},
   "source": [
    "\n",
    "# Clase 2: ejercicios prácticos resueltos"
   ]
  },
  {
   "cell_type": "code",
   "execution_count": null,
   "metadata": {},
   "outputs": [],
   "source": [
    "import pandas as pd\n",
    "import numpy as np\n",
    "import matplotlib\n",
    "import matplotlib.pyplot as plt\n",
    "\n",
    "plt.style.use('ggplot')\n",
    "%matplotlib inline"
   ]
  },
  {
   "cell_type": "markdown",
   "metadata": {},
   "source": [
    "## Parámetros y extracción de datos"
   ]
  },
  {
   "cell_type": "code",
   "execution_count": null,
   "metadata": {},
   "outputs": [],
   "source": [
    "ESTIMACIONES_URL_S3 = \"estimaciones_agricolas.zip\"\n",
    "ESTIMACIONES_PATH = \"estimaciones-agricolas.csv\""
   ]
  },
  {
   "cell_type": "code",
   "execution_count": null,
   "metadata": {},
   "outputs": [],
   "source": [
    "converters = {\n",
    "    \"id_provincia\": lambda x: str(x).zfill(2),\n",
    "    \"id_departamento\": lambda x: str(x).zfill(3),\n",
    "}\n",
    "\n",
    "#estimaciones = pd.read_csv(ESTIMACIONES_URL, encoding=\"latin1\", converters=converters)estimaciones = pd.read_csv(ESTIMACIONES_URL, encoding=\"latin1\", converters=converters)\n",
    "estimaciones = pd.read_csv(ESTIMACIONES_URL_S3, encoding=\"utf8\", converters=converters)\n",
    "#estimaciones.to_csv(ESTIMACIONES_PATH, encoding=\"utf8\", index=False)\n",
    "#estimaciones = pd.read_csv(ESTIMACIONES_PATH, converters=converters)"
   ]
  },
  {
   "cell_type": "markdown",
   "metadata": {},
   "source": [
    "## Ejercicio 1 "
   ]
  },
  {
   "cell_type": "markdown",
   "metadata": {},
   "source": [
    "Explorar descriptivamente el dataset de estimaciones agrícolas (https://datos.gob.ar/dataset/agroindustria-agricultura---estimaciones-agricolas) usando los elementos aprendidos en la clase 2, respondiendo las siguientes preguntas o mostrando:\n",
    "\n",
    "* ¿Cuál es la producción total en toneladas estimada de todos los cultivos en la Argentina, cada año?\n",
    "* ¿Cómo se distribuye el rendimiento (kg por hectárea) estimado promedio del cultivo de soja entre los departamentos que la siembran? ¿Qué tipo de distribución probabilística tiene? ¿Cuál es (y en qué departamento está) el rendimiento mínimo, mediano y máximo? ¿Cuál es el rendimiento promedio? ¿Hay valores potencialmente anómalos?\n",
    "* Generá una tabla donde cada cultivo sea una columna, cada fila un año (una campaña) y los valores sean la producción total."
   ]
  },
  {
   "cell_type": "code",
   "execution_count": null,
   "metadata": {},
   "outputs": [],
   "source": [
    "estimaciones.head()"
   ]
  },
  {
   "cell_type": "code",
   "execution_count": null,
   "metadata": {},
   "outputs": [],
   "source": [
    "estimaciones.columns"
   ]
  },
  {
   "cell_type": "markdown",
   "metadata": {},
   "source": [
    "Algunos campos tienen espacios al final, es mejor tener nombres de campos sin espacios."
   ]
  },
  {
   "cell_type": "code",
   "execution_count": null,
   "metadata": {},
   "outputs": [],
   "source": [
    "estimaciones.columns = [col.strip() for col in estimaciones.columns]"
   ]
  },
  {
   "cell_type": "markdown",
   "metadata": {},
   "source": [
    "### Producción total anual "
   ]
  },
  {
   "cell_type": "code",
   "execution_count": null,
   "metadata": {},
   "outputs": [],
   "source": [
    "estimaciones[[\"campania_inicio\",\"campania_fin\"]] = estimaciones.campaña.str.split(\"/\", n=1,expand=True)"
   ]
  },
  {
   "cell_type": "code",
   "execution_count": null,
   "metadata": {},
   "outputs": [],
   "source": [
    "estimaciones[\"campania_inicio\"] = estimaciones[\"campania_inicio\"].astype(int)\n",
    "estimaciones[\"campania_fin\"] = estimaciones[\"campania_fin\"].astype(int)"
   ]
  },
  {
   "cell_type": "code",
   "execution_count": null,
   "metadata": {},
   "outputs": [],
   "source": [
    "# pasamos los valores a millones\n",
    "estimaciones[\"produccion\"] = estimaciones.produccion.astype(float) / 1000000"
   ]
  },
  {
   "cell_type": "code",
   "execution_count": null,
   "metadata": {},
   "outputs": [],
   "source": [
    "produccion_anual = estimaciones.pivot_table(\n",
    "    index=\"campania_fin\",\n",
    "    values=\"produccion\",\n",
    "    aggfunc=\"sum\"\n",
    ")"
   ]
  },
  {
   "cell_type": "code",
   "execution_count": null,
   "metadata": {},
   "outputs": [],
   "source": [
    "produccion_anual.tail()"
   ]
  },
  {
   "cell_type": "code",
   "execution_count": null,
   "metadata": {},
   "outputs": [],
   "source": [
    "produccion_anual.plot(\n",
    "    figsize=(17, 8),\n",
    "    title=\"Producción agrícola total anual (tn)\"\n",
    ")"
   ]
  },
  {
   "cell_type": "markdown",
   "metadata": {},
   "source": [
    "¿Está bien ese pico en la campaña 2016/2017? Hay que buscar algún control. https://www.invenomica.com.ar/desempeno-de-la-cosecha-agricola-argentina-2017-2018/ Parece que los datos de 2016/2017 están duplicados! Busquemos cuál es el error en el dataset."
   ]
  },
  {
   "cell_type": "code",
   "execution_count": null,
   "metadata": {},
   "outputs": [],
   "source": [
    "estimaciones[estimaciones.campaña == \"2016/2017\"].produccion.sum()"
   ]
  },
  {
   "cell_type": "markdown",
   "metadata": {},
   "source": [
    "En realidad los datos de la campaña 2016/2017 parecen estar bien... el problema se da cuando sumamos por el el año de fin de campaña y 2017 aparece duplicado. Tal vez haya un error en los rótulos de las campañas."
   ]
  },
  {
   "cell_type": "code",
   "execution_count": null,
   "metadata": {},
   "outputs": [],
   "source": [
    "estimaciones[[\"campaña\", \"campania_fin\"]][\n",
    "    estimaciones.campania_fin > 2000\n",
    "].drop_duplicates().sort_values(\"campania_fin\")"
   ]
  },
  {
   "cell_type": "markdown",
   "metadata": {},
   "source": [
    "Parece que la campaña 2010/2011 está incorrectamente rotulada como 2010/2017. Antes de seguir adelante, hay que hacer esa corrección."
   ]
  },
  {
   "cell_type": "code",
   "execution_count": null,
   "metadata": {},
   "outputs": [],
   "source": [
    "estimaciones[\"campaña\"] = estimaciones.campaña.str.replace(\"2010/2017\", \"2010/2011\")\n",
    "\n",
    "estimaciones[[\"campania_inicio\",\"campania_fin\"]] = estimaciones.campaña.str.split(\"/\", n=1,expand=True)\n",
    "estimaciones[\"campania_inicio\"] = estimaciones[\"campania_inicio\"].astype(int)\n",
    "estimaciones[\"campania_fin\"] = estimaciones[\"campania_fin\"].astype(int)"
   ]
  },
  {
   "cell_type": "code",
   "execution_count": null,
   "metadata": {},
   "outputs": [],
   "source": [
    "produccion_anual = estimaciones.pivot_table(\n",
    "    index=\"campania_fin\",\n",
    "    values=\"produccion\",\n",
    "    aggfunc=\"sum\"\n",
    ")"
   ]
  },
  {
   "cell_type": "code",
   "execution_count": null,
   "metadata": {},
   "outputs": [],
   "source": [
    "produccion_anual.plot(\n",
    "    figsize=(17, 8),\n",
    "    title=\"Producción agrícola total anual (tn)\"\n",
    ")"
   ]
  },
  {
   "cell_type": "code",
   "execution_count": null,
   "metadata": {},
   "outputs": [],
   "source": [
    "produccion_anual.tail()"
   ]
  },
  {
   "cell_type": "markdown",
   "metadata": {},
   "source": [
    "La camapaña 2018/2019 está incompleta (el dataset fue actualizado en septiembre de 2019 por última vez) así que también debemos excluirla."
   ]
  },
  {
   "cell_type": "code",
   "execution_count": null,
   "metadata": {},
   "outputs": [],
   "source": [
    "estimaciones = estimaciones[estimaciones.campaña != \"2018/2019\"]"
   ]
  },
  {
   "cell_type": "markdown",
   "metadata": {},
   "source": [
    "##  Rendimiento promedio de la soja por departamento"
   ]
  },
  {
   "cell_type": "code",
   "execution_count": null,
   "metadata": {},
   "outputs": [],
   "source": [
    "estimaciones.cultivo.unique()"
   ]
  },
  {
   "cell_type": "markdown",
   "metadata": {},
   "source": [
    "Ya que nos piden hacer una comparación de rendimientos de la soja entre departamentos, nos conviene realizar los filtros al principio y quedarnos con la muestra que nos interesa en una sola variable."
   ]
  },
  {
   "cell_type": "code",
   "execution_count": null,
   "metadata": {},
   "outputs": [],
   "source": [
    "estimaciones_soja = estimaciones[\n",
    "    (estimaciones.cultivo == \"Soja total\") &\n",
    "    (estimaciones.campaña == \"2017/2018\")\n",
    "]"
   ]
  },
  {
   "cell_type": "code",
   "execution_count": null,
   "metadata": {},
   "outputs": [],
   "source": [
    "len(estimaciones_soja.departamento.unique())"
   ]
  },
  {
   "cell_type": "markdown",
   "metadata": {},
   "source": [
    "Hay 234 departamentos que producen Soja, y sobre los cuales hay que hacer el análisis."
   ]
  },
  {
   "cell_type": "code",
   "execution_count": null,
   "metadata": {},
   "outputs": [],
   "source": [
    "estimaciones_soja.rendimiento.hist(figsize=(17, 8), bins=15);"
   ]
  },
  {
   "cell_type": "markdown",
   "metadata": {},
   "source": [
    "Los valores que se separan mucho del histograma, a primera vista podrían sospecharse como anómalos (ie. departamentos con rendimientos superiores a los 4000 kg. por hectárea deberían analizarse más profundamente)."
   ]
  },
  {
   "cell_type": "code",
   "execution_count": null,
   "metadata": {},
   "outputs": [],
   "source": [
    "estimaciones_soja.rendimiento.describe()"
   ]
  },
  {
   "cell_type": "code",
   "execution_count": null,
   "metadata": {},
   "outputs": [],
   "source": [
    "estimaciones_soja[estimaciones_soja.rendimiento == estimaciones_soja.rendimiento.max()]"
   ]
  },
  {
   "cell_type": "code",
   "execution_count": null,
   "metadata": {},
   "outputs": [],
   "source": [
    "estimaciones_soja = estimaciones_soja.copy()\n",
    "estimaciones_soja['diferencia_mediana'] = np.abs(estimaciones_soja.rendimiento - estimaciones_soja['rendimiento'].median())"
   ]
  },
  {
   "cell_type": "code",
   "execution_count": null,
   "metadata": {},
   "outputs": [],
   "source": [
    "estimaciones_soja[estimaciones_soja['rendimiento'] == estimaciones_soja['rendimiento'].median()]"
   ]
  },
  {
   "cell_type": "code",
   "execution_count": null,
   "metadata": {},
   "outputs": [],
   "source": [
    "estimaciones_soja[estimaciones_soja['diferencia_mediana'] == estimaciones_soja['diferencia_mediana'].min()]"
   ]
  },
  {
   "cell_type": "code",
   "execution_count": null,
   "metadata": {},
   "outputs": [],
   "source": [
    "estimaciones_soja[estimaciones_soja.rendimiento == estimaciones_soja.rendimiento.min()]"
   ]
  },
  {
   "cell_type": "markdown",
   "metadata": {},
   "source": [
    "### Tabla de evolución de producción por cultivo "
   ]
  },
  {
   "cell_type": "code",
   "execution_count": null,
   "metadata": {},
   "outputs": [],
   "source": [
    "produccion_cultivo_evolucion = estimaciones.pivot_table(\n",
    "    index=\"campaña\",\n",
    "    columns=\"cultivo\",\n",
    "    values=\"produccion\",\n",
    "    aggfunc=\"sum\"\n",
    ")\n",
    "produccion_cultivo_evolucion"
   ]
  },
  {
   "cell_type": "code",
   "execution_count": null,
   "metadata": {},
   "outputs": [],
   "source": []
  }
 ],
 "metadata": {
  "kernelspec": {
   "display_name": "Python 3 (ipykernel)",
   "language": "python",
   "name": "python3"
  },
  "language_info": {
   "codemirror_mode": {
    "name": "ipython",
    "version": 3
   },
   "file_extension": ".py",
   "mimetype": "text/x-python",
   "name": "python",
   "nbconvert_exporter": "python",
   "pygments_lexer": "ipython3",
   "version": "3.10.6"
  },
  "toc": {
   "base_numbering": 1,
   "nav_menu": {},
   "number_sections": true,
   "sideBar": true,
   "skip_h1_title": false,
   "title_cell": "Table of Contents",
   "title_sidebar": "Contents",
   "toc_cell": false,
   "toc_position": {},
   "toc_section_display": true,
   "toc_window_display": false
  }
 },
 "nbformat": 4,
 "nbformat_minor": 2
}
