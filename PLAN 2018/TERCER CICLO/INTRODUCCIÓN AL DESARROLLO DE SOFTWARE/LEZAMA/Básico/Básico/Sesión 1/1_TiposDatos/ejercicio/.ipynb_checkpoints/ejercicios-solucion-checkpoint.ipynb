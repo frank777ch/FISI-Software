{
 "cells": [
  {
   "cell_type": "markdown",
   "metadata": {},
   "source": [
    "<a href=\"https://colab.research.google.com/github/institutohumai/cursos-python/blob/master/Introduccion/1_TiposDatos/ejercicio/ejercicios-solucion.ipynb\"> <img src='https://colab.research.google.com/assets/colab-badge.svg' /> </a>\n",
    "<div align=\"center\"> Recordá abrir en una nueva pestaña </div>\n"
   ]
  },
  {
   "cell_type": "markdown",
   "metadata": {},
   "source": [
    "# 1- Cambiar un texto\n",
    "\n",
    "Necesitamos mostrar en nuestra web la sinopsis de las películas. El problema es que tenemos los textos separados por pipes (\"|\") en lugar de saltos de línea. "
   ]
  },
  {
   "cell_type": "code",
   "execution_count": 1,
   "metadata": {},
   "outputs": [],
   "source": [
    "string = 'Sinopsis | Marty McFly, un típico adolescente americano de los años ochenta, '\\\n",
    "'es accidentalmente enviado de vuelta a 1955 en una \"máquina del tiempo\" realizada con'\\\n",
    "'un DeLorean inventada por un científico un poco loco. | En este viaje, Marty debe '\\\n",
    "'asegurarse de que sus padres se encuentren y se enamoren, para que pueda volver a su tiempo. '"
   ]
  },
  {
   "cell_type": "code",
   "execution_count": 2,
   "metadata": {},
   "outputs": [
    {
     "name": "stdout",
     "output_type": "stream",
     "text": [
      "Sinopsis | Marty McFly, un típico adolescente americano de los años ochenta, es accidentalmente enviado de vuelta a 1955 en una \"máquina del tiempo\" realizada conun DeLorean inventada por un científico un poco loco. | En este viaje, Marty debe asegurarse de que sus padres se encuentren y se enamoren, para que pueda volver a su tiempo. \n"
     ]
    }
   ],
   "source": [
    "print(string)"
   ]
  },
  {
   "cell_type": "markdown",
   "metadata": {},
   "source": [
    "¿Cómo podríamos hacer para que la función \"print\" muestre saltos de línea en lugar de pipes?"
   ]
  },
  {
   "cell_type": "code",
   "execution_count": 3,
   "metadata": {},
   "outputs": [],
   "source": [
    "string2 = string.replace('|','\\n')"
   ]
  },
  {
   "cell_type": "code",
   "execution_count": 4,
   "metadata": {},
   "outputs": [
    {
     "name": "stdout",
     "output_type": "stream",
     "text": [
      "Sinopsis \n",
      " Marty McFly, un típico adolescente americano de los años ochenta, es accidentalmente enviado de vuelta a 1955 en una \"máquina del tiempo\" realizada conun DeLorean inventada por un científico un poco loco. \n",
      " En este viaje, Marty debe asegurarse de que sus padres se encuentren y se enamoren, para que pueda volver a su tiempo. \n"
     ]
    }
   ],
   "source": [
    "print(string2)"
   ]
  },
  {
   "cell_type": "markdown",
   "metadata": {},
   "source": [
    "# 2 - Crear un acrónimo\n",
    "\n",
    "Ahora nos piden crear un acrónimo (una palabra compuesta por la primera letra de cada palabra) de cada título. Pero antes de eso es necesario que transformemos los títulos a \"title case\" porque no todos van a llegar prolijos. Entonces, el acrónimo de \"Volver al futuro\" debería ser \"VAF\".\n"
   ]
  },
  {
   "cell_type": "code",
   "execution_count": 5,
   "metadata": {},
   "outputs": [],
   "source": [
    "titulo = 'Volver al futuro'"
   ]
  },
  {
   "cell_type": "code",
   "execution_count": null,
   "metadata": {},
   "outputs": [],
   "source": [
    "# 1. Transformar el string a \"title case\""
   ]
  },
  {
   "cell_type": "code",
   "execution_count": 6,
   "metadata": {},
   "outputs": [],
   "source": [
    "titulo = titulo.title()"
   ]
  },
  {
   "cell_type": "code",
   "execution_count": null,
   "metadata": {},
   "outputs": [],
   "source": [
    "# 2. Crear una lista con todas las palabras del string"
   ]
  },
  {
   "cell_type": "code",
   "execution_count": 8,
   "metadata": {},
   "outputs": [],
   "source": [
    "# 3. Recorrer la lista y agregar al acrónimo la primera letra de cada palabra\n",
    "acronimo = ''\n",
    "lista_palabras = titulo.split(' ')"
   ]
  },
  {
   "cell_type": "code",
   "execution_count": 9,
   "metadata": {},
   "outputs": [],
   "source": [
    "for palabra in lista_palabras:\n",
    "    acronimo = acronimo + palabra[0]"
   ]
  },
  {
   "cell_type": "code",
   "execution_count": 10,
   "metadata": {},
   "outputs": [
    {
     "name": "stdout",
     "output_type": "stream",
     "text": [
      "VAF\n"
     ]
    }
   ],
   "source": [
    "print(acronimo)"
   ]
  },
  {
   "cell_type": "code",
   "execution_count": null,
   "metadata": {},
   "outputs": [],
   "source": []
  }
 ],
 "metadata": {
  "kernelspec": {
   "display_name": "conda_python3",
   "language": "python",
   "name": "conda_python3"
  },
  "language_info": {
   "codemirror_mode": {
    "name": "ipython",
    "version": 3
   },
   "file_extension": ".py",
   "mimetype": "text/x-python",
   "name": "python",
   "nbconvert_exporter": "python",
   "pygments_lexer": "ipython3",
   "version": "3.6.10"
  }
 },
 "nbformat": 4,
 "nbformat_minor": 4
}
